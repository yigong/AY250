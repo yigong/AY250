{
 "metadata": {
  "name": ""
 },
 "nbformat": 3,
 "nbformat_minor": 0,
 "worksheets": [
  {
   "cells": [
    {
     "cell_type": "code",
     "collapsed": false,
     "input": [
      "import pandas as pd\n",
      "import json\n",
      "import matplotlib.pyplot as plt\n",
      "import pdb\n",
      "import numpy as np\n",
      "import datetime\n",
      "file_json = open('closed.json')\n",
      "data_json = json.load(file_json)\n",
      "data_df = pd.DataFrame(data_json, copy=True)\n",
      "git_df_temp = data_df[['title', 'created_at', 'labels', 'closed_at', 'id']]\n",
      "git_user_temp = data_df['user']\n",
      "value_list = []\n",
      "for i, row_entry in git_user_temp.iteritems():\n",
      "    val = row_entry['login']\n",
      "    value_list.append(val)\n",
      "user_df = pd.Series(value_list,index=git_user_temp.index)\n",
      "user_df.name = 'user'\n",
      "git_df = git_df_temp.join(user_df)"
     ],
     "language": "python",
     "metadata": {},
     "outputs": [],
     "prompt_number": 75
    },
    {
     "cell_type": "code",
     "collapsed": false,
     "input": [
      "data_df.user.head()"
     ],
     "language": "python",
     "metadata": {},
     "outputs": [
      {
       "metadata": {},
       "output_type": "pyout",
       "prompt_number": 110,
       "text": [
        "0    {u'following_url': u'https://api.github.com/us...\n",
        "1    {u'following_url': u'https://api.github.com/us...\n",
        "2    {u'following_url': u'https://api.github.com/us...\n",
        "3    {u'following_url': u'https://api.github.com/us...\n",
        "4    {u'following_url': u'https://api.github.com/us...\n",
        "Name: user, dtype: object"
       ]
      }
     ],
     "prompt_number": 110
    },
    {
     "cell_type": "markdown",
     "metadata": {},
     "source": [
      "Question\n",
      "---------"
     ]
    },
    {
     "cell_type": "code",
     "collapsed": false,
     "input": [
      "git_df"
     ],
     "language": "python",
     "metadata": {},
     "outputs": [
      {
       "html": [
        "<pre>\n",
        "&lt;class 'pandas.core.frame.DataFrame'&gt;\n",
        "Int64Index: 2968 entries, 0 to 2967\n",
        "Data columns (total 6 columns):\n",
        "title         2968  non-null values\n",
        "created_at    2968  non-null values\n",
        "labels        2968  non-null values\n",
        "closed_at     2968  non-null values\n",
        "id            2968  non-null values\n",
        "user          2968  non-null values\n",
        "dtypes: int64(1), object(5)\n",
        "</pre>"
       ],
       "metadata": {},
       "output_type": "pyout",
       "prompt_number": 90,
       "text": [
        "<class 'pandas.core.frame.DataFrame'>\n",
        "Int64Index: 2968 entries, 0 to 2967\n",
        "Data columns (total 6 columns):\n",
        "title         2968  non-null values\n",
        "created_at    2968  non-null values\n",
        "labels        2968  non-null values\n",
        "closed_at     2968  non-null values\n",
        "id            2968  non-null values\n",
        "user          2968  non-null values\n",
        "dtypes: int64(1), object(5)"
       ]
      }
     ],
     "prompt_number": 90
    },
    {
     "cell_type": "code",
     "collapsed": false,
     "input": [
      "git_df_2 = pd.concat([git_df_temp,user_df],axis=1)"
     ],
     "language": "python",
     "metadata": {},
     "outputs": [
      {
       "ename": "AttributeError",
       "evalue": "'Series' object has no attribute '_data'",
       "output_type": "pyerr",
       "traceback": [
        "\u001b[0;31m---------------------------------------------------------------------------\u001b[0m\n\u001b[0;31mAttributeError\u001b[0m                            Traceback (most recent call last)",
        "\u001b[0;32m<ipython-input-40-c1fcf8b76128>\u001b[0m in \u001b[0;36m<module>\u001b[0;34m()\u001b[0m\n\u001b[0;32m----> 1\u001b[0;31m \u001b[0mgit_df_2\u001b[0m \u001b[0;34m=\u001b[0m \u001b[0mpd\u001b[0m\u001b[0;34m.\u001b[0m\u001b[0mconcat\u001b[0m\u001b[0;34m(\u001b[0m\u001b[0;34m[\u001b[0m\u001b[0mgit_df_temp\u001b[0m\u001b[0;34m,\u001b[0m\u001b[0muser_df\u001b[0m\u001b[0;34m]\u001b[0m\u001b[0;34m,\u001b[0m\u001b[0maxis\u001b[0m\u001b[0;34m=\u001b[0m\u001b[0;36m1\u001b[0m\u001b[0;34m)\u001b[0m\u001b[0;34m\u001b[0m\u001b[0m\n\u001b[0m",
        "\u001b[0;32m/Users/Yigong/anaconda/python.app/Contents/lib/python2.7/site-packages/pandas/tools/merge.pyc\u001b[0m in \u001b[0;36mconcat\u001b[0;34m(objs, axis, join, join_axes, ignore_index, keys, levels, names, verify_integrity)\u001b[0m\n\u001b[1;32m    876\u001b[0m                        \u001b[0mignore_index\u001b[0m\u001b[0;34m=\u001b[0m\u001b[0mignore_index\u001b[0m\u001b[0;34m,\u001b[0m \u001b[0mjoin\u001b[0m\u001b[0;34m=\u001b[0m\u001b[0mjoin\u001b[0m\u001b[0;34m,\u001b[0m\u001b[0;34m\u001b[0m\u001b[0m\n\u001b[1;32m    877\u001b[0m                        \u001b[0mkeys\u001b[0m\u001b[0;34m=\u001b[0m\u001b[0mkeys\u001b[0m\u001b[0;34m,\u001b[0m \u001b[0mlevels\u001b[0m\u001b[0;34m=\u001b[0m\u001b[0mlevels\u001b[0m\u001b[0;34m,\u001b[0m \u001b[0mnames\u001b[0m\u001b[0;34m=\u001b[0m\u001b[0mnames\u001b[0m\u001b[0;34m,\u001b[0m\u001b[0;34m\u001b[0m\u001b[0m\n\u001b[0;32m--> 878\u001b[0;31m                        verify_integrity=verify_integrity)\n\u001b[0m\u001b[1;32m    879\u001b[0m     \u001b[0;32mreturn\u001b[0m \u001b[0mop\u001b[0m\u001b[0;34m.\u001b[0m\u001b[0mget_result\u001b[0m\u001b[0;34m(\u001b[0m\u001b[0;34m)\u001b[0m\u001b[0;34m\u001b[0m\u001b[0m\n\u001b[1;32m    880\u001b[0m \u001b[0;34m\u001b[0m\u001b[0m\n",
        "\u001b[0;32m/Users/Yigong/anaconda/python.app/Contents/lib/python2.7/site-packages/pandas/tools/merge.pyc\u001b[0m in \u001b[0;36m__init__\u001b[0;34m(self, objs, axis, join, join_axes, keys, levels, names, ignore_index, verify_integrity)\u001b[0m\n\u001b[1;32m    952\u001b[0m         \u001b[0mself\u001b[0m\u001b[0;34m.\u001b[0m\u001b[0mverify_integrity\u001b[0m \u001b[0;34m=\u001b[0m \u001b[0mverify_integrity\u001b[0m\u001b[0;34m\u001b[0m\u001b[0m\n\u001b[1;32m    953\u001b[0m \u001b[0;34m\u001b[0m\u001b[0m\n\u001b[0;32m--> 954\u001b[0;31m         \u001b[0mself\u001b[0m\u001b[0;34m.\u001b[0m\u001b[0mnew_axes\u001b[0m \u001b[0;34m=\u001b[0m \u001b[0mself\u001b[0m\u001b[0;34m.\u001b[0m\u001b[0m_get_new_axes\u001b[0m\u001b[0;34m(\u001b[0m\u001b[0;34m)\u001b[0m\u001b[0;34m\u001b[0m\u001b[0m\n\u001b[0m\u001b[1;32m    955\u001b[0m \u001b[0;34m\u001b[0m\u001b[0m\n\u001b[1;32m    956\u001b[0m     \u001b[0;32mdef\u001b[0m \u001b[0mget_result\u001b[0m\u001b[0;34m(\u001b[0m\u001b[0mself\u001b[0m\u001b[0;34m)\u001b[0m\u001b[0;34m:\u001b[0m\u001b[0;34m\u001b[0m\u001b[0m\n",
        "\u001b[0;32m/Users/Yigong/anaconda/python.app/Contents/lib/python2.7/site-packages/pandas/tools/merge.pyc\u001b[0m in \u001b[0;36m_get_new_axes\u001b[0;34m(self)\u001b[0m\n\u001b[1;32m   1129\u001b[0m                 \u001b[0;32mif\u001b[0m \u001b[0mi\u001b[0m \u001b[0;34m==\u001b[0m \u001b[0mself\u001b[0m\u001b[0;34m.\u001b[0m\u001b[0maxis\u001b[0m\u001b[0;34m:\u001b[0m\u001b[0;34m\u001b[0m\u001b[0m\n\u001b[1;32m   1130\u001b[0m                     \u001b[0;32mcontinue\u001b[0m\u001b[0;34m\u001b[0m\u001b[0m\n\u001b[0;32m-> 1131\u001b[0;31m                 \u001b[0mnew_axes\u001b[0m\u001b[0;34m[\u001b[0m\u001b[0mi\u001b[0m\u001b[0;34m]\u001b[0m \u001b[0;34m=\u001b[0m \u001b[0mself\u001b[0m\u001b[0;34m.\u001b[0m\u001b[0m_get_comb_axis\u001b[0m\u001b[0;34m(\u001b[0m\u001b[0mi\u001b[0m\u001b[0;34m)\u001b[0m\u001b[0;34m\u001b[0m\u001b[0m\n\u001b[0m\u001b[1;32m   1132\u001b[0m         \u001b[0;32melse\u001b[0m\u001b[0;34m:\u001b[0m\u001b[0;34m\u001b[0m\u001b[0m\n\u001b[1;32m   1133\u001b[0m             \u001b[0;32mif\u001b[0m \u001b[0;32mnot\u001b[0m \u001b[0;34m(\u001b[0m\u001b[0;34m(\u001b[0m\u001b[0mlen\u001b[0m\u001b[0;34m(\u001b[0m\u001b[0mself\u001b[0m\u001b[0;34m.\u001b[0m\u001b[0mjoin_axes\u001b[0m\u001b[0;34m)\u001b[0m \u001b[0;34m==\u001b[0m \u001b[0mndim\u001b[0m \u001b[0;34m-\u001b[0m \u001b[0;36m1\u001b[0m\u001b[0;34m)\u001b[0m\u001b[0;34m)\u001b[0m\u001b[0;34m:\u001b[0m\u001b[0;34m\u001b[0m\u001b[0m\n",
        "\u001b[0;32m/Users/Yigong/anaconda/python.app/Contents/lib/python2.7/site-packages/pandas/tools/merge.pyc\u001b[0m in \u001b[0;36m_get_comb_axis\u001b[0;34m(self, i)\u001b[0m\n\u001b[1;32m   1154\u001b[0m             \u001b[0mall_indexes\u001b[0m \u001b[0;34m=\u001b[0m \u001b[0;34m[\u001b[0m\u001b[0mx\u001b[0m\u001b[0;34m.\u001b[0m\u001b[0mindex\u001b[0m \u001b[0;32mfor\u001b[0m \u001b[0mx\u001b[0m \u001b[0;32min\u001b[0m \u001b[0mself\u001b[0m\u001b[0;34m.\u001b[0m\u001b[0mobjs\u001b[0m\u001b[0;34m]\u001b[0m\u001b[0;34m\u001b[0m\u001b[0m\n\u001b[1;32m   1155\u001b[0m         \u001b[0;32melse\u001b[0m\u001b[0;34m:\u001b[0m\u001b[0;34m\u001b[0m\u001b[0m\n\u001b[0;32m-> 1156\u001b[0;31m             \u001b[0mall_indexes\u001b[0m \u001b[0;34m=\u001b[0m \u001b[0;34m[\u001b[0m\u001b[0mx\u001b[0m\u001b[0;34m.\u001b[0m\u001b[0m_data\u001b[0m\u001b[0;34m.\u001b[0m\u001b[0maxes\u001b[0m\u001b[0;34m[\u001b[0m\u001b[0mi\u001b[0m\u001b[0;34m]\u001b[0m \u001b[0;32mfor\u001b[0m \u001b[0mx\u001b[0m \u001b[0;32min\u001b[0m \u001b[0mself\u001b[0m\u001b[0;34m.\u001b[0m\u001b[0mobjs\u001b[0m\u001b[0;34m]\u001b[0m\u001b[0;34m\u001b[0m\u001b[0m\n\u001b[0m\u001b[1;32m   1157\u001b[0m \u001b[0;34m\u001b[0m\u001b[0m\n\u001b[1;32m   1158\u001b[0m         \u001b[0;32mreturn\u001b[0m \u001b[0m_get_combined_index\u001b[0m\u001b[0;34m(\u001b[0m\u001b[0mall_indexes\u001b[0m\u001b[0;34m,\u001b[0m \u001b[0mintersect\u001b[0m\u001b[0;34m=\u001b[0m\u001b[0mself\u001b[0m\u001b[0;34m.\u001b[0m\u001b[0mintersect\u001b[0m\u001b[0;34m)\u001b[0m\u001b[0;34m\u001b[0m\u001b[0m\n",
        "\u001b[0;31mAttributeError\u001b[0m: 'Series' object has no attribute '_data'"
       ]
      }
     ],
     "prompt_number": 40
    },
    {
     "cell_type": "code",
     "collapsed": false,
     "input": [
      "git_df.drop_duplicates(cols='id',inplace=True)\n",
      "git_df['created_at'] = pd.to_datetime(git_df['created_at'])\n",
      "git_df['closed_at'] = pd.to_datetime(git_df['closed_at'])\n",
      "git_df.set_index('created_at', inplace=True, drop=False)"
     ],
     "language": "python",
     "metadata": {},
     "outputs": [],
     "prompt_number": 76
    },
    {
     "cell_type": "markdown",
     "metadata": {},
     "source": [
      "(5)\n",
      "----"
     ]
    },
    {
     "cell_type": "code",
     "collapsed": false,
     "input": [
      "git_df.head()"
     ],
     "language": "python",
     "metadata": {},
     "outputs": [
      {
       "html": [
        "<div style=\"max-height:1000px;max-width:1500px;overflow:auto;\">\n",
        "<table border=\"1\" class=\"dataframe\">\n",
        "  <thead>\n",
        "    <tr style=\"text-align: right;\">\n",
        "      <th></th>\n",
        "      <th>title</th>\n",
        "      <th>created_at</th>\n",
        "      <th>labels</th>\n",
        "      <th>closed_at</th>\n",
        "      <th>id</th>\n",
        "      <th>user</th>\n",
        "    </tr>\n",
        "    <tr>\n",
        "      <th>created_at</th>\n",
        "      <th></th>\n",
        "      <th></th>\n",
        "      <th></th>\n",
        "      <th></th>\n",
        "      <th></th>\n",
        "      <th></th>\n",
        "    </tr>\n",
        "  </thead>\n",
        "  <tbody>\n",
        "    <tr>\n",
        "      <th>2010-09-29 00:45:31</th>\n",
        "      <td> Enable element-wise comparison operations in D...</td>\n",
        "      <td>2010-09-29 00:45:31</td>\n",
        "      <td> []</td>\n",
        "      <td>2011-02-19 23:13:48</td>\n",
        "      <td> 337721</td>\n",
        "      <td> wesm</td>\n",
        "    </tr>\n",
        "    <tr>\n",
        "      <th>2010-09-29 00:50:13</th>\n",
        "      <td>                             reindex_like function</td>\n",
        "      <td>2010-09-29 00:50:13</td>\n",
        "      <td> []</td>\n",
        "      <td>2010-12-17 02:57:33</td>\n",
        "      <td> 337726</td>\n",
        "      <td> wesm</td>\n",
        "    </tr>\n",
        "    <tr>\n",
        "      <th>2010-09-29 00:50:52</th>\n",
        "      <td>               Binary operations on int DataMatrix</td>\n",
        "      <td>2010-09-29 00:50:52</td>\n",
        "      <td> []</td>\n",
        "      <td>2011-01-01 23:50:12</td>\n",
        "      <td> 337728</td>\n",
        "      <td> wesm</td>\n",
        "    </tr>\n",
        "    <tr>\n",
        "      <th>2010-09-29 00:51:27</th>\n",
        "      <td> Plot keyword arguments are unused in DataFrame...</td>\n",
        "      <td>2010-09-29 00:51:27</td>\n",
        "      <td> []</td>\n",
        "      <td>2010-12-11 06:14:32</td>\n",
        "      <td> 337730</td>\n",
        "      <td> wesm</td>\n",
        "    </tr>\n",
        "    <tr>\n",
        "      <th>2010-09-29 00:57:00</th>\n",
        "      <td>                                Python 2.7 testing</td>\n",
        "      <td>2010-09-29 00:57:00</td>\n",
        "      <td> []</td>\n",
        "      <td>2010-12-17 02:46:34</td>\n",
        "      <td> 337736</td>\n",
        "      <td> wesm</td>\n",
        "    </tr>\n",
        "  </tbody>\n",
        "</table>\n",
        "</div>"
       ],
       "metadata": {},
       "output_type": "pyout",
       "prompt_number": 82,
       "text": [
        "                                                                 title  \\\n",
        "created_at                                                               \n",
        "2010-09-29 00:45:31  Enable element-wise comparison operations in D...   \n",
        "2010-09-29 00:50:13                              reindex_like function   \n",
        "2010-09-29 00:50:52                Binary operations on int DataMatrix   \n",
        "2010-09-29 00:51:27  Plot keyword arguments are unused in DataFrame...   \n",
        "2010-09-29 00:57:00                                 Python 2.7 testing   \n",
        "\n",
        "                             created_at labels           closed_at      id  \\\n",
        "created_at                                                                   \n",
        "2010-09-29 00:45:31 2010-09-29 00:45:31     [] 2011-02-19 23:13:48  337721   \n",
        "2010-09-29 00:50:13 2010-09-29 00:50:13     [] 2010-12-17 02:57:33  337726   \n",
        "2010-09-29 00:50:52 2010-09-29 00:50:52     [] 2011-01-01 23:50:12  337728   \n",
        "2010-09-29 00:51:27 2010-09-29 00:51:27     [] 2010-12-11 06:14:32  337730   \n",
        "2010-09-29 00:57:00 2010-09-29 00:57:00     [] 2010-12-17 02:46:34  337736   \n",
        "\n",
        "                     user  \n",
        "created_at                 \n",
        "2010-09-29 00:45:31  wesm  \n",
        "2010-09-29 00:50:13  wesm  \n",
        "2010-09-29 00:50:52  wesm  \n",
        "2010-09-29 00:51:27  wesm  \n",
        "2010-09-29 00:57:00  wesm  "
       ]
      }
     ],
     "prompt_number": 82
    },
    {
     "cell_type": "code",
     "collapsed": false,
     "input": [
      "def count(created_in):\n",
      "    return len(created_in)"
     ],
     "language": "python",
     "metadata": {},
     "outputs": [],
     "prompt_number": 73
    },
    {
     "cell_type": "code",
     "collapsed": false,
     "input": [
      "git_df.set_index('created_at', inplace = True)"
     ],
     "language": "python",
     "metadata": {},
     "outputs": [],
     "prompt_number": 68
    },
    {
     "cell_type": "code",
     "collapsed": false,
     "input": [
      "git_df."
     ],
     "language": "python",
     "metadata": {},
     "outputs": [
      {
       "metadata": {},
       "output_type": "pyout",
       "prompt_number": 72,
       "text": [
        "created_at\n",
        "2010-09-29T00:45:31Z    Enable element-wise comparison operations in D...\n",
        "2010-09-29T00:45:31Z    Enable element-wise comparison operations in D...\n",
        "2010-09-29T00:50:13Z                                reindex_like function\n",
        "2010-09-29T00:50:13Z                                reindex_like function\n",
        "2010-09-29T00:50:52Z                  Binary operations on int DataMatrix\n",
        "Name: title, dtype: object"
       ]
      }
     ],
     "prompt_number": 72
    },
    {
     "cell_type": "code",
     "collapsed": false,
     "input": [
      "issue_df = git_df.title.resample('M', how= count)\n",
      "issue_df.name = 'Number of issues'\n",
      "plt.figure()\n",
      "issue_ax = issue_df.plot()\n",
      "issue_ax.set_ylabel(issue_df.name)"
     ],
     "language": "python",
     "metadata": {},
     "outputs": [
      {
       "metadata": {},
       "output_type": "pyout",
       "prompt_number": 79,
       "text": [
        "<matplotlib.text.Text at 0x10eea2790>"
       ]
      }
     ],
     "prompt_number": 79
    },
    {
     "cell_type": "code",
     "collapsed": false,
     "input": [
      "%matplotlib"
     ],
     "language": "python",
     "metadata": {},
     "outputs": [
      {
       "output_type": "stream",
       "stream": "stdout",
       "text": [
        "Using matplotlib backend: MacOSX\n"
       ]
      }
     ],
     "prompt_number": 78
    },
    {
     "cell_type": "code",
     "collapsed": false,
     "input": [
      "def distinct_user(resample_input):\n",
      "    #print resample_input.user\n",
      "    distinct_input = resample_input.drop_duplicates()\n",
      "    #print distinct_input.user\n",
      "    return len(distinct_input.index)\n",
      "user_monthly = git_df.user.resample('M', how = distinct_user)\n",
      "user_monthly.name = 'Number of distinct user'\n",
      "plt.figure()\n",
      "user_ax = user_monthly.plot()\n",
      "user_ax.set_ylabel(user_monthly.name)"
     ],
     "language": "python",
     "metadata": {},
     "outputs": [
      {
       "metadata": {},
       "output_type": "pyout",
       "prompt_number": 85,
       "text": [
        "<matplotlib.text.Text at 0x10eea2950>"
       ]
      }
     ],
     "prompt_number": 85
    },
    {
     "cell_type": "code",
     "collapsed": false,
     "input": [
      "import datetime"
     ],
     "language": "python",
     "metadata": {},
     "outputs": [],
     "prompt_number": 86
    },
    {
     "cell_type": "code",
     "collapsed": false,
     "input": [
      "def mean_day(close_at_input):\n",
      "    try:\n",
      "        create_at_series = pd.Series(close_at_input.index, index = close_at_input.index, name = close_at_input.index.name)\n",
      "        diff = (close_at_input - create_at_series)\n",
      "        sec_mean = diff.sum()/(len(diff))\n",
      "    #pdb.set_trace()\n",
      "        return (datetime.timedelta(microseconds = int(sec_mean/1000))).days\n",
      "    except:\n",
      "        return np.nan\n",
      "    \n",
      "open_day = git_df.closed_at.resample('M', mean_day)\n",
      "open_day.name = 'mean_days'\n",
      "open_day_nissue = pd.concat([issue_df, open_day], axis=1)\n",
      "plt.figure()\n",
      "line1 = open_day_nissue['Number of issues'].plot()\n",
      "line1.set_ylabel('Number of issues')\n",
      "plt.figure()\n",
      "line2 = open_day_nissue['mean_days'].plot()\n",
      "line2.set_ylabel('mean_days')"
     ],
     "language": "python",
     "metadata": {},
     "outputs": [
      {
       "metadata": {},
       "output_type": "pyout",
       "prompt_number": 87,
       "text": [
        "<matplotlib.text.Text at 0x113711c50>"
       ]
      }
     ],
     "prompt_number": 87
    },
    {
     "cell_type": "markdown",
     "metadata": {},
     "source": [
      "Table for (6)\n",
      "----"
     ]
    },
    {
     "cell_type": "code",
     "collapsed": false,
     "input": [
      "open_day_nissue.head()"
     ],
     "language": "python",
     "metadata": {},
     "outputs": [
      {
       "html": [
        "<div style=\"max-height:1000px;max-width:1500px;overflow:auto;\">\n",
        "<table border=\"1\" class=\"dataframe\">\n",
        "  <thead>\n",
        "    <tr style=\"text-align: right;\">\n",
        "      <th></th>\n",
        "      <th>Number of issues</th>\n",
        "      <th>mean_days</th>\n",
        "    </tr>\n",
        "    <tr>\n",
        "      <th>created_at</th>\n",
        "      <th></th>\n",
        "      <th></th>\n",
        "    </tr>\n",
        "  </thead>\n",
        "  <tbody>\n",
        "    <tr>\n",
        "      <th>2010-09-30</th>\n",
        "      <td> 11</td>\n",
        "      <td> 138</td>\n",
        "    </tr>\n",
        "    <tr>\n",
        "      <th>2010-10-31</th>\n",
        "      <td>  8</td>\n",
        "      <td> 250</td>\n",
        "    </tr>\n",
        "    <tr>\n",
        "      <th>2010-11-30</th>\n",
        "      <td>  2</td>\n",
        "      <td>  13</td>\n",
        "    </tr>\n",
        "    <tr>\n",
        "      <th>2010-12-31</th>\n",
        "      <td>  4</td>\n",
        "      <td>   2</td>\n",
        "    </tr>\n",
        "    <tr>\n",
        "      <th>2011-01-31</th>\n",
        "      <td>  9</td>\n",
        "      <td>  52</td>\n",
        "    </tr>\n",
        "  </tbody>\n",
        "</table>\n",
        "</div>"
       ],
       "metadata": {},
       "output_type": "pyout",
       "prompt_number": 88,
       "text": [
        "            Number of issues  mean_days\n",
        "created_at                             \n",
        "2010-09-30                11        138\n",
        "2010-10-31                 8        250\n",
        "2010-11-30                 2         13\n",
        "2010-12-31                 4          2\n",
        "2011-01-31                 9         52"
       ]
      }
     ],
     "prompt_number": 88
    },
    {
     "cell_type": "markdown",
     "metadata": {},
     "source": [
      "P(7)\n",
      "----"
     ]
    },
    {
     "cell_type": "code",
     "collapsed": false,
     "input": [
      "comments_df = data_df[['created_at','comments',  'id' ]]\n",
      "#print comments_df.head()\n",
      "comments_df.drop_duplicates(cols='id', inplace=True)"
     ],
     "language": "python",
     "metadata": {},
     "outputs": [],
     "prompt_number": 79
    },
    {
     "cell_type": "code",
     "collapsed": false,
     "input": [
      "comments_df.comments[100][0]['text']"
     ],
     "language": "python",
     "metadata": {},
     "outputs": [
      {
       "metadata": {},
       "output_type": "pyout",
       "prompt_number": 50,
       "text": [
        "u'duplicate issue'"
       ]
      }
     ],
     "prompt_number": 50
    },
    {
     "cell_type": "code",
     "collapsed": false,
     "input": [
      "def comment_func(comment_list):\n",
      "    try:\n",
      "        return comment_list[0]['text']\n",
      "    except:\n",
      "        return np.nan\n",
      "comments_df.comments = comments_df.comments.map(comment_func)"
     ],
     "language": "python",
     "metadata": {},
     "outputs": [],
     "prompt_number": 80
    },
    {
     "cell_type": "code",
     "collapsed": false,
     "input": [
      "comments_df.head()"
     ],
     "language": "python",
     "metadata": {},
     "outputs": [
      {
       "html": [
        "<div style=\"max-height:1000px;max-width:1500px;overflow:auto;\">\n",
        "<table border=\"1\" class=\"dataframe\">\n",
        "  <thead>\n",
        "    <tr style=\"text-align: right;\">\n",
        "      <th></th>\n",
        "      <th>created_at</th>\n",
        "      <th>comments</th>\n",
        "      <th>id</th>\n",
        "    </tr>\n",
        "  </thead>\n",
        "  <tbody>\n",
        "    <tr>\n",
        "      <th>0</th>\n",
        "      <td> 2010-09-29T00:45:31Z</td>\n",
        "      <td>                           implemented in git HEAD</td>\n",
        "      <td> 337721</td>\n",
        "    </tr>\n",
        "    <tr>\n",
        "      <th>2</th>\n",
        "      <td> 2010-09-29T00:50:13Z</td>\n",
        "      <td>                                              done</td>\n",
        "      <td> 337726</td>\n",
        "    </tr>\n",
        "    <tr>\n",
        "      <th>4</th>\n",
        "      <td> 2010-09-29T00:50:52Z</td>\n",
        "      <td> I guess I &amp;quot;accidentally&amp;quot; fixed this ...</td>\n",
        "      <td> 337728</td>\n",
        "    </tr>\n",
        "    <tr>\n",
        "      <th>6</th>\n",
        "      <td> 2010-09-29T00:51:27Z</td>\n",
        "      <td>                                             fixed</td>\n",
        "      <td> 337730</td>\n",
        "    </tr>\n",
        "    <tr>\n",
        "      <th>8</th>\n",
        "      <td> 2010-09-29T00:57:00Z</td>\n",
        "      <td> Everything seems to be working in Python 2.7 w...</td>\n",
        "      <td> 337736</td>\n",
        "    </tr>\n",
        "  </tbody>\n",
        "</table>\n",
        "</div>"
       ],
       "metadata": {},
       "output_type": "pyout",
       "prompt_number": 81,
       "text": [
        "             created_at                                           comments      id\n",
        "0  2010-09-29T00:45:31Z                            implemented in git HEAD  337721\n",
        "2  2010-09-29T00:50:13Z                                               done  337726\n",
        "4  2010-09-29T00:50:52Z  I guess I &quot;accidentally&quot; fixed this ...  337728\n",
        "6  2010-09-29T00:51:27Z                                              fixed  337730\n",
        "8  2010-09-29T00:57:00Z  Everything seems to be working in Python 2.7 w...  337736"
       ]
      }
     ],
     "prompt_number": 81
    },
    {
     "cell_type": "markdown",
     "metadata": {},
     "source": [
      "p(8)\n",
      "----"
     ]
    },
    {
     "cell_type": "code",
     "collapsed": false,
     "input": [
      "chattiest_df = git_df[['created_at', 'user', 'id']]\n"
     ],
     "language": "python",
     "metadata": {},
     "outputs": [],
     "prompt_number": 2
    },
    {
     "cell_type": "code",
     "collapsed": false,
     "input": [
      "chattiest_df.head()"
     ],
     "language": "python",
     "metadata": {},
     "outputs": [
      {
       "html": [
        "<div style=\"max-height:1000px;max-width:1500px;overflow:auto;\">\n",
        "<table border=\"1\" class=\"dataframe\">\n",
        "  <thead>\n",
        "    <tr style=\"text-align: right;\">\n",
        "      <th></th>\n",
        "      <th>created_at</th>\n",
        "      <th>user</th>\n",
        "      <th>id</th>\n",
        "    </tr>\n",
        "  </thead>\n",
        "  <tbody>\n",
        "    <tr>\n",
        "      <th>0</th>\n",
        "      <td> 2010-09-29T00:45:31Z</td>\n",
        "      <td> wesm</td>\n",
        "      <td> 337721</td>\n",
        "    </tr>\n",
        "    <tr>\n",
        "      <th>1</th>\n",
        "      <td> 2010-09-29T00:45:31Z</td>\n",
        "      <td> wesm</td>\n",
        "      <td> 337721</td>\n",
        "    </tr>\n",
        "    <tr>\n",
        "      <th>2</th>\n",
        "      <td> 2010-09-29T00:50:13Z</td>\n",
        "      <td> wesm</td>\n",
        "      <td> 337726</td>\n",
        "    </tr>\n",
        "    <tr>\n",
        "      <th>3</th>\n",
        "      <td> 2010-09-29T00:50:13Z</td>\n",
        "      <td> wesm</td>\n",
        "      <td> 337726</td>\n",
        "    </tr>\n",
        "    <tr>\n",
        "      <th>4</th>\n",
        "      <td> 2010-09-29T00:50:52Z</td>\n",
        "      <td> wesm</td>\n",
        "      <td> 337728</td>\n",
        "    </tr>\n",
        "  </tbody>\n",
        "</table>\n",
        "</div>"
       ],
       "metadata": {},
       "output_type": "pyout",
       "prompt_number": 3,
       "text": [
        "             created_at  user      id\n",
        "0  2010-09-29T00:45:31Z  wesm  337721\n",
        "1  2010-09-29T00:45:31Z  wesm  337721\n",
        "2  2010-09-29T00:50:13Z  wesm  337726\n",
        "3  2010-09-29T00:50:13Z  wesm  337726\n",
        "4  2010-09-29T00:50:52Z  wesm  337728"
       ]
      }
     ],
     "prompt_number": 3
    },
    {
     "cell_type": "code",
     "collapsed": false,
     "input": [
      "chattiest_df['created_at'] = pd.to_datetime(chattiest_df['created_at'])\n",
      "chattiest_df.set_index('created_at', inplace=True)"
     ],
     "language": "python",
     "metadata": {},
     "outputs": [],
     "prompt_number": 4
    },
    {
     "cell_type": "code",
     "collapsed": false,
     "input": [
      "chattiest_df.head()"
     ],
     "language": "python",
     "metadata": {},
     "outputs": [
      {
       "html": [
        "<div style=\"max-height:1000px;max-width:1500px;overflow:auto;\">\n",
        "<table border=\"1\" class=\"dataframe\">\n",
        "  <thead>\n",
        "    <tr style=\"text-align: right;\">\n",
        "      <th></th>\n",
        "      <th>user</th>\n",
        "      <th>id</th>\n",
        "    </tr>\n",
        "    <tr>\n",
        "      <th>created_at</th>\n",
        "      <th></th>\n",
        "      <th></th>\n",
        "    </tr>\n",
        "  </thead>\n",
        "  <tbody>\n",
        "    <tr>\n",
        "      <th>2010-09-29 00:45:31</th>\n",
        "      <td> wesm</td>\n",
        "      <td> 337721</td>\n",
        "    </tr>\n",
        "    <tr>\n",
        "      <th>2010-09-29 00:45:31</th>\n",
        "      <td> wesm</td>\n",
        "      <td> 337721</td>\n",
        "    </tr>\n",
        "    <tr>\n",
        "      <th>2010-09-29 00:50:13</th>\n",
        "      <td> wesm</td>\n",
        "      <td> 337726</td>\n",
        "    </tr>\n",
        "    <tr>\n",
        "      <th>2010-09-29 00:50:13</th>\n",
        "      <td> wesm</td>\n",
        "      <td> 337726</td>\n",
        "    </tr>\n",
        "    <tr>\n",
        "      <th>2010-09-29 00:50:52</th>\n",
        "      <td> wesm</td>\n",
        "      <td> 337728</td>\n",
        "    </tr>\n",
        "  </tbody>\n",
        "</table>\n",
        "</div>"
       ],
       "metadata": {},
       "output_type": "pyout",
       "prompt_number": 5,
       "text": [
        "                     user      id\n",
        "created_at                       \n",
        "2010-09-29 00:45:31  wesm  337721\n",
        "2010-09-29 00:45:31  wesm  337721\n",
        "2010-09-29 00:50:13  wesm  337726\n",
        "2010-09-29 00:50:13  wesm  337726\n",
        "2010-09-29 00:50:52  wesm  337728"
       ]
      }
     ],
     "prompt_number": 5
    },
    {
     "cell_type": "code",
     "collapsed": false,
     "input": [
      "del chattiest_df['id']"
     ],
     "language": "python",
     "metadata": {},
     "outputs": [],
     "prompt_number": 100
    },
    {
     "cell_type": "code",
     "collapsed": false,
     "input": [
      "chattiest_df.head()"
     ],
     "language": "python",
     "metadata": {},
     "outputs": [
      {
       "html": [
        "<div style=\"max-height:1000px;max-width:1500px;overflow:auto;\">\n",
        "<table border=\"1\" class=\"dataframe\">\n",
        "  <thead>\n",
        "    <tr style=\"text-align: right;\">\n",
        "      <th></th>\n",
        "      <th>user</th>\n",
        "    </tr>\n",
        "    <tr>\n",
        "      <th>created_at</th>\n",
        "      <th></th>\n",
        "    </tr>\n",
        "  </thead>\n",
        "  <tbody>\n",
        "    <tr>\n",
        "      <th>2010-09-29 00:45:31</th>\n",
        "      <td> wesm</td>\n",
        "    </tr>\n",
        "    <tr>\n",
        "      <th>2010-09-29 00:45:31</th>\n",
        "      <td> wesm</td>\n",
        "    </tr>\n",
        "    <tr>\n",
        "      <th>2010-09-29 00:50:13</th>\n",
        "      <td> wesm</td>\n",
        "    </tr>\n",
        "    <tr>\n",
        "      <th>2010-09-29 00:50:13</th>\n",
        "      <td> wesm</td>\n",
        "    </tr>\n",
        "    <tr>\n",
        "      <th>2010-09-29 00:50:52</th>\n",
        "      <td> wesm</td>\n",
        "    </tr>\n",
        "  </tbody>\n",
        "</table>\n",
        "</div>"
       ],
       "metadata": {},
       "output_type": "pyout",
       "prompt_number": 102,
       "text": [
        "                     user\n",
        "created_at               \n",
        "2010-09-29 00:45:31  wesm\n",
        "2010-09-29 00:45:31  wesm\n",
        "2010-09-29 00:50:13  wesm\n",
        "2010-09-29 00:50:13  wesm\n",
        "2010-09-29 00:50:52  wesm"
       ]
      }
     ],
     "prompt_number": 102
    },
    {
     "cell_type": "code",
     "collapsed": false,
     "input": [
      "chattiest_se = chattiest_df['user']"
     ],
     "language": "python",
     "metadata": {},
     "outputs": [],
     "prompt_number": 6
    },
    {
     "cell_type": "code",
     "collapsed": false,
     "input": [
      "def distinct(in_df):\n",
      "    return len(in_df.unique())\n",
      "nDistinct_se = chattiest_se.resample('M', how = distinct)\n",
      "nDistinct_se.head()"
     ],
     "language": "python",
     "metadata": {},
     "outputs": [
      {
       "metadata": {},
       "output_type": "pyout",
       "prompt_number": 8,
       "text": [
        "created_at\n",
        "2010-09-30    2\n",
        "2010-10-31    3\n",
        "2010-11-30    2\n",
        "2010-12-31    3\n",
        "2011-01-31    5\n",
        "Freq: M, dtype: int64"
       ]
      }
     ],
     "prompt_number": 8
    },
    {
     "cell_type": "code",
     "collapsed": false,
     "input": [
      "chattiest_se.head()"
     ],
     "language": "python",
     "metadata": {},
     "outputs": [
      {
       "metadata": {},
       "output_type": "pyout",
       "prompt_number": 112,
       "text": [
        "created_at\n",
        "2010-09-29 00:45:31    wesm\n",
        "2010-09-29 00:45:31    wesm\n",
        "2010-09-29 00:50:13    wesm\n",
        "2010-09-29 00:50:13    wesm\n",
        "2010-09-29 00:50:52    wesm\n",
        "Name: user, dtype: object"
       ]
      }
     ],
     "prompt_number": 112
    },
    {
     "cell_type": "code",
     "collapsed": false,
     "input": [
      "chattiest_se.resample('M', how = [distinct, percent, chattiest_user, count])\n"
     ],
     "language": "python",
     "metadata": {},
     "outputs": [
      {
       "html": [
        "<div style=\"max-height:1000px;max-width:1500px;overflow:auto;\">\n",
        "<table border=\"1\" class=\"dataframe\">\n",
        "  <thead>\n",
        "    <tr style=\"text-align: right;\">\n",
        "      <th></th>\n",
        "      <th>distinct</th>\n",
        "      <th>percent</th>\n",
        "      <th>chattiest_user</th>\n",
        "      <th>count</th>\n",
        "    </tr>\n",
        "    <tr>\n",
        "      <th>created_at</th>\n",
        "      <th></th>\n",
        "      <th></th>\n",
        "      <th></th>\n",
        "      <th></th>\n",
        "    </tr>\n",
        "  </thead>\n",
        "  <tbody>\n",
        "    <tr>\n",
        "      <th>2010-09-30</th>\n",
        "      <td>  2</td>\n",
        "      <td> 0.818182</td>\n",
        "      <td>         wesm</td>\n",
        "      <td>  22</td>\n",
        "    </tr>\n",
        "    <tr>\n",
        "      <th>2010-10-31</th>\n",
        "      <td>  3</td>\n",
        "      <td> 0.750000</td>\n",
        "      <td>         wesm</td>\n",
        "      <td>  16</td>\n",
        "    </tr>\n",
        "    <tr>\n",
        "      <th>2010-11-30</th>\n",
        "      <td>  2</td>\n",
        "      <td> 0.500000</td>\n",
        "      <td>     mpenning</td>\n",
        "      <td>   4</td>\n",
        "    </tr>\n",
        "    <tr>\n",
        "      <th>2010-12-31</th>\n",
        "      <td>  3</td>\n",
        "      <td> 0.500000</td>\n",
        "      <td>          knm</td>\n",
        "      <td>   8</td>\n",
        "    </tr>\n",
        "    <tr>\n",
        "      <th>2011-01-31</th>\n",
        "      <td>  5</td>\n",
        "      <td> 0.333333</td>\n",
        "      <td>  triplechess</td>\n",
        "      <td>  18</td>\n",
        "    </tr>\n",
        "    <tr>\n",
        "      <th>2011-02-28</th>\n",
        "      <td>  2</td>\n",
        "      <td> 0.500000</td>\n",
        "      <td>        ghost</td>\n",
        "      <td>   2</td>\n",
        "    </tr>\n",
        "    <tr>\n",
        "      <th>2011-03-31</th>\n",
        "      <td>  1</td>\n",
        "      <td> 1.000000</td>\n",
        "      <td>        ghost</td>\n",
        "      <td>   2</td>\n",
        "    </tr>\n",
        "    <tr>\n",
        "      <th>2011-04-30</th>\n",
        "      <td>  0</td>\n",
        "      <td>      NaN</td>\n",
        "      <td>          NaN</td>\n",
        "      <td>   0</td>\n",
        "    </tr>\n",
        "    <tr>\n",
        "      <th>2011-05-31</th>\n",
        "      <td>  3</td>\n",
        "      <td> 0.714286</td>\n",
        "      <td>         wesm</td>\n",
        "      <td>   7</td>\n",
        "    </tr>\n",
        "    <tr>\n",
        "      <th>2011-06-30</th>\n",
        "      <td>  3</td>\n",
        "      <td> 0.777778</td>\n",
        "      <td>         wesm</td>\n",
        "      <td>   9</td>\n",
        "    </tr>\n",
        "    <tr>\n",
        "      <th>2011-07-31</th>\n",
        "      <td>  9</td>\n",
        "      <td> 0.733333</td>\n",
        "      <td>         wesm</td>\n",
        "      <td>  30</td>\n",
        "    </tr>\n",
        "    <tr>\n",
        "      <th>2011-08-31</th>\n",
        "      <td> 10</td>\n",
        "      <td> 0.677419</td>\n",
        "      <td>         wesm</td>\n",
        "      <td>  31</td>\n",
        "    </tr>\n",
        "    <tr>\n",
        "      <th>2011-09-30</th>\n",
        "      <td> 14</td>\n",
        "      <td> 0.712121</td>\n",
        "      <td>         wesm</td>\n",
        "      <td>  66</td>\n",
        "    </tr>\n",
        "    <tr>\n",
        "      <th>2011-10-31</th>\n",
        "      <td> 17</td>\n",
        "      <td> 0.661017</td>\n",
        "      <td>         wesm</td>\n",
        "      <td> 118</td>\n",
        "    </tr>\n",
        "    <tr>\n",
        "      <th>2011-11-30</th>\n",
        "      <td> 25</td>\n",
        "      <td> 0.536364</td>\n",
        "      <td>         wesm</td>\n",
        "      <td> 110</td>\n",
        "    </tr>\n",
        "    <tr>\n",
        "      <th>2011-12-31</th>\n",
        "      <td> 22</td>\n",
        "      <td> 0.496000</td>\n",
        "      <td>         wesm</td>\n",
        "      <td> 125</td>\n",
        "    </tr>\n",
        "    <tr>\n",
        "      <th>2012-01-31</th>\n",
        "      <td> 41</td>\n",
        "      <td> 0.363636</td>\n",
        "      <td>         wesm</td>\n",
        "      <td> 154</td>\n",
        "    </tr>\n",
        "    <tr>\n",
        "      <th>2012-02-29</th>\n",
        "      <td> 26</td>\n",
        "      <td> 0.485149</td>\n",
        "      <td>         wesm</td>\n",
        "      <td> 101</td>\n",
        "    </tr>\n",
        "    <tr>\n",
        "      <th>2012-03-31</th>\n",
        "      <td> 47</td>\n",
        "      <td> 0.261905</td>\n",
        "      <td>         wesm</td>\n",
        "      <td> 126</td>\n",
        "    </tr>\n",
        "    <tr>\n",
        "      <th>2012-04-30</th>\n",
        "      <td> 39</td>\n",
        "      <td> 0.549708</td>\n",
        "      <td>         wesm</td>\n",
        "      <td> 171</td>\n",
        "    </tr>\n",
        "    <tr>\n",
        "      <th>2012-05-31</th>\n",
        "      <td> 26</td>\n",
        "      <td> 0.497207</td>\n",
        "      <td>         wesm</td>\n",
        "      <td> 179</td>\n",
        "    </tr>\n",
        "    <tr>\n",
        "      <th>2012-06-30</th>\n",
        "      <td> 55</td>\n",
        "      <td> 0.284024</td>\n",
        "      <td>         wesm</td>\n",
        "      <td> 169</td>\n",
        "    </tr>\n",
        "    <tr>\n",
        "      <th>2012-07-31</th>\n",
        "      <td> 52</td>\n",
        "      <td> 0.290780</td>\n",
        "      <td>         wesm</td>\n",
        "      <td> 141</td>\n",
        "    </tr>\n",
        "    <tr>\n",
        "      <th>2012-08-31</th>\n",
        "      <td> 46</td>\n",
        "      <td> 0.137255</td>\n",
        "      <td>         wesm</td>\n",
        "      <td> 102</td>\n",
        "    </tr>\n",
        "    <tr>\n",
        "      <th>2012-09-30</th>\n",
        "      <td> 53</td>\n",
        "      <td> 0.129496</td>\n",
        "      <td> changhiskhan</td>\n",
        "      <td> 139</td>\n",
        "    </tr>\n",
        "    <tr>\n",
        "      <th>2012-10-31</th>\n",
        "      <td> 47</td>\n",
        "      <td> 0.141593</td>\n",
        "      <td>          y-p</td>\n",
        "      <td> 113</td>\n",
        "    </tr>\n",
        "    <tr>\n",
        "      <th>2012-11-30</th>\n",
        "      <td> 63</td>\n",
        "      <td> 0.245370</td>\n",
        "      <td>          y-p</td>\n",
        "      <td> 216</td>\n",
        "    </tr>\n",
        "    <tr>\n",
        "      <th>2012-12-31</th>\n",
        "      <td> 66</td>\n",
        "      <td> 0.154286</td>\n",
        "      <td>          y-p</td>\n",
        "      <td> 175</td>\n",
        "    </tr>\n",
        "    <tr>\n",
        "      <th>2013-01-31</th>\n",
        "      <td> 55</td>\n",
        "      <td> 0.130769</td>\n",
        "      <td>      jreback</td>\n",
        "      <td> 130</td>\n",
        "    </tr>\n",
        "    <tr>\n",
        "      <th>2013-02-28</th>\n",
        "      <td> 56</td>\n",
        "      <td> 0.192308</td>\n",
        "      <td>      jreback</td>\n",
        "      <td> 130</td>\n",
        "    </tr>\n",
        "    <tr>\n",
        "      <th>2013-03-31</th>\n",
        "      <td> 56</td>\n",
        "      <td> 0.363208</td>\n",
        "      <td>      jreback</td>\n",
        "      <td> 212</td>\n",
        "    </tr>\n",
        "    <tr>\n",
        "      <th>2013-04-30</th>\n",
        "      <td> 49</td>\n",
        "      <td> 0.274648</td>\n",
        "      <td>          y-p</td>\n",
        "      <td> 142</td>\n",
        "    </tr>\n",
        "  </tbody>\n",
        "</table>\n",
        "</div>"
       ],
       "metadata": {},
       "output_type": "pyout",
       "prompt_number": 113,
       "text": [
        "            distinct   percent chattiest_user  count\n",
        "created_at                                          \n",
        "2010-09-30         2  0.818182           wesm     22\n",
        "2010-10-31         3  0.750000           wesm     16\n",
        "2010-11-30         2  0.500000       mpenning      4\n",
        "2010-12-31         3  0.500000            knm      8\n",
        "2011-01-31         5  0.333333    triplechess     18\n",
        "2011-02-28         2  0.500000          ghost      2\n",
        "2011-03-31         1  1.000000          ghost      2\n",
        "2011-04-30         0       NaN            NaN      0\n",
        "2011-05-31         3  0.714286           wesm      7\n",
        "2011-06-30         3  0.777778           wesm      9\n",
        "2011-07-31         9  0.733333           wesm     30\n",
        "2011-08-31        10  0.677419           wesm     31\n",
        "2011-09-30        14  0.712121           wesm     66\n",
        "2011-10-31        17  0.661017           wesm    118\n",
        "2011-11-30        25  0.536364           wesm    110\n",
        "2011-12-31        22  0.496000           wesm    125\n",
        "2012-01-31        41  0.363636           wesm    154\n",
        "2012-02-29        26  0.485149           wesm    101\n",
        "2012-03-31        47  0.261905           wesm    126\n",
        "2012-04-30        39  0.549708           wesm    171\n",
        "2012-05-31        26  0.497207           wesm    179\n",
        "2012-06-30        55  0.284024           wesm    169\n",
        "2012-07-31        52  0.290780           wesm    141\n",
        "2012-08-31        46  0.137255           wesm    102\n",
        "2012-09-30        53  0.129496   changhiskhan    139\n",
        "2012-10-31        47  0.141593            y-p    113\n",
        "2012-11-30        63  0.245370            y-p    216\n",
        "2012-12-31        66  0.154286            y-p    175\n",
        "2013-01-31        55  0.130769        jreback    130\n",
        "2013-02-28        56  0.192308        jreback    130\n",
        "2013-03-31        56  0.363208        jreback    212\n",
        "2013-04-30        49  0.274648            y-p    142"
       ]
      }
     ],
     "prompt_number": 113
    },
    {
     "cell_type": "code",
     "collapsed": false,
     "input": [
      "def percent(in_se):\n",
      "    try:\n",
      "        counts = in_se.value_counts().order(ascending = False)\n",
      "        return counts.ix[0]/float(counts.sum())\n",
      "    except:\n",
      "        return np.nan\n",
      "percent_se = 100*chattiest_se.resample('M', how = percent)   "
     ],
     "language": "python",
     "metadata": {},
     "outputs": [],
     "prompt_number": 29
    },
    {
     "cell_type": "code",
     "collapsed": false,
     "input": [
      "def chattiest_user(in_se):\n",
      "    try:\n",
      "        counts = in_se.value_counts().order(ascending = False)\n",
      "        return counts.index[0]\n",
      "    except:\n",
      "        return np.nan\n",
      "chatUser_se = chattiest_se.resample('M', how = chattiest_user)   "
     ],
     "language": "python",
     "metadata": {},
     "outputs": [],
     "prompt_number": 14
    },
    {
     "cell_type": "code",
     "collapsed": false,
     "input": [
      "chatUser_se.head()"
     ],
     "language": "python",
     "metadata": {},
     "outputs": [
      {
       "metadata": {},
       "output_type": "pyout",
       "prompt_number": 15,
       "text": [
        "created_at\n",
        "2010-09-30           wesm\n",
        "2010-10-31           wesm\n",
        "2010-11-30       mpenning\n",
        "2010-12-31            knm\n",
        "2011-01-31    triplechess\n",
        "Freq: M, dtype: object"
       ]
      }
     ],
     "prompt_number": 15
    },
    {
     "cell_type": "code",
     "collapsed": false,
     "input": [
      "nComments_se = chattiest_se.resample('M', how = count)\n",
      "print nComments_se.head()"
     ],
     "language": "python",
     "metadata": {},
     "outputs": [
      {
       "output_type": "stream",
       "stream": "stdout",
       "text": [
        "created_at\n",
        "2010-09-30    22\n",
        "2010-10-31    16\n",
        "2010-11-30     4\n",
        "2010-12-31     8\n",
        "2011-01-31    18\n",
        "Freq: M, dtype: int64\n"
       ]
      }
     ],
     "prompt_number": 21
    },
    {
     "cell_type": "code",
     "collapsed": false,
     "input": [
      "user = pd.DataFrame({'nIssue':nComments_se, 'chattiest':chatUser_se,\\\n",
      "                     'percentage of the chattiest':percent_se, 'nParticipants':nDistinct_se},\\\n",
      "                    columns = ['nParticipants', 'nIssue', 'chattiest', 'percentage of the chattiest'])\n"
     ],
     "language": "python",
     "metadata": {},
     "outputs": [],
     "prompt_number": 30
    },
    {
     "cell_type": "code",
     "collapsed": false,
     "input": [
      "user.columns"
     ],
     "language": "python",
     "metadata": {},
     "outputs": [
      {
       "metadata": {},
       "output_type": "pyout",
       "prompt_number": 117,
       "text": [
        "Index([u'nParticipants', u'nIssue', u'chattiest', u'percentage of the chattiest'], dtype=object)"
       ]
      }
     ],
     "prompt_number": 117
    },
    {
     "cell_type": "markdown",
     "metadata": {},
     "source": [
      "P(9)\n",
      "----"
     ]
    },
    {
     "cell_type": "code",
     "collapsed": false,
     "input": [
      "id_labels_df = data_df[['id', 'labels', 'created_at']].drop_duplicates(cols = 'id', inplace = False)"
     ],
     "language": "python",
     "metadata": {},
     "outputs": [],
     "prompt_number": 98
    },
    {
     "cell_type": "code",
     "collapsed": false,
     "input": [
      "id_labels_df.columns"
     ],
     "language": "python",
     "metadata": {},
     "outputs": [
      {
       "metadata": {},
       "output_type": "pyout",
       "prompt_number": 99,
       "text": [
        "Index([u'id', u'labels', u'created_at'], dtype=object)"
       ]
      }
     ],
     "prompt_number": 99
    },
    {
     "cell_type": "code",
     "collapsed": false,
     "input": [
      "id_labels_list = []\n",
      "for (idx,Id) in id_labels_df.id.iteritems():\n",
      "    if len(id_labels_df.labels.ix[idx]):\n",
      "        for label_dict in id_labels_df.labels.ix[idx]:\n",
      "            id_labels_list.append((Id, label_dict['name'], id_labels_df.created_at[idx]))\n",
      "    else:\n",
      "        id_labels_list.append((Id, np.nan,id_labels_df.created_at[idx]))\n",
      "        \n",
      "    "
     ],
     "language": "python",
     "metadata": {},
     "outputs": [],
     "prompt_number": 101
    },
    {
     "cell_type": "code",
     "collapsed": false,
     "input": [
      "id_labels_df = pd.DataFrame(id_labels_list, columns=['id', 'label', 'created_at'])"
     ],
     "language": "python",
     "metadata": {},
     "outputs": [],
     "prompt_number": 102
    },
    {
     "cell_type": "code",
     "collapsed": false,
     "input": [
      "id_labels_df['created_at'] = pd.to_datetime(id_labels_df['created_at'])"
     ],
     "language": "python",
     "metadata": {},
     "outputs": [],
     "prompt_number": 104
    },
    {
     "cell_type": "code",
     "collapsed": false,
     "input": [
      "id_labels_df.set_index('created_at', inplace=True)"
     ],
     "language": "python",
     "metadata": {},
     "outputs": [],
     "prompt_number": 106
    },
    {
     "cell_type": "code",
     "collapsed": false,
     "input": [
      "id_labels_df.head()"
     ],
     "language": "python",
     "metadata": {},
     "outputs": [
      {
       "html": [
        "<div style=\"max-height:1000px;max-width:1500px;overflow:auto;\">\n",
        "<table border=\"1\" class=\"dataframe\">\n",
        "  <thead>\n",
        "    <tr style=\"text-align: right;\">\n",
        "      <th></th>\n",
        "      <th>id</th>\n",
        "      <th>label</th>\n",
        "    </tr>\n",
        "    <tr>\n",
        "      <th>created_at</th>\n",
        "      <th></th>\n",
        "      <th></th>\n",
        "    </tr>\n",
        "  </thead>\n",
        "  <tbody>\n",
        "    <tr>\n",
        "      <th>2010-09-29 00:45:31</th>\n",
        "      <td> 337721</td>\n",
        "      <td> NaN</td>\n",
        "    </tr>\n",
        "    <tr>\n",
        "      <th>2010-09-29 00:50:13</th>\n",
        "      <td> 337726</td>\n",
        "      <td> NaN</td>\n",
        "    </tr>\n",
        "    <tr>\n",
        "      <th>2010-09-29 00:50:52</th>\n",
        "      <td> 337728</td>\n",
        "      <td> NaN</td>\n",
        "    </tr>\n",
        "    <tr>\n",
        "      <th>2010-09-29 00:51:27</th>\n",
        "      <td> 337730</td>\n",
        "      <td> NaN</td>\n",
        "    </tr>\n",
        "    <tr>\n",
        "      <th>2010-09-29 00:57:00</th>\n",
        "      <td> 337736</td>\n",
        "      <td> NaN</td>\n",
        "    </tr>\n",
        "  </tbody>\n",
        "</table>\n",
        "</div>"
       ],
       "metadata": {},
       "output_type": "pyout",
       "prompt_number": 107,
       "text": [
        "                         id label\n",
        "created_at                       \n",
        "2010-09-29 00:45:31  337721   NaN\n",
        "2010-09-29 00:50:13  337726   NaN\n",
        "2010-09-29 00:50:52  337728   NaN\n",
        "2010-09-29 00:51:27  337730   NaN\n",
        "2010-09-29 00:57:00  337736   NaN"
       ]
      }
     ],
     "prompt_number": 107
    },
    {
     "cell_type": "code",
     "collapsed": false,
     "input": [
      "issue_df"
     ],
     "language": "python",
     "metadata": {},
     "outputs": [
      {
       "metadata": {},
       "output_type": "pyout",
       "prompt_number": 108,
       "text": [
        "created_at\n",
        "2010-09-30     11\n",
        "2010-10-31      8\n",
        "2010-11-30      2\n",
        "2010-12-31      4\n",
        "2011-01-31      9\n",
        "2011-02-28      2\n",
        "2011-03-31      2\n",
        "2011-04-30      0\n",
        "2011-05-31      7\n",
        "2011-06-30      9\n",
        "2011-07-31     30\n",
        "2011-08-31     31\n",
        "2011-09-30     66\n",
        "2011-10-31    118\n",
        "2011-11-30    110\n",
        "2011-12-31    125\n",
        "2012-01-31    154\n",
        "2012-02-29    101\n",
        "2012-03-31    126\n",
        "2012-04-30    171\n",
        "2012-05-31    179\n",
        "2012-06-30    169\n",
        "2012-07-31    141\n",
        "2012-08-31    102\n",
        "2012-09-30    139\n",
        "2012-10-31    113\n",
        "2012-11-30    216\n",
        "2012-12-31    175\n",
        "2013-01-31    130\n",
        "2013-02-28    130\n",
        "2013-03-31    212\n",
        "2013-04-30    142\n",
        "Freq: M, Name: Number of issues, dtype: int64"
       ]
      }
     ],
     "prompt_number": 108
    },
    {
     "cell_type": "code",
     "collapsed": false,
     "input": [
      "git_df.labels.ix[2956]"
     ],
     "language": "python",
     "metadata": {},
     "outputs": [
      {
       "metadata": {},
       "output_type": "pyout",
       "prompt_number": 56,
       "text": [
        "[{u'color': u'e10c02',\n",
        "  u'name': u'Bug',\n",
        "  u'url': u'https://api.github.com/repos/pydata/pandas/labels/Bug'},\n",
        " {u'color': u'0b02e1',\n",
        "  u'name': u'Indexing',\n",
        "  u'url': u'https://api.github.com/repos/pydata/pandas/labels/Indexing'},\n",
        " {u'color': u'e102d8',\n",
        "  u'name': u'Dtypes',\n",
        "  u'url': u'https://api.github.com/repos/pydata/pandas/labels/Dtypes'}]"
       ]
      }
     ],
     "prompt_number": 56
    },
    {
     "cell_type": "code",
     "collapsed": false,
     "input": [
      "data_df.columns"
     ],
     "language": "python",
     "metadata": {},
     "outputs": [
      {
       "metadata": {},
       "output_type": "pyout",
       "prompt_number": 54,
       "text": [
        "Index([u'assignee', u'body', u'closed_at', u'comments', u'comments_url', u'created_at', u'events_url', u'html_url', u'id', u'labels', u'labels_url', u'milestone', u'number', u'pull_request', u'state', u'title', u'updated_at', u'url', u'user'], dtype=object)"
       ]
      }
     ],
     "prompt_number": 54
    },
    {
     "cell_type": "code",
     "collapsed": false,
     "input": [
      "user"
     ],
     "language": "python",
     "metadata": {},
     "outputs": [
      {
       "html": [
        "<div style=\"max-height:1000px;max-width:1500px;overflow:auto;\">\n",
        "<table border=\"1\" class=\"dataframe\">\n",
        "  <thead>\n",
        "    <tr style=\"text-align: right;\">\n",
        "      <th></th>\n",
        "      <th>nParticipants</th>\n",
        "      <th>nIssue</th>\n",
        "      <th>chattiest</th>\n",
        "      <th>percentage of the chattiest</th>\n",
        "    </tr>\n",
        "    <tr>\n",
        "      <th>created_at</th>\n",
        "      <th></th>\n",
        "      <th></th>\n",
        "      <th></th>\n",
        "      <th></th>\n",
        "    </tr>\n",
        "  </thead>\n",
        "  <tbody>\n",
        "    <tr>\n",
        "      <th>2010-09-30</th>\n",
        "      <td>  2</td>\n",
        "      <td>  22</td>\n",
        "      <td>         wesm</td>\n",
        "      <td>  81.818182</td>\n",
        "    </tr>\n",
        "    <tr>\n",
        "      <th>2010-10-31</th>\n",
        "      <td>  3</td>\n",
        "      <td>  16</td>\n",
        "      <td>         wesm</td>\n",
        "      <td>  75.000000</td>\n",
        "    </tr>\n",
        "    <tr>\n",
        "      <th>2010-11-30</th>\n",
        "      <td>  2</td>\n",
        "      <td>   4</td>\n",
        "      <td>     mpenning</td>\n",
        "      <td>  50.000000</td>\n",
        "    </tr>\n",
        "    <tr>\n",
        "      <th>2010-12-31</th>\n",
        "      <td>  3</td>\n",
        "      <td>   8</td>\n",
        "      <td>          knm</td>\n",
        "      <td>  50.000000</td>\n",
        "    </tr>\n",
        "    <tr>\n",
        "      <th>2011-01-31</th>\n",
        "      <td>  5</td>\n",
        "      <td>  18</td>\n",
        "      <td>  triplechess</td>\n",
        "      <td>  33.333333</td>\n",
        "    </tr>\n",
        "    <tr>\n",
        "      <th>2011-02-28</th>\n",
        "      <td>  2</td>\n",
        "      <td>   2</td>\n",
        "      <td>        ghost</td>\n",
        "      <td>  50.000000</td>\n",
        "    </tr>\n",
        "    <tr>\n",
        "      <th>2011-03-31</th>\n",
        "      <td>  1</td>\n",
        "      <td>   2</td>\n",
        "      <td>        ghost</td>\n",
        "      <td> 100.000000</td>\n",
        "    </tr>\n",
        "    <tr>\n",
        "      <th>2011-04-30</th>\n",
        "      <td>  0</td>\n",
        "      <td>   0</td>\n",
        "      <td>          NaN</td>\n",
        "      <td>        NaN</td>\n",
        "    </tr>\n",
        "    <tr>\n",
        "      <th>2011-05-31</th>\n",
        "      <td>  3</td>\n",
        "      <td>   7</td>\n",
        "      <td>         wesm</td>\n",
        "      <td>  71.428571</td>\n",
        "    </tr>\n",
        "    <tr>\n",
        "      <th>2011-06-30</th>\n",
        "      <td>  3</td>\n",
        "      <td>   9</td>\n",
        "      <td>         wesm</td>\n",
        "      <td>  77.777778</td>\n",
        "    </tr>\n",
        "    <tr>\n",
        "      <th>2011-07-31</th>\n",
        "      <td>  9</td>\n",
        "      <td>  30</td>\n",
        "      <td>         wesm</td>\n",
        "      <td>  73.333333</td>\n",
        "    </tr>\n",
        "    <tr>\n",
        "      <th>2011-08-31</th>\n",
        "      <td> 10</td>\n",
        "      <td>  31</td>\n",
        "      <td>         wesm</td>\n",
        "      <td>  67.741935</td>\n",
        "    </tr>\n",
        "    <tr>\n",
        "      <th>2011-09-30</th>\n",
        "      <td> 14</td>\n",
        "      <td>  66</td>\n",
        "      <td>         wesm</td>\n",
        "      <td>  71.212121</td>\n",
        "    </tr>\n",
        "    <tr>\n",
        "      <th>2011-10-31</th>\n",
        "      <td> 17</td>\n",
        "      <td> 118</td>\n",
        "      <td>         wesm</td>\n",
        "      <td>  66.101695</td>\n",
        "    </tr>\n",
        "    <tr>\n",
        "      <th>2011-11-30</th>\n",
        "      <td> 25</td>\n",
        "      <td> 110</td>\n",
        "      <td>         wesm</td>\n",
        "      <td>  53.636364</td>\n",
        "    </tr>\n",
        "    <tr>\n",
        "      <th>2011-12-31</th>\n",
        "      <td> 22</td>\n",
        "      <td> 125</td>\n",
        "      <td>         wesm</td>\n",
        "      <td>  49.600000</td>\n",
        "    </tr>\n",
        "    <tr>\n",
        "      <th>2012-01-31</th>\n",
        "      <td> 41</td>\n",
        "      <td> 154</td>\n",
        "      <td>         wesm</td>\n",
        "      <td>  36.363636</td>\n",
        "    </tr>\n",
        "    <tr>\n",
        "      <th>2012-02-29</th>\n",
        "      <td> 26</td>\n",
        "      <td> 101</td>\n",
        "      <td>         wesm</td>\n",
        "      <td>  48.514851</td>\n",
        "    </tr>\n",
        "    <tr>\n",
        "      <th>2012-03-31</th>\n",
        "      <td> 47</td>\n",
        "      <td> 126</td>\n",
        "      <td>         wesm</td>\n",
        "      <td>  26.190476</td>\n",
        "    </tr>\n",
        "    <tr>\n",
        "      <th>2012-04-30</th>\n",
        "      <td> 39</td>\n",
        "      <td> 171</td>\n",
        "      <td>         wesm</td>\n",
        "      <td>  54.970760</td>\n",
        "    </tr>\n",
        "    <tr>\n",
        "      <th>2012-05-31</th>\n",
        "      <td> 26</td>\n",
        "      <td> 179</td>\n",
        "      <td>         wesm</td>\n",
        "      <td>  49.720670</td>\n",
        "    </tr>\n",
        "    <tr>\n",
        "      <th>2012-06-30</th>\n",
        "      <td> 55</td>\n",
        "      <td> 169</td>\n",
        "      <td>         wesm</td>\n",
        "      <td>  28.402367</td>\n",
        "    </tr>\n",
        "    <tr>\n",
        "      <th>2012-07-31</th>\n",
        "      <td> 52</td>\n",
        "      <td> 141</td>\n",
        "      <td>         wesm</td>\n",
        "      <td>  29.078014</td>\n",
        "    </tr>\n",
        "    <tr>\n",
        "      <th>2012-08-31</th>\n",
        "      <td> 46</td>\n",
        "      <td> 102</td>\n",
        "      <td>         wesm</td>\n",
        "      <td>  13.725490</td>\n",
        "    </tr>\n",
        "    <tr>\n",
        "      <th>2012-09-30</th>\n",
        "      <td> 53</td>\n",
        "      <td> 139</td>\n",
        "      <td> changhiskhan</td>\n",
        "      <td>  12.949640</td>\n",
        "    </tr>\n",
        "    <tr>\n",
        "      <th>2012-10-31</th>\n",
        "      <td> 47</td>\n",
        "      <td> 113</td>\n",
        "      <td>          y-p</td>\n",
        "      <td>  14.159292</td>\n",
        "    </tr>\n",
        "    <tr>\n",
        "      <th>2012-11-30</th>\n",
        "      <td> 63</td>\n",
        "      <td> 216</td>\n",
        "      <td>          y-p</td>\n",
        "      <td>  24.537037</td>\n",
        "    </tr>\n",
        "    <tr>\n",
        "      <th>2012-12-31</th>\n",
        "      <td> 66</td>\n",
        "      <td> 175</td>\n",
        "      <td>          y-p</td>\n",
        "      <td>  15.428571</td>\n",
        "    </tr>\n",
        "    <tr>\n",
        "      <th>2013-01-31</th>\n",
        "      <td> 55</td>\n",
        "      <td> 130</td>\n",
        "      <td>      jreback</td>\n",
        "      <td>  13.076923</td>\n",
        "    </tr>\n",
        "    <tr>\n",
        "      <th>2013-02-28</th>\n",
        "      <td> 56</td>\n",
        "      <td> 130</td>\n",
        "      <td>      jreback</td>\n",
        "      <td>  19.230769</td>\n",
        "    </tr>\n",
        "    <tr>\n",
        "      <th>2013-03-31</th>\n",
        "      <td> 56</td>\n",
        "      <td> 212</td>\n",
        "      <td>      jreback</td>\n",
        "      <td>  36.320755</td>\n",
        "    </tr>\n",
        "    <tr>\n",
        "      <th>2013-04-30</th>\n",
        "      <td> 49</td>\n",
        "      <td> 142</td>\n",
        "      <td>          y-p</td>\n",
        "      <td>  27.464789</td>\n",
        "    </tr>\n",
        "  </tbody>\n",
        "</table>\n",
        "</div>"
       ],
       "metadata": {},
       "output_type": "pyout",
       "prompt_number": 81,
       "text": [
        "            nParticipants  nIssue     chattiest  percentage of the chattiest\n",
        "created_at                                                                  \n",
        "2010-09-30              2      22          wesm                    81.818182\n",
        "2010-10-31              3      16          wesm                    75.000000\n",
        "2010-11-30              2       4      mpenning                    50.000000\n",
        "2010-12-31              3       8           knm                    50.000000\n",
        "2011-01-31              5      18   triplechess                    33.333333\n",
        "2011-02-28              2       2         ghost                    50.000000\n",
        "2011-03-31              1       2         ghost                   100.000000\n",
        "2011-04-30              0       0           NaN                          NaN\n",
        "2011-05-31              3       7          wesm                    71.428571\n",
        "2011-06-30              3       9          wesm                    77.777778\n",
        "2011-07-31              9      30          wesm                    73.333333\n",
        "2011-08-31             10      31          wesm                    67.741935\n",
        "2011-09-30             14      66          wesm                    71.212121\n",
        "2011-10-31             17     118          wesm                    66.101695\n",
        "2011-11-30             25     110          wesm                    53.636364\n",
        "2011-12-31             22     125          wesm                    49.600000\n",
        "2012-01-31             41     154          wesm                    36.363636\n",
        "2012-02-29             26     101          wesm                    48.514851\n",
        "2012-03-31             47     126          wesm                    26.190476\n",
        "2012-04-30             39     171          wesm                    54.970760\n",
        "2012-05-31             26     179          wesm                    49.720670\n",
        "2012-06-30             55     169          wesm                    28.402367\n",
        "2012-07-31             52     141          wesm                    29.078014\n",
        "2012-08-31             46     102          wesm                    13.725490\n",
        "2012-09-30             53     139  changhiskhan                    12.949640\n",
        "2012-10-31             47     113           y-p                    14.159292\n",
        "2012-11-30             63     216           y-p                    24.537037\n",
        "2012-12-31             66     175           y-p                    15.428571\n",
        "2013-01-31             55     130       jreback                    13.076923\n",
        "2013-02-28             56     130       jreback                    19.230769\n",
        "2013-03-31             56     212       jreback                    36.320755\n",
        "2013-04-30             49     142           y-p                    27.464789"
       ]
      }
     ],
     "prompt_number": 81
    },
    {
     "cell_type": "code",
     "collapsed": false,
     "input": [
      "data_df.columns"
     ],
     "language": "python",
     "metadata": {},
     "outputs": [
      {
       "metadata": {},
       "output_type": "pyout",
       "prompt_number": 111,
       "text": [
        "Index([u'assignee', u'body', u'closed_at', u'comments', u'comments_url', u'created_at', u'events_url', u'html_url', u'id', u'labels', u'labels_url', u'milestone', u'number', u'pull_request', u'state', u'title', u'updated_at', u'url', u'user'], dtype=object)"
       ]
      }
     ],
     "prompt_number": 111
    },
    {
     "cell_type": "code",
     "collapsed": false,
     "input": [
      "import numpy as np\n",
      "from numpy import nan as NaN"
     ],
     "language": "python",
     "metadata": {},
     "outputs": [],
     "prompt_number": 115
    },
    {
     "cell_type": "code",
     "collapsed": false,
     "input": [
      "NaN"
     ],
     "language": "python",
     "metadata": {},
     "outputs": [
      {
       "metadata": {},
       "output_type": "pyout",
       "prompt_number": 116,
       "text": [
        "nan"
       ]
      }
     ],
     "prompt_number": 116
    },
    {
     "cell_type": "code",
     "collapsed": false,
     "input": [
      "import pdb\n",
      "import datetime\n",
      "import json\n",
      "\n",
      "import pandas as pd \n",
      "import matplotlib.pyplot as plt \n",
      "import numpy as np \n",
      "from numpy import nan as NaN\n",
      "\n",
      "# Functions defined\n",
      "def user_extract(dict_in):\n",
      "\t''' Extract 'login' key's value '''''\n",
      "\treturn dict_in['login']\n",
      "\n",
      "def count(resample_in):\n",
      "\t''' Count the number of samples in resampled data'''\n",
      "\treturn len(resample_in)\n",
      "\n",
      "def distinct_user(resample_in):\n",
      "\t''' Count the number of distinct user in resampled data'''\n",
      "\tunique_in = resample_in.drop_duplicates()\n",
      "\treturn len(unique_in)\n",
      "\n",
      "def mean_day(resample_in):\n",
      "\t''' Calculate the mean open day of an issue in resampled data'''\n",
      "\ttry:\n",
      "\t\t#Create a Series has value equals to created_at\n",
      "\t\tcreated_at_series = pd.Series(\n",
      "\t\t\tresample_in.index, index=resample_in.index)\n",
      "\t\tdiff = resample_in - created_at_series\n",
      "\t\tsec_mean = diff.sum()/float(len(diff))\n",
      "\t\t#Convert to timedelta object\n",
      "\t\ttd = datetime.timedelta(microseconds=int(sec_mean/1000.))\t\t\n",
      "\t\t#return day attribute of the time difference \n",
      "\t\treturn td.days \n",
      "\texcept Exception:\n",
      "\t\treturn NaN\n",
      "\n",
      "def comment_func(comment_list):\n",
      "\t''' Extract the comment string from the comments column'''\n",
      "\ttry:\n",
      "\t\treturn comment_list[0]['text']\n",
      "\texcept Exception:\n",
      "\t\treturn NaN\n",
      "\n",
      "def chattiest_user(resample_se):\n",
      "\t''' Find the chattiest user in a month'''\n",
      "\ttry:\n",
      "\t\tcounts = resample_se.value_counts().order(ascending=True)\n",
      "\t\treturn counts.index[0]\n",
      "\texcept Exception:\n",
      "\t\treturn NaN\n",
      "\n",
      "def distinct(resample_se):\n",
      "\t''' Find the number of distinct user who comment on 'pandas' '''\n",
      "\treturn len(resample_se.unique())\n",
      "\n",
      "def percent(resample_se):\n",
      "\t''' Find the percentage of comments provided by the chattiest user'''\n",
      "\ttry:\n",
      "\t\tcounts = resample_se.value_counts().order(ascending=False)\n",
      "\t\treturn int(counts.ix[0]/float(counts.sum())*100)\n",
      "\texcept Exception:\n",
      "\t\treturn NaN\n",
      "\n",
      "\n",
      "# Read and load data\n",
      "json_file = open('closed.json')\n",
      "json_data = json.load(json_file)\n",
      "all_data_df = pd.DataFrame(json_data)\n",
      "\n",
      "###########\n",
      "# part(1) #\n",
      "###########\n",
      "\n",
      "# p1 is the dataframe have title, created_at, labels, closed_at, user, \\\n",
      "# id as columns\n",
      "p1 = all_data_df[['title', 'created_at', 'labels', 'closed_at',\\\n",
      "\t\t\t\t\t'user', 'id']]\n",
      "# transfer the user values to username string\n",
      "p1.user = p1.user.map(user_extract)\n",
      "\n",
      "###########\n",
      "# part(2) #\n",
      "###########\n",
      "\n",
      "# Drop the duplicate rows using id inplace\n",
      "p1.drop_duplicates(cols='id', inplace=True)\n",
      "\n",
      "###########\n",
      "# part(4) #\n",
      "###########\n",
      "\n",
      "# Convert created_at and closed_at columns from string to datetime\n",
      "p1['created_at'] = pd.to_datetime(p1['created_at'])\n",
      "p1['closed_at'] = pd.to_datetime(p1['closed_at'])\n",
      "\n",
      "###########\n",
      "# part(5) #\n",
      "###########\n",
      "\n",
      "# Set 'created_at' as index\n",
      "p1.set_index('created_at', inplace=True)\n",
      "# Make the monthly number of issue plot\n",
      "issue_month = p1.title.resample('M', how=count)\n",
      "issue_month.name = 'Number of Issues'\n",
      "plt.figure()\n",
      "issue_ax = issue_month.plot()\n",
      "issue_ax.set_ylabel(issue_month.name)\n",
      "# Make the monthly distinct user number plot\n",
      "distinct_month = p1.user.resample('M', how=distinct_user)\n",
      "distinct_month.name = 'Number of Distinct User'\n",
      "plt.figure()\n",
      "distinct_ax = distinct_month.plot()\n",
      "distinct_ax.set_ylabel(distinct_month.name)\n",
      "\n",
      "###########\n",
      "# part(6) #\n",
      "###########\n",
      "\n",
      "# Resample the closed_at and return a series of mean open day\n",
      "open_day = p1.closed_at.resample('M', how=mean_day)\n",
      "open_day.name = 'Mean Open Day'\n",
      "# Concatenate monthly issue number with mean open day\n",
      "open_day = pd.concat([issue_month, open_day], axis=1)\n",
      "open_day.columns = ['nIssues', 'mean_days']\n",
      "plt.figure()\n",
      "line1 = open_day['nIssues'].plot()\n",
      "line1.set_ylabel('Number of issues')\n",
      "plt.figure()\n",
      "line2 = open_day['mean_days'].plot()\n",
      "line2.set_ylabel('Mean Open Day')\n",
      "open_day.to_pickle('mean_day.pkl')\n",
      "print '_'*80\n",
      "print open_day.head(20)\n",
      "\n",
      "###########\n",
      "# part(7) #\n",
      "###########\n",
      "\n",
      "# Create the comment dateframe\n",
      "comm_df = all_data_df[['created_at', 'comments', 'id']]\n",
      "comm_df.drop_duplicates(cols='id', inplace=True)\n",
      "comm_df.comments = comm_df.comments.map(comment_func)\n",
      "comm_df.created_at = pd.to_datetime(comm_df.created_at)\n",
      "comm_df.set_index('created_at', inplace=True)\n",
      "print '_'*80\n",
      "print comm_df.head(20)\n",
      "comm_df.to_pickle('comments.pkl')\n",
      "\n",
      "###########\n",
      "# part(8) #\n",
      "###########\n",
      "\n",
      "# Create user dataframe\n",
      "user_df = all_data_df[['created_at', 'user', 'id']]\n",
      "user_df.user = user_df.user.map(user_extract)\n",
      "user_df.created_at = pd.to_datetime(user_df.created_at)\n",
      "user_df.set_index('created_at', inplace=True)\n",
      "user_se = user_df['user']\n",
      "chattiest_df = user_se.resample('M', how=[count,chattiest_user,percent,distinct])\n",
      "chattiest_df.columns = ['Number of comments', 'The chattiest', 'Percentage of the chattiest(%)',\\\n",
      "\t\t\t\t\t\t'Number of participants']\n",
      "print '_'*80\t\t\t\t\t\t\n",
      "print chattiest_df.head(20)\n",
      "chattiest_df.to_pickle('chattiest.pkl')\n",
      "\n",
      "###########\n",
      "# part(9) #\n",
      "###########\n",
      "\n",
      "# Create id_label dataframe with create time as index\n",
      "id_labels_temp = data_df[['id', 'labels', 'created_at']]\n",
      "id_labels_temp.drop_duplicates(cols='id', inplace=True)\n",
      "id_labels_list = []\n",
      "for (idx,Id) in id_labels_temp.id.iteritems():\n",
      "    if len(id_labels_temp.labels.ix[idx]):\n",
      "        for label_dict in id_labels_temp.labels.ix[idx]:\n",
      "            id_labels_list.append((Id, label_dict['name'], id_labels_temp.created_at[idx]))\n",
      "    else:\n",
      "        id_labels_list.append((Id, np.nan,id_labels_temp.created_at[idx]))\n",
      "id_labels_df = pd.DataFrame(id_labels_list, columns=['id', 'label', 'created_at'])\n",
      "id_labels_df['created_at'] = pd.to_datetime(id_labels_df['created_at'])\n",
      "id_labels_df.set_index('created_at', inplace=True)\n",
      "\n",
      "\n",
      "\n",
      "\n",
      "\n",
      "\n",
      "\n",
      "\n",
      "\n",
      "\n",
      "\n",
      "\n",
      "\n",
      "\n",
      "\n",
      "\n",
      "\n",
      "\n"
     ],
     "language": "python",
     "metadata": {},
     "outputs": [
      {
       "output_type": "stream",
       "stream": "stdout",
       "text": [
        "________________________________________________________________________________\n",
        "            nIssues  mean_days\n",
        "created_at                    \n",
        "2010-09-30       11        138\n",
        "2010-10-31        8        250\n",
        "2010-11-30        2         13\n",
        "2010-12-31        4          2\n",
        "2011-01-31        9         52\n",
        "2011-02-28        2          3\n",
        "2011-03-31        2          6\n",
        "2011-04-30        0        NaN\n",
        "2011-05-31        7         64\n",
        "2011-06-30        9         49\n",
        "2011-07-31       30         67\n",
        "2011-08-31       31         53\n",
        "2011-09-30       66         39\n",
        "2011-10-31      118         23\n",
        "2011-11-30      110         21\n",
        "2011-12-31      125         26\n",
        "2012-01-31      154         20\n",
        "2012-02-29      101         23\n",
        "2012-03-31      126         30\n",
        "2012-04-30      171         13\n",
        "________________________________________________________________________________\n",
        "                                                              comments      id\n",
        "created_at                                                                    \n",
        "2010-09-29 00:45:31                            implemented in git HEAD  337721\n",
        "2010-09-29 00:50:13                                               done  337726\n",
        "2010-09-29 00:50:52  I guess I &quot;accidentally&quot; fixed this ...  337728\n",
        "2010-09-29 00:51:27                                              fixed  337730\n",
        "2010-09-29 00:57:00  Everything seems to be working in Python 2.7 w...  337736\n",
        "2010-09-29 05:30:56  All fixed up and wrote unit tests--hopefully d...  337994\n",
        "2010-09-29 15:41:55  This is a bug. DataMatrix as input to the Data...  338909\n",
        "2010-09-29 19:45:47  In principle I agree with you that fill should...  339355\n",
        "2010-09-30 22:29:36  A user suggested this version to start with:\\r...  341577\n",
        "2010-09-30 22:33:14                            Done in latest git HEAD  341581\n",
        "2010-09-30 22:34:26  This will not go in forthcoming 0.3 release bu...  341583\n",
        "2010-10-03 17:20:41  You make a good point, and I think it might be...  344725\n",
        "2010-10-07 23:42:34  Hi Surbas,\\r\\n\\r\\nI'm sorry this has taken me ...  352369\n",
        "2010-10-11 03:19:39                      implemented in recent commits  356064\n",
        "2010-10-12 16:10:48  added apply and applymap functions to Series f...  358943\n",
        "2010-10-12 16:13:04     Haven't been able to reproduce this so closing  358947\n",
        "2010-10-12 16:13:55  Done for DataFrame / WidePanel. Needs to be ad...  358950\n",
        "2010-10-12 16:15:10                                    duplicate issue  358952\n",
        "2010-10-22 17:59:31                                  fixed in git HEAD  376890\n",
        "2010-11-19 14:50:11  Should be safe to use the git HEAD, I will try...  428564\n",
        "________________________________________________________________________________"
       ]
      },
      {
       "output_type": "stream",
       "stream": "stdout",
       "text": [
        "\n",
        "            Number of comments The chattiest  Percentage of the chattiest(%)  \\\n",
        "created_at                                                                     \n",
        "2010-09-30                  22       andylei                              81   \n",
        "2010-10-31                  16      hector13                              75   \n",
        "2010-11-30                   4          wesm                              50   \n",
        "2010-12-31                   8      mpenning                              50   \n",
        "2011-01-31                  18          wesm                              33   \n",
        "2011-02-28                   2       tgefell                              50   \n",
        "2011-03-31                   2         ghost                             100   \n",
        "2011-04-30                   0           NaN                             NaN   \n",
        "2011-05-31                   7        surbas                              71   \n",
        "2011-06-30                   9     dieterv77                              77   \n",
        "2011-07-31                  30       talltom                              73   \n",
        "2011-08-31                  31         xdong                              67   \n",
        "2011-09-30                  66       scottza                              71   \n",
        "2011-10-31                 118  Komnomnomnom                              66   \n",
        "2011-11-30                 110    algotr8der                              53   \n",
        "2011-12-31                 125         MaxBo                              49   \n",
        "2012-01-31                 154    fonnesbeck                              36   \n",
        "2012-02-29                 101    yarikoptic                              48   \n",
        "2012-03-31                 126        brentp                              26   \n",
        "2012-04-30                 171        nspies                              54   \n",
        "\n",
        "            Number of participants  \n",
        "created_at                          \n",
        "2010-09-30                       2  \n",
        "2010-10-31                       3  \n",
        "2010-11-30                       2  \n",
        "2010-12-31                       3  \n",
        "2011-01-31                       5  \n",
        "2011-02-28                       2  \n",
        "2011-03-31                       1  \n",
        "2011-04-30                       0  \n",
        "2011-05-31                       3  \n",
        "2011-06-30                       3  \n",
        "2011-07-31                       9  \n",
        "2011-08-31                      10  \n",
        "2011-09-30                      14  \n",
        "2011-10-31                      17  \n",
        "2011-11-30                      25  \n",
        "2011-12-31                      22  \n",
        "2012-01-31                      41  \n",
        "2012-02-29                      26  \n",
        "2012-03-31                      47  \n",
        "2012-04-30                      39  \n"
       ]
      }
     ],
     "prompt_number": 203
    },
    {
     "cell_type": "code",
     "collapsed": false,
     "input": [
      "id_labels_df.head()"
     ],
     "language": "python",
     "metadata": {},
     "outputs": [
      {
       "html": [
        "<div style=\"max-height:1000px;max-width:1500px;overflow:auto;\">\n",
        "<table border=\"1\" class=\"dataframe\">\n",
        "  <thead>\n",
        "    <tr style=\"text-align: right;\">\n",
        "      <th></th>\n",
        "      <th>id</th>\n",
        "      <th>label</th>\n",
        "      <th>created_at</th>\n",
        "    </tr>\n",
        "  </thead>\n",
        "  <tbody>\n",
        "    <tr>\n",
        "      <th>0</th>\n",
        "      <td> 337721</td>\n",
        "      <td> NaN</td>\n",
        "      <td> 2010-09-29T00:45:31Z</td>\n",
        "    </tr>\n",
        "    <tr>\n",
        "      <th>1</th>\n",
        "      <td> 337726</td>\n",
        "      <td> NaN</td>\n",
        "      <td> 2010-09-29T00:50:13Z</td>\n",
        "    </tr>\n",
        "    <tr>\n",
        "      <th>2</th>\n",
        "      <td> 337728</td>\n",
        "      <td> NaN</td>\n",
        "      <td> 2010-09-29T00:50:52Z</td>\n",
        "    </tr>\n",
        "    <tr>\n",
        "      <th>3</th>\n",
        "      <td> 337730</td>\n",
        "      <td> NaN</td>\n",
        "      <td> 2010-09-29T00:51:27Z</td>\n",
        "    </tr>\n",
        "    <tr>\n",
        "      <th>4</th>\n",
        "      <td> 337736</td>\n",
        "      <td> NaN</td>\n",
        "      <td> 2010-09-29T00:57:00Z</td>\n",
        "    </tr>\n",
        "  </tbody>\n",
        "</table>\n",
        "</div>"
       ],
       "metadata": {},
       "output_type": "pyout",
       "prompt_number": 124,
       "text": [
        "       id label            created_at\n",
        "0  337721   NaN  2010-09-29T00:45:31Z\n",
        "1  337726   NaN  2010-09-29T00:50:13Z\n",
        "2  337728   NaN  2010-09-29T00:50:52Z\n",
        "3  337730   NaN  2010-09-29T00:51:27Z\n",
        "4  337736   NaN  2010-09-29T00:57:00Z"
       ]
      }
     ],
     "prompt_number": 124
    },
    {
     "cell_type": "code",
     "collapsed": false,
     "input": [
      "open_day.head()"
     ],
     "language": "python",
     "metadata": {},
     "outputs": [
      {
       "html": [
        "<div style=\"max-height:1000px;max-width:1500px;overflow:auto;\">\n",
        "<table border=\"1\" class=\"dataframe\">\n",
        "  <thead>\n",
        "    <tr style=\"text-align: right;\">\n",
        "      <th></th>\n",
        "      <th>nIssues</th>\n",
        "      <th>mean_days</th>\n",
        "    </tr>\n",
        "    <tr>\n",
        "      <th>created_at</th>\n",
        "      <th></th>\n",
        "      <th></th>\n",
        "    </tr>\n",
        "  </thead>\n",
        "  <tbody>\n",
        "    <tr>\n",
        "      <th>2010-09-30</th>\n",
        "      <td> 11</td>\n",
        "      <td> 138</td>\n",
        "    </tr>\n",
        "    <tr>\n",
        "      <th>2010-10-31</th>\n",
        "      <td>  8</td>\n",
        "      <td> 250</td>\n",
        "    </tr>\n",
        "    <tr>\n",
        "      <th>2010-11-30</th>\n",
        "      <td>  2</td>\n",
        "      <td>  13</td>\n",
        "    </tr>\n",
        "    <tr>\n",
        "      <th>2010-12-31</th>\n",
        "      <td>  4</td>\n",
        "      <td>   2</td>\n",
        "    </tr>\n",
        "    <tr>\n",
        "      <th>2011-01-31</th>\n",
        "      <td>  9</td>\n",
        "      <td>  52</td>\n",
        "    </tr>\n",
        "  </tbody>\n",
        "</table>\n",
        "</div>"
       ],
       "metadata": {},
       "output_type": "pyout",
       "prompt_number": 129,
       "text": [
        "            nIssues  mean_days\n",
        "created_at                    \n",
        "2010-09-30       11        138\n",
        "2010-10-31        8        250\n",
        "2010-11-30        2         13\n",
        "2010-12-31        4          2\n",
        "2011-01-31        9         52"
       ]
      }
     ],
     "prompt_number": 129
    },
    {
     "cell_type": "code",
     "collapsed": false,
     "input": [
      "id_labels_df.head()"
     ],
     "language": "python",
     "metadata": {},
     "outputs": [
      {
       "html": [
        "<div style=\"max-height:1000px;max-width:1500px;overflow:auto;\">\n",
        "<table border=\"1\" class=\"dataframe\">\n",
        "  <thead>\n",
        "    <tr style=\"text-align: right;\">\n",
        "      <th></th>\n",
        "      <th>id</th>\n",
        "      <th>label</th>\n",
        "    </tr>\n",
        "    <tr>\n",
        "      <th>created_at</th>\n",
        "      <th></th>\n",
        "      <th></th>\n",
        "    </tr>\n",
        "  </thead>\n",
        "  <tbody>\n",
        "    <tr>\n",
        "      <th>2010-09-29 00:45:31</th>\n",
        "      <td> 337721</td>\n",
        "      <td> NaN</td>\n",
        "    </tr>\n",
        "    <tr>\n",
        "      <th>2010-09-29 00:50:13</th>\n",
        "      <td> 337726</td>\n",
        "      <td> NaN</td>\n",
        "    </tr>\n",
        "    <tr>\n",
        "      <th>2010-09-29 00:50:52</th>\n",
        "      <td> 337728</td>\n",
        "      <td> NaN</td>\n",
        "    </tr>\n",
        "    <tr>\n",
        "      <th>2010-09-29 00:51:27</th>\n",
        "      <td> 337730</td>\n",
        "      <td> NaN</td>\n",
        "    </tr>\n",
        "    <tr>\n",
        "      <th>2010-09-29 00:57:00</th>\n",
        "      <td> 337736</td>\n",
        "      <td> NaN</td>\n",
        "    </tr>\n",
        "  </tbody>\n",
        "</table>\n",
        "</div>"
       ],
       "metadata": {},
       "output_type": "pyout",
       "prompt_number": 132,
       "text": [
        "                         id label\n",
        "created_at                       \n",
        "2010-09-29 00:45:31  337721   NaN\n",
        "2010-09-29 00:50:13  337726   NaN\n",
        "2010-09-29 00:50:52  337728   NaN\n",
        "2010-09-29 00:51:27  337730   NaN\n",
        "2010-09-29 00:57:00  337736   NaN"
       ]
      }
     ],
     "prompt_number": 132
    },
    {
     "cell_type": "code",
     "collapsed": false,
     "input": [
      "p1.closed_at.head()"
     ],
     "language": "python",
     "metadata": {},
     "outputs": [
      {
       "metadata": {},
       "output_type": "pyout",
       "prompt_number": 133,
       "text": [
        "created_at\n",
        "2010-09-29 00:45:31   2011-02-19 23:13:48\n",
        "2010-09-29 00:50:13   2010-12-17 02:57:33\n",
        "2010-09-29 00:50:52   2011-01-01 23:50:12\n",
        "2010-09-29 00:51:27   2010-12-11 06:14:32\n",
        "2010-09-29 00:57:00   2010-12-17 02:46:34\n",
        "Name: closed_at, dtype: datetime64[ns]"
       ]
      }
     ],
     "prompt_number": 133
    },
    {
     "cell_type": "code",
     "collapsed": false,
     "input": [
      "id_labels_df.ix[60:100]"
     ],
     "language": "python",
     "metadata": {},
     "outputs": [
      {
       "html": [
        "<div style=\"max-height:1000px;max-width:1500px;overflow:auto;\">\n",
        "<table border=\"1\" class=\"dataframe\">\n",
        "  <thead>\n",
        "    <tr style=\"text-align: right;\">\n",
        "      <th></th>\n",
        "      <th>id</th>\n",
        "      <th>label</th>\n",
        "    </tr>\n",
        "    <tr>\n",
        "      <th>created_at</th>\n",
        "      <th></th>\n",
        "      <th></th>\n",
        "    </tr>\n",
        "  </thead>\n",
        "  <tbody>\n",
        "    <tr>\n",
        "      <th>2011-07-18 15:37:46</th>\n",
        "      <td> 1242420</td>\n",
        "      <td>   Enhancement</td>\n",
        "    </tr>\n",
        "    <tr>\n",
        "      <th>2011-07-18 15:37:46</th>\n",
        "      <td> 1242420</td>\n",
        "      <td>       Testing</td>\n",
        "    </tr>\n",
        "    <tr>\n",
        "      <th>2011-07-18 15:39:18</th>\n",
        "      <td> 1242434</td>\n",
        "      <td>   Enhancement</td>\n",
        "    </tr>\n",
        "    <tr>\n",
        "      <th>2011-07-18 15:39:18</th>\n",
        "      <td> 1242434</td>\n",
        "      <td>    timeseries</td>\n",
        "    </tr>\n",
        "    <tr>\n",
        "      <th>2011-07-18 15:43:35</th>\n",
        "      <td> 1242459</td>\n",
        "      <td>   Enhancement</td>\n",
        "    </tr>\n",
        "    <tr>\n",
        "      <th>2011-07-18 15:45:19</th>\n",
        "      <td> 1242473</td>\n",
        "      <td>           Bug</td>\n",
        "    </tr>\n",
        "    <tr>\n",
        "      <th>2011-07-18 15:46:39</th>\n",
        "      <td> 1242483</td>\n",
        "      <td>      Refactor</td>\n",
        "    </tr>\n",
        "    <tr>\n",
        "      <th>2011-07-18 15:47:17</th>\n",
        "      <td> 1242492</td>\n",
        "      <td>   Enhancement</td>\n",
        "    </tr>\n",
        "    <tr>\n",
        "      <th>2011-07-18 15:48:30</th>\n",
        "      <td> 1242501</td>\n",
        "      <td>   Enhancement</td>\n",
        "    </tr>\n",
        "    <tr>\n",
        "      <th>2011-07-18 15:49:35</th>\n",
        "      <td> 1242511</td>\n",
        "      <td>   Enhancement</td>\n",
        "    </tr>\n",
        "    <tr>\n",
        "      <th>2011-07-18 15:50:10</th>\n",
        "      <td> 1242517</td>\n",
        "      <td>   Enhancement</td>\n",
        "    </tr>\n",
        "    <tr>\n",
        "      <th>2011-07-18 15:52:21</th>\n",
        "      <td> 1242529</td>\n",
        "      <td>   Enhancement</td>\n",
        "    </tr>\n",
        "    <tr>\n",
        "      <th>2011-07-18 15:54:10</th>\n",
        "      <td> 1242542</td>\n",
        "      <td>   Enhancement</td>\n",
        "    </tr>\n",
        "    <tr>\n",
        "      <th>2011-07-18 15:54:45</th>\n",
        "      <td> 1242545</td>\n",
        "      <td>       Testing</td>\n",
        "    </tr>\n",
        "    <tr>\n",
        "      <th>2011-07-18 16:02:37</th>\n",
        "      <td> 1242597</td>\n",
        "      <td>   Enhancement</td>\n",
        "    </tr>\n",
        "    <tr>\n",
        "      <th>2011-07-18 21:00:39</th>\n",
        "      <td> 1245597</td>\n",
        "      <td>           Bug</td>\n",
        "    </tr>\n",
        "    <tr>\n",
        "      <th>2011-07-21 19:32:25</th>\n",
        "      <td> 1265368</td>\n",
        "      <td> Build problem</td>\n",
        "    </tr>\n",
        "    <tr>\n",
        "      <th>2011-07-24 20:08:48</th>\n",
        "      <td> 1278525</td>\n",
        "      <td>   Enhancement</td>\n",
        "    </tr>\n",
        "    <tr>\n",
        "      <th>2011-07-26 01:42:29</th>\n",
        "      <td> 1286029</td>\n",
        "      <td>           NaN</td>\n",
        "    </tr>\n",
        "    <tr>\n",
        "      <th>2011-07-26 15:41:00</th>\n",
        "      <td> 1289636</td>\n",
        "      <td> Build problem</td>\n",
        "    </tr>\n",
        "    <tr>\n",
        "      <th>2011-07-27 23:02:15</th>\n",
        "      <td> 1299665</td>\n",
        "      <td>           Bug</td>\n",
        "    </tr>\n",
        "    <tr>\n",
        "      <th>2011-07-28 15:04:34</th>\n",
        "      <td> 1303422</td>\n",
        "      <td>           NaN</td>\n",
        "    </tr>\n",
        "    <tr>\n",
        "      <th>2011-07-29 15:53:40</th>\n",
        "      <td> 1310939</td>\n",
        "      <td>           NaN</td>\n",
        "    </tr>\n",
        "    <tr>\n",
        "      <th>2011-07-29 16:26:50</th>\n",
        "      <td> 1311144</td>\n",
        "      <td>   Enhancement</td>\n",
        "    </tr>\n",
        "    <tr>\n",
        "      <th>2011-07-29 16:26:50</th>\n",
        "      <td> 1311144</td>\n",
        "      <td>    timeseries</td>\n",
        "    </tr>\n",
        "    <tr>\n",
        "      <th>2011-07-29 22:19:39</th>\n",
        "      <td> 1313137</td>\n",
        "      <td>   Enhancement</td>\n",
        "    </tr>\n",
        "    <tr>\n",
        "      <th>2011-07-30 01:01:42</th>\n",
        "      <td> 1313688</td>\n",
        "      <td>   Enhancement</td>\n",
        "    </tr>\n",
        "    <tr>\n",
        "      <th>2011-08-01 20:13:57</th>\n",
        "      <td> 1325504</td>\n",
        "      <td>           NaN</td>\n",
        "    </tr>\n",
        "    <tr>\n",
        "      <th>2011-08-05 15:46:35</th>\n",
        "      <td> 1351978</td>\n",
        "      <td>          Docs</td>\n",
        "    </tr>\n",
        "    <tr>\n",
        "      <th>2011-08-06 08:02:19</th>\n",
        "      <td> 1355531</td>\n",
        "      <td>           NaN</td>\n",
        "    </tr>\n",
        "    <tr>\n",
        "      <th>2011-08-07 02:54:27</th>\n",
        "      <td> 1359677</td>\n",
        "      <td>           NaN</td>\n",
        "    </tr>\n",
        "    <tr>\n",
        "      <th>2011-08-07 19:42:03</th>\n",
        "      <td> 1361586</td>\n",
        "      <td>   Enhancement</td>\n",
        "    </tr>\n",
        "    <tr>\n",
        "      <th>2011-08-07 20:57:42</th>\n",
        "      <td> 1361833</td>\n",
        "      <td>   Enhancement</td>\n",
        "    </tr>\n",
        "    <tr>\n",
        "      <th>2011-08-07 21:01:30</th>\n",
        "      <td> 1361845</td>\n",
        "      <td>   Enhancement</td>\n",
        "    </tr>\n",
        "    <tr>\n",
        "      <th>2011-08-07 21:08:46</th>\n",
        "      <td> 1361862</td>\n",
        "      <td>   Enhancement</td>\n",
        "    </tr>\n",
        "    <tr>\n",
        "      <th>2011-08-09 02:25:36</th>\n",
        "      <td> 1369747</td>\n",
        "      <td>           NaN</td>\n",
        "    </tr>\n",
        "    <tr>\n",
        "      <th>2011-08-09 17:29:47</th>\n",
        "      <td> 1373938</td>\n",
        "      <td>   Enhancement</td>\n",
        "    </tr>\n",
        "    <tr>\n",
        "      <th>2011-08-09 18:25:40</th>\n",
        "      <td> 1374309</td>\n",
        "      <td>           NaN</td>\n",
        "    </tr>\n",
        "    <tr>\n",
        "      <th>2011-08-09 20:53:42</th>\n",
        "      <td> 1375374</td>\n",
        "      <td>           Bug</td>\n",
        "    </tr>\n",
        "    <tr>\n",
        "      <th>2011-08-09 22:51:30</th>\n",
        "      <td> 1376176</td>\n",
        "      <td>   Enhancement</td>\n",
        "    </tr>\n",
        "  </tbody>\n",
        "</table>\n",
        "</div>"
       ],
       "metadata": {},
       "output_type": "pyout",
       "prompt_number": 139,
       "text": [
        "                          id          label\n",
        "created_at                                 \n",
        "2011-07-18 15:37:46  1242420    Enhancement\n",
        "2011-07-18 15:37:46  1242420        Testing\n",
        "2011-07-18 15:39:18  1242434    Enhancement\n",
        "2011-07-18 15:39:18  1242434     timeseries\n",
        "2011-07-18 15:43:35  1242459    Enhancement\n",
        "2011-07-18 15:45:19  1242473            Bug\n",
        "2011-07-18 15:46:39  1242483       Refactor\n",
        "2011-07-18 15:47:17  1242492    Enhancement\n",
        "2011-07-18 15:48:30  1242501    Enhancement\n",
        "2011-07-18 15:49:35  1242511    Enhancement\n",
        "2011-07-18 15:50:10  1242517    Enhancement\n",
        "2011-07-18 15:52:21  1242529    Enhancement\n",
        "2011-07-18 15:54:10  1242542    Enhancement\n",
        "2011-07-18 15:54:45  1242545        Testing\n",
        "2011-07-18 16:02:37  1242597    Enhancement\n",
        "2011-07-18 21:00:39  1245597            Bug\n",
        "2011-07-21 19:32:25  1265368  Build problem\n",
        "2011-07-24 20:08:48  1278525    Enhancement\n",
        "2011-07-26 01:42:29  1286029            NaN\n",
        "2011-07-26 15:41:00  1289636  Build problem\n",
        "2011-07-27 23:02:15  1299665            Bug\n",
        "2011-07-28 15:04:34  1303422            NaN\n",
        "2011-07-29 15:53:40  1310939            NaN\n",
        "2011-07-29 16:26:50  1311144    Enhancement\n",
        "2011-07-29 16:26:50  1311144     timeseries\n",
        "2011-07-29 22:19:39  1313137    Enhancement\n",
        "2011-07-30 01:01:42  1313688    Enhancement\n",
        "2011-08-01 20:13:57  1325504            NaN\n",
        "2011-08-05 15:46:35  1351978           Docs\n",
        "2011-08-06 08:02:19  1355531            NaN\n",
        "2011-08-07 02:54:27  1359677            NaN\n",
        "2011-08-07 19:42:03  1361586    Enhancement\n",
        "2011-08-07 20:57:42  1361833    Enhancement\n",
        "2011-08-07 21:01:30  1361845    Enhancement\n",
        "2011-08-07 21:08:46  1361862    Enhancement\n",
        "2011-08-09 02:25:36  1369747            NaN\n",
        "2011-08-09 17:29:47  1373938    Enhancement\n",
        "2011-08-09 18:25:40  1374309            NaN\n",
        "2011-08-09 20:53:42  1375374            Bug\n",
        "2011-08-09 22:51:30  1376176    Enhancement"
       ]
      }
     ],
     "prompt_number": 139
    },
    {
     "cell_type": "code",
     "collapsed": false,
     "input": [
      "p1.head()"
     ],
     "language": "python",
     "metadata": {},
     "outputs": [
      {
       "html": [
        "<div style=\"max-height:1000px;max-width:1500px;overflow:auto;\">\n",
        "<table border=\"1\" class=\"dataframe\">\n",
        "  <thead>\n",
        "    <tr style=\"text-align: right;\">\n",
        "      <th></th>\n",
        "      <th>title</th>\n",
        "      <th>labels</th>\n",
        "      <th>closed_at</th>\n",
        "      <th>user</th>\n",
        "      <th>id</th>\n",
        "    </tr>\n",
        "    <tr>\n",
        "      <th>created_at</th>\n",
        "      <th></th>\n",
        "      <th></th>\n",
        "      <th></th>\n",
        "      <th></th>\n",
        "      <th></th>\n",
        "    </tr>\n",
        "  </thead>\n",
        "  <tbody>\n",
        "    <tr>\n",
        "      <th>2010-09-29 00:45:31</th>\n",
        "      <td> Enable element-wise comparison operations in D...</td>\n",
        "      <td> []</td>\n",
        "      <td>2011-02-19 23:13:48</td>\n",
        "      <td> wesm</td>\n",
        "      <td> 337721</td>\n",
        "    </tr>\n",
        "    <tr>\n",
        "      <th>2010-09-29 00:50:13</th>\n",
        "      <td>                             reindex_like function</td>\n",
        "      <td> []</td>\n",
        "      <td>2010-12-17 02:57:33</td>\n",
        "      <td> wesm</td>\n",
        "      <td> 337726</td>\n",
        "    </tr>\n",
        "    <tr>\n",
        "      <th>2010-09-29 00:50:52</th>\n",
        "      <td>               Binary operations on int DataMatrix</td>\n",
        "      <td> []</td>\n",
        "      <td>2011-01-01 23:50:12</td>\n",
        "      <td> wesm</td>\n",
        "      <td> 337728</td>\n",
        "    </tr>\n",
        "    <tr>\n",
        "      <th>2010-09-29 00:51:27</th>\n",
        "      <td> Plot keyword arguments are unused in DataFrame...</td>\n",
        "      <td> []</td>\n",
        "      <td>2010-12-11 06:14:32</td>\n",
        "      <td> wesm</td>\n",
        "      <td> 337730</td>\n",
        "    </tr>\n",
        "    <tr>\n",
        "      <th>2010-09-29 00:57:00</th>\n",
        "      <td>                                Python 2.7 testing</td>\n",
        "      <td> []</td>\n",
        "      <td>2010-12-17 02:46:34</td>\n",
        "      <td> wesm</td>\n",
        "      <td> 337736</td>\n",
        "    </tr>\n",
        "  </tbody>\n",
        "</table>\n",
        "</div>"
       ],
       "metadata": {},
       "output_type": "pyout",
       "prompt_number": 135,
       "text": [
        "                                                                 title labels  \\\n",
        "created_at                                                                      \n",
        "2010-09-29 00:45:31  Enable element-wise comparison operations in D...     []   \n",
        "2010-09-29 00:50:13                              reindex_like function     []   \n",
        "2010-09-29 00:50:52                Binary operations on int DataMatrix     []   \n",
        "2010-09-29 00:51:27  Plot keyword arguments are unused in DataFrame...     []   \n",
        "2010-09-29 00:57:00                                 Python 2.7 testing     []   \n",
        "\n",
        "                              closed_at  user      id  \n",
        "created_at                                             \n",
        "2010-09-29 00:45:31 2011-02-19 23:13:48  wesm  337721  \n",
        "2010-09-29 00:50:13 2010-12-17 02:57:33  wesm  337726  \n",
        "2010-09-29 00:50:52 2011-01-01 23:50:12  wesm  337728  \n",
        "2010-09-29 00:51:27 2010-12-11 06:14:32  wesm  337730  \n",
        "2010-09-29 00:57:00 2010-12-17 02:46:34  wesm  337736  "
       ]
      }
     ],
     "prompt_number": 135
    },
    {
     "cell_type": "code",
     "collapsed": false,
     "input": [
      "def open_day_per_issue(series_in):\n",
      "\t''' Calculate the days an issue takes to be solved '''\n",
      "\tcreated_at_series = pd.Series(series_in.index, index=series_in.index)\n",
      "\tdiff = series_in - created_at_series\n",
      "\treturn float(diff.days)"
     ],
     "language": "python",
     "metadata": {},
     "outputs": [],
     "prompt_number": 141
    },
    {
     "cell_type": "code",
     "collapsed": false,
     "input": [
      "open_day_per_issue_se = p1.closed_at.apply(open_day_per_issue)"
     ],
     "language": "python",
     "metadata": {},
     "outputs": [
      {
       "ename": "AttributeError",
       "evalue": "'Timestamp' object has no attribute 'index'",
       "output_type": "pyerr",
       "traceback": [
        "\u001b[0;31m---------------------------------------------------------------------------\u001b[0m\n\u001b[0;31mAttributeError\u001b[0m                            Traceback (most recent call last)",
        "\u001b[0;32m<ipython-input-147-014c63418d2e>\u001b[0m in \u001b[0;36m<module>\u001b[0;34m()\u001b[0m\n\u001b[0;32m----> 1\u001b[0;31m \u001b[0mopen_day_per_issue_se\u001b[0m \u001b[0;34m=\u001b[0m \u001b[0mp1\u001b[0m\u001b[0;34m.\u001b[0m\u001b[0mclosed_at\u001b[0m\u001b[0;34m.\u001b[0m\u001b[0mapply\u001b[0m\u001b[0;34m(\u001b[0m\u001b[0mopen_day_per_issue\u001b[0m\u001b[0;34m)\u001b[0m\u001b[0;34m\u001b[0m\u001b[0m\n\u001b[0m",
        "\u001b[0;32m/Users/Yigong/anaconda/python.app/Contents/lib/python2.7/site-packages/pandas/core/series.pyc\u001b[0m in \u001b[0;36mapply\u001b[0;34m(self, func, convert_dtype, args, **kwds)\u001b[0m\n\u001b[1;32m   2534\u001b[0m             \u001b[0mvalues\u001b[0m \u001b[0;34m=\u001b[0m \u001b[0mlib\u001b[0m\u001b[0;34m.\u001b[0m\u001b[0mmap_infer\u001b[0m\u001b[0;34m(\u001b[0m\u001b[0mvalues\u001b[0m\u001b[0;34m,\u001b[0m \u001b[0mlib\u001b[0m\u001b[0;34m.\u001b[0m\u001b[0mTimestamp\u001b[0m\u001b[0;34m)\u001b[0m\u001b[0;34m\u001b[0m\u001b[0m\n\u001b[1;32m   2535\u001b[0m \u001b[0;34m\u001b[0m\u001b[0m\n\u001b[0;32m-> 2536\u001b[0;31m         \u001b[0mmapped\u001b[0m \u001b[0;34m=\u001b[0m \u001b[0mlib\u001b[0m\u001b[0;34m.\u001b[0m\u001b[0mmap_infer\u001b[0m\u001b[0;34m(\u001b[0m\u001b[0mvalues\u001b[0m\u001b[0;34m,\u001b[0m \u001b[0mf\u001b[0m\u001b[0;34m,\u001b[0m \u001b[0mconvert\u001b[0m\u001b[0;34m=\u001b[0m\u001b[0mconvert_dtype\u001b[0m\u001b[0;34m)\u001b[0m\u001b[0;34m\u001b[0m\u001b[0m\n\u001b[0m\u001b[1;32m   2537\u001b[0m         \u001b[0;32mif\u001b[0m \u001b[0misinstance\u001b[0m\u001b[0;34m(\u001b[0m\u001b[0mmapped\u001b[0m\u001b[0;34m[\u001b[0m\u001b[0;36m0\u001b[0m\u001b[0;34m]\u001b[0m\u001b[0;34m,\u001b[0m \u001b[0mSeries\u001b[0m\u001b[0;34m)\u001b[0m\u001b[0;34m:\u001b[0m\u001b[0;34m\u001b[0m\u001b[0m\n\u001b[1;32m   2538\u001b[0m             \u001b[0;32mfrom\u001b[0m \u001b[0mpandas\u001b[0m\u001b[0;34m.\u001b[0m\u001b[0mcore\u001b[0m\u001b[0;34m.\u001b[0m\u001b[0mframe\u001b[0m \u001b[0;32mimport\u001b[0m \u001b[0mDataFrame\u001b[0m\u001b[0;34m\u001b[0m\u001b[0m\n",
        "\u001b[0;32m/Users/Yigong/anaconda/python.app/Contents/lib/python2.7/site-packages/pandas/lib.so\u001b[0m in \u001b[0;36mpandas.lib.map_infer (pandas/lib.c:42840)\u001b[0;34m()\u001b[0m\n",
        "\u001b[0;32m<ipython-input-141-838498043c83>\u001b[0m in \u001b[0;36mopen_day_per_issue\u001b[0;34m(series_in)\u001b[0m\n\u001b[1;32m      1\u001b[0m \u001b[0;32mdef\u001b[0m \u001b[0mopen_day_per_issue\u001b[0m\u001b[0;34m(\u001b[0m\u001b[0mseries_in\u001b[0m\u001b[0;34m)\u001b[0m\u001b[0;34m:\u001b[0m\u001b[0;34m\u001b[0m\u001b[0m\n\u001b[1;32m      2\u001b[0m         \u001b[0;34m''' Calculate the days an issue takes to be solved '''\u001b[0m\u001b[0;34m\u001b[0m\u001b[0m\n\u001b[0;32m----> 3\u001b[0;31m         \u001b[0mcreated_at_series\u001b[0m \u001b[0;34m=\u001b[0m \u001b[0mpd\u001b[0m\u001b[0;34m.\u001b[0m\u001b[0mSeries\u001b[0m\u001b[0;34m(\u001b[0m\u001b[0mseries_in\u001b[0m\u001b[0;34m.\u001b[0m\u001b[0mindex\u001b[0m\u001b[0;34m,\u001b[0m \u001b[0mindex\u001b[0m\u001b[0;34m=\u001b[0m\u001b[0mseries_in\u001b[0m\u001b[0;34m.\u001b[0m\u001b[0mindex\u001b[0m\u001b[0;34m)\u001b[0m\u001b[0;34m\u001b[0m\u001b[0m\n\u001b[0m\u001b[1;32m      4\u001b[0m         \u001b[0mdiff\u001b[0m \u001b[0;34m=\u001b[0m \u001b[0mseries_in\u001b[0m \u001b[0;34m-\u001b[0m \u001b[0mcreated_at_series\u001b[0m\u001b[0;34m\u001b[0m\u001b[0m\n\u001b[1;32m      5\u001b[0m         \u001b[0;32mreturn\u001b[0m \u001b[0mfloat\u001b[0m\u001b[0;34m(\u001b[0m\u001b[0mdiff\u001b[0m\u001b[0;34m.\u001b[0m\u001b[0mdays\u001b[0m\u001b[0;34m)\u001b[0m\u001b[0;34m\u001b[0m\u001b[0m\n",
        "\u001b[0;31mAttributeError\u001b[0m: 'Timestamp' object has no attribute 'index'"
       ]
      },
      {
       "output_type": "stream",
       "stream": "stdout",
       "text": [
        "> \u001b[0;32m<ipython-input-141-838498043c83>\u001b[0m(3)\u001b[0;36mopen_day_per_issue\u001b[0;34m()\u001b[0m\n",
        "\u001b[0;32m      2 \u001b[0;31m        \u001b[0;34m''' Calculate the days an issue takes to be solved '''\u001b[0m\u001b[0;34m\u001b[0m\u001b[0m\n",
        "\u001b[0m\u001b[0;32m----> 3 \u001b[0;31m        \u001b[0mcreated_at_series\u001b[0m \u001b[0;34m=\u001b[0m \u001b[0mpd\u001b[0m\u001b[0;34m.\u001b[0m\u001b[0mSeries\u001b[0m\u001b[0;34m(\u001b[0m\u001b[0mseries_in\u001b[0m\u001b[0;34m.\u001b[0m\u001b[0mindex\u001b[0m\u001b[0;34m,\u001b[0m \u001b[0mindex\u001b[0m\u001b[0;34m=\u001b[0m\u001b[0mseries_in\u001b[0m\u001b[0;34m.\u001b[0m\u001b[0mindex\u001b[0m\u001b[0;34m)\u001b[0m\u001b[0;34m\u001b[0m\u001b[0m\n",
        "\u001b[0m\u001b[0;32m      4 \u001b[0;31m        \u001b[0mdiff\u001b[0m \u001b[0;34m=\u001b[0m \u001b[0mseries_in\u001b[0m \u001b[0;34m-\u001b[0m \u001b[0mcreated_at_series\u001b[0m\u001b[0;34m\u001b[0m\u001b[0m\n",
        "\u001b[0m\n"
       ]
      },
      {
       "name": "stdout",
       "output_type": "stream",
       "stream": "stdout",
       "text": [
        "ipdb> series_in\n"
       ]
      },
      {
       "output_type": "stream",
       "stream": "stdout",
       "text": [
        "Timestamp('2011-02-19 23:13:48', tz=None)\n"
       ]
      },
      {
       "name": "stdout",
       "output_type": "stream",
       "stream": "stdout",
       "text": [
        "ipdb> d\n"
       ]
      },
      {
       "output_type": "stream",
       "stream": "stdout",
       "text": [
        "*** Newest frame\n"
       ]
      },
      {
       "name": "stdout",
       "output_type": "stream",
       "stream": "stdout",
       "text": [
        "ipdb> u\n"
       ]
      },
      {
       "output_type": "stream",
       "stream": "stdout",
       "text": [
        "> \u001b[0;32m/Users/Yigong/anaconda/python.app/Contents/lib/python2.7/site-packages/pandas/core/series.py\u001b[0m(2536)\u001b[0;36mapply\u001b[0;34m()\u001b[0m\n",
        "\u001b[0;32m   2535 \u001b[0;31m\u001b[0;34m\u001b[0m\u001b[0m\n",
        "\u001b[0m\u001b[0;32m-> 2536 \u001b[0;31m        \u001b[0mmapped\u001b[0m \u001b[0;34m=\u001b[0m \u001b[0mlib\u001b[0m\u001b[0;34m.\u001b[0m\u001b[0mmap_infer\u001b[0m\u001b[0;34m(\u001b[0m\u001b[0mvalues\u001b[0m\u001b[0;34m,\u001b[0m \u001b[0mf\u001b[0m\u001b[0;34m,\u001b[0m \u001b[0mconvert\u001b[0m\u001b[0;34m=\u001b[0m\u001b[0mconvert_dtype\u001b[0m\u001b[0;34m)\u001b[0m\u001b[0;34m\u001b[0m\u001b[0m\n",
        "\u001b[0m\u001b[0;32m   2537 \u001b[0;31m        \u001b[0;32mif\u001b[0m \u001b[0misinstance\u001b[0m\u001b[0;34m(\u001b[0m\u001b[0mmapped\u001b[0m\u001b[0;34m[\u001b[0m\u001b[0;36m0\u001b[0m\u001b[0;34m]\u001b[0m\u001b[0;34m,\u001b[0m \u001b[0mSeries\u001b[0m\u001b[0;34m)\u001b[0m\u001b[0;34m:\u001b[0m\u001b[0;34m\u001b[0m\u001b[0m\n",
        "\u001b[0m\n"
       ]
      },
      {
       "name": "stdout",
       "output_type": "stream",
       "stream": "stdout",
       "text": [
        "ipdb> u\n"
       ]
      },
      {
       "output_type": "stream",
       "stream": "stdout",
       "text": [
        "> \u001b[0;32m<ipython-input-147-014c63418d2e>\u001b[0m(1)\u001b[0;36m<module>\u001b[0;34m()\u001b[0m\n",
        "\u001b[0;32m----> 1 \u001b[0;31m\u001b[0mopen_day_per_issue_se\u001b[0m \u001b[0;34m=\u001b[0m \u001b[0mp1\u001b[0m\u001b[0;34m.\u001b[0m\u001b[0mclosed_at\u001b[0m\u001b[0;34m.\u001b[0m\u001b[0mapply\u001b[0m\u001b[0;34m(\u001b[0m\u001b[0mopen_day_per_issue\u001b[0m\u001b[0;34m)\u001b[0m\u001b[0;34m\u001b[0m\u001b[0m\n",
        "\u001b[0m\n"
       ]
      },
      {
       "name": "stdout",
       "output_type": "stream",
       "stream": "stdout",
       "text": [
        "ipdb> u\n"
       ]
      },
      {
       "output_type": "stream",
       "stream": "stdout",
       "text": [
        "*** Oldest frame\n"
       ]
      },
      {
       "name": "stdout",
       "output_type": "stream",
       "stream": "stdout",
       "text": [
        "ipdb> d\n"
       ]
      },
      {
       "output_type": "stream",
       "stream": "stdout",
       "text": [
        "> \u001b[0;32m/Users/Yigong/anaconda/python.app/Contents/lib/python2.7/site-packages/pandas/core/series.py\u001b[0m(2536)\u001b[0;36mapply\u001b[0;34m()\u001b[0m\n",
        "\u001b[0;32m   2535 \u001b[0;31m\u001b[0;34m\u001b[0m\u001b[0m\n",
        "\u001b[0m\u001b[0;32m-> 2536 \u001b[0;31m        \u001b[0mmapped\u001b[0m \u001b[0;34m=\u001b[0m \u001b[0mlib\u001b[0m\u001b[0;34m.\u001b[0m\u001b[0mmap_infer\u001b[0m\u001b[0;34m(\u001b[0m\u001b[0mvalues\u001b[0m\u001b[0;34m,\u001b[0m \u001b[0mf\u001b[0m\u001b[0;34m,\u001b[0m \u001b[0mconvert\u001b[0m\u001b[0;34m=\u001b[0m\u001b[0mconvert_dtype\u001b[0m\u001b[0;34m)\u001b[0m\u001b[0;34m\u001b[0m\u001b[0m\n",
        "\u001b[0m\u001b[0;32m   2537 \u001b[0;31m        \u001b[0;32mif\u001b[0m \u001b[0misinstance\u001b[0m\u001b[0;34m(\u001b[0m\u001b[0mmapped\u001b[0m\u001b[0;34m[\u001b[0m\u001b[0;36m0\u001b[0m\u001b[0;34m]\u001b[0m\u001b[0;34m,\u001b[0m \u001b[0mSeries\u001b[0m\u001b[0;34m)\u001b[0m\u001b[0;34m:\u001b[0m\u001b[0;34m\u001b[0m\u001b[0m\n",
        "\u001b[0m\n"
       ]
      },
      {
       "name": "stdout",
       "output_type": "stream",
       "stream": "stdout",
       "text": [
        "ipdb> d\n"
       ]
      },
      {
       "output_type": "stream",
       "stream": "stdout",
       "text": [
        "> \u001b[0;32m<ipython-input-141-838498043c83>\u001b[0m(3)\u001b[0;36mopen_day_per_issue\u001b[0;34m()\u001b[0m\n",
        "\u001b[0;32m      2 \u001b[0;31m        \u001b[0;34m''' Calculate the days an issue takes to be solved '''\u001b[0m\u001b[0;34m\u001b[0m\u001b[0m\n",
        "\u001b[0m\u001b[0;32m----> 3 \u001b[0;31m        \u001b[0mcreated_at_series\u001b[0m \u001b[0;34m=\u001b[0m \u001b[0mpd\u001b[0m\u001b[0;34m.\u001b[0m\u001b[0mSeries\u001b[0m\u001b[0;34m(\u001b[0m\u001b[0mseries_in\u001b[0m\u001b[0;34m.\u001b[0m\u001b[0mindex\u001b[0m\u001b[0;34m,\u001b[0m \u001b[0mindex\u001b[0m\u001b[0;34m=\u001b[0m\u001b[0mseries_in\u001b[0m\u001b[0;34m.\u001b[0m\u001b[0mindex\u001b[0m\u001b[0;34m)\u001b[0m\u001b[0;34m\u001b[0m\u001b[0m\n",
        "\u001b[0m\u001b[0;32m      4 \u001b[0;31m        \u001b[0mdiff\u001b[0m \u001b[0;34m=\u001b[0m \u001b[0mseries_in\u001b[0m \u001b[0;34m-\u001b[0m \u001b[0mcreated_at_series\u001b[0m\u001b[0;34m\u001b[0m\u001b[0m\n",
        "\u001b[0m\n"
       ]
      },
      {
       "name": "stdout",
       "output_type": "stream",
       "stream": "stdout",
       "text": [
        "ipdb> exit\n"
       ]
      }
     ],
     "prompt_number": 147
    },
    {
     "cell_type": "code",
     "collapsed": false,
     "input": [
      "type(p1.closed_at)"
     ],
     "language": "python",
     "metadata": {},
     "outputs": [
      {
       "metadata": {},
       "output_type": "pyout",
       "prompt_number": 143,
       "text": [
        "pandas.core.series.TimeSeries"
       ]
      }
     ],
     "prompt_number": 143
    },
    {
     "cell_type": "code",
     "collapsed": false,
     "input": [
      "p1.closed_at.index"
     ],
     "language": "python",
     "metadata": {},
     "outputs": [
      {
       "metadata": {},
       "output_type": "pyout",
       "prompt_number": 144,
       "text": [
        "<class 'pandas.tseries.index.DatetimeIndex'>\n",
        "[2010-09-29 00:45:31, ..., 2013-04-28 15:27:23]\n",
        "Length: 2934, Freq: None, Timezone: None"
       ]
      }
     ],
     "prompt_number": 144
    },
    {
     "cell_type": "code",
     "collapsed": false,
     "input": [
      "%pdb"
     ],
     "language": "python",
     "metadata": {},
     "outputs": [
      {
       "output_type": "stream",
       "stream": "stdout",
       "text": [
        "Automatic pdb calling has been turned ON\n"
       ]
      }
     ],
     "prompt_number": 145
    },
    {
     "cell_type": "code",
     "collapsed": false,
     "input": [
      "user.ix[0][1].index"
     ],
     "language": "python",
     "metadata": {},
     "outputs": [
      {
       "ename": "AttributeError",
       "evalue": "'numpy.int64' object has no attribute 'index'",
       "output_type": "pyerr",
       "traceback": [
        "\u001b[0;31m---------------------------------------------------------------------------\u001b[0m\n\u001b[0;31mAttributeError\u001b[0m                            Traceback (most recent call last)",
        "\u001b[0;32m<ipython-input-149-53ba29158ff5>\u001b[0m in \u001b[0;36m<module>\u001b[0;34m()\u001b[0m\n\u001b[0;32m----> 1\u001b[0;31m \u001b[0muser\u001b[0m\u001b[0;34m.\u001b[0m\u001b[0mix\u001b[0m\u001b[0;34m[\u001b[0m\u001b[0;36m0\u001b[0m\u001b[0;34m]\u001b[0m\u001b[0;34m[\u001b[0m\u001b[0;36m1\u001b[0m\u001b[0;34m]\u001b[0m\u001b[0;34m.\u001b[0m\u001b[0mindex\u001b[0m\u001b[0;34m\u001b[0m\u001b[0m\n\u001b[0m",
        "\u001b[0;31mAttributeError\u001b[0m: 'numpy.int64' object has no attribute 'index'"
       ]
      },
      {
       "output_type": "stream",
       "stream": "stdout",
       "text": [
        "> \u001b[0;32m<ipython-input-149-53ba29158ff5>\u001b[0m(1)\u001b[0;36m<module>\u001b[0;34m()\u001b[0m\n",
        "\u001b[0;32m----> 1 \u001b[0;31m\u001b[0muser\u001b[0m\u001b[0;34m.\u001b[0m\u001b[0mix\u001b[0m\u001b[0;34m[\u001b[0m\u001b[0;36m0\u001b[0m\u001b[0;34m]\u001b[0m\u001b[0;34m[\u001b[0m\u001b[0;36m1\u001b[0m\u001b[0;34m]\u001b[0m\u001b[0;34m.\u001b[0m\u001b[0mindex\u001b[0m\u001b[0;34m\u001b[0m\u001b[0m\n",
        "\u001b[0m\n"
       ]
      },
      {
       "name": "stdout",
       "output_type": "stream",
       "stream": "stdout",
       "text": [
        "ipdb> exit\n"
       ]
      }
     ],
     "prompt_number": 149
    },
    {
     "cell_type": "code",
     "collapsed": false,
     "input": [
      "p1_reset = p1.reset_index()"
     ],
     "language": "python",
     "metadata": {},
     "outputs": [],
     "prompt_number": 151
    },
    {
     "cell_type": "code",
     "collapsed": false,
     "input": [
      "p1_reset.head()"
     ],
     "language": "python",
     "metadata": {},
     "outputs": [
      {
       "html": [
        "<div style=\"max-height:1000px;max-width:1500px;overflow:auto;\">\n",
        "<table border=\"1\" class=\"dataframe\">\n",
        "  <thead>\n",
        "    <tr style=\"text-align: right;\">\n",
        "      <th></th>\n",
        "      <th>created_at</th>\n",
        "      <th>title</th>\n",
        "      <th>labels</th>\n",
        "      <th>closed_at</th>\n",
        "      <th>user</th>\n",
        "      <th>id</th>\n",
        "    </tr>\n",
        "  </thead>\n",
        "  <tbody>\n",
        "    <tr>\n",
        "      <th>0</th>\n",
        "      <td>2010-09-29 00:45:31</td>\n",
        "      <td> Enable element-wise comparison operations in D...</td>\n",
        "      <td> []</td>\n",
        "      <td>2011-02-19 23:13:48</td>\n",
        "      <td> wesm</td>\n",
        "      <td> 337721</td>\n",
        "    </tr>\n",
        "    <tr>\n",
        "      <th>1</th>\n",
        "      <td>2010-09-29 00:50:13</td>\n",
        "      <td>                             reindex_like function</td>\n",
        "      <td> []</td>\n",
        "      <td>2010-12-17 02:57:33</td>\n",
        "      <td> wesm</td>\n",
        "      <td> 337726</td>\n",
        "    </tr>\n",
        "    <tr>\n",
        "      <th>2</th>\n",
        "      <td>2010-09-29 00:50:52</td>\n",
        "      <td>               Binary operations on int DataMatrix</td>\n",
        "      <td> []</td>\n",
        "      <td>2011-01-01 23:50:12</td>\n",
        "      <td> wesm</td>\n",
        "      <td> 337728</td>\n",
        "    </tr>\n",
        "    <tr>\n",
        "      <th>3</th>\n",
        "      <td>2010-09-29 00:51:27</td>\n",
        "      <td> Plot keyword arguments are unused in DataFrame...</td>\n",
        "      <td> []</td>\n",
        "      <td>2010-12-11 06:14:32</td>\n",
        "      <td> wesm</td>\n",
        "      <td> 337730</td>\n",
        "    </tr>\n",
        "    <tr>\n",
        "      <th>4</th>\n",
        "      <td>2010-09-29 00:57:00</td>\n",
        "      <td>                                Python 2.7 testing</td>\n",
        "      <td> []</td>\n",
        "      <td>2010-12-17 02:46:34</td>\n",
        "      <td> wesm</td>\n",
        "      <td> 337736</td>\n",
        "    </tr>\n",
        "  </tbody>\n",
        "</table>\n",
        "</div>"
       ],
       "metadata": {},
       "output_type": "pyout",
       "prompt_number": 152,
       "text": [
        "           created_at                                              title  \\\n",
        "0 2010-09-29 00:45:31  Enable element-wise comparison operations in D...   \n",
        "1 2010-09-29 00:50:13                              reindex_like function   \n",
        "2 2010-09-29 00:50:52                Binary operations on int DataMatrix   \n",
        "3 2010-09-29 00:51:27  Plot keyword arguments are unused in DataFrame...   \n",
        "4 2010-09-29 00:57:00                                 Python 2.7 testing   \n",
        "\n",
        "  labels           closed_at  user      id  \n",
        "0     [] 2011-02-19 23:13:48  wesm  337721  \n",
        "1     [] 2010-12-17 02:57:33  wesm  337726  \n",
        "2     [] 2011-01-01 23:50:12  wesm  337728  \n",
        "3     [] 2010-12-11 06:14:32  wesm  337730  \n",
        "4     [] 2010-12-17 02:46:34  wesm  337736  "
       ]
      }
     ],
     "prompt_number": 152
    },
    {
     "cell_type": "code",
     "collapsed": false,
     "input": [
      "(p1_reset['created_at']-p1_reset['closed_at']).apply(datetime.timedelta.total_seconds())"
     ],
     "language": "python",
     "metadata": {},
     "outputs": [
      {
       "ename": "TypeError",
       "evalue": "descriptor 'total_seconds' of 'datetime.timedelta' object needs an argument",
       "output_type": "pyerr",
       "traceback": [
        "\u001b[0;31m---------------------------------------------------------------------------\u001b[0m\n\u001b[0;31mTypeError\u001b[0m                                 Traceback (most recent call last)",
        "\u001b[0;32m<ipython-input-161-b15a1a9d3ddc>\u001b[0m in \u001b[0;36m<module>\u001b[0;34m()\u001b[0m\n\u001b[0;32m----> 1\u001b[0;31m \u001b[0;34m(\u001b[0m\u001b[0mp1_reset\u001b[0m\u001b[0;34m[\u001b[0m\u001b[0;34m'created_at'\u001b[0m\u001b[0;34m]\u001b[0m\u001b[0;34m-\u001b[0m\u001b[0mp1_reset\u001b[0m\u001b[0;34m[\u001b[0m\u001b[0;34m'closed_at'\u001b[0m\u001b[0;34m]\u001b[0m\u001b[0;34m)\u001b[0m\u001b[0;34m.\u001b[0m\u001b[0mapply\u001b[0m\u001b[0;34m(\u001b[0m\u001b[0mdatetime\u001b[0m\u001b[0;34m.\u001b[0m\u001b[0mtimedelta\u001b[0m\u001b[0;34m.\u001b[0m\u001b[0mtotal_seconds\u001b[0m\u001b[0;34m(\u001b[0m\u001b[0;34m)\u001b[0m\u001b[0;34m)\u001b[0m\u001b[0;34m\u001b[0m\u001b[0m\n\u001b[0m",
        "\u001b[0;31mTypeError\u001b[0m: descriptor 'total_seconds' of 'datetime.timedelta' object needs an argument"
       ]
      },
      {
       "output_type": "stream",
       "stream": "stdout",
       "text": [
        "> \u001b[0;32m<ipython-input-161-b15a1a9d3ddc>\u001b[0m(1)\u001b[0;36m<module>\u001b[0;34m()\u001b[0m\n",
        "\u001b[0;32m----> 1 \u001b[0;31m\u001b[0;34m(\u001b[0m\u001b[0mp1_reset\u001b[0m\u001b[0;34m[\u001b[0m\u001b[0;34m'created_at'\u001b[0m\u001b[0;34m]\u001b[0m\u001b[0;34m-\u001b[0m\u001b[0mp1_reset\u001b[0m\u001b[0;34m[\u001b[0m\u001b[0;34m'closed_at'\u001b[0m\u001b[0;34m]\u001b[0m\u001b[0;34m)\u001b[0m\u001b[0;34m.\u001b[0m\u001b[0mapply\u001b[0m\u001b[0;34m(\u001b[0m\u001b[0mdatetime\u001b[0m\u001b[0;34m.\u001b[0m\u001b[0mtimedelta\u001b[0m\u001b[0;34m.\u001b[0m\u001b[0mtotal_seconds\u001b[0m\u001b[0;34m(\u001b[0m\u001b[0;34m)\u001b[0m\u001b[0;34m)\u001b[0m\u001b[0;34m\u001b[0m\u001b[0m\n",
        "\u001b[0m\n"
       ]
      },
      {
       "name": "stdout",
       "output_type": "stream",
       "stream": "stdout",
       "text": [
        "ipdb> exit\n"
       ]
      }
     ],
     "prompt_number": 161
    },
    {
     "cell_type": "code",
     "collapsed": false,
     "input": [
      "a = -(p1_reset['created_at']-p1_reset['closed_at'])"
     ],
     "language": "python",
     "metadata": {},
     "outputs": [],
     "prompt_number": 169
    },
    {
     "cell_type": "code",
     "collapsed": false,
     "input": [
      "a.map(datetime.timedelta.total_seconds)"
     ],
     "language": "python",
     "metadata": {},
     "outputs": [
      {
       "ename": "TypeError",
       "evalue": "descriptor 'total_seconds' requires a 'datetime.timedelta' object but received a 'numpy.timedelta64'",
       "output_type": "pyerr",
       "traceback": [
        "\u001b[0;31m---------------------------------------------------------------------------\u001b[0m\n\u001b[0;31mTypeError\u001b[0m                                 Traceback (most recent call last)",
        "\u001b[0;32m<ipython-input-164-65772c304ca2>\u001b[0m in \u001b[0;36m<module>\u001b[0;34m()\u001b[0m\n\u001b[0;32m----> 1\u001b[0;31m \u001b[0ma\u001b[0m\u001b[0;34m.\u001b[0m\u001b[0mmap\u001b[0m\u001b[0;34m(\u001b[0m\u001b[0mdatetime\u001b[0m\u001b[0;34m.\u001b[0m\u001b[0mtimedelta\u001b[0m\u001b[0;34m.\u001b[0m\u001b[0mtotal_seconds\u001b[0m\u001b[0;34m)\u001b[0m\u001b[0;34m\u001b[0m\u001b[0m\n\u001b[0m",
        "\u001b[0;32m/Users/Yigong/anaconda/python.app/Contents/lib/python2.7/site-packages/pandas/core/series.pyc\u001b[0m in \u001b[0;36mmap\u001b[0;34m(self, arg, na_action)\u001b[0m\n\u001b[1;32m   2495\u001b[0m             \u001b[0;32mreturn\u001b[0m \u001b[0mSeries\u001b[0m\u001b[0;34m(\u001b[0m\u001b[0mnew_values\u001b[0m\u001b[0;34m,\u001b[0m \u001b[0mindex\u001b[0m\u001b[0;34m=\u001b[0m\u001b[0mself\u001b[0m\u001b[0;34m.\u001b[0m\u001b[0mindex\u001b[0m\u001b[0;34m,\u001b[0m \u001b[0mname\u001b[0m\u001b[0;34m=\u001b[0m\u001b[0mself\u001b[0m\u001b[0;34m.\u001b[0m\u001b[0mname\u001b[0m\u001b[0;34m)\u001b[0m\u001b[0;34m\u001b[0m\u001b[0m\n\u001b[1;32m   2496\u001b[0m         \u001b[0;32melse\u001b[0m\u001b[0;34m:\u001b[0m\u001b[0;34m\u001b[0m\u001b[0m\n\u001b[0;32m-> 2497\u001b[0;31m             \u001b[0mmapped\u001b[0m \u001b[0;34m=\u001b[0m \u001b[0mmap_f\u001b[0m\u001b[0;34m(\u001b[0m\u001b[0mvalues\u001b[0m\u001b[0;34m,\u001b[0m \u001b[0marg\u001b[0m\u001b[0;34m)\u001b[0m\u001b[0;34m\u001b[0m\u001b[0m\n\u001b[0m\u001b[1;32m   2498\u001b[0m             \u001b[0;32mreturn\u001b[0m \u001b[0mSeries\u001b[0m\u001b[0;34m(\u001b[0m\u001b[0mmapped\u001b[0m\u001b[0;34m,\u001b[0m \u001b[0mindex\u001b[0m\u001b[0;34m=\u001b[0m\u001b[0mself\u001b[0m\u001b[0;34m.\u001b[0m\u001b[0mindex\u001b[0m\u001b[0;34m,\u001b[0m \u001b[0mname\u001b[0m\u001b[0;34m=\u001b[0m\u001b[0mself\u001b[0m\u001b[0;34m.\u001b[0m\u001b[0mname\u001b[0m\u001b[0;34m)\u001b[0m\u001b[0;34m\u001b[0m\u001b[0m\n\u001b[1;32m   2499\u001b[0m \u001b[0;34m\u001b[0m\u001b[0m\n",
        "\u001b[0;32m/Users/Yigong/anaconda/python.app/Contents/lib/python2.7/site-packages/pandas/lib.so\u001b[0m in \u001b[0;36mpandas.lib.map_infer (pandas/lib.c:42840)\u001b[0;34m()\u001b[0m\n",
        "\u001b[0;31mTypeError\u001b[0m: descriptor 'total_seconds' requires a 'datetime.timedelta' object but received a 'numpy.timedelta64'"
       ]
      },
      {
       "output_type": "stream",
       "stream": "stdout",
       "text": [
        "> \u001b[0;32m/Users/Yigong/Documents/Python/AY250/hw7/inference.pyx\u001b[0m(864)\u001b[0;36mpandas.lib.map_infer (pandas/lib.c:42840)\u001b[0;34m()\u001b[0m\n",
        "\n"
       ]
      },
      {
       "name": "stdout",
       "output_type": "stream",
       "stream": "stdout",
       "text": [
        "ipdb> exit\n"
       ]
      }
     ],
     "prompt_number": 164
    },
    {
     "cell_type": "code",
     "collapsed": false,
     "input": [
      "a.ix[0][1]"
     ],
     "language": "python",
     "metadata": {},
     "outputs": [
      {
       "ename": "IndexError",
       "evalue": "invalid index to scalar variable.",
       "output_type": "pyerr",
       "traceback": [
        "\u001b[0;31m---------------------------------------------------------------------------\u001b[0m\n\u001b[0;31mIndexError\u001b[0m                                Traceback (most recent call last)",
        "\u001b[0;32m<ipython-input-167-f5444cee41aa>\u001b[0m in \u001b[0;36m<module>\u001b[0;34m()\u001b[0m\n\u001b[0;32m----> 1\u001b[0;31m \u001b[0ma\u001b[0m\u001b[0;34m.\u001b[0m\u001b[0mix\u001b[0m\u001b[0;34m[\u001b[0m\u001b[0;36m0\u001b[0m\u001b[0;34m]\u001b[0m\u001b[0;34m[\u001b[0m\u001b[0;36m1\u001b[0m\u001b[0;34m]\u001b[0m\u001b[0;34m\u001b[0m\u001b[0m\n\u001b[0m",
        "\u001b[0;31mIndexError\u001b[0m: invalid index to scalar variable."
       ]
      },
      {
       "output_type": "stream",
       "stream": "stdout",
       "text": [
        "> \u001b[0;32m<ipython-input-167-f5444cee41aa>\u001b[0m(1)\u001b[0;36m<module>\u001b[0;34m()\u001b[0m\n",
        "\u001b[0;32m----> 1 \u001b[0;31m\u001b[0ma\u001b[0m\u001b[0;34m.\u001b[0m\u001b[0mix\u001b[0m\u001b[0;34m[\u001b[0m\u001b[0;36m0\u001b[0m\u001b[0;34m]\u001b[0m\u001b[0;34m[\u001b[0m\u001b[0;36m1\u001b[0m\u001b[0;34m]\u001b[0m\u001b[0;34m\u001b[0m\u001b[0m\n",
        "\u001b[0m\n"
       ]
      },
      {
       "name": "stdout",
       "output_type": "stream",
       "stream": "stdout",
       "text": [
        "ipdb> exit\n"
       ]
      }
     ],
     "prompt_number": 167
    },
    {
     "cell_type": "code",
     "collapsed": false,
     "input": [
      "a.ix[0]"
     ],
     "language": "python",
     "metadata": {},
     "outputs": [
      {
       "metadata": {},
       "output_type": "pyout",
       "prompt_number": 171,
       "text": [
        "numpy.timedelta64(12436097000000000,'ns')"
       ]
      }
     ],
     "prompt_number": 171
    },
    {
     "cell_type": "code",
     "collapsed": false,
     "input": [
      "p1_reset"
     ],
     "language": "python",
     "metadata": {},
     "outputs": [
      {
       "html": [
        "<pre>\n",
        "&lt;class 'pandas.core.frame.DataFrame'&gt;\n",
        "Int64Index: 2934 entries, 0 to 2933\n",
        "Data columns (total 6 columns):\n",
        "created_at    2934  non-null values\n",
        "title         2934  non-null values\n",
        "labels        2934  non-null values\n",
        "closed_at     2934  non-null values\n",
        "user          2934  non-null values\n",
        "id            2934  non-null values\n",
        "dtypes: datetime64[ns](2), int64(1), object(3)\n",
        "</pre>"
       ],
       "metadata": {},
       "output_type": "pyout",
       "prompt_number": 173,
       "text": [
        "<class 'pandas.core.frame.DataFrame'>\n",
        "Int64Index: 2934 entries, 0 to 2933\n",
        "Data columns (total 6 columns):\n",
        "created_at    2934  non-null values\n",
        "title         2934  non-null values\n",
        "labels        2934  non-null values\n",
        "closed_at     2934  non-null values\n",
        "user          2934  non-null values\n",
        "id            2934  non-null values\n",
        "dtypes: datetime64[ns](2), int64(1), object(3)"
       ]
      }
     ],
     "prompt_number": 173
    },
    {
     "cell_type": "code",
     "collapsed": false,
     "input": [
      "created_at = p1_reset['created_at']\n",
      "closed_at = p1_reset['closed_at']"
     ],
     "language": "python",
     "metadata": {},
     "outputs": [],
     "prompt_number": 174
    },
    {
     "cell_type": "code",
     "collapsed": false,
     "input": [
      "time_diff = closed_at - created_at"
     ],
     "language": "python",
     "metadata": {},
     "outputs": [],
     "prompt_number": 175
    },
    {
     "cell_type": "code",
     "collapsed": false,
     "input": [
      "time_diff.head()"
     ],
     "language": "python",
     "metadata": {},
     "outputs": [
      {
       "metadata": {},
       "output_type": "pyout",
       "prompt_number": 176,
       "text": [
        "0   143 days, 22:28:17\n",
        "1    79 days, 02:07:20\n",
        "2    94 days, 22:59:20\n",
        "3    73 days, 05:23:05\n",
        "4    79 days, 01:49:34\n",
        "dtype: timedelta64[ns]"
       ]
      }
     ],
     "prompt_number": 176
    },
    {
     "cell_type": "code",
     "collapsed": false,
     "input": [
      "time_diff.map(datetime.timedelta.total_seconds)"
     ],
     "language": "python",
     "metadata": {},
     "outputs": [
      {
       "ename": "TypeError",
       "evalue": "descriptor 'total_seconds' requires a 'datetime.timedelta' object but received a 'numpy.timedelta64'",
       "output_type": "pyerr",
       "traceback": [
        "\u001b[0;31m---------------------------------------------------------------------------\u001b[0m\n\u001b[0;31mTypeError\u001b[0m                                 Traceback (most recent call last)",
        "\u001b[0;32m<ipython-input-177-074ab4b0a9de>\u001b[0m in \u001b[0;36m<module>\u001b[0;34m()\u001b[0m\n\u001b[0;32m----> 1\u001b[0;31m \u001b[0mtime_diff\u001b[0m\u001b[0;34m.\u001b[0m\u001b[0mmap\u001b[0m\u001b[0;34m(\u001b[0m\u001b[0mdatetime\u001b[0m\u001b[0;34m.\u001b[0m\u001b[0mtimedelta\u001b[0m\u001b[0;34m.\u001b[0m\u001b[0mtotal_seconds\u001b[0m\u001b[0;34m)\u001b[0m\u001b[0;34m\u001b[0m\u001b[0m\n\u001b[0m",
        "\u001b[0;32m/Users/Yigong/anaconda/python.app/Contents/lib/python2.7/site-packages/pandas/core/series.pyc\u001b[0m in \u001b[0;36mmap\u001b[0;34m(self, arg, na_action)\u001b[0m\n\u001b[1;32m   2495\u001b[0m             \u001b[0;32mreturn\u001b[0m \u001b[0mSeries\u001b[0m\u001b[0;34m(\u001b[0m\u001b[0mnew_values\u001b[0m\u001b[0;34m,\u001b[0m \u001b[0mindex\u001b[0m\u001b[0;34m=\u001b[0m\u001b[0mself\u001b[0m\u001b[0;34m.\u001b[0m\u001b[0mindex\u001b[0m\u001b[0;34m,\u001b[0m \u001b[0mname\u001b[0m\u001b[0;34m=\u001b[0m\u001b[0mself\u001b[0m\u001b[0;34m.\u001b[0m\u001b[0mname\u001b[0m\u001b[0;34m)\u001b[0m\u001b[0;34m\u001b[0m\u001b[0m\n\u001b[1;32m   2496\u001b[0m         \u001b[0;32melse\u001b[0m\u001b[0;34m:\u001b[0m\u001b[0;34m\u001b[0m\u001b[0m\n\u001b[0;32m-> 2497\u001b[0;31m             \u001b[0mmapped\u001b[0m \u001b[0;34m=\u001b[0m \u001b[0mmap_f\u001b[0m\u001b[0;34m(\u001b[0m\u001b[0mvalues\u001b[0m\u001b[0;34m,\u001b[0m \u001b[0marg\u001b[0m\u001b[0;34m)\u001b[0m\u001b[0;34m\u001b[0m\u001b[0m\n\u001b[0m\u001b[1;32m   2498\u001b[0m             \u001b[0;32mreturn\u001b[0m \u001b[0mSeries\u001b[0m\u001b[0;34m(\u001b[0m\u001b[0mmapped\u001b[0m\u001b[0;34m,\u001b[0m \u001b[0mindex\u001b[0m\u001b[0;34m=\u001b[0m\u001b[0mself\u001b[0m\u001b[0;34m.\u001b[0m\u001b[0mindex\u001b[0m\u001b[0;34m,\u001b[0m \u001b[0mname\u001b[0m\u001b[0;34m=\u001b[0m\u001b[0mself\u001b[0m\u001b[0;34m.\u001b[0m\u001b[0mname\u001b[0m\u001b[0;34m)\u001b[0m\u001b[0;34m\u001b[0m\u001b[0m\n\u001b[1;32m   2499\u001b[0m \u001b[0;34m\u001b[0m\u001b[0m\n",
        "\u001b[0;32m/Users/Yigong/anaconda/python.app/Contents/lib/python2.7/site-packages/pandas/lib.so\u001b[0m in \u001b[0;36mpandas.lib.map_infer (pandas/lib.c:42840)\u001b[0;34m()\u001b[0m\n",
        "\u001b[0;31mTypeError\u001b[0m: descriptor 'total_seconds' requires a 'datetime.timedelta' object but received a 'numpy.timedelta64'"
       ]
      },
      {
       "output_type": "stream",
       "stream": "stdout",
       "text": [
        "> \u001b[0;32m/Users/Yigong/Documents/Python/AY250/hw7/inference.pyx\u001b[0m(864)\u001b[0;36mpandas.lib.map_infer (pandas/lib.c:42840)\u001b[0;34m()\u001b[0m\n",
        "\n"
       ]
      },
      {
       "name": "stdout",
       "output_type": "stream",
       "stream": "stdout",
       "text": [
        "ipdb> exit\n"
       ]
      }
     ],
     "prompt_number": 177
    },
    {
     "cell_type": "code",
     "collapsed": false,
     "input": [
      "x = np.timedelta64(2069211000000000, 'ns')\n",
      ">>> days = x.astype('timedelta64[D]')"
     ],
     "language": "python",
     "metadata": {},
     "outputs": [],
     "prompt_number": 178
    },
    {
     "cell_type": "code",
     "collapsed": false,
     "input": [
      "days"
     ],
     "language": "python",
     "metadata": {},
     "outputs": [
      {
       "metadata": {},
       "output_type": "pyout",
       "prompt_number": 179,
       "text": [
        "numpy.timedelta64(23,'D')"
       ]
      }
     ],
     "prompt_number": 179
    },
    {
     "cell_type": "code",
     "collapsed": false,
     "input": [
      "a.map(lambda td : td.days)"
     ],
     "language": "python",
     "metadata": {},
     "outputs": [
      {
       "ename": "AttributeError",
       "evalue": "'numpy.timedelta64' object has no attribute 'days'",
       "output_type": "pyerr",
       "traceback": [
        "\u001b[0;31m---------------------------------------------------------------------------\u001b[0m\n\u001b[0;31mAttributeError\u001b[0m                            Traceback (most recent call last)",
        "\u001b[0;32m<ipython-input-181-dfe5f4c2ec11>\u001b[0m in \u001b[0;36m<module>\u001b[0;34m()\u001b[0m\n\u001b[0;32m----> 1\u001b[0;31m \u001b[0ma\u001b[0m\u001b[0;34m.\u001b[0m\u001b[0mmap\u001b[0m\u001b[0;34m(\u001b[0m\u001b[0;32mlambda\u001b[0m \u001b[0mtd\u001b[0m \u001b[0;34m:\u001b[0m \u001b[0mtd\u001b[0m\u001b[0;34m.\u001b[0m\u001b[0mdays\u001b[0m\u001b[0;34m)\u001b[0m\u001b[0;34m\u001b[0m\u001b[0m\n\u001b[0m",
        "\u001b[0;32m/Users/Yigong/anaconda/python.app/Contents/lib/python2.7/site-packages/pandas/core/series.pyc\u001b[0m in \u001b[0;36mmap\u001b[0;34m(self, arg, na_action)\u001b[0m\n\u001b[1;32m   2495\u001b[0m             \u001b[0;32mreturn\u001b[0m \u001b[0mSeries\u001b[0m\u001b[0;34m(\u001b[0m\u001b[0mnew_values\u001b[0m\u001b[0;34m,\u001b[0m \u001b[0mindex\u001b[0m\u001b[0;34m=\u001b[0m\u001b[0mself\u001b[0m\u001b[0;34m.\u001b[0m\u001b[0mindex\u001b[0m\u001b[0;34m,\u001b[0m \u001b[0mname\u001b[0m\u001b[0;34m=\u001b[0m\u001b[0mself\u001b[0m\u001b[0;34m.\u001b[0m\u001b[0mname\u001b[0m\u001b[0;34m)\u001b[0m\u001b[0;34m\u001b[0m\u001b[0m\n\u001b[1;32m   2496\u001b[0m         \u001b[0;32melse\u001b[0m\u001b[0;34m:\u001b[0m\u001b[0;34m\u001b[0m\u001b[0m\n\u001b[0;32m-> 2497\u001b[0;31m             \u001b[0mmapped\u001b[0m \u001b[0;34m=\u001b[0m \u001b[0mmap_f\u001b[0m\u001b[0;34m(\u001b[0m\u001b[0mvalues\u001b[0m\u001b[0;34m,\u001b[0m \u001b[0marg\u001b[0m\u001b[0;34m)\u001b[0m\u001b[0;34m\u001b[0m\u001b[0m\n\u001b[0m\u001b[1;32m   2498\u001b[0m             \u001b[0;32mreturn\u001b[0m \u001b[0mSeries\u001b[0m\u001b[0;34m(\u001b[0m\u001b[0mmapped\u001b[0m\u001b[0;34m,\u001b[0m \u001b[0mindex\u001b[0m\u001b[0;34m=\u001b[0m\u001b[0mself\u001b[0m\u001b[0;34m.\u001b[0m\u001b[0mindex\u001b[0m\u001b[0;34m,\u001b[0m \u001b[0mname\u001b[0m\u001b[0;34m=\u001b[0m\u001b[0mself\u001b[0m\u001b[0;34m.\u001b[0m\u001b[0mname\u001b[0m\u001b[0;34m)\u001b[0m\u001b[0;34m\u001b[0m\u001b[0m\n\u001b[1;32m   2499\u001b[0m \u001b[0;34m\u001b[0m\u001b[0m\n",
        "\u001b[0;32m/Users/Yigong/anaconda/python.app/Contents/lib/python2.7/site-packages/pandas/lib.so\u001b[0m in \u001b[0;36mpandas.lib.map_infer (pandas/lib.c:42840)\u001b[0;34m()\u001b[0m\n",
        "\u001b[0;32m<ipython-input-181-dfe5f4c2ec11>\u001b[0m in \u001b[0;36m<lambda>\u001b[0;34m(td)\u001b[0m\n\u001b[0;32m----> 1\u001b[0;31m \u001b[0ma\u001b[0m\u001b[0;34m.\u001b[0m\u001b[0mmap\u001b[0m\u001b[0;34m(\u001b[0m\u001b[0;32mlambda\u001b[0m \u001b[0mtd\u001b[0m \u001b[0;34m:\u001b[0m \u001b[0mtd\u001b[0m\u001b[0;34m.\u001b[0m\u001b[0mdays\u001b[0m\u001b[0;34m)\u001b[0m\u001b[0;34m\u001b[0m\u001b[0m\n\u001b[0m",
        "\u001b[0;31mAttributeError\u001b[0m: 'numpy.timedelta64' object has no attribute 'days'"
       ]
      },
      {
       "output_type": "stream",
       "stream": "stdout",
       "text": [
        "> \u001b[0;32m<ipython-input-181-dfe5f4c2ec11>\u001b[0m(1)\u001b[0;36m<lambda>\u001b[0;34m()\u001b[0m\n",
        "\u001b[0;32m----> 1 \u001b[0;31m\u001b[0ma\u001b[0m\u001b[0;34m.\u001b[0m\u001b[0mmap\u001b[0m\u001b[0;34m(\u001b[0m\u001b[0;32mlambda\u001b[0m \u001b[0mtd\u001b[0m \u001b[0;34m:\u001b[0m \u001b[0mtd\u001b[0m\u001b[0;34m.\u001b[0m\u001b[0mdays\u001b[0m\u001b[0;34m)\u001b[0m\u001b[0;34m\u001b[0m\u001b[0m\n",
        "\u001b[0m\n"
       ]
      },
      {
       "name": "stdout",
       "output_type": "stream",
       "stream": "stdout",
       "text": [
        "ipdb> eit\n"
       ]
      },
      {
       "output_type": "stream",
       "stream": "stdout",
       "text": [
        "*** NameError: name 'eit' is not defined\n"
       ]
      },
      {
       "name": "stdout",
       "output_type": "stream",
       "stream": "stdout",
       "text": [
        "ipdb> exit\n"
       ]
      }
     ],
     "prompt_number": 181
    },
    {
     "cell_type": "code",
     "collapsed": false,
     "input": [
      "t = a[0]"
     ],
     "language": "python",
     "metadata": {},
     "outputs": [],
     "prompt_number": 189
    },
    {
     "cell_type": "code",
     "collapsed": false,
     "input": [
      "t"
     ],
     "language": "python",
     "metadata": {},
     "outputs": [
      {
       "metadata": {},
       "output_type": "pyout",
       "prompt_number": 190,
       "text": [
        "numpy.timedelta64(12436097000000000,'ns')"
       ]
      }
     ],
     "prompt_number": 190
    },
    {
     "cell_type": "code",
     "collapsed": false,
     "input": [
      "24*60*60*1e9"
     ],
     "language": "python",
     "metadata": {},
     "outputs": [
      {
       "metadata": {},
       "output_type": "pyout",
       "prompt_number": 191,
       "text": [
        "86400000000000.0"
       ]
      }
     ],
     "prompt_number": 191
    },
    {
     "cell_type": "code",
     "collapsed": false,
     "input": [
      "created = pd.Series(p1.index, index=p1.index)\n",
      "closed = p1.closed_at"
     ],
     "language": "python",
     "metadata": {},
     "outputs": [],
     "prompt_number": 192
    },
    {
     "cell_type": "code",
     "collapsed": false,
     "input": [
      "time_diff = closed - created"
     ],
     "language": "python",
     "metadata": {},
     "outputs": [],
     "prompt_number": 195
    },
    {
     "cell_type": "code",
     "collapsed": false,
     "input": [
      "time_diff.head()"
     ],
     "language": "python",
     "metadata": {},
     "outputs": [
      {
       "metadata": {},
       "output_type": "pyout",
       "prompt_number": 196,
       "text": [
        "created_at\n",
        "2010-09-29 00:45:31   143 days, 22:28:17\n",
        "2010-09-29 00:50:13    79 days, 02:07:20\n",
        "2010-09-29 00:50:52    94 days, 22:59:20\n",
        "2010-09-29 00:51:27    73 days, 05:23:05\n",
        "2010-09-29 00:57:00    79 days, 01:49:34\n",
        "dtype: timedelta64[ns]"
       ]
      }
     ],
     "prompt_number": 196
    },
    {
     "cell_type": "code",
     "collapsed": false,
     "input": [
      "created = pd.Series(p1.index, index=p1.index)\n",
      "closed = p1.closed_at\n",
      "time_diff = closed - created\n",
      "SEC_DAY = 24*60*60*1e9\n",
      "open_day_per_issue = time_diff.map(lambda td: td/SEC_DAY)\n",
      "open_day_per_issue.name = 'open_day'\n",
      "print open_day_per_issue.head()"
     ],
     "language": "python",
     "metadata": {},
     "outputs": [
      {
       "output_type": "stream",
       "stream": "stdout",
       "text": [
        "created_at\n",
        "2010-09-29 00:45:31    143\n",
        "2010-09-29 00:50:13     79\n",
        "2010-09-29 00:50:52     94\n",
        "2010-09-29 00:51:27     73\n",
        "2010-09-29 00:57:00     79\n",
        "Name: open_day, dtype: int64\n"
       ]
      }
     ],
     "prompt_number": 204
    },
    {
     "cell_type": "code",
     "collapsed": false,
     "input": [
      "open_day_per_issue"
     ],
     "language": "python",
     "metadata": {},
     "outputs": []
    },
    {
     "cell_type": "code",
     "collapsed": false,
     "input": [
      "id_labels_df.head()"
     ],
     "language": "python",
     "metadata": {},
     "outputs": [
      {
       "html": [
        "<div style=\"max-height:1000px;max-width:1500px;overflow:auto;\">\n",
        "<table border=\"1\" class=\"dataframe\">\n",
        "  <thead>\n",
        "    <tr style=\"text-align: right;\">\n",
        "      <th></th>\n",
        "      <th>id</th>\n",
        "      <th>label</th>\n",
        "    </tr>\n",
        "    <tr>\n",
        "      <th>created_at</th>\n",
        "      <th></th>\n",
        "      <th></th>\n",
        "    </tr>\n",
        "  </thead>\n",
        "  <tbody>\n",
        "    <tr>\n",
        "      <th>2010-09-29 00:45:31</th>\n",
        "      <td> 337721</td>\n",
        "      <td> NaN</td>\n",
        "    </tr>\n",
        "    <tr>\n",
        "      <th>2010-09-29 00:50:13</th>\n",
        "      <td> 337726</td>\n",
        "      <td> NaN</td>\n",
        "    </tr>\n",
        "    <tr>\n",
        "      <th>2010-09-29 00:50:52</th>\n",
        "      <td> 337728</td>\n",
        "      <td> NaN</td>\n",
        "    </tr>\n",
        "    <tr>\n",
        "      <th>2010-09-29 00:51:27</th>\n",
        "      <td> 337730</td>\n",
        "      <td> NaN</td>\n",
        "    </tr>\n",
        "    <tr>\n",
        "      <th>2010-09-29 00:57:00</th>\n",
        "      <td> 337736</td>\n",
        "      <td> NaN</td>\n",
        "    </tr>\n",
        "  </tbody>\n",
        "</table>\n",
        "</div>"
       ],
       "metadata": {},
       "output_type": "pyout",
       "prompt_number": 199,
       "text": [
        "                         id label\n",
        "created_at                       \n",
        "2010-09-29 00:45:31  337721   NaN\n",
        "2010-09-29 00:50:13  337726   NaN\n",
        "2010-09-29 00:50:52  337728   NaN\n",
        "2010-09-29 00:51:27  337730   NaN\n",
        "2010-09-29 00:57:00  337736   NaN"
       ]
      }
     ],
     "prompt_number": 199
    },
    {
     "cell_type": "code",
     "collapsed": false,
     "input": [
      "label_open_df = pd.merge(id_labels_df.reset_index(), open_day_per_issue.reset_index(), on = 'created_at')"
     ],
     "language": "python",
     "metadata": {},
     "outputs": [],
     "prompt_number": 219
    },
    {
     "cell_type": "code",
     "collapsed": false,
     "input": [
      "label_open_df.ix[label_open_df['label']=='Bug']['open_day']"
     ],
     "language": "python",
     "metadata": {},
     "outputs": [
      {
       "metadata": {},
       "output_type": "pyout",
       "prompt_number": 236,
       "text": [
        "7      266\n",
        "17     347\n",
        "43      33\n",
        "46      11\n",
        "58       2\n",
        "65      12\n",
        "75       1\n",
        "80       3\n",
        "98       0\n",
        "100      9\n",
        "107      3\n",
        "108     14\n",
        "113     11\n",
        "121      3\n",
        "128      1\n",
        "...\n",
        "3716    0\n",
        "3719    0\n",
        "3737    9\n",
        "3765    4\n",
        "3771    3\n",
        "3778    2\n",
        "3785    0\n",
        "3791    0\n",
        "3795    0\n",
        "3798    0\n",
        "3803    0\n",
        "3806    0\n",
        "3807    0\n",
        "3811    0\n",
        "3816    0\n",
        "Name: open_day, Length: 956, dtype: int64"
       ]
      }
     ],
     "prompt_number": 236
    },
    {
     "cell_type": "code",
     "collapsed": false,
     "input": [
      "a = label_open_df['label'].drop_duplicates()"
     ],
     "language": "python",
     "metadata": {},
     "outputs": [],
     "prompt_number": 231
    },
    {
     "cell_type": "code",
     "collapsed": false,
     "input": [
      "a.values"
     ],
     "language": "python",
     "metadata": {},
     "outputs": [
      {
       "metadata": {},
       "output_type": "pyout",
       "prompt_number": 235,
       "text": [
        "array([nan, u'Bug', u'Enhancement', u'Testing', u'timeseries', u'Refactor',\n",
        "       u'Build problem', u'Docs', u'groupby', u'Ideas', u'unicode',\n",
        "       u'Data IO', u'prio-high', u'prio-medium', u'prio-low',\n",
        "       u'Visualization', u'Community', u'missing-data', u'Stats',\n",
        "       u'Indexing', u'Output-Formatting', u\"Can't Repro\", u'Performance',\n",
        "       u'Reshaping', u'Multithreading', u'Dtypes', u'Good as first PR',\n",
        "       u'API', u'Note To Selves', u'Regression', u'Usage'], dtype=object)"
       ]
      }
     ],
     "prompt_number": 235
    },
    {
     "cell_type": "code",
     "collapsed": false,
     "input": [
      "open_day_per_issue.reset_index()"
     ],
     "language": "python",
     "metadata": {},
     "outputs": [
      {
       "html": [
        "<pre>\n",
        "&lt;class 'pandas.core.frame.DataFrame'&gt;\n",
        "Int64Index: 2934 entries, 0 to 2933\n",
        "Data columns (total 2 columns):\n",
        "created_at    2934  non-null values\n",
        "open_day      2934  non-null values\n",
        "dtypes: datetime64[ns](1), int64(1)\n",
        "</pre>"
       ],
       "metadata": {},
       "output_type": "pyout",
       "prompt_number": 212,
       "text": [
        "<class 'pandas.core.frame.DataFrame'>\n",
        "Int64Index: 2934 entries, 0 to 2933\n",
        "Data columns (total 2 columns):\n",
        "created_at    2934  non-null values\n",
        "open_day      2934  non-null values\n",
        "dtypes: datetime64[ns](1), int64(1)"
       ]
      }
     ],
     "prompt_number": 212
    },
    {
     "cell_type": "code",
     "collapsed": false,
     "input": [
      "label_open_df = pd.merge(id_labels_df.reset_index(), open_day_per_issue.reset_index(),\\\n",
      "\t\t on='created_at')\n",
      "label_open_df.set_index('created_at', inplace=True)\n",
      "bug_df = label_open_df.ix[label_open_df['label']=='Bug']\n",
      "LABELS = label_open_df['label'].drop_duplicates().values[1:]\n",
      "time_per_label = pd.DataFrame([])\n",
      "for label_str in LABELS:\n",
      "    temp = label_open_df.ix[label_open_df['label']==label_str]['open_day']\n",
      "    label_month = temp.resample('M', how='mean')\n",
      "    label_month.name = label_str\n",
      "    time_per_label = time_per_label.join(label_month, how='outer')\n",
      "print time_per_label.head()"
     ],
     "language": "python",
     "metadata": {},
     "outputs": [
      {
       "output_type": "stream",
       "stream": "stdout",
       "text": [
        "<class 'pandas.core.frame.DataFrame'>\n",
        "DatetimeIndex: 5 entries, 2010-09-30 00:00:00 to 2011-01-31 00:00:00\n",
        "Freq: M\n",
        "Data columns (total 30 columns):\n",
        "Bug                  2  non-null values\n",
        "Enhancement          1  non-null values\n",
        "Testing              0  non-null values\n",
        "timeseries           0  non-null values\n",
        "Refactor             0  non-null values\n",
        "Build problem        0  non-null values\n",
        "Docs                 0  non-null values\n",
        "groupby              0  non-null values\n",
        "Ideas                0  non-null values\n",
        "unicode              0  non-null values\n",
        "Data IO              0  non-null values\n",
        "prio-high            0  non-null values\n",
        "prio-medium          0  non-null values\n",
        "prio-low             0  non-null values\n",
        "Visualization        0  non-null values\n",
        "Community            0  non-null values\n",
        "missing-data         0  non-null values\n",
        "Stats                0  non-null values\n",
        "Indexing             0  non-null values\n",
        "Output-Formatting    0  non-null values\n",
        "Can't Repro          0  non-null values\n",
        "Performance          0  non-null values\n",
        "Reshaping            0  non-null values\n",
        "Multithreading       0  non-null values\n",
        "Dtypes               0  non-null values\n",
        "Good as first PR     0  non-null values\n",
        "API                  0  non-null values\n",
        "Note To Selves       0  non-null values\n",
        "Regression           0  non-null values\n",
        "Usage                0  non-null values\n",
        "dtypes: float64(30), object(0)\n"
       ]
      }
     ],
     "prompt_number": 269
    },
    {
     "cell_type": "code",
     "collapsed": false,
     "input": [
      "time_per_label.ix[:5,:5]"
     ],
     "language": "python",
     "metadata": {},
     "outputs": [
      {
       "html": [
        "<div style=\"max-height:1000px;max-width:1500px;overflow:auto;\">\n",
        "<table border=\"1\" class=\"dataframe\">\n",
        "  <thead>\n",
        "    <tr style=\"text-align: right;\">\n",
        "      <th></th>\n",
        "      <th>Bug</th>\n",
        "      <th>Enhancement</th>\n",
        "      <th>Testing</th>\n",
        "      <th>timeseries</th>\n",
        "      <th>Refactor</th>\n",
        "    </tr>\n",
        "    <tr>\n",
        "      <th>created_at</th>\n",
        "      <th></th>\n",
        "      <th></th>\n",
        "      <th></th>\n",
        "      <th></th>\n",
        "      <th></th>\n",
        "    </tr>\n",
        "  </thead>\n",
        "  <tbody>\n",
        "    <tr>\n",
        "      <th>2010-09-30</th>\n",
        "      <td> 266</td>\n",
        "      <td>   NaN</td>\n",
        "      <td>NaN</td>\n",
        "      <td>NaN</td>\n",
        "      <td>NaN</td>\n",
        "    </tr>\n",
        "    <tr>\n",
        "      <th>2010-10-31</th>\n",
        "      <td> 347</td>\n",
        "      <td> 532.5</td>\n",
        "      <td>NaN</td>\n",
        "      <td>NaN</td>\n",
        "      <td>NaN</td>\n",
        "    </tr>\n",
        "    <tr>\n",
        "      <th>2010-11-30</th>\n",
        "      <td> NaN</td>\n",
        "      <td>   NaN</td>\n",
        "      <td>NaN</td>\n",
        "      <td>NaN</td>\n",
        "      <td>NaN</td>\n",
        "    </tr>\n",
        "    <tr>\n",
        "      <th>2010-12-31</th>\n",
        "      <td> NaN</td>\n",
        "      <td>   NaN</td>\n",
        "      <td>NaN</td>\n",
        "      <td>NaN</td>\n",
        "      <td>NaN</td>\n",
        "    </tr>\n",
        "    <tr>\n",
        "      <th>2011-01-31</th>\n",
        "      <td> NaN</td>\n",
        "      <td>   NaN</td>\n",
        "      <td>NaN</td>\n",
        "      <td>NaN</td>\n",
        "      <td>NaN</td>\n",
        "    </tr>\n",
        "  </tbody>\n",
        "</table>\n",
        "</div>"
       ],
       "metadata": {},
       "output_type": "pyout",
       "prompt_number": 273,
       "text": [
        "            Bug  Enhancement  Testing  timeseries  Refactor\n",
        "created_at                                                 \n",
        "2010-09-30  266          NaN      NaN         NaN       NaN\n",
        "2010-10-31  347        532.5      NaN         NaN       NaN\n",
        "2010-11-30  NaN          NaN      NaN         NaN       NaN\n",
        "2010-12-31  NaN          NaN      NaN         NaN       NaN\n",
        "2011-01-31  NaN          NaN      NaN         NaN       NaN"
       ]
      }
     ],
     "prompt_number": 273
    },
    {
     "cell_type": "code",
     "collapsed": false,
     "input": [
      "\n",
      "time_per_label[['Bug', 'Enhancement']].plot(label=['a','b'])"
     ],
     "language": "python",
     "metadata": {},
     "outputs": [
      {
       "metadata": {},
       "output_type": "pyout",
       "prompt_number": 281,
       "text": [
        "<matplotlib.axes.AxesSubplot at 0x115f9b350>"
       ]
      }
     ],
     "prompt_number": 281
    },
    {
     "cell_type": "code",
     "collapsed": false,
     "input": [
      "f1 = plt.figure()"
     ],
     "language": "python",
     "metadata": {},
     "outputs": [],
     "prompt_number": 277
    },
    {
     "cell_type": "code",
     "collapsed": false,
     "input": [
      "ax1 = f1.add_axes"
     ],
     "language": "python",
     "metadata": {},
     "outputs": [],
     "prompt_number": 279
    },
    {
     "cell_type": "code",
     "collapsed": false,
     "input": [
      "label_month"
     ],
     "language": "python",
     "metadata": {},
     "outputs": [
      {
       "metadata": {},
       "output_type": "pyout",
       "prompt_number": 245,
       "text": [
        "created_at\n",
        "2010-09-30    266.000000\n",
        "2010-10-31    347.000000\n",
        "2010-11-30           NaN\n",
        "2010-12-31           NaN\n",
        "2011-01-31           NaN\n",
        "2011-02-28           NaN\n",
        "2011-03-31           NaN\n",
        "2011-04-30           NaN\n",
        "2011-05-31     33.000000\n",
        "2011-06-30     11.000000\n",
        "2011-07-31      4.500000\n",
        "2011-08-31      7.400000\n",
        "2011-09-30     16.058824\n",
        "2011-10-31      0.652174\n",
        "2011-11-30     12.076923\n",
        "2011-12-31     24.357143\n",
        "2012-01-31     11.574468\n",
        "2012-02-29     17.578947\n",
        "2012-03-31     15.515152\n",
        "2012-04-30     13.655738\n",
        "2012-05-31      5.333333\n",
        "2012-06-30      5.454545\n",
        "2012-07-31     10.657534\n",
        "2012-08-31     19.072727\n",
        "2012-09-30     16.358491\n",
        "2012-10-31     18.111111\n",
        "2012-11-30      5.140845\n",
        "2012-12-31      8.125000\n",
        "2013-01-31     25.235294\n",
        "2013-02-28     25.666667\n",
        "2013-03-31      4.081633\n",
        "2013-04-30      1.090909\n",
        "Freq: M, Name: Bug, dtype: float64"
       ]
      }
     ],
     "prompt_number": 245
    },
    {
     "cell_type": "code",
     "collapsed": false,
     "input": [
      "time_per_label = pd.DataFrame([], index=label_open_df.index)"
     ],
     "language": "python",
     "metadata": {},
     "outputs": [
      {
       "ename": "ValueError",
       "evalue": "Shape of passed values is (0, 0), indices imply (0, 3825)",
       "output_type": "pyerr",
       "traceback": [
        "\u001b[0;31m---------------------------------------------------------------------------\u001b[0m\n\u001b[0;31mValueError\u001b[0m                                Traceback (most recent call last)",
        "\u001b[0;32m<ipython-input-240-0aec6ab49ba4>\u001b[0m in \u001b[0;36m<module>\u001b[0;34m()\u001b[0m\n\u001b[0;32m----> 1\u001b[0;31m \u001b[0mtime_per_label\u001b[0m \u001b[0;34m=\u001b[0m \u001b[0mpd\u001b[0m\u001b[0;34m.\u001b[0m\u001b[0mDataFrame\u001b[0m\u001b[0;34m(\u001b[0m\u001b[0;34m[\u001b[0m\u001b[0;34m]\u001b[0m\u001b[0;34m,\u001b[0m \u001b[0mindex\u001b[0m\u001b[0;34m=\u001b[0m\u001b[0mlabel_open_df\u001b[0m\u001b[0;34m.\u001b[0m\u001b[0mindex\u001b[0m\u001b[0;34m)\u001b[0m\u001b[0;34m\u001b[0m\u001b[0m\n\u001b[0m",
        "\u001b[0;32m/Users/Yigong/anaconda/python.app/Contents/lib/python2.7/site-packages/pandas/core/frame.pyc\u001b[0m in \u001b[0;36m__init__\u001b[0;34m(self, data, index, columns, dtype, copy)\u001b[0m\n\u001b[1;32m    432\u001b[0m             \u001b[0;32melse\u001b[0m\u001b[0;34m:\u001b[0m\u001b[0;34m\u001b[0m\u001b[0m\n\u001b[1;32m    433\u001b[0m                 mgr = self._init_ndarray(data, index, columns, dtype=dtype,\n\u001b[0;32m--> 434\u001b[0;31m                                          copy=copy)\n\u001b[0m\u001b[1;32m    435\u001b[0m         \u001b[0;32melse\u001b[0m\u001b[0;34m:\u001b[0m\u001b[0;34m\u001b[0m\u001b[0m\n\u001b[1;32m    436\u001b[0m             \u001b[0;32mtry\u001b[0m\u001b[0;34m:\u001b[0m\u001b[0;34m\u001b[0m\u001b[0m\n",
        "\u001b[0;32m/Users/Yigong/anaconda/python.app/Contents/lib/python2.7/site-packages/pandas/core/frame.pyc\u001b[0m in \u001b[0;36m_init_ndarray\u001b[0;34m(self, values, index, columns, dtype, copy)\u001b[0m\n\u001b[1;32m    559\u001b[0m             \u001b[0mcolumns\u001b[0m \u001b[0;34m=\u001b[0m \u001b[0m_ensure_index\u001b[0m\u001b[0;34m(\u001b[0m\u001b[0mcolumns\u001b[0m\u001b[0;34m)\u001b[0m\u001b[0;34m\u001b[0m\u001b[0m\n\u001b[1;32m    560\u001b[0m \u001b[0;34m\u001b[0m\u001b[0m\n\u001b[0;32m--> 561\u001b[0;31m         \u001b[0;32mreturn\u001b[0m \u001b[0mcreate_block_manager_from_blocks\u001b[0m\u001b[0;34m(\u001b[0m\u001b[0;34m[\u001b[0m \u001b[0mvalues\u001b[0m\u001b[0;34m.\u001b[0m\u001b[0mT\u001b[0m \u001b[0;34m]\u001b[0m\u001b[0;34m,\u001b[0m \u001b[0;34m[\u001b[0m \u001b[0mcolumns\u001b[0m\u001b[0;34m,\u001b[0m \u001b[0mindex\u001b[0m \u001b[0;34m]\u001b[0m\u001b[0;34m)\u001b[0m\u001b[0;34m\u001b[0m\u001b[0m\n\u001b[0m\u001b[1;32m    562\u001b[0m \u001b[0;34m\u001b[0m\u001b[0m\n\u001b[1;32m    563\u001b[0m     \u001b[0;32mdef\u001b[0m \u001b[0m_wrap_array\u001b[0m\u001b[0;34m(\u001b[0m\u001b[0mself\u001b[0m\u001b[0;34m,\u001b[0m \u001b[0marr\u001b[0m\u001b[0;34m,\u001b[0m \u001b[0maxes\u001b[0m\u001b[0;34m,\u001b[0m \u001b[0mcopy\u001b[0m\u001b[0;34m=\u001b[0m\u001b[0mFalse\u001b[0m\u001b[0;34m)\u001b[0m\u001b[0;34m:\u001b[0m\u001b[0;34m\u001b[0m\u001b[0m\n",
        "\u001b[0;32m/Users/Yigong/anaconda/python.app/Contents/lib/python2.7/site-packages/pandas/core/internals.pyc\u001b[0m in \u001b[0;36mcreate_block_manager_from_blocks\u001b[0;34m(blocks, axes)\u001b[0m\n\u001b[1;32m   2232\u001b[0m         \u001b[0mblocks\u001b[0m \u001b[0;34m=\u001b[0m \u001b[0;34m[\u001b[0m \u001b[0mgetattr\u001b[0m\u001b[0;34m(\u001b[0m\u001b[0mb\u001b[0m\u001b[0;34m,\u001b[0m\u001b[0;34m'values'\u001b[0m\u001b[0;34m,\u001b[0m\u001b[0mb\u001b[0m\u001b[0;34m)\u001b[0m \u001b[0;32mfor\u001b[0m \u001b[0mb\u001b[0m \u001b[0;32min\u001b[0m \u001b[0mblocks\u001b[0m \u001b[0;34m]\u001b[0m\u001b[0;34m\u001b[0m\u001b[0m\n\u001b[1;32m   2233\u001b[0m         \u001b[0mtot_items\u001b[0m \u001b[0;34m=\u001b[0m \u001b[0msum\u001b[0m\u001b[0;34m(\u001b[0m\u001b[0mb\u001b[0m\u001b[0;34m.\u001b[0m\u001b[0mshape\u001b[0m\u001b[0;34m[\u001b[0m\u001b[0;36m0\u001b[0m\u001b[0;34m]\u001b[0m \u001b[0;32mfor\u001b[0m \u001b[0mb\u001b[0m \u001b[0;32min\u001b[0m \u001b[0mblocks\u001b[0m\u001b[0;34m)\u001b[0m\u001b[0;34m\u001b[0m\u001b[0m\n\u001b[0;32m-> 2234\u001b[0;31m         \u001b[0mconstruction_error\u001b[0m\u001b[0;34m(\u001b[0m\u001b[0mtot_items\u001b[0m\u001b[0;34m,\u001b[0m\u001b[0mblocks\u001b[0m\u001b[0;34m[\u001b[0m\u001b[0;36m0\u001b[0m\u001b[0;34m]\u001b[0m\u001b[0;34m.\u001b[0m\u001b[0mshape\u001b[0m\u001b[0;34m[\u001b[0m\u001b[0;36m1\u001b[0m\u001b[0;34m:\u001b[0m\u001b[0;34m]\u001b[0m\u001b[0;34m,\u001b[0m\u001b[0maxes\u001b[0m\u001b[0;34m)\u001b[0m\u001b[0;34m\u001b[0m\u001b[0m\n\u001b[0m\u001b[1;32m   2235\u001b[0m \u001b[0;34m\u001b[0m\u001b[0m\n\u001b[1;32m   2236\u001b[0m \u001b[0;32mdef\u001b[0m \u001b[0mcreate_block_manager_from_arrays\u001b[0m\u001b[0;34m(\u001b[0m\u001b[0marrays\u001b[0m\u001b[0;34m,\u001b[0m \u001b[0mnames\u001b[0m\u001b[0;34m,\u001b[0m \u001b[0maxes\u001b[0m\u001b[0;34m)\u001b[0m\u001b[0;34m:\u001b[0m\u001b[0;34m\u001b[0m\u001b[0m\n",
        "\u001b[0;32m/Users/Yigong/anaconda/python.app/Contents/lib/python2.7/site-packages/pandas/core/internals.pyc\u001b[0m in \u001b[0;36mconstruction_error\u001b[0;34m(tot_items, block_shape, axes)\u001b[0m\n\u001b[1;32m   2214\u001b[0m     raise ValueError(\"Shape of passed values is %s, indices imply %s\" % (\n\u001b[1;32m   2215\u001b[0m             \u001b[0mtuple\u001b[0m\u001b[0;34m(\u001b[0m\u001b[0mmap\u001b[0m\u001b[0;34m(\u001b[0m\u001b[0mint\u001b[0m\u001b[0;34m,\u001b[0m \u001b[0;34m[\u001b[0m\u001b[0mtot_items\u001b[0m\u001b[0;34m]\u001b[0m \u001b[0;34m+\u001b[0m \u001b[0mlist\u001b[0m\u001b[0;34m(\u001b[0m\u001b[0mblock_shape\u001b[0m\u001b[0;34m)\u001b[0m\u001b[0;34m)\u001b[0m\u001b[0;34m)\u001b[0m\u001b[0;34m,\u001b[0m\u001b[0;34m\u001b[0m\u001b[0m\n\u001b[0;32m-> 2216\u001b[0;31m             tuple(map(int, [len(ax) for ax in axes]))))\n\u001b[0m\u001b[1;32m   2217\u001b[0m \u001b[0;34m\u001b[0m\u001b[0m\n\u001b[1;32m   2218\u001b[0m \u001b[0;34m\u001b[0m\u001b[0m\n",
        "\u001b[0;31mValueError\u001b[0m: Shape of passed values is (0, 0), indices imply (0, 3825)"
       ]
      },
      {
       "output_type": "stream",
       "stream": "stdout",
       "text": [
        "> \u001b[0;32m/Users/Yigong/anaconda/python.app/Contents/lib/python2.7/site-packages/pandas/core/internals.py\u001b[0m(2216)\u001b[0;36mconstruction_error\u001b[0;34m()\u001b[0m\n",
        "\u001b[0;32m   2215 \u001b[0;31m            \u001b[0mtuple\u001b[0m\u001b[0;34m(\u001b[0m\u001b[0mmap\u001b[0m\u001b[0;34m(\u001b[0m\u001b[0mint\u001b[0m\u001b[0;34m,\u001b[0m \u001b[0;34m[\u001b[0m\u001b[0mtot_items\u001b[0m\u001b[0;34m]\u001b[0m \u001b[0;34m+\u001b[0m \u001b[0mlist\u001b[0m\u001b[0;34m(\u001b[0m\u001b[0mblock_shape\u001b[0m\u001b[0;34m)\u001b[0m\u001b[0;34m)\u001b[0m\u001b[0;34m)\u001b[0m\u001b[0;34m,\u001b[0m\u001b[0;34m\u001b[0m\u001b[0m\n",
        "\u001b[0m\u001b[0;32m-> 2216 \u001b[0;31m            tuple(map(int, [len(ax) for ax in axes]))))\n",
        "\u001b[0m\u001b[0;32m   2217 \u001b[0;31m\u001b[0;34m\u001b[0m\u001b[0m\n",
        "\u001b[0m\n"
       ]
      },
      {
       "name": "stdout",
       "output_type": "stream",
       "stream": "stdout",
       "text": [
        "ipdb> exit\n"
       ]
      }
     ],
     "prompt_number": 240
    },
    {
     "cell_type": "code",
     "collapsed": false,
     "input": [
      "for label_str in LABELS:\n",
      "    temp = label_open_df.ix[label_open_df['label']==label_str]['open_day']\n",
      "    label_month = temp.resample('M', how='mean')\n",
      "    label_month.name = label_str\n",
      "    time_per_label = time_per_label.join(label_month, how='outer')\n",
      "print time_per_label.head()"
     ],
     "language": "python",
     "metadata": {},
     "outputs": [
      {
       "output_type": "stream",
       "stream": "stdout",
       "text": [
        "<class 'pandas.core.frame.DataFrame'>\n",
        "DatetimeIndex: 5 entries, 2010-09-30 00:00:00 to 2011-01-31 00:00:00\n",
        "Freq: M\n",
        "Data columns (total 30 columns):\n",
        "Bug                  2  non-null values\n",
        "Enhancement          1  non-null values\n",
        "Testing              0  non-null values\n",
        "timeseries           0  non-null values\n",
        "Refactor             0  non-null values\n",
        "Build problem        0  non-null values\n",
        "Docs                 0  non-null values\n",
        "groupby              0  non-null values\n",
        "Ideas                0  non-null values\n",
        "unicode              0  non-null values\n",
        "Data IO              0  non-null values\n",
        "prio-high            0  non-null values\n",
        "prio-medium          0  non-null values\n",
        "prio-low             0  non-null values\n",
        "Visualization        0  non-null values\n",
        "Community            0  non-null values\n",
        "missing-data         0  non-null values\n",
        "Stats                0  non-null values\n",
        "Indexing             0  non-null values\n",
        "Output-Formatting    0  non-null values\n",
        "Can't Repro          0  non-null values\n",
        "Performance          0  non-null values\n",
        "Reshaping            0  non-null values\n",
        "Multithreading       0  non-null values\n",
        "Dtypes               0  non-null values\n",
        "Good as first PR     0  non-null values\n",
        "API                  0  non-null values\n",
        "Note To Selves       0  non-null values\n",
        "Regression           0  non-null values\n",
        "Usage                0  non-null values\n",
        "dtypes: float64(30), object(0)\n"
       ]
      }
     ],
     "prompt_number": 268
    },
    {
     "cell_type": "code",
     "collapsed": false,
     "input": [
      "!README.md"
     ],
     "language": "python",
     "metadata": {},
     "outputs": [
      {
       "output_type": "stream",
       "stream": "stdout",
       "text": [
        "/bin/sh: README.md: command not found\r\n"
       ]
      }
     ],
     "prompt_number": 282
    },
    {
     "cell_type": "code",
     "collapsed": false,
     "input": [
      "ls"
     ],
     "language": "python",
     "metadata": {},
     "outputs": [
      {
       "output_type": "stream",
       "stream": "stdout",
       "text": [
        "11_pandas.ipynb                   hw_7_pandas_and_timeseries.ipynb\r\n",
        "12_pandas-Copy0.ipynb             hw_7_pandas_and_timeseries.py\r\n",
        "12_pandas.ipynb                   legit.ipynb\r\n",
        "Lecture.ipynb                     mean_day.pkl\r\n",
        "README.md                         question.ipynb\r\n",
        "SFHousing.csv                     test.ipynb\r\n",
        "chattiest.pkl                     test2.ipynb\r\n",
        "closed.json                       test_1.py\r\n",
        "comments.pkl                      test_book.ipynb\r\n",
        "fred_fx.csv                       time_label.pkl\r\n",
        "hw7.py\r\n"
       ]
      }
     ],
     "prompt_number": 283
    },
    {
     "cell_type": "markdown",
     "metadata": {},
     "source": [
      "HW7\n",
      "-----\n",
      "### Everything is included in hw7.py. So all you need to do is typing this in the command line: python hw7.py"
     ]
    },
    {
     "cell_type": "markdown",
     "metadata": {},
     "source": [
      "HW7\n",
      "-----\n",
      "### Everything is included in hw7.py. So all you need to do is typing this in the command line: python hw7.py"
     ]
    },
    {
     "cell_type": "markdown",
     "metadata": {},
     "source": [
      "HW7\n",
      "-----\n",
      "### Everything is included in hw7.py. So all you need to do is typing this in the command line: python hw7.py\n",
      "\n",
      "### Tables for 6), 7), 8), 11) are mean_day.pkl, comments.pkl, chattiest.pkl and time_label.pkl, respectively."
     ]
    },
    {
     "cell_type": "code",
     "collapsed": false,
     "input": [],
     "language": "python",
     "metadata": {},
     "outputs": []
    }
   ],
   "metadata": {}
  }
 ]
}