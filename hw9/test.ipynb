{
 "metadata": {
  "name": ""
 },
 "nbformat": 3,
 "nbformat_minor": 0,
 "worksheets": [
  {
   "cells": [
    {
     "cell_type": "code",
     "collapsed": false,
     "input": [
      "import numpy as np\n",
      "import pandas as pd\n",
      "from numpy import sqrt\n",
      "from random import uniform\n",
      "from time import time\n",
      "import multiprocessing\n",
      "import matplotlib.pyplot as plt\n",
      "%matplotlib\n",
      "number_of_darts = 10**np.arange(2,6)\n",
      "number_of_darts.tolist()"
     ],
     "language": "python",
     "metadata": {},
     "outputs": [
      {
       "output_type": "stream",
       "stream": "stdout",
       "text": [
        "Using matplotlib backend: MacOSX\n"
       ]
      },
      {
       "metadata": {},
       "output_type": "pyout",
       "prompt_number": 10,
       "text": [
        "[100, 1000, 10000, 100000]"
       ]
      }
     ],
     "prompt_number": 10
    },
    {
     "cell_type": "code",
     "collapsed": false,
     "input": [
      "def pi_approx_serial(number_of_darts):\n",
      "    ''' approximate pi using serial method'''\n",
      "    number_of_darts_in_circle = 0\n",
      "    start_time = time()\n",
      "    for n in xrange(number_of_darts):\n",
      "        x = uniform(0,1)\n",
      "        y = uniform(0,1)\n",
      "        distance = np.sqrt((x-0.5)**2+(y-0.5)**2)\n",
      "        if distance <= 0.5:\n",
      "            number_of_darts_in_circle += 1\n",
      "        else:\n",
      "            pass\n",
      "    end_time = time()\n",
      "    execution_time = end_time - start_time\n",
      "    pi_apx = 4*number_of_darts_in_circle/float(number_of_darts)\n",
      "    return [execution_time, pi_apx]\n",
      "\n",
      "time_serial = []\n",
      "for dart in number_of_darts:\n",
      "    time_temp = pi_approx_serial(dart)\n",
      "    time_temp.insert(0, dart)\n",
      "    time_temp.append(time_temp[1]/dart)\n",
      "    time_serial.append(time_temp)\n",
      "\n",
      "time_serial"
     ],
     "language": "python",
     "metadata": {},
     "outputs": [
      {
       "metadata": {},
       "output_type": "pyout",
       "prompt_number": 15,
       "text": [
        "[[100, 0.0022699832916259766, 3.28, 2.2699832916259764e-05],\n",
        " [1000, 0.016113996505737305, 3.2, 1.6113996505737305e-05],\n",
        " [10000, 0.11764311790466309, 3.17, 1.1764311790466309e-05],\n",
        " [100000, 1.0162169933319092, 3.1458, 1.0162169933319092e-05]]"
       ]
      }
     ],
     "prompt_number": 15
    },
    {
     "cell_type": "code",
     "collapsed": false,
     "input": [
      "time_temp"
     ],
     "language": "python",
     "metadata": {},
     "outputs": [
      {
       "metadata": {},
       "output_type": "pyout",
       "prompt_number": 14,
       "text": [
        "[100000, 1.0499749183654785, 3.13824]"
       ]
      }
     ],
     "prompt_number": 14
    },
    {
     "cell_type": "code",
     "collapsed": false,
     "input": [
      "def pi_approx(number_of_darts):\n",
      "    ''' approximate pi using MC method'''\n",
      "    number_of_darts_in_circle = 0\n",
      "    for n in xrange(number_of_darts):\n",
      "        x = uniform(0,1)\n",
      "        y = uniform(0,1)\n",
      "        distance = sqrt((x-0.5)**2+(y-0.5)**2)\n",
      "        if distance <= 0.5:\n",
      "            number_of_darts_in_circle += 1\n",
      "        else:\n",
      "            pass\n",
      "    return 4*number_of_darts_in_circle/float(number_of_darts)"
     ],
     "language": "python",
     "metadata": {},
     "outputs": [],
     "prompt_number": 2
    },
    {
     "cell_type": "code",
     "collapsed": false,
     "input": [
      "from IPython import parallel\n",
      "rc = parallel.Client()\n",
      "dview = rc[:]\n",
      "with dview.sync_imports():\n",
      "    from numpy import sqrt\n",
      "    from random import uniform\n",
      "    from time import time\n",
      "    \n",
      "def pi_approx_par(number_of_darts):\n",
      "    ''' approximate pi using parallel method '''\n",
      "    number_of_darts_per_thread = number_of_darts/len(dview)\n",
      "    start_time = time()\n",
      "    d_result = dview.apply_async(pi_approx, number_of_darts_per_thread)\n",
      "    result = d_result.get()\n",
      "    end_time = time()\n",
      "    execution_time = end_time - start_time\n",
      "    pi_apx = sum(result)/float(len(result))\n",
      "    return [execution_time, pi_apx]\n",
      "    \n",
      "\n",
      "time_Ipar = []\n",
      "for darts in number_of_darts:\n",
      "    time_temp = pi_approx_par(darts)\n",
      "    time_temp.insert(0, darts)\n",
      "    time_temp.append(time_temp[1]/darts)\n",
      "    time_Ipar.append(time_temp)\n",
      "\n",
      "time_Ipar"
     ],
     "language": "python",
     "metadata": {},
     "outputs": [
      {
       "output_type": "stream",
       "stream": "stdout",
       "text": [
        "importing sqrt from numpy on engine(s)\n",
        "importing uniform from random on engine(s)\n",
        "importing time from time on engine(s)\n"
       ]
      },
      {
       "metadata": {},
       "output_type": "pyout",
       "prompt_number": 50,
       "text": [
        "[[100, 0.02384805679321289, 3.08, 0.0002384805679321289],\n",
        " [1000, 0.024895906448364258, 3.144, 2.4895906448364259e-05],\n",
        " [10000, 0.12739801406860352, 3.1567999999999996, 1.2739801406860352e-05],\n",
        " [100000, 0.6547918319702148, 3.1418, 6.5479183197021485e-06]]"
       ]
      }
     ],
     "prompt_number": 50
    },
    {
     "cell_type": "code",
     "collapsed": false,
     "input": [
      "def pi_approx_stdlib(number_of_darts):\n",
      "    if __name__ == '__main__':\n",
      "        nCPU = multiprocessing.cpu_count()\n",
      "        pool = multiprocessing.Pool(processes=nCPU)\n",
      "        start_time = time()\n",
      "        number_of_darts_per_thread = number_of_darts/nCPU\n",
      "        argu_list = [number_of_darts_per_thread]* nCPU\n",
      "        pi_apx = pool.map_async(pi_approx, argu_list).get()\n",
      "        pi_apx = np.mean(pi_apx)\n",
      "        end_time = time()\n",
      "        print pi_apx\n",
      "        execution_time = end_time-start_time\n",
      "        pool.terminate()\n",
      "        return [execution_time, pi_apx]\n",
      "time_stdlib = []\n",
      "for dart in number_of_darts:\n",
      "    time_temp = pi_approx_stdlib(dart)\n",
      "    time_temp.insert(0, dart)\n",
      "    time_temp.append(time_temp[1]/dart)\n",
      "    time_stdlib.append(time_temp)\n",
      "\n",
      "time_stdlib\n"
     ],
     "language": "python",
     "metadata": {},
     "outputs": [
      {
       "output_type": "stream",
       "stream": "stdout",
       "text": [
        "3.32\n"
       ]
      },
      {
       "output_type": "stream",
       "stream": "stdout",
       "text": [
        "3.152\n"
       ]
      },
      {
       "output_type": "stream",
       "stream": "stdout",
       "text": [
        "3.1292\n"
       ]
      },
      {
       "output_type": "stream",
       "stream": "stdout",
       "text": [
        "3.13724\n"
       ]
      },
      {
       "metadata": {},
       "output_type": "pyout",
       "prompt_number": 49,
       "text": [
        "[[100, 0.004316091537475586, 3.3200000000000003, 4.316091537475586e-05],\n",
        " [1000, 0.015408039093017578, 3.1520000000000001, 1.5408039093017579e-05],\n",
        " [10000, 0.06084895133972168, 3.1292, 6.0848951339721677e-06],\n",
        " [100000, 0.573638916015625, 3.1372399999999998, 5.7363891601562499e-06]]"
       ]
      }
     ],
     "prompt_number": 49
    },
    {
     "cell_type": "code",
     "collapsed": false,
     "input": [
      "def to_DataFrame(data_list):\n",
      "    '''\n",
      "        convert list to pandas DataFrame\n",
      "        time is in second\n",
      "        the unit of simu_rate is [# per us]\n",
      "    \n",
      "    '''\n",
      "    data_df = pd.DataFrame(data_list, columns=['nDarts', 'time', 'pi_approx', 'simu_rate'])\n",
      "    data_df.set_index('nDarts', inplace=True)\n",
      "    data_df['simu_rate'] *= 1e6\n",
      "    return data_df"
     ],
     "language": "python",
     "metadata": {},
     "outputs": [],
     "prompt_number": 30
    },
    {
     "cell_type": "code",
     "collapsed": false,
     "input": [
      "f0, ax0 = plt.subplots()\n",
      "ax0.loglog(time_serial[:,0], time_serial[:,1], label='serial')\n",
      "ax0.loglog(time_Ipar[:,0], time_Ipar[:,1], label='Ipython')\n",
      "ax0.loglog(time_stdlib[:,0],time_stdlib[:,1], label='StdLib')\n",
      "\n",
      "ax0.legend()\n"
     ],
     "language": "python",
     "metadata": {},
     "outputs": [
      {
       "ename": "TypeError",
       "evalue": "list indices must be integers, not tuple",
       "output_type": "pyerr",
       "traceback": [
        "\u001b[0;31m---------------------------------------------------------------------------\u001b[0m\n\u001b[0;31mTypeError\u001b[0m                                 Traceback (most recent call last)",
        "\u001b[0;32m<ipython-input-34-0705e17833aa>\u001b[0m in \u001b[0;36m<module>\u001b[0;34m()\u001b[0m\n\u001b[1;32m      1\u001b[0m \u001b[0mf0\u001b[0m\u001b[0;34m,\u001b[0m \u001b[0max0\u001b[0m \u001b[0;34m=\u001b[0m \u001b[0mplt\u001b[0m\u001b[0;34m.\u001b[0m\u001b[0msubplots\u001b[0m\u001b[0;34m(\u001b[0m\u001b[0;34m)\u001b[0m\u001b[0;34m\u001b[0m\u001b[0m\n\u001b[0;32m----> 2\u001b[0;31m \u001b[0max0\u001b[0m\u001b[0;34m.\u001b[0m\u001b[0mloglog\u001b[0m\u001b[0;34m(\u001b[0m\u001b[0mtime_serial\u001b[0m\u001b[0;34m[\u001b[0m\u001b[0;34m:\u001b[0m\u001b[0;34m,\u001b[0m\u001b[0;36m0\u001b[0m\u001b[0;34m]\u001b[0m\u001b[0;34m,\u001b[0m \u001b[0mtime_serial\u001b[0m\u001b[0;34m[\u001b[0m\u001b[0;34m:\u001b[0m\u001b[0;34m,\u001b[0m\u001b[0;36m1\u001b[0m\u001b[0;34m]\u001b[0m\u001b[0;34m,\u001b[0m \u001b[0mlabel\u001b[0m\u001b[0;34m=\u001b[0m\u001b[0;34m'serial'\u001b[0m\u001b[0;34m)\u001b[0m\u001b[0;34m\u001b[0m\u001b[0m\n\u001b[0m\u001b[1;32m      3\u001b[0m \u001b[0max0\u001b[0m\u001b[0;34m.\u001b[0m\u001b[0mloglog\u001b[0m\u001b[0;34m(\u001b[0m\u001b[0mtime_Ipar\u001b[0m\u001b[0;34m[\u001b[0m\u001b[0;34m:\u001b[0m\u001b[0;34m,\u001b[0m\u001b[0;36m0\u001b[0m\u001b[0;34m]\u001b[0m\u001b[0;34m,\u001b[0m \u001b[0mtime_Ipar\u001b[0m\u001b[0;34m[\u001b[0m\u001b[0;34m:\u001b[0m\u001b[0;34m,\u001b[0m\u001b[0;36m1\u001b[0m\u001b[0;34m]\u001b[0m\u001b[0;34m,\u001b[0m \u001b[0mlabel\u001b[0m\u001b[0;34m=\u001b[0m\u001b[0;34m'Ipython'\u001b[0m\u001b[0;34m)\u001b[0m\u001b[0;34m\u001b[0m\u001b[0m\n\u001b[1;32m      4\u001b[0m \u001b[0max0\u001b[0m\u001b[0;34m.\u001b[0m\u001b[0mloglog\u001b[0m\u001b[0;34m(\u001b[0m\u001b[0mtime_stdlib\u001b[0m\u001b[0;34m[\u001b[0m\u001b[0;34m:\u001b[0m\u001b[0;34m,\u001b[0m\u001b[0;36m0\u001b[0m\u001b[0;34m]\u001b[0m\u001b[0;34m,\u001b[0m\u001b[0mtime_stdlib\u001b[0m\u001b[0;34m[\u001b[0m\u001b[0;34m:\u001b[0m\u001b[0;34m,\u001b[0m\u001b[0;36m1\u001b[0m\u001b[0;34m]\u001b[0m\u001b[0;34m,\u001b[0m \u001b[0mlabel\u001b[0m\u001b[0;34m=\u001b[0m\u001b[0;34m'StdLib'\u001b[0m\u001b[0;34m)\u001b[0m\u001b[0;34m\u001b[0m\u001b[0m\n\u001b[1;32m      5\u001b[0m \u001b[0;34m\u001b[0m\u001b[0m\n",
        "\u001b[0;31mTypeError\u001b[0m: list indices must be integers, not tuple"
       ]
      }
     ],
     "prompt_number": 34
    },
    {
     "cell_type": "code",
     "collapsed": false,
     "input": [
      "serial_df = to_DataFrame(time_serial)\n",
      "Ipar_df = to_DataFrame(time_Ipar)\n",
      "stdlib_df = to_DataFrame(time_stdlib)"
     ],
     "language": "python",
     "metadata": {},
     "outputs": [],
     "prompt_number": 51
    },
    {
     "cell_type": "code",
     "collapsed": false,
     "input": [
      "serial_df"
     ],
     "language": "python",
     "metadata": {},
     "outputs": [
      {
       "html": [
        "<div style=\"max-height:1000px;max-width:1500px;overflow:auto;\">\n",
        "<table border=\"1\" class=\"dataframe\">\n",
        "  <thead>\n",
        "    <tr style=\"text-align: right;\">\n",
        "      <th></th>\n",
        "      <th>time</th>\n",
        "      <th>pi_approx</th>\n",
        "      <th>simu_rate</th>\n",
        "    </tr>\n",
        "    <tr>\n",
        "      <th>nDarts</th>\n",
        "      <th></th>\n",
        "      <th></th>\n",
        "      <th></th>\n",
        "    </tr>\n",
        "  </thead>\n",
        "  <tbody>\n",
        "    <tr>\n",
        "      <th>100   </th>\n",
        "      <td> 0.002270</td>\n",
        "      <td> 3.2800</td>\n",
        "      <td> 22.699833</td>\n",
        "    </tr>\n",
        "    <tr>\n",
        "      <th>1000  </th>\n",
        "      <td> 0.016114</td>\n",
        "      <td> 3.2000</td>\n",
        "      <td> 16.113997</td>\n",
        "    </tr>\n",
        "    <tr>\n",
        "      <th>10000 </th>\n",
        "      <td> 0.117643</td>\n",
        "      <td> 3.1700</td>\n",
        "      <td> 11.764312</td>\n",
        "    </tr>\n",
        "    <tr>\n",
        "      <th>100000</th>\n",
        "      <td> 1.016217</td>\n",
        "      <td> 3.1458</td>\n",
        "      <td> 10.162170</td>\n",
        "    </tr>\n",
        "  </tbody>\n",
        "</table>\n",
        "</div>"
       ],
       "metadata": {},
       "output_type": "pyout",
       "prompt_number": 52,
       "text": [
        "            time  pi_approx  simu_rate\n",
        "nDarts                                \n",
        "100     0.002270     3.2800  22.699833\n",
        "1000    0.016114     3.2000  16.113997\n",
        "10000   0.117643     3.1700  11.764312\n",
        "100000  1.016217     3.1458  10.162170"
       ]
      }
     ],
     "prompt_number": 52
    },
    {
     "cell_type": "code",
     "collapsed": false,
     "input": [
      "Ipar_df"
     ],
     "language": "python",
     "metadata": {},
     "outputs": [
      {
       "html": [
        "<div style=\"max-height:1000px;max-width:1500px;overflow:auto;\">\n",
        "<table border=\"1\" class=\"dataframe\">\n",
        "  <thead>\n",
        "    <tr style=\"text-align: right;\">\n",
        "      <th></th>\n",
        "      <th>time</th>\n",
        "      <th>pi_approx</th>\n",
        "      <th>simu_rate</th>\n",
        "    </tr>\n",
        "    <tr>\n",
        "      <th>nDarts</th>\n",
        "      <th></th>\n",
        "      <th></th>\n",
        "      <th></th>\n",
        "    </tr>\n",
        "  </thead>\n",
        "  <tbody>\n",
        "    <tr>\n",
        "      <th>100   </th>\n",
        "      <td> 0.023848</td>\n",
        "      <td> 3.0800</td>\n",
        "      <td> 238.480568</td>\n",
        "    </tr>\n",
        "    <tr>\n",
        "      <th>1000  </th>\n",
        "      <td> 0.024896</td>\n",
        "      <td> 3.1440</td>\n",
        "      <td>  24.895906</td>\n",
        "    </tr>\n",
        "    <tr>\n",
        "      <th>10000 </th>\n",
        "      <td> 0.127398</td>\n",
        "      <td> 3.1568</td>\n",
        "      <td>  12.739801</td>\n",
        "    </tr>\n",
        "    <tr>\n",
        "      <th>100000</th>\n",
        "      <td> 0.654792</td>\n",
        "      <td> 3.1418</td>\n",
        "      <td>   6.547918</td>\n",
        "    </tr>\n",
        "  </tbody>\n",
        "</table>\n",
        "</div>"
       ],
       "metadata": {},
       "output_type": "pyout",
       "prompt_number": 53,
       "text": [
        "            time  pi_approx   simu_rate\n",
        "nDarts                                 \n",
        "100     0.023848     3.0800  238.480568\n",
        "1000    0.024896     3.1440   24.895906\n",
        "10000   0.127398     3.1568   12.739801\n",
        "100000  0.654792     3.1418    6.547918"
       ]
      }
     ],
     "prompt_number": 53
    },
    {
     "cell_type": "code",
     "collapsed": false,
     "input": [
      "number_of_darts"
     ],
     "language": "python",
     "metadata": {},
     "outputs": [
      {
       "metadata": {},
       "output_type": "pyout",
       "prompt_number": 35,
       "text": [
        "array([   100,   1000,  10000, 100000])"
       ]
      }
     ],
     "prompt_number": 35
    },
    {
     "cell_type": "code",
     "collapsed": false,
     "input": [
      "darts"
     ],
     "language": "python",
     "metadata": {},
     "outputs": [
      {
       "metadata": {},
       "output_type": "pyout",
       "prompt_number": 36,
       "text": [
        "100000"
       ]
      }
     ],
     "prompt_number": 36
    },
    {
     "cell_type": "code",
     "collapsed": false,
     "input": [
      "[darts]*3"
     ],
     "language": "python",
     "metadata": {},
     "outputs": [
      {
       "metadata": {},
       "output_type": "pyout",
       "prompt_number": 47,
       "text": [
        "[100000, 100000, 100000]"
       ]
      }
     ],
     "prompt_number": 47
    },
    {
     "cell_type": "code",
     "collapsed": false,
     "input": [
      "a = darts.tolist()"
     ],
     "language": "python",
     "metadata": {},
     "outputs": [],
     "prompt_number": 43
    },
    {
     "cell_type": "code",
     "collapsed": false,
     "input": [
      "darts"
     ],
     "language": "python",
     "metadata": {},
     "outputs": [
      {
       "metadata": {},
       "output_type": "pyout",
       "prompt_number": 42,
       "text": [
        "100000"
       ]
      }
     ],
     "prompt_number": 42
    },
    {
     "cell_type": "code",
     "collapsed": false,
     "input": [
      "a*3"
     ],
     "language": "python",
     "metadata": {},
     "outputs": [
      {
       "metadata": {},
       "output_type": "pyout",
       "prompt_number": 45,
       "text": [
        "300000"
       ]
      }
     ],
     "prompt_number": 45
    },
    {
     "cell_type": "code",
     "collapsed": false,
     "input": [
      "ts = Series(np.random.randn(1000), index=date_range('1/1/2000', periods=1000))"
     ],
     "language": "python",
     "metadata": {},
     "outputs": [],
     "prompt_number": 60
    },
    {
     "cell_type": "code",
     "collapsed": false,
     "input": [
      "from pandas import Series, DataFrame"
     ],
     "language": "python",
     "metadata": {},
     "outputs": [],
     "prompt_number": 71
    },
    {
     "cell_type": "code",
     "collapsed": false,
     "input": [
      "from pandas import date_range"
     ],
     "language": "python",
     "metadata": {},
     "outputs": [],
     "prompt_number": 59
    },
    {
     "cell_type": "code",
     "collapsed": false,
     "input": [
      "ts = ts.cumsum()"
     ],
     "language": "python",
     "metadata": {},
     "outputs": [],
     "prompt_number": 62
    },
    {
     "cell_type": "code",
     "collapsed": false,
     "input": [
      "ts.plot()"
     ],
     "language": "python",
     "metadata": {},
     "outputs": [
      {
       "metadata": {},
       "output_type": "pyout",
       "prompt_number": 64,
       "text": [
        "<matplotlib.axes.AxesSubplot at 0x10a6b0710>"
       ]
      }
     ],
     "prompt_number": 64
    },
    {
     "cell_type": "code",
     "collapsed": false,
     "input": [
      "plt.figure(); ax = ts.plot(style='k--', label='Series'); plt.legend()"
     ],
     "language": "python",
     "metadata": {},
     "outputs": [
      {
       "metadata": {},
       "output_type": "pyout",
       "prompt_number": 66,
       "text": [
        "<matplotlib.legend.Legend at 0x10c223d50>"
       ]
      }
     ],
     "prompt_number": 66
    },
    {
     "cell_type": "code",
     "collapsed": false,
     "input": [
      "ax.set_title('aa')"
     ],
     "language": "python",
     "metadata": {},
     "outputs": [
      {
       "metadata": {},
       "output_type": "pyout",
       "prompt_number": 70,
       "text": [
        "<matplotlib.text.Text at 0x10c2356d0>"
       ]
      }
     ],
     "prompt_number": 70
    },
    {
     "cell_type": "code",
     "collapsed": false,
     "input": [
      "In [6]: df = DataFrame(np.random.randn(1000, 4), index=ts.index, columns=list('ABCD'))\n"
     ],
     "language": "python",
     "metadata": {},
     "outputs": [],
     "prompt_number": 73
    },
    {
     "cell_type": "code",
     "collapsed": false,
     "input": [
      "df.head()"
     ],
     "language": "python",
     "metadata": {},
     "outputs": [
      {
       "html": [
        "<div style=\"max-height:1000px;max-width:1500px;overflow:auto;\">\n",
        "<table border=\"1\" class=\"dataframe\">\n",
        "  <thead>\n",
        "    <tr style=\"text-align: right;\">\n",
        "      <th></th>\n",
        "      <th>A</th>\n",
        "      <th>B</th>\n",
        "      <th>C</th>\n",
        "      <th>D</th>\n",
        "    </tr>\n",
        "  </thead>\n",
        "  <tbody>\n",
        "    <tr>\n",
        "      <th>2000-01-01</th>\n",
        "      <td>-1.067597</td>\n",
        "      <td>-0.015046</td>\n",
        "      <td> 0.265412</td>\n",
        "      <td> 0.195163</td>\n",
        "    </tr>\n",
        "    <tr>\n",
        "      <th>2000-01-02</th>\n",
        "      <td> 0.242401</td>\n",
        "      <td>-0.292326</td>\n",
        "      <td>-0.123619</td>\n",
        "      <td>-1.941828</td>\n",
        "    </tr>\n",
        "    <tr>\n",
        "      <th>2000-01-03</th>\n",
        "      <td>-0.793515</td>\n",
        "      <td> 1.360787</td>\n",
        "      <td>-0.321307</td>\n",
        "      <td> 1.563963</td>\n",
        "    </tr>\n",
        "    <tr>\n",
        "      <th>2000-01-04</th>\n",
        "      <td> 0.403138</td>\n",
        "      <td>-0.757833</td>\n",
        "      <td>-1.722811</td>\n",
        "      <td> 0.055350</td>\n",
        "    </tr>\n",
        "    <tr>\n",
        "      <th>2000-01-05</th>\n",
        "      <td> 0.832704</td>\n",
        "      <td> 0.658673</td>\n",
        "      <td>-2.537781</td>\n",
        "      <td>-0.023283</td>\n",
        "    </tr>\n",
        "  </tbody>\n",
        "</table>\n",
        "</div>"
       ],
       "metadata": {},
       "output_type": "pyout",
       "prompt_number": 75,
       "text": [
        "                   A         B         C         D\n",
        "2000-01-01 -1.067597 -0.015046  0.265412  0.195163\n",
        "2000-01-02  0.242401 -0.292326 -0.123619 -1.941828\n",
        "2000-01-03 -0.793515  1.360787 -0.321307  1.563963\n",
        "2000-01-04  0.403138 -0.757833 -1.722811  0.055350\n",
        "2000-01-05  0.832704  0.658673 -2.537781 -0.023283"
       ]
      }
     ],
     "prompt_number": 75
    },
    {
     "cell_type": "code",
     "collapsed": false,
     "input": [
      "axA = df.A.plot()"
     ],
     "language": "python",
     "metadata": {},
     "outputs": [],
     "prompt_number": 83
    },
    {
     "cell_type": "code",
     "collapsed": false,
     "input": [
      "import sys"
     ],
     "language": "python",
     "metadata": {},
     "outputs": [],
     "prompt_number": 79
    },
    {
     "cell_type": "code",
     "collapsed": false,
     "input": [
      "axA.set_title('aa')\n",
      "sys.stdout.flush()"
     ],
     "language": "python",
     "metadata": {},
     "outputs": [],
     "prompt_number": 84
    },
    {
     "cell_type": "code",
     "collapsed": false,
     "input": [
      "Ipar_df\n",
      "serial_df\n",
      "stdlib_df"
     ],
     "language": "python",
     "metadata": {},
     "outputs": [
      {
       "html": [
        "<div style=\"max-height:1000px;max-width:1500px;overflow:auto;\">\n",
        "<table border=\"1\" class=\"dataframe\">\n",
        "  <thead>\n",
        "    <tr style=\"text-align: right;\">\n",
        "      <th></th>\n",
        "      <th>time</th>\n",
        "      <th>pi_approx</th>\n",
        "      <th>simu_rate</th>\n",
        "    </tr>\n",
        "    <tr>\n",
        "      <th>nDarts</th>\n",
        "      <th></th>\n",
        "      <th></th>\n",
        "      <th></th>\n",
        "    </tr>\n",
        "  </thead>\n",
        "  <tbody>\n",
        "    <tr>\n",
        "      <th>100   </th>\n",
        "      <td> 0.004316</td>\n",
        "      <td> 3.32000</td>\n",
        "      <td> 43.160915</td>\n",
        "    </tr>\n",
        "    <tr>\n",
        "      <th>1000  </th>\n",
        "      <td> 0.015408</td>\n",
        "      <td> 3.15200</td>\n",
        "      <td> 15.408039</td>\n",
        "    </tr>\n",
        "    <tr>\n",
        "      <th>10000 </th>\n",
        "      <td> 0.060849</td>\n",
        "      <td> 3.12920</td>\n",
        "      <td>  6.084895</td>\n",
        "    </tr>\n",
        "    <tr>\n",
        "      <th>100000</th>\n",
        "      <td> 0.573639</td>\n",
        "      <td> 3.13724</td>\n",
        "      <td>  5.736389</td>\n",
        "    </tr>\n",
        "  </tbody>\n",
        "</table>\n",
        "</div>"
       ],
       "metadata": {},
       "output_type": "pyout",
       "prompt_number": 86,
       "text": [
        "            time  pi_approx  simu_rate\n",
        "nDarts                                \n",
        "100     0.004316    3.32000  43.160915\n",
        "1000    0.015408    3.15200  15.408039\n",
        "10000   0.060849    3.12920   6.084895\n",
        "100000  0.573639    3.13724   5.736389"
       ]
      }
     ],
     "prompt_number": 86
    },
    {
     "cell_type": "code",
     "collapsed": false,
     "input": [
      "import numpy as np\n",
      "import pandas as pd\n",
      "from numpy import sqrt\n",
      "from random import uniform\n",
      "from time import time\n",
      "import multiprocessing\n",
      "import matplotlib.pyplot as plt\n",
      "#%matplotlib\n",
      "number_of_darts = 10**np.arange(2,6)\n",
      "number_of_darts.tolist()\n",
      "\n",
      "def pi_approx_serial(number_of_darts):\n",
      "    ''' approximate pi using serial method'''\n",
      "    number_of_darts_in_circle = 0\n",
      "    start_time = time()\n",
      "    for n in xrange(number_of_darts):\n",
      "        x = uniform(0,1)\n",
      "        y = uniform(0,1)\n",
      "        distance = np.sqrt((x-0.5)**2+(y-0.5)**2)\n",
      "        if distance <= 0.5:\n",
      "            number_of_darts_in_circle += 1\n",
      "        else:\n",
      "            pass\n",
      "    end_time = time()\n",
      "    execution_time = end_time - start_time\n",
      "    pi_apx = 4*number_of_darts_in_circle/float(number_of_darts)\n",
      "    return [execution_time, pi_apx]\n",
      "time_serial = []\n",
      "for dart in number_of_darts:\n",
      "    time_temp = pi_approx_serial(dart)\n",
      "    time_temp.insert(0, dart)\n",
      "    time_temp.append(dart/time_temp[1])\n",
      "    time_serial.append(time_temp)\n",
      "\n",
      "\n",
      "def pi_approx(number_of_darts):\n",
      "    ''' approximate pi using MC method'''\n",
      "    number_of_darts_in_circle = 0\n",
      "    for n in xrange(number_of_darts):\n",
      "        x = uniform(0,1)\n",
      "        y = uniform(0,1)\n",
      "        distance = sqrt((x-0.5)**2+(y-0.5)**2)\n",
      "        if distance <= 0.5:\n",
      "            number_of_darts_in_circle += 1\n",
      "        else:\n",
      "            pass\n",
      "    return 4*number_of_darts_in_circle/float(number_of_darts)\n",
      "\n",
      "from IPython import parallel\n",
      "rc = parallel.Client()\n",
      "dview = rc[:]\n",
      "with dview.sync_imports():\n",
      "    from numpy import sqrt\n",
      "    from random import uniform\n",
      "    from time import time\n",
      "\n",
      "def pi_approx_par(number_of_darts):\n",
      "    ''' approximate pi using parallel method '''\n",
      "    number_of_darts_per_thread = number_of_darts/len(dview)\n",
      "    start_time = time()\n",
      "    d_result = dview.apply_async(pi_approx, number_of_darts_per_thread)\n",
      "    result = d_result.get()\n",
      "    end_time = time()\n",
      "    execution_time = end_time - start_time\n",
      "    pi_apx = np.mean(result)\n",
      "    return [execution_time, pi_apx]\n",
      "time_Ipar = []\n",
      "for dart in number_of_darts:\n",
      "    time_temp = pi_approx_par(dart)\n",
      "    time_temp.insert(0, dart)\n",
      "    time_temp.append(dart/time_temp[1])\n",
      "    time_Ipar.append(time_temp)\n",
      "\n",
      "\n",
      "def pi_approx_stdlib(number_of_darts):\n",
      "    if __name__ == '__main__':\n",
      "        nCPU = multiprocessing.cpu_count()\n",
      "        pool = multiprocessing.Pool(processes=nCPU)\n",
      "        start_time = time()\n",
      "        number_of_darts_per_thread = number_of_darts/nCPU\n",
      "        argu_list = [number_of_darts_per_thread] * nCPU\n",
      "        pi_apx = pool.map_async(pi_approx, argu_list).get()\n",
      "        pi_apx = np.mean(pi_apx)\n",
      "        end_time = time()\n",
      "        execution_time = end_time-start_time\n",
      "        pool.terminate()\n",
      "        return [execution_time, pi_apx]\n",
      "time_stdlib = []\n",
      "for dart in number_of_darts:\n",
      "    time_temp = pi_approx_stdlib(dart)\n",
      "    time_temp.insert(0, dart)\n",
      "    time_temp.append(dart/time_temp[1])\n",
      "    time_stdlib.append(time_temp)\n",
      "\n",
      "def to_DataFrame(data_list):\n",
      "    '''\n",
      "        convert list to pandas DataFrame\n",
      "        time is in second\n",
      "        the unit of simu_rate is [# per us]\n",
      "    '''\n",
      "    data_df = pd.DataFrame(data_list, columns=['nDarts', 'time', 'pi_approx', 'simu_rate'])\n",
      "    data_df.set_index('nDarts', inplace=True)\n",
      "    return data_df\n",
      "\n",
      "serial_df = to_DataFrame(time_serial)\n",
      "Ipar_df = to_DataFrame(time_Ipar)\n",
      "stdlib_df = to_DataFrame(time_stdlib)\n",
      "\n",
      "fig, axes = plt.subplots()\n",
      "serial_df.time.plot(style='r-', label='Simple')\n",
      "serial_df.simu_rate.plot(secondary_y=True, style='r--')\n",
      "Ipar_df.time.plot(style='g-', label='Ipcluster')\n",
      "Ipar_df.simu_rate.plot(secondary_y=True, style='g--')\n",
      "stdlib_df.time.plot(style='c-', label='Multiprocessing')\n",
      "stdlib_df.simu_rate.plot(secondary_y=True, style='c--')\n",
      "axes.set_xlabel('Darts Thrown')\n",
      "axes.set_ylabel('Execution Time(seconds), solid line')\n",
      "axes.set_xscale('log')\n",
      "axes.set_yscale('log')\n",
      "axes.right_ax.set_yscale('log')\n",
      "#axes.right_ax.set_ylabel('Simulation Rate (darts/seconds), dashed line')\n",
      "axes.legend()\n",
      "axes.set_title('MacBook Pro with 2.4GHZ Intel Core 2 Duo', size='large')\n",
      "plt.show()"
     ],
     "language": "python",
     "metadata": {},
     "outputs": [
      {
       "output_type": "stream",
       "stream": "stdout",
       "text": [
        "importing sqrt from numpy on engine(s)\n",
        "importing uniform from random on engine(s)\n",
        "importing time from time on engine(s)\n"
       ]
      }
     ],
     "prompt_number": 7
    },
    {
     "cell_type": "code",
     "collapsed": false,
     "input": [
      "np.logspace(1,7,10)"
     ],
     "language": "python",
     "metadata": {},
     "outputs": [
      {
       "metadata": {},
       "output_type": "pyout",
       "prompt_number": 14,
       "text": [
        "array([  1.00000000e+01,   4.64158883e+01,   2.15443469e+02,\n",
        "         1.00000000e+03,   4.64158883e+03,   2.15443469e+04,\n",
        "         1.00000000e+05,   4.64158883e+05,   2.15443469e+06,\n",
        "         1.00000000e+07])"
       ]
      }
     ],
     "prompt_number": 14
    },
    {
     "cell_type": "code",
     "collapsed": false,
     "input": [
      "dar"
     ],
     "language": "python",
     "metadata": {},
     "outputs": [
      {
       "ename": "TypeError",
       "evalue": "int() argument must be a string or a number, not 'list'",
       "output_type": "pyerr",
       "traceback": [
        "\u001b[0;31m---------------------------------------------------------------------------\u001b[0m\n\u001b[0;31mTypeError\u001b[0m                                 Traceback (most recent call last)",
        "\u001b[0;32m<ipython-input-16-109731c61bc3>\u001b[0m in \u001b[0;36m<module>\u001b[0;34m()\u001b[0m\n\u001b[0;32m----> 1\u001b[0;31m \u001b[0mnp\u001b[0m\u001b[0;34m.\u001b[0m\u001b[0mint\u001b[0m\u001b[0;34m(\u001b[0m\u001b[0;34m[\u001b[0m\u001b[0m_\u001b[0m\u001b[0;34m]\u001b[0m\u001b[0;34m)\u001b[0m\u001b[0;34m\u001b[0m\u001b[0m\n\u001b[0m",
        "\u001b[0;31mTypeError\u001b[0m: int() argument must be a string or a number, not 'list'"
       ]
      }
     ],
     "prompt_number": 16
    },
    {
     "cell_type": "code",
     "collapsed": false,
     "input": [],
     "language": "python",
     "metadata": {},
     "outputs": []
    }
   ],
   "metadata": {}
  }
 ]
}