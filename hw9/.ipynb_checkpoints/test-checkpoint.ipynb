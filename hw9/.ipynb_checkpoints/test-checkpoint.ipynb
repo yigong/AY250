{
 "metadata": {
  "name": ""
 },
 "nbformat": 3,
 "nbformat_minor": 0,
 "worksheets": [
  {
   "cells": [
    {
     "cell_type": "code",
     "collapsed": false,
     "input": [
      "import numpy as np\n",
      "from numpy import sqrt\n",
      "from random import uniform\n",
      "from time import time\n",
      "import multiprocessing\n",
      "import matplotlib.pyplot as plt\n",
      "%matplotlib\n",
      "number_of_darts = 10**np.arange(1,7)\n",
      "number_of_darts.tolist()"
     ],
     "language": "python",
     "metadata": {},
     "outputs": [
      {
       "output_type": "stream",
       "stream": "stdout",
       "text": [
        "Using matplotlib backend: MacOSX\n"
       ]
      },
      {
       "metadata": {},
       "output_type": "pyout",
       "prompt_number": 1,
       "text": [
        "[10, 100, 1000, 10000, 100000, 1000000]"
       ]
      }
     ],
     "prompt_number": 1
    },
    {
     "cell_type": "code",
     "collapsed": false,
     "input": [
      "def pi_approx_serial(number_of_darts):\n",
      "    ''' approximate pi using serial method'''\n",
      "    number_of_darts_in_circle = 0\n",
      "    start_time = time()\n",
      "    for n in xrange(number_of_darts):\n",
      "        x = uniform(0,1)\n",
      "        y = uniform(0,1)\n",
      "        distance = np.sqrt((x-0.5)**2+(y-0.5)**2)\n",
      "        if distance <= 0.5:\n",
      "            number_of_darts_in_circle += 1\n",
      "        else:\n",
      "            pass\n",
      "    end_time = time()\n",
      "    execution_time = end_time - start_time\n",
      "    pi_apx = 4*number_of_darts_in_circle/float(number_of_darts)\n",
      "    return [execution_time, pi_apx]\n",
      "\n",
      "time_serial = []\n",
      "for dart in number_of_darts:\n",
      "    time_temp = pi_approx_serial(dart)\n",
      "    time_temp.insert(0, dart)\n",
      "    time_serial.append(time_temp)\n",
      "time_serial = np.array(time_serial)\n",
      "\n",
      "time_serial"
     ],
     "language": "python",
     "metadata": {},
     "outputs": [
      {
       "metadata": {},
       "output_type": "pyout",
       "prompt_number": 8,
       "text": [
        "array([[  1.00000000e+01,   1.59025192e-04,   3.60000000e+00],\n",
        "       [  1.00000000e+02,   1.09696388e-03,   2.60000000e+00],\n",
        "       [  1.00000000e+03,   3.01859379e-02,   3.19600000e+00],\n",
        "       [  1.00000000e+04,   1.30022049e-01,   3.14280000e+00],\n",
        "       [  1.00000000e+05,   1.15733290e+00,   3.14216000e+00],\n",
        "       [  1.00000000e+06,   1.11299388e+01,   3.13947200e+00]])"
       ]
      }
     ],
     "prompt_number": 8
    },
    {
     "cell_type": "code",
     "collapsed": false,
     "input": [
      "def pi_approx(number_of_darts):\n",
      "    ''' approximate pi using MC method'''\n",
      "    number_of_darts_in_circle = 0\n",
      "    for n in xrange(number_of_darts):\n",
      "        x = uniform(0,1)\n",
      "        y = uniform(0,1)\n",
      "        distance = sqrt((x-0.5)**2+(y-0.5)**2)\n",
      "        if distance <= 0.5:\n",
      "            number_of_darts_in_circle += 1\n",
      "        else:\n",
      "            pass\n",
      "    return 4*number_of_darts_in_circle/float(number_of_darts)"
     ],
     "language": "python",
     "metadata": {},
     "outputs": [],
     "prompt_number": 2
    },
    {
     "cell_type": "code",
     "collapsed": false,
     "input": [
      "from IPython import parallel\n",
      "rc = parallel.Client()\n",
      "dview = rc[:]\n",
      "with dview.sync_imports():\n",
      "    from numpy import sqrt\n",
      "    from random import uniform\n",
      "    from time import time\n",
      "    \n",
      "def pi_approx_par(number_of_darts):\n",
      "    ''' approximate pi using parallel method '''\n",
      "    number_of_darts_per_thread = number_of_darts/len(dview)\n",
      "    start_time = time()\n",
      "    d_result = dview.apply_async(pi_approx, number_of_darts_per_thread)\n",
      "    result = d_result.get()\n",
      "    end_time = time()\n",
      "    execution_time = end_time - start_time\n",
      "    pi_apx = sum(result)/float(len(result))\n",
      "    return [execution_time, pi_apx]\n",
      "    \n",
      "\n",
      "time_Ipar = []\n",
      "for darts in number_of_darts:\n",
      "    time_temp = pi_approx_par(darts)\n",
      "    time_temp.insert(0, darts)\n",
      "    time_Ipar.append(time_temp)\n",
      "time_Ipar = np.array(time_Ipar)\n",
      "time_Ipar"
     ],
     "language": "python",
     "metadata": {},
     "outputs": [
      {
       "output_type": "stream",
       "stream": "stdout",
       "text": [
        "importing sqrt from numpy on engine(s)\n",
        "importing uniform from random on engine(s)\n",
        "importing time from time on engine(s)\n"
       ]
      },
      {
       "metadata": {},
       "output_type": "pyout",
       "prompt_number": 14,
       "text": [
        "array([[  1.00000000e+01,   1.25110149e-02,   3.20000000e+00],\n",
        "       [  1.00000000e+02,   1.12540722e-02,   2.80000000e+00],\n",
        "       [  1.00000000e+03,   1.79550648e-02,   3.16000000e+00],\n",
        "       [  1.00000000e+04,   8.06760788e-02,   3.12480000e+00],\n",
        "       [  1.00000000e+05,   7.52233028e-01,   3.14552000e+00],\n",
        "       [  1.00000000e+06,   8.04435897e+00,   3.14304800e+00]])"
       ]
      }
     ],
     "prompt_number": 14
    },
    {
     "cell_type": "code",
     "collapsed": false,
     "input": [
      "def pi_approx_stdlib(number_of_darts):\n",
      "    if __name__ == '__main__':\n",
      "        pool = multiprocessing.Pool(processes=2)\n",
      "        start_time = time()\n",
      "        pi_apx = pool.apply_async(pi_approx, [number_of_darts]).get()\n",
      "        end_time = time()\n",
      "        execution_time = end_time-start_time\n",
      "        pool.terminate()\n",
      "        return [execution_time, pi_apx]\n",
      "time_stdlib = []\n",
      "for dart in number_of_darts:\n",
      "    time_temp = pi_approx_stdlib(dart)\n",
      "    time_temp.insert(0, dart)\n",
      "    time_stdlib.append(time_temp)\n",
      "time_stdlib = np.array(time_stdlib)\n",
      "time_stdlib\n"
     ],
     "language": "python",
     "metadata": {},
     "outputs": [
      {
       "metadata": {},
       "output_type": "pyout",
       "prompt_number": 6,
       "text": [
        "array([[  1.00000000e+01,   2.32219696e-03,   4.00000000e+00],\n",
        "       [  1.00000000e+02,   5.82718849e-03,   3.56000000e+00],\n",
        "       [  1.00000000e+03,   1.28152370e-02,   3.16000000e+00],\n",
        "       [  1.00000000e+04,   1.03483915e-01,   3.16920000e+00],\n",
        "       [  1.00000000e+05,   1.14927220e+00,   3.13992000e+00],\n",
        "       [  1.00000000e+06,   9.99018693e+00,   3.13997600e+00]])"
       ]
      }
     ],
     "prompt_number": 6
    },
    {
     "cell_type": "code",
     "collapsed": false,
     "input": [
      "f0, ax0 = plt.subplots()\n",
      "ax0.loglog(time_serial[:,0], time_serial[:,1], label='serial')\n",
      "ax0.loglog(time_Ipar[:,0], time_Ipar[:,1], label='Ipython')\n",
      "ax0.loglog(time_stdlib[:,0],time_stdlib[:,1], label='StdLib')\n",
      "ax0.legend()\n",
      "ax0."
     ],
     "language": "python",
     "metadata": {},
     "outputs": [
      {
       "metadata": {},
       "output_type": "pyout",
       "prompt_number": 18,
       "text": [
        "<matplotlib.legend.Legend at 0x104ef0fd0>"
       ]
      }
     ],
     "prompt_number": 18
    },
    {
     "cell_type": "code",
     "collapsed": false,
     "input": [],
     "language": "python",
     "metadata": {},
     "outputs": []
    }
   ],
   "metadata": {}
  }
 ]
}