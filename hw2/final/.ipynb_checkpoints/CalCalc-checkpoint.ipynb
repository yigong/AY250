{
 "metadata": {
  "name": ""
 },
 "nbformat": 3,
 "nbformat_minor": 0,
 "worksheets": [
  {
   "cells": [
    {
     "cell_type": "code",
     "collapsed": false,
     "input": [
      "import urllib2\n",
      "import re\n",
      "import pdb\n",
      "def calculate(input_str, return_float = False):\n",
      "    try:\n",
      "        result = eval(input_str,{'__builtins__':{},})\n",
      "    except:\n",
      "        input_str = input_str.replace(' ','%20')\n",
      "        WolframA = urllib2.urlopen('http://api.wolframalpha.com/v2/query?input='+input_str+'&appid=UAGAWR-3X6Y8W777Q')\n",
      "        content = WolframA.read()        \n",
      "        subWolframA = re.search(r'title=\\'Result\\'.*?</plaintext>',content,re.S).group()\n",
      "        answer = re.search(r'<plaintext>.*</plaintext>',subWolframA,re.S).group()\n",
      "        result = answer[11:-12]\n",
      "        result = result.replace('\\xc3\\x9710^','e')\n",
      "    if return_float:\n",
      "        result = float(result)\n",
      "    else:\n",
      "        pass\n",
      "    return result\n",
      "\n",
      "if __name__ == '__main__':\n",
      "    import argparse\n",
      "    parser = argparse.ArgumentParser(description='This is a calculator')\n",
      "    parser.add_argument('question', type = str, help = 'question you wanna ask the calculator')\n",
      "    parser.add_argument('-v','--version', action = 'store_true', help = 'The version of the calculator' )\n",
      "    args = parser.parse_args()\n",
      "    result = calculate(args.question)\n",
      "    print str(result)\n",
      "    if args.version:\n",
      "        print 'This calculator is in version ' + '1.0'\n",
      "    else:\n",
      "        pass\n",
      "    \n",
      "def test_1():\n",
      "    assert abs(4.-calculate('2**2'))<0.001"
     ],
     "language": "python",
     "metadata": {},
     "outputs": [
      {
       "ename": "IndentationError",
       "evalue": "expected an indented block (<ipython-input-1-5e1315de08c0>, line 34)",
       "output_type": "pyerr",
       "traceback": [
        "\u001b[0;36m  File \u001b[0;32m\"<ipython-input-1-5e1315de08c0>\"\u001b[0;36m, line \u001b[0;32m34\u001b[0m\n\u001b[0;31m    def test_1():\u001b[0m\n\u001b[0m                 ^\u001b[0m\n\u001b[0;31mIndentationError\u001b[0m\u001b[0;31m:\u001b[0m expected an indented block\n"
       ]
      }
     ],
     "prompt_number": 1
    },
    {
     "cell_type": "code",
     "collapsed": false,
     "input": [],
     "language": "python",
     "metadata": {},
     "outputs": []
    }
   ],
   "metadata": {}
  }
 ]
}