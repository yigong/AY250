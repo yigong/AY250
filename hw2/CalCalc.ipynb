{
 "metadata": {
  "name": ""
 },
 "nbformat": 3,
 "nbformat_minor": 0,
 "worksheets": [
  {
   "cells": [
    {
     "cell_type": "code",
     "collapsed": false,
     "input": [
      "import urllib2\n",
      "import re\n",
      "import pdb\n",
      "def calculate(input_str, return_float = False):\n",
      "    assert isinstance(input_str,str), 'please input a string'\n",
      "    try:\n",
      "        result = eval(input_str,{'__builtins__':{},})\n",
      "    except:\n",
      "        input_str = input_str.replace(' ','%20')\n",
      "        WolframA = urllib2.urlopen('http://api.wolframalpha.com/v2/query?input='+input_str+'&appid=UAGAWR-3X6Y8W777Q')\n",
      "        WolframA\n",
      "        content = WolframA.read()\n",
      "        \n",
      "        subWolframA = re.search(r'title=\\'Result\\'.*?</plaintext>',content,re.S).group()\n",
      "        answer = re.search(r'<plaintext>.*</plaintext>',subWolframA,re.S).group()\n",
      "        result = answer[11:-12]\n",
      "        result = result.replace('\\xc3\\x9710^','1e')\n",
      "    if return_float:\n",
      "        result = float(result)\n",
      "    else:\n",
      "        pass\n",
      "    return result\n",
      "    \n"
     ],
     "language": "python",
     "metadata": {},
     "outputs": [],
     "prompt_number": 205
    },
    {
     "cell_type": "code",
     "collapsed": false,
     "input": [
      "calculate('1+2')"
     ],
     "language": "python",
     "metadata": {},
     "outputs": [
      {
       "metadata": {},
       "output_type": "pyout",
       "prompt_number": 209,
       "text": [
        "3"
       ]
      }
     ],
     "prompt_number": 209
    },
    {
     "cell_type": "code",
     "collapsed": false,
     "input": [
      "assert"
     ],
     "language": "python",
     "metadata": {},
     "outputs": [
      {
       "ename": "SyntaxError",
       "evalue": "invalid syntax (<ipython-input-197-07ddf2f8186f>, line 1)",
       "output_type": "pyerr",
       "traceback": [
        "\u001b[1;36m  File \u001b[1;32m\"<ipython-input-197-07ddf2f8186f>\"\u001b[1;36m, line \u001b[1;32m1\u001b[0m\n\u001b[1;33m    help(assert())\u001b[0m\n\u001b[1;37m              ^\u001b[0m\n\u001b[1;31mSyntaxError\u001b[0m\u001b[1;31m:\u001b[0m invalid syntax\n"
       ]
      }
     ],
     "prompt_number": 197
    },
    {
     "cell_type": "code",
     "collapsed": false,
     "input": [
      "from CalCalc import calculate"
     ],
     "language": "python",
     "metadata": {},
     "outputs": [],
     "prompt_number": 6
    },
    {
     "cell_type": "code",
     "collapsed": false,
     "input": [
      "safe_list = ['math','acos', 'asin', 'atan', 'atan2', 'ceil', 'cos', 'cosh', 'degrees',\\\n",
      "             'e', 'exp', 'fabs', 'floor', 'fmod', 'frexp', 'hypot', 'ldexp', 'log',\\\n",
      "             'log10', 'modf', 'pi', 'pow', 'radians', 'sin', 'sinh', 'sqrt', 'tan', 'tanh']"
     ],
     "language": "python",
     "metadata": {},
     "outputs": [],
     "prompt_number": 19
    },
    {
     "cell_type": "code",
     "collapsed": false,
     "input": [
      "safe_dict = dict([(k, locals().get(k,None)) for k in safe_list])"
     ],
     "language": "python",
     "metadata": {},
     "outputs": [],
     "prompt_number": 20
    },
    {
     "cell_type": "code",
     "collapsed": false,
     "input": [
      "print safe_dict"
     ],
     "language": "python",
     "metadata": {},
     "outputs": [
      {
       "output_type": "stream",
       "stream": "stdout",
       "text": [
        "{'pow': None, 'cosh': None, 'ldexp': None, 'hypot': None, 'tan': None, 'asin': None, 'log': None, 'fabs': None, 'floor': None, 'sqrt': None, 'frexp': None, 'degrees': None, 'pi': None, 'log10': None, 'sin': None, 'math': None, 'modf': None, 'atan': None, 'ceil': None, 'sinh': None, 'cos': None, 'e': None, 'tanh': None, 'radians': None, 'atan2': None, 'fmod': None, 'exp': None, 'acos': None}\n"
       ]
      }
     ],
     "prompt_number": 21
    },
    {
     "cell_type": "code",
     "collapsed": false,
     "input": [
      "2^3"
     ],
     "language": "python",
     "metadata": {},
     "outputs": [
      {
       "metadata": {},
       "output_type": "pyout",
       "prompt_number": 22,
       "text": [
        "1"
       ]
      }
     ],
     "prompt_number": 22
    },
    {
     "cell_type": "code",
     "collapsed": false,
     "input": [
      "import urllib2"
     ],
     "language": "python",
     "metadata": {},
     "outputs": [],
     "prompt_number": 2
    },
    {
     "cell_type": "code",
     "collapsed": false,
     "input": [
      "response = urllib2.urlopen('http://api.wolframalpha.com/v2/query?appid=xxx&input=mass%20of%20moon&format=image,plaintext')"
     ],
     "language": "python",
     "metadata": {},
     "outputs": [],
     "prompt_number": 34
    },
    {
     "cell_type": "code",
     "collapsed": false,
     "input": [
      "from lxml import etree"
     ],
     "language": "python",
     "metadata": {},
     "outputs": [],
     "prompt_number": 35
    },
    {
     "cell_type": "code",
     "collapsed": false,
     "input": [
      "doc = etree.parse(response)"
     ],
     "language": "python",
     "metadata": {},
     "outputs": [],
     "prompt_number": 37
    },
    {
     "cell_type": "code",
     "collapsed": false,
     "input": [
      "doc"
     ],
     "language": "python",
     "metadata": {},
     "outputs": [
      {
       "metadata": {},
       "output_type": "pyout",
       "prompt_number": 38,
       "text": [
        "<lxml.etree._ElementTree at 0x103491dd0>"
       ]
      }
     ],
     "prompt_number": 38
    },
    {
     "cell_type": "code",
     "collapsed": false,
     "input": [
      "print doc"
     ],
     "language": "python",
     "metadata": {},
     "outputs": [
      {
       "output_type": "stream",
       "stream": "stdout",
       "text": [
        "<lxml.etree._ElementTree object at 0x103491dd0>\n"
       ]
      }
     ],
     "prompt_number": 39
    },
    {
     "cell_type": "code",
     "collapsed": false,
     "input": [
      "a = doc.find('moon')"
     ],
     "language": "python",
     "metadata": {},
     "outputs": [],
     "prompt_number": 42
    },
    {
     "cell_type": "code",
     "collapsed": false,
     "input": [
      "a"
     ],
     "language": "python",
     "metadata": {},
     "outputs": [],
     "prompt_number": 43
    },
    {
     "cell_type": "code",
     "collapsed": false,
     "input": [
      "import re\n",
      "re.findall(r'<pod title')"
     ],
     "language": "python",
     "metadata": {},
     "outputs": [],
     "prompt_number": 9
    },
    {
     "cell_type": "code",
     "collapsed": false,
     "input": [
      "request = urllib2.urlopen('http://api.wolframalpha.com/v2/query?input=whats%20the%20mass%20of%20earth&appid=UAGAWR-3X6Y8W777Q')\n",
      "content = request.read()"
     ],
     "language": "python",
     "metadata": {},
     "outputs": [],
     "prompt_number": 7
    },
    {
     "cell_type": "code",
     "collapsed": false,
     "input": [
      "re.search(r'title=\\'Result\\'',content).group(0)"
     ],
     "language": "python",
     "metadata": {},
     "outputs": [
      {
       "metadata": {},
       "output_type": "pyout",
       "prompt_number": 72,
       "text": [
        "\"title='Result'\""
       ]
      }
     ],
     "prompt_number": 72
    },
    {
     "cell_type": "code",
     "collapsed": false,
     "input": [
      "a"
     ],
     "language": "python",
     "metadata": {},
     "outputs": [
      {
       "metadata": {},
       "output_type": "pyout",
       "prompt_number": 21,
       "text": [
        "<_sre.SRE_Match at 0x34c65e0>"
       ]
      }
     ],
     "prompt_number": 21
    },
    {
     "cell_type": "code",
     "collapsed": false,
     "input": [
      "pattern = re.compile('d')"
     ],
     "language": "python",
     "metadata": {},
     "outputs": [],
     "prompt_number": 22
    },
    {
     "cell_type": "code",
     "collapsed": false,
     "input": [
      "print \"Isaac Newton\\n physicist\""
     ],
     "language": "python",
     "metadata": {},
     "outputs": [
      {
       "output_type": "stream",
       "stream": "stdout",
       "text": [
        "Isaac Newton\n",
        " physicist\n"
       ]
      }
     ],
     "prompt_number": 101
    },
    {
     "cell_type": "code",
     "collapsed": false,
     "input": [
      "re.search(r'Newt?', \"Isaac Newton,\\n physicist\",re.DOTALL).group()"
     ],
     "language": "python",
     "metadata": {},
     "outputs": [
      {
       "ename": "error",
       "evalue": "internal: unsupported template operator",
       "output_type": "pyerr",
       "traceback": [
        "\u001b[1;31m---------------------------------------------------------------------------\u001b[0m\n\u001b[1;31merror\u001b[0m                                     Traceback (most recent call last)",
        "\u001b[1;32m<ipython-input-122-0593c4353651>\u001b[0m in \u001b[0;36m<module>\u001b[1;34m()\u001b[0m\n\u001b[1;32m----> 1\u001b[1;33m \u001b[0mre\u001b[0m\u001b[1;33m.\u001b[0m\u001b[0msearch\u001b[0m\u001b[1;33m(\u001b[0m\u001b[1;34mr'Newt?'\u001b[0m\u001b[1;33m,\u001b[0m \u001b[1;34m\"Isaac Newton,\\n physicist\"\u001b[0m\u001b[1;33m,\u001b[0m\u001b[0mre\u001b[0m\u001b[1;33m.\u001b[0m\u001b[0mDOTALL\u001b[0m\u001b[1;33m)\u001b[0m\u001b[1;33m.\u001b[0m\u001b[0mgroup\u001b[0m\u001b[1;33m(\u001b[0m\u001b[1;33m)\u001b[0m\u001b[1;33m\u001b[0m\u001b[0m\n\u001b[0m",
        "\u001b[1;32m/home/yigong/anaconda/lib/python2.7/re.pyc\u001b[0m in \u001b[0;36msearch\u001b[1;34m(pattern, string, flags)\u001b[0m\n\u001b[0;32m    140\u001b[0m     \"\"\"Scan through string looking for a match to the pattern, returning\n\u001b[0;32m    141\u001b[0m     a match object, or None if no match was found.\"\"\"\n\u001b[1;32m--> 142\u001b[1;33m     \u001b[1;32mreturn\u001b[0m \u001b[0m_compile\u001b[0m\u001b[1;33m(\u001b[0m\u001b[0mpattern\u001b[0m\u001b[1;33m,\u001b[0m \u001b[0mflags\u001b[0m\u001b[1;33m)\u001b[0m\u001b[1;33m.\u001b[0m\u001b[0msearch\u001b[0m\u001b[1;33m(\u001b[0m\u001b[0mstring\u001b[0m\u001b[1;33m)\u001b[0m\u001b[1;33m\u001b[0m\u001b[0m\n\u001b[0m\u001b[0;32m    143\u001b[0m \u001b[1;33m\u001b[0m\u001b[0m\n\u001b[0;32m    144\u001b[0m \u001b[1;32mdef\u001b[0m \u001b[0msub\u001b[0m\u001b[1;33m(\u001b[0m\u001b[0mpattern\u001b[0m\u001b[1;33m,\u001b[0m \u001b[0mrepl\u001b[0m\u001b[1;33m,\u001b[0m \u001b[0mstring\u001b[0m\u001b[1;33m,\u001b[0m \u001b[0mcount\u001b[0m\u001b[1;33m=\u001b[0m\u001b[1;36m0\u001b[0m\u001b[1;33m,\u001b[0m \u001b[0mflags\u001b[0m\u001b[1;33m=\u001b[0m\u001b[1;36m0\u001b[0m\u001b[1;33m)\u001b[0m\u001b[1;33m:\u001b[0m\u001b[1;33m\u001b[0m\u001b[0m\n",
        "\u001b[1;32m/home/yigong/anaconda/lib/python2.7/re.pyc\u001b[0m in \u001b[0;36m_compile\u001b[1;34m(*key)\u001b[0m\n\u001b[0;32m    240\u001b[0m         \u001b[0mp\u001b[0m \u001b[1;33m=\u001b[0m \u001b[0msre_compile\u001b[0m\u001b[1;33m.\u001b[0m\u001b[0mcompile\u001b[0m\u001b[1;33m(\u001b[0m\u001b[0mpattern\u001b[0m\u001b[1;33m,\u001b[0m \u001b[0mflags\u001b[0m\u001b[1;33m)\u001b[0m\u001b[1;33m\u001b[0m\u001b[0m\n\u001b[0;32m    241\u001b[0m     \u001b[1;32mexcept\u001b[0m \u001b[0merror\u001b[0m\u001b[1;33m,\u001b[0m \u001b[0mv\u001b[0m\u001b[1;33m:\u001b[0m\u001b[1;33m\u001b[0m\u001b[0m\n\u001b[1;32m--> 242\u001b[1;33m         \u001b[1;32mraise\u001b[0m \u001b[0merror\u001b[0m\u001b[1;33m,\u001b[0m \u001b[0mv\u001b[0m \u001b[1;31m# invalid expression\u001b[0m\u001b[1;33m\u001b[0m\u001b[0m\n\u001b[0m\u001b[0;32m    243\u001b[0m     \u001b[1;32mif\u001b[0m \u001b[0mlen\u001b[0m\u001b[1;33m(\u001b[0m\u001b[0m_cache\u001b[0m\u001b[1;33m)\u001b[0m \u001b[1;33m>=\u001b[0m \u001b[0m_MAXCACHE\u001b[0m\u001b[1;33m:\u001b[0m\u001b[1;33m\u001b[0m\u001b[0m\n\u001b[0;32m    244\u001b[0m         \u001b[0m_cache\u001b[0m\u001b[1;33m.\u001b[0m\u001b[0mclear\u001b[0m\u001b[1;33m(\u001b[0m\u001b[1;33m)\u001b[0m\u001b[1;33m\u001b[0m\u001b[0m\n",
        "\u001b[1;31merror\u001b[0m: internal: unsupported template operator"
       ]
      }
     ],
     "prompt_number": 122
    },
    {
     "cell_type": "code",
     "collapsed": false,
     "input": [
      "content_test = 'Isaac Newton,\\nphysicistn'\n",
      "print content_test\n",
      "a = re.search(r'Is.*n',content_test,re.S)\n",
      "a.group()"
     ],
     "language": "python",
     "metadata": {},
     "outputs": [
      {
       "output_type": "stream",
       "stream": "stdout",
       "text": [
        "Isaac Newton,\n",
        "physicistn\n"
       ]
      },
      {
       "metadata": {},
       "output_type": "pyout",
       "prompt_number": 124,
       "text": [
        "'Isaac Newton,\\nphysicistn'"
       ]
      }
     ],
     "prompt_number": 124
    },
    {
     "cell_type": "code",
     "collapsed": false,
     "input": [
      "help(re)"
     ],
     "language": "python",
     "metadata": {},
     "outputs": [
      {
       "output_type": "stream",
       "stream": "stdout",
       "text": [
        "Help on module re:\n",
        "\n",
        "NAME\n",
        "    re - Support for regular expressions (RE).\n",
        "\n",
        "FILE\n",
        "    /home/yigong/anaconda/lib/python2.7/re.py\n",
        "\n",
        "MODULE DOCS\n",
        "    http://docs.python.org/library/re\n",
        "\n",
        "DESCRIPTION\n",
        "    This module provides regular expression matching operations similar to\n",
        "    those found in Perl.  It supports both 8-bit and Unicode strings; both\n",
        "    the pattern and the strings being processed can contain null bytes and\n",
        "    characters outside the US ASCII range.\n",
        "    \n",
        "    Regular expressions can contain both special and ordinary characters.\n",
        "    Most ordinary characters, like \"A\", \"a\", or \"0\", are the simplest\n",
        "    regular expressions; they simply match themselves.  You can\n",
        "    concatenate ordinary characters, so last matches the string 'last'.\n",
        "    \n",
        "    The special characters are:\n",
        "        \".\"      Matches any character except a newline.\n",
        "        \"^\"      Matches the start of the string.\n",
        "        \"$\"      Matches the end of the string or just before the newline at\n",
        "                 the end of the string.\n",
        "        \"*\"      Matches 0 or more (greedy) repetitions of the preceding RE.\n",
        "                 Greedy means that it will match as many repetitions as possible.\n",
        "        \"+\"      Matches 1 or more (greedy) repetitions of the preceding RE.\n",
        "        \"?\"      Matches 0 or 1 (greedy) of the preceding RE.\n",
        "        *?,+?,?? Non-greedy versions of the previous three special characters.\n",
        "        {m,n}    Matches from m to n repetitions of the preceding RE.\n",
        "        {m,n}?   Non-greedy version of the above.\n",
        "        \"\\\\\"     Either escapes special characters or signals a special sequence.\n",
        "        []       Indicates a set of characters.\n",
        "                 A \"^\" as the first character indicates a complementing set.\n",
        "        \"|\"      A|B, creates an RE that will match either A or B.\n",
        "        (...)    Matches the RE inside the parentheses.\n",
        "                 The contents can be retrieved or matched later in the string.\n",
        "        (?iLmsux) Set the I, L, M, S, U, or X flag for the RE (see below).\n",
        "        (?:...)  Non-grouping version of regular parentheses.\n",
        "        (?P<name>...) The substring matched by the group is accessible by name.\n",
        "        (?P=name)     Matches the text matched earlier by the group named name.\n",
        "        (?#...)  A comment; ignored.\n",
        "        (?=...)  Matches if ... matches next, but doesn't consume the string.\n",
        "        (?!...)  Matches if ... doesn't match next.\n",
        "        (?<=...) Matches if preceded by ... (must be fixed length).\n",
        "        (?<!...) Matches if not preceded by ... (must be fixed length).\n",
        "        (?(id/name)yes|no) Matches yes pattern if the group with id/name matched,\n",
        "                           the (optional) no pattern otherwise.\n",
        "    \n",
        "    The special sequences consist of \"\\\\\" and a character from the list\n",
        "    below.  If the ordinary character is not on the list, then the\n",
        "    resulting RE will match the second character.\n",
        "        \\number  Matches the contents of the group of the same number.\n",
        "        \\A       Matches only at the start of the string.\n",
        "        \\Z       Matches only at the end of the string.\n",
        "        \\b       Matches the empty string, but only at the start or end of a word.\n",
        "        \\B       Matches the empty string, but not at the start or end of a word.\n",
        "        \\d       Matches any decimal digit; equivalent to the set [0-9].\n",
        "        \\D       Matches any non-digit character; equivalent to the set [^0-9].\n",
        "        \\s       Matches any whitespace character; equivalent to [ \\t\\n\\r\\f\\v].\n",
        "        \\S       Matches any non-whitespace character; equiv. to [^ \\t\\n\\r\\f\\v].\n",
        "        \\w       Matches any alphanumeric character; equivalent to [a-zA-Z0-9_].\n",
        "                 With LOCALE, it will match the set [0-9_] plus characters defined\n",
        "                 as letters for the current locale.\n",
        "        \\W       Matches the complement of \\w.\n",
        "        \\\\       Matches a literal backslash.\n",
        "    \n",
        "    This module exports the following functions:\n",
        "        match    Match a regular expression pattern to the beginning of a string.\n",
        "        search   Search a string for the presence of a pattern.\n",
        "        sub      Substitute occurrences of a pattern found in a string.\n",
        "        subn     Same as sub, but also return the number of substitutions made.\n",
        "        split    Split a string by the occurrences of a pattern.\n",
        "        findall  Find all occurrences of a pattern in a string.\n",
        "        finditer Return an iterator yielding a match object for each match.\n",
        "        compile  Compile a pattern into a RegexObject.\n",
        "        purge    Clear the regular expression cache.\n",
        "        escape   Backslash all non-alphanumerics in a string.\n",
        "    \n",
        "    Some of the functions in this module takes flags as optional parameters:\n",
        "        I  IGNORECASE  Perform case-insensitive matching.\n",
        "        L  LOCALE      Make \\w, \\W, \\b, \\B, dependent on the current locale.\n",
        "        M  MULTILINE   \"^\" matches the beginning of lines (after a newline)\n",
        "                       as well as the string.\n",
        "                       \"$\" matches the end of lines (before a newline) as well\n",
        "                       as the end of the string.\n",
        "        S  DOTALL      \".\" matches any character at all, including the newline.\n",
        "        X  VERBOSE     Ignore whitespace and comments for nicer looking RE's.\n",
        "        U  UNICODE     Make \\w, \\W, \\b, \\B, dependent on the Unicode locale.\n",
        "    \n",
        "    This module also defines an exception 'error'.\n",
        "\n",
        "CLASSES\n",
        "    exceptions.Exception(exceptions.BaseException)\n",
        "        sre_constants.error\n",
        "    \n",
        "    class error(exceptions.Exception)\n",
        "     |  Method resolution order:\n",
        "     |      error\n",
        "     |      exceptions.Exception\n",
        "     |      exceptions.BaseException\n",
        "     |      __builtin__.object\n",
        "     |  \n",
        "     |  Data descriptors defined here:\n",
        "     |  \n",
        "     |  __weakref__\n",
        "     |      list of weak references to the object (if defined)\n",
        "     |  \n",
        "     |  ----------------------------------------------------------------------\n",
        "     |  Methods inherited from exceptions.Exception:\n",
        "     |  \n",
        "     |  __init__(...)\n",
        "     |      x.__init__(...) initializes x; see help(type(x)) for signature\n",
        "     |  \n",
        "     |  ----------------------------------------------------------------------\n",
        "     |  Data and other attributes inherited from exceptions.Exception:\n",
        "     |  \n",
        "     |  __new__ = <built-in method __new__ of type object>\n",
        "     |      T.__new__(S, ...) -> a new object with type S, a subtype of T\n",
        "     |  \n",
        "     |  ----------------------------------------------------------------------\n",
        "     |  Methods inherited from exceptions.BaseException:\n",
        "     |  \n",
        "     |  __delattr__(...)\n",
        "     |      x.__delattr__('name') <==> del x.name\n",
        "     |  \n",
        "     |  __getattribute__(...)\n",
        "     |      x.__getattribute__('name') <==> x.name\n",
        "     |  \n",
        "     |  __getitem__(...)\n",
        "     |      x.__getitem__(y) <==> x[y]\n",
        "     |  \n",
        "     |  __getslice__(...)\n",
        "     |      x.__getslice__(i, j) <==> x[i:j]\n",
        "     |      \n",
        "     |      Use of negative indices is not supported.\n",
        "     |  \n",
        "     |  __reduce__(...)\n",
        "     |  \n",
        "     |  __repr__(...)\n",
        "     |      x.__repr__() <==> repr(x)\n",
        "     |  \n",
        "     |  __setattr__(...)\n",
        "     |      x.__setattr__('name', value) <==> x.name = value\n",
        "     |  \n",
        "     |  __setstate__(...)\n",
        "     |  \n",
        "     |  __str__(...)\n",
        "     |      x.__str__() <==> str(x)\n",
        "     |  \n",
        "     |  __unicode__(...)\n",
        "     |  \n",
        "     |  ----------------------------------------------------------------------\n",
        "     |  Data descriptors inherited from exceptions.BaseException:\n",
        "     |  \n",
        "     |  __dict__\n",
        "     |  \n",
        "     |  args\n",
        "     |  \n",
        "     |  message\n",
        "\n",
        "FUNCTIONS\n",
        "    compile(pattern, flags=0)\n",
        "        Compile a regular expression pattern, returning a pattern object.\n",
        "    \n",
        "    escape(pattern)\n",
        "        Escape all non-alphanumeric characters in pattern.\n",
        "    \n",
        "    findall(pattern, string, flags=0)\n",
        "        Return a list of all non-overlapping matches in the string.\n",
        "        \n",
        "        If one or more groups are present in the pattern, return a\n",
        "        list of groups; this will be a list of tuples if the pattern\n",
        "        has more than one group.\n",
        "        \n",
        "        Empty matches are included in the result.\n",
        "    \n",
        "    finditer(pattern, string, flags=0)\n",
        "        Return an iterator over all non-overlapping matches in the\n",
        "        string.  For each match, the iterator returns a match object.\n",
        "        \n",
        "        Empty matches are included in the result.\n",
        "    \n",
        "    match(pattern, string, flags=0)\n",
        "        Try to apply the pattern at the start of the string, returning\n",
        "        a match object, or None if no match was found.\n",
        "    \n",
        "    purge()\n",
        "        Clear the regular expression cache\n",
        "    \n",
        "    search(pattern, string, flags=0)\n",
        "        Scan through string looking for a match to the pattern, returning\n",
        "        a match object, or None if no match was found.\n",
        "    \n",
        "    split(pattern, string, maxsplit=0, flags=0)\n",
        "        Split the source string by the occurrences of the pattern,\n",
        "        returning a list containing the resulting substrings.\n",
        "    \n",
        "    sub(pattern, repl, string, count=0, flags=0)\n",
        "        Return the string obtained by replacing the leftmost\n",
        "        non-overlapping occurrences of the pattern in string by the\n",
        "        replacement repl.  repl can be either a string or a callable;\n",
        "        if a string, backslash escapes in it are processed.  If it is\n",
        "        a callable, it's passed the match object and must return\n",
        "        a replacement string to be used.\n",
        "    \n",
        "    subn(pattern, repl, string, count=0, flags=0)\n",
        "        Return a 2-tuple containing (new_string, number).\n",
        "        new_string is the string obtained by replacing the leftmost\n",
        "        non-overlapping occurrences of the pattern in the source\n",
        "        string by the replacement repl.  number is the number of\n",
        "        substitutions that were made. repl can be either a string or a\n",
        "        callable; if a string, backslash escapes in it are processed.\n",
        "        If it is a callable, it's passed the match object and must\n",
        "        return a replacement string to be used.\n",
        "    \n",
        "    template(pattern, flags=0)\n",
        "        Compile a template pattern, returning a pattern object\n",
        "\n",
        "DATA\n",
        "    DOTALL = True\n",
        "    I = 2\n",
        "    IGNORECASE = 2\n",
        "    L = 4\n",
        "    LOCALE = 4\n",
        "    M = 8\n",
        "    MULTILINE = 8\n",
        "    S = 16\n",
        "    U = 32\n",
        "    UNICODE = 32\n",
        "    VERBOSE = 64\n",
        "    X = 64\n",
        "    __all__ = ['match', 'search', 'sub', 'subn', 'split', 'findall', 'comp...\n",
        "    __version__ = '2.2.1'\n",
        "\n",
        "VERSION\n",
        "    2.2.1\n",
        "\n",
        "\n"
       ]
      }
     ],
     "prompt_number": 119
    },
    {
     "cell_type": "code",
     "collapsed": false,
     "input": [
      "aaa = re.search(r'title=\\'Result\\'.*?</plaintext>',content,re.S)\n"
     ],
     "language": "python",
     "metadata": {},
     "outputs": [],
     "prompt_number": 129
    },
    {
     "cell_type": "code",
     "collapsed": false,
     "input": [
      "subWolfram = aaa.group()"
     ],
     "language": "python",
     "metadata": {},
     "outputs": [],
     "prompt_number": 132
    },
    {
     "cell_type": "code",
     "collapsed": false,
     "input": [
      "print re.search(r'<plaintext>(.*)</plaintext>',subWolfram).group()"
     ],
     "language": "python",
     "metadata": {},
     "outputs": [
      {
       "output_type": "stream",
       "stream": "stdout",
       "text": [
        "<plaintext>5.9721986\u00d710^24 kg  (kilograms)</plaintext>\n"
       ]
      }
     ],
     "prompt_number": 139
    },
    {
     "cell_type": "code",
     "collapsed": false,
     "input": [
      "a[11:-12]"
     ],
     "language": "python",
     "metadata": {},
     "outputs": [
      {
       "metadata": {},
       "output_type": "pyout",
       "prompt_number": 140,
       "text": [
        "'5.9721986\\xc3\\x9710^24 kg  (kilograms)'"
       ]
      }
     ],
     "prompt_number": 140
    },
    {
     "cell_type": "code",
     "collapsed": false,
     "input": [],
     "language": "python",
     "metadata": {},
     "outputs": []
    }
   ],
   "metadata": {}
  }
 ]
}