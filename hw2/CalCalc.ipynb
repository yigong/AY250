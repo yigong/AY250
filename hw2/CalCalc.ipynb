{
 "metadata": {
  "name": ""
 },
 "nbformat": 3,
 "nbformat_minor": 0,
 "worksheets": [
  {
   "cells": [
    {
     "cell_type": "code",
     "collapsed": false,
     "input": [
      "def calculate(st):\n",
      "    try:\n",
      "        result = eval(st,{'__builtins__':{},})\n",
      "    except:\n",
      "        \n",
      "        result = st\n",
      "        return result\n",
      "    \n",
      "    else:\n",
      "        return result\n",
      "    \n",
      "print calculate('2*3*b')"
     ],
     "language": "python",
     "metadata": {},
     "outputs": [
      {
       "output_type": "stream",
       "stream": "stdout",
       "text": [
        "2*3*b\n"
       ]
      }
     ],
     "prompt_number": 18
    },
    {
     "cell_type": "code",
     "collapsed": false,
     "input": [
      "from CalCalc import calculate"
     ],
     "language": "python",
     "metadata": {},
     "outputs": [],
     "prompt_number": 6
    },
    {
     "cell_type": "code",
     "collapsed": false,
     "input": [
      "safe_list = ['math','acos', 'asin', 'atan', 'atan2', 'ceil', 'cos', 'cosh', 'degrees',\\\n",
      "             'e', 'exp', 'fabs', 'floor', 'fmod', 'frexp', 'hypot', 'ldexp', 'log',\\\n",
      "             'log10', 'modf', 'pi', 'pow', 'radians', 'sin', 'sinh', 'sqrt', 'tan', 'tanh']"
     ],
     "language": "python",
     "metadata": {},
     "outputs": [],
     "prompt_number": 19
    },
    {
     "cell_type": "code",
     "collapsed": false,
     "input": [
      "safe_dict = dict([(k, locals().get(k,None)) for k in safe_list])"
     ],
     "language": "python",
     "metadata": {},
     "outputs": [],
     "prompt_number": 20
    },
    {
     "cell_type": "code",
     "collapsed": false,
     "input": [
      "print safe_dict"
     ],
     "language": "python",
     "metadata": {},
     "outputs": [
      {
       "output_type": "stream",
       "stream": "stdout",
       "text": [
        "{'pow': None, 'cosh': None, 'ldexp': None, 'hypot': None, 'tan': None, 'asin': None, 'log': None, 'fabs': None, 'floor': None, 'sqrt': None, 'frexp': None, 'degrees': None, 'pi': None, 'log10': None, 'sin': None, 'math': None, 'modf': None, 'atan': None, 'ceil': None, 'sinh': None, 'cos': None, 'e': None, 'tanh': None, 'radians': None, 'atan2': None, 'fmod': None, 'exp': None, 'acos': None}\n"
       ]
      }
     ],
     "prompt_number": 21
    },
    {
     "cell_type": "code",
     "collapsed": false,
     "input": [
      "2^3"
     ],
     "language": "python",
     "metadata": {},
     "outputs": [
      {
       "metadata": {},
       "output_type": "pyout",
       "prompt_number": 22,
       "text": [
        "1"
       ]
      }
     ],
     "prompt_number": 22
    },
    {
     "cell_type": "code",
     "collapsed": false,
     "input": [
      "import urllib2\n",
      "import json"
     ],
     "language": "python",
     "metadata": {},
     "outputs": [],
     "prompt_number": 27
    },
    {
     "cell_type": "code",
     "collapsed": false,
     "input": [
      "response = urllib2.urlopen('http://api.wolframalpha.com/v2/query?appid=xxx&input=mass%20of%20moon&format=image,plaintext')"
     ],
     "language": "python",
     "metadata": {},
     "outputs": [],
     "prompt_number": 34
    },
    {
     "cell_type": "code",
     "collapsed": false,
     "input": [
      "from lxml import etree"
     ],
     "language": "python",
     "metadata": {},
     "outputs": [],
     "prompt_number": 35
    },
    {
     "cell_type": "code",
     "collapsed": false,
     "input": [
      "doc = etree.parse(response)"
     ],
     "language": "python",
     "metadata": {},
     "outputs": [],
     "prompt_number": 37
    },
    {
     "cell_type": "code",
     "collapsed": false,
     "input": [
      "doc"
     ],
     "language": "python",
     "metadata": {},
     "outputs": [
      {
       "metadata": {},
       "output_type": "pyout",
       "prompt_number": 38,
       "text": [
        "<lxml.etree._ElementTree at 0x103491dd0>"
       ]
      }
     ],
     "prompt_number": 38
    },
    {
     "cell_type": "code",
     "collapsed": false,
     "input": [
      "print doc"
     ],
     "language": "python",
     "metadata": {},
     "outputs": [
      {
       "output_type": "stream",
       "stream": "stdout",
       "text": [
        "<lxml.etree._ElementTree object at 0x103491dd0>\n"
       ]
      }
     ],
     "prompt_number": 39
    },
    {
     "cell_type": "code",
     "collapsed": false,
     "input": [
      "a = doc.find('moon')"
     ],
     "language": "python",
     "metadata": {},
     "outputs": [],
     "prompt_number": 42
    },
    {
     "cell_type": "code",
     "collapsed": false,
     "input": [
      "a"
     ],
     "language": "python",
     "metadata": {},
     "outputs": [],
     "prompt_number": 43
    },
    {
     "cell_type": "code",
     "collapsed": false,
     "input": [
      "print a"
     ],
     "language": "python",
     "metadata": {},
     "outputs": [
      {
       "output_type": "stream",
       "stream": "stdout",
       "text": [
        "None\n"
       ]
      }
     ],
     "prompt_number": 44
    },
    {
     "cell_type": "code",
     "collapsed": false,
     "input": [
      "request = urllib2.urlopen('http://www.securitytube.net/')\n",
      "content = request.read()"
     ],
     "language": "python",
     "metadata": {},
     "outputs": [],
     "prompt_number": 45
    },
    {
     "cell_type": "code",
     "collapsed": false,
     "input": [
      "content"
     ],
     "language": "python",
     "metadata": {},
     "outputs": [
      {
       "metadata": {},
       "output_type": "pyout",
       "prompt_number": 46,
       "text": [
        "'\\r\\n<!DOCTYPE html PUBLIC \"-//W3C//DTD XHTML 1.0 Transitional//EN\" \"http://www.w3.org/TR/xhtml1/DTD/xhtml1-transitional.dtd\">\\r\\n<html xmlns=\"http://www.w3.org/1999/xhtml\" xml:lang=\"en\" lang=\"en\">\\r\\n\\r\\n<head>\\r\\n<meta name=\"google-site-verification\" content=\"6xTaa3p8o4OQd0L-iD2eRvaDjJR8rxUdSyZ1Etm5LMI\" />\\t\\r\\n\\t<meta http-equiv=\"Content-Type\" content=\"text/html;charset=utf-8\" /> \\r\\n\\t<title>Welcome to SecurityTube.net</title>\\r\\n\\r\\n\\t<!-- #meta keywords  -->\\r\\n\\t<meta name=\"keywords\" content=\" \" />\\r\\n      \\r\\n\\t<!-- #meta description  -->\\r\\n\\t<meta name=\"description\" content=\" \" />\\r\\n\\t\\r\\n\\t<meta name=\"apple-mobile-web-app-capable\" content=\"no\" />\\r\\n\\t<meta name=\"apple-mobile-web-app-status-bar-style\" content=\"black\" />\\r\\n\\t<meta name=\"viewport\" content=\"width=device-width,initial-scale=0.69,user-scalable=yes,maximum-scale=1.00\" />\\r\\n\\t\\r\\n\\t<style type=\"text/css\">\\r\\n\\t\\t@import url(\"/css/style.css\");\\r\\n\\t\\t@import url(\"/css/forms.css\");\\r\\n\\t\\t@import url(\"/css/forms-btn.css\");\\r\\n\\t\\t@import url(\"/css/menu.css\");\\r\\n\\t\\t@import url(\\'/css/style_text.css\\');\\r\\n\\t\\t@import url(\"/css/datatables.css\");\\r\\n\\t\\t@import url(\"/css/fullcalendar.css\");\\r\\n\\t\\t@import url(\"/css/pirebox.css\");\\r\\n\\t\\t@import url(\"/css/modalwindow.css\");\\r\\n\\t\\t@import url(\"/css/statics.css\");\\r\\n\\t\\t@import url(\"/css/tabs-toggle.css\");\\r\\n\\t\\t@import url(\"/css/system-message.css\");\\r\\n\\t\\t@import url(\"/css/tooltip.css\");\\r\\n\\t\\t@import url(\"/css/wizard.css\");\\r\\n\\t\\t@import url(\"/css/wysiwyg.css\");\\r\\n\\t\\t@import url(\"/css/wysiwyg.modal.css\");\\r\\n\\t\\t@import url(\"/css/wysiwyg-editor.css\");\\r\\n\\t\\t@import url(\"/css/handheld.css\");\\r\\n\\t</style>\\r\\n\\t\\r\\n\\t<!--[if lte IE 8]>\\r\\n\\t\\t<script type=\"text/javascript\" src=\"/js/excanvas.min.js\"></script>\\r\\n\\t<![endif]-->\\r\\n\\t\\r\\n\\t<script type=\"text/javascript\" src=\"/js/jquery-1.7.1.min.js\"></script>\\r\\n\\t<script type=\"text/javascript\" src=\"/js/jquery.backgroundPosition.js\"></script>\\r\\n\\t<script type=\"text/javascript\" src=\"/js/jquery.placeholder.min.js\"></script>\\r\\n\\t<script type=\"text/javascript\" src=\"/js/jquery.ui.1.8.17.js\"></script>\\r\\n\\t<script type=\"text/javascript\" src=\"/js/jquery.ui.select.js\"></script>\\r\\n\\t<script type=\"text/javascript\" src=\"/js/jquery.ui.spinner.js\"></script>\\r\\n\\t<script type=\"text/javascript\" src=\"/js/superfish.js\"></script>\\r\\n\\t<script type=\"text/javascript\" src=\"/js/supersubs.js\"></script>\\r\\n\\t<script type=\"text/javascript\" src=\"/js/jquery.datatables.js\"></script>\\r\\n\\t<script type=\"text/javascript\" src=\"/js/fullcalendar.min.js\"></script>\\r\\n\\t<script type=\"text/javascript\" src=\"/js/jquery.smartwizard-2.0.min.js\"></script>\\r\\n\\t<script type=\"text/javascript\" src=\"/js/pirobox.extended.min.js\"></script>\\r\\n\\t<script type=\"text/javascript\" src=\"/js/jquery.tipsy.js\"></script>\\r\\n\\t<script type=\"text/javascript\" src=\"/js/jquery.elastic.source.js\"></script>\\r\\n\\t<script type=\"text/javascript\" src=\"/js/jquery.jBreadCrumb.1.1.js\"></script>\\r\\n\\t<script type=\"text/javascript\" src=\"/js/jquery.customInput.js\"></script>\\r\\n\\t<script type=\"text/javascript\" src=\"/js/jquery.validate.min.js\"></script>\\r\\n\\t<script type=\"text/javascript\" src=\"/js/jquery.metadata.js\"></script>\\r\\n\\t<script type=\"text/javascript\" src=\"/js/jquery.filestyle.mini.js\"></script>\\r\\n\\t<script type=\"text/javascript\" src=\"/js/jquery.filter.input.js\"></script>\\r\\n\\t<script type=\"text/javascript\" src=\"/js/jquery.flot.js\"></script>\\r\\n\\t<script type=\"text/javascript\" src=\"/js/jquery.flot.pie.min.js\"></script>\\r\\n\\t<script type=\"text/javascript\" src=\"/js/jquery.flot.resize.min.js\"></script>\\r\\n\\t<script type=\"text/javascript\" src=\"/js/jquery.graphtable-0.2.js\"></script>\\r\\n\\t<script type=\"text/javascript\" src=\"/js/jquery.wysiwyg.js\"></script>\\r\\n\\t<script type=\"text/javascript\" src=\"/js/controls/wysiwyg.image.js\"></script>\\r\\n\\t<script type=\"text/javascript\" src=\"/js/controls/wysiwyg.link.js\"></script>\\r\\n\\t<script type=\"text/javascript\" src=\"/js/controls/wysiwyg.table.js\"></script>\\r\\n\\t<script type=\"text/javascript\" src=\"/js/plugins/wysiwyg.rmFormat.js\"></script>\\r\\n\\t<script type=\"text/javascript\" src=\"/js/costum.js\"></script>\\r\\n\\t<script type=\"text/javascript\" src=\"/js/jquery.autocomplete.js\"></script>\\r\\n\\t<script type=\"text/javascript\" src=\"/js/jquery.jeditable.mini.js\"></script>\\r\\n\\t\\t\\r\\n</head>\\r\\n\\r\\n<body>\\r\\n\\r\\n<div id=\"wrapper\">\\r\\n\\t<div id=\"container\">\\r\\n\\t\\r\\n\\t\\t<div class=\"hide-btn top tip-s\" original-title=\"Close sidebar\"></div>\\r\\n\\t\\t<div class=\"hide-btn center tip-s\" original-title=\"Close sidebar\"></div>\\r\\n\\t\\t<div class=\"hide-btn bottom tip-s\" original-title=\"Close sidebar\"></div>\\r\\n\\t\\t\\r\\n\\t\\t<div id=\"top\">\\r\\n\\t\\t\\t<h1 id=\"logo\"><b>Security<font color=\"black\">Tube</font></b></h1>\\r\\n\\t\\t\\t<div id=\"labels\">\\r\\n\\t\\t\\t\\t<ul>\\r\\n\\r\\n\\t\\t\\t\\t\\t\\r\\n\\t\\t\\t\\t\\t\\t\\r\\n\\t\\t\\t\\t\\t\\t<li><a href=\"/Login?mode=login\" class=\"user\"><span class=\"bar\">Login with Google</span></a></li>\\r\\n\\t\\t\\t\\t\\t\\t\\r\\n\\t\\t\\t\\t\\t\\r\\n\\r\\n\\t\\t\\t\\t</ul>\\r\\n\\t\\t\\t</div>\\r\\n\\t\\t\\t<div id=\"menu\">\\r\\n\\t\\t\\t\\t<ul> \\r\\n\\t\\t\\t\\t\\t<li class=\"current\"><a href=\"/\">Home</a></li> \\r\\n\\t\\t\\t\\t\\t<li ><a href=\"#\">Videos</a>\\r\\n\\r\\n\\t\\r\\n\\t\\t\\t\\t\\t\\t<ul>\\r\\n\\t\\t\\t\\t\\t\\t\\t<li><a href=\"/groups?operation=viewall&groupId=0\">Video Groups</a>\\r\\n\\t\\t\\t\\t\\t\\t\\t</li>\\r\\n\\t\\t\\t\\t\\t\\t\\t<li><a href=\"/listing?type=latest\">Latest Videos</a></li>\\r\\n\\t\\t\\t\\t\\t\\t\\t<li><a href=\"/listing?type=popular\">Popular Videos</a></li>\\r\\n\\r\\n\\t\\t\\t\\t\\t\\t</ul>\\r\\n\\r\\n\\r\\n\\t\\t\\t\\t\\t</li>\\r\\n\\r\\n\\t\\t\\t\\t\\t<li><a href=\"#\">Megaprimers</a>\\r\\n\\t\\t\\t\\t\\t\\t<ul>\\r\\n\\t\\t\\t\\t\\t\\t\\t\\r\\n\\t\\t\\t<li><a href=\"/groups?operation=view&groupId=10\">Metasploit Framework Expert</a></li>\\r\\n\\t\\t\\t<li><a href=\"/groups?operation=view&groupId=9\">Wi-Fi Security Expert</a></li>\\r\\n\\t\\t\\t<li><a href=\"/groups?operation=view&groupId=7\">Exploit Research Megaprimer</a></li>\\r\\n\\t\\t\\t<li><a href=\"/groups?operation=view&groupId=6\">Windows Assembly Language</a></li>\\r\\n\\t\\t\\t<li><a href=\"/groups?operation=view&groupId=5\">Linux Assembly Megaprimer</a></li>\\r\\n\\t\\t\\t<li><a href=\"/groups?operation=view&groupId=4\">Buffer Overflow Megaprimer</a></li>\\r\\n\\t\\t\\t<li><a href=\"/groups?operation=view&groupId=3\">Format String Exploitation</a></li>\\r\\n\\t\\t\\t<li><a href=\"/groups?operation=view&groupId=2\">Scenario based Pentesting</a></li>\\r\\n\\t\\t\\t<li><a href=\"/groups?operation=view&groupId=1\">Router Pentesting</a></li>\\r\\n\\t\\t\\t\\t\\t\\t</ul>\\r\\n\\t\\t\\t\\t\\t</li>\\r\\n\\t\\t\\t\\t\\t<li><a href=\"#\">HackerCon Videos</a>\\r\\n\\t\\t\\t\\t\\t\\r\\n\\t\\t\\t\\t\\t\\t<ul>\\r\\n\\t\\t\\t\\t\\t\\t\\t<li><a href=\"#\">Athcon</a>\\r\\n\\t\\t\\t\\t\\t\\t\\t\\t\\r\\n\\t\\t\\t\\t\\t\\t\\t\\t<ul>\\r\\n\\t\\t\\t\\t\\t\\t\\t\\t\\t<li><a href=\"/tags/ath-11\">2011</a></li>\\r\\n\\t\\t\\t\\t\\t\\t\\t\\t\\t<li><a href=\"/tags/ath-10\">2010</a></li>\\r\\n\\t\\t\\t\\t\\t\\t\\t\\t</ul>\\r\\n\\t\\t\\t\\t\\t\\t\\t\\r\\n\\t\\t\\t\\t\\t\\t\\t</li>\\r\\n\\r\\n\\t\\t\\t\\t\\t\\t\\t<li><a href=\"#\">Blackhat</a>\\r\\n\\t\\t\\t\\t\\t\\t\\t\\t\\r\\n\\t\\t\\t\\t\\t\\t\\t\\t<ul>\\r\\n\\t\\t\\t\\t\\t\\t\\t\\t\\t<li><a href=\"/tags/blackhat-2012\">EU 2012</a></li>\\r\\n\\t\\t\\t\\t\\t\\t\\t\\t</ul>\\r\\n\\t\\t\\t\\t\\t\\t\\t\\r\\n\\t\\t\\t\\t\\t\\t\\t</li>\\r\\n\\t\\t\\t\\t\\t\\t\\t\\r\\n\\t\\t\\t\\t\\t\\t\\t<li><a href=\"#\">Confidence</a>\\r\\n\\t\\t\\t\\t\\t\\t\\t\\t\\r\\n\\t\\t\\t\\t\\t\\t\\t\\t<ul>\\r\\n\\t\\t\\t\\t\\t\\t\\t\\t\\t<li><a href=\"/tags/Confidence-2011\">2011</a></li>\\r\\n\\t\\t\\t\\t\\t\\t\\t\\t\\t<li><a href=\"/tags/Confidence-2010\">2010</a></li>\\r\\n\\t\\t\\t\\t\\t\\t\\t\\t</ul>\\r\\n\\t\\t\\t\\t\\t\\t\\t\\r\\n\\t\\t\\t\\t\\t\\t\\t</li>\\r\\n\\r\\n\\t\\t\\t\\t\\t\\t\\t<li><a href=\"#\">Clubhack</a>\\r\\n\\t\\t\\t\\t\\t\\t\\t\\t\\r\\n\\t\\t\\t\\t\\t\\t\\t\\t<ul>\\r\\n\\t\\t\\t\\t\\t\\t\\t\\t\\t<li><a href=\"/tags/clubhack\">2011</a></li>\\r\\n\\t\\t\\t\\t\\t\\t\\t\\t</ul>\\r\\n\\t\\t\\t\\t\\t\\t\\t\\r\\n\\t\\t\\t\\t\\t\\t\\t</li>\\r\\n\\r\\n\\t\\t\\t\\t\\t\\t\\t<li><a href=\"#\">Defcon</a>\\r\\n\\t\\t\\t\\t\\t\\t\\t\\t\\r\\n\\t\\t\\t\\t\\t\\t\\t\\t<ul>\\r\\n\\t\\t\\t\\t\\t\\t\\t\\t\\t<li><a href=\"/tags/dc-19\">DC 19</a></li>\\r\\n\\t\\t\\t\\t\\t\\t\\t\\t\\t<li><a href=\"/tags/dc-18\">DC 18</a></li>\\r\\n\\t\\t\\t\\t\\t\\t\\t\\t\\t<li><a href=\"/tags/dc-17\">DC 17</a></li>\\r\\n\\t\\t\\t\\t\\t\\t\\t\\t\\t<li><a href=\"/tags/dc-16\">DC 16</a></li>\\r\\n\\t\\t\\t\\t\\t\\t\\t\\t\\t<li><a href=\"/tags/dc-15\">DC 15</a></li>\\r\\n\\t\\t\\t\\t\\t\\t\\t\\t</ul>\\r\\n\\t\\t\\t\\t\\t\\t\\t\\r\\n\\t\\t\\t\\t\\t\\t\\t</li>\\r\\n\\r\\n\\t\\t\\t\\t\\t\\t\\t<li><a href=\"#\">HITB</a>\\r\\n\\t\\t\\t\\t\\t\\t\\t\\t\\r\\n\\t\\t\\t\\t\\t\\t\\t\\t<ul>\\r\\n\\t\\t\\t\\t\\t\\t\\t\\t\\t<li><a href=\"/tags/hackinthebox-2011\">2011</a></li>\\r\\n\\t\\t\\t\\t\\t\\t\\t\\t</ul>\\r\\n\\t\\t\\t\\t\\t\\t\\t\\r\\n\\t\\t\\t\\t\\t\\t\\t</li>\\r\\n\\r\\n\\t\\t\\t\\t\\t\\t\\t<li><a href=\"#\">Hack3rcon</a>\\r\\n\\t\\t\\t\\t\\t\\t\\t\\t\\r\\n\\t\\t\\t\\t\\t\\t\\t\\t<ul>\\r\\n\\t\\t\\t\\t\\t\\t\\t\\t\\t<li><a href=\"/tags/hackercon-2011\">2011</a></li>\\r\\n\\t\\t\\t\\t\\t\\t\\t\\t</ul>\\r\\n\\t\\t\\t\\t\\t\\t\\t\\r\\n\\t\\t\\t\\t\\t\\t\\t</li>\\r\\n\\r\\n\\r\\n\\t\\t\\t\\t\\t\\t\\t<li><a href=\"#\">Notacon</a>\\r\\n\\t\\t\\t\\t\\t\\t\\t\\t\\r\\n\\t\\t\\t\\t\\t\\t\\t\\t<ul>\\r\\n\\t\\t\\t\\t\\t\\t\\t\\t\\t<li><a href=\"/tags/notacon-8\">Notacon 8</a></li>\\r\\n\\t\\t\\t\\t\\t\\t\\t\\t\\t<li><a href=\"/tags/notacon-7\">Notacon 7</a></li>\\r\\n\\t\\t\\t\\t\\t\\t\\t\\t\\t<li><a href=\"/tags/notacon-6\">Notacon 6</a></li>\\r\\n\\t\\t\\t\\t\\t\\t\\t\\t</ul>\\r\\n\\t\\t\\t\\t\\t\\t\\t\\r\\n\\t\\t\\t\\t\\t\\t\\t</li>\\r\\n\\r\\n\\r\\n\\t\\t\\t\\t\\t\\t\\t<li><a href=\"#\">Nullcon</a>\\r\\n\\t\\t\\t\\t\\t\\t\\t\\t\\r\\n\\t\\t\\t\\t\\t\\t\\t\\t<ul>\\r\\n\\t\\t\\t\\t\\t\\t\\t\\t\\t<li><a href=\"/tags/nullcon\">2011</a></li>\\r\\n\\t\\t\\t\\t\\t\\t\\t\\t</ul>\\r\\n\\t\\t\\t\\t\\t\\t\\t\\r\\n\\t\\t\\t\\t\\t\\t\\t</li>\\r\\n\\r\\n\\r\\n\\t\\t\\t\\t\\t\\t\\t<li><a href=\"#\">Shmoocon</a>\\r\\n\\t\\t\\t\\t\\t\\t\\t\\t\\r\\n\\t\\t\\t\\t\\t\\t\\t\\t<ul>\\r\\n\\t\\t\\t\\t\\t\\t\\t\\t\\t<li><a href=\"/tags/shmoocon-2012\">2012</a></li>\\r\\n\\t\\t\\t\\t\\t\\t\\t\\t\\t<li><a href=\"/tags/shmoocon-2011\">2011</a></li>\\r\\n\\t\\t\\t\\t\\t\\t\\t\\t</ul>\\r\\n\\t\\t\\t\\t\\t\\t\\t\\r\\n\\t\\t\\t\\t\\t\\t\\t</li>\\r\\n\\t\\t\\t\\t\\t\\t\\t\\r\\n\\t\\t\\t\\t\\t\\t\\t<li><a href=\"#\">SkyDogCon</a>\\r\\n\\t\\t\\t\\t\\t\\t\\t\\t\\r\\n\\t\\t\\t\\t\\t\\t\\t\\t<ul>\\r\\n\\t\\t\\t\\t\\t\\t\\t\\t\\t<li><a href=\"/tags/skydogcon-2011\">2011</a></li>\\r\\n\\t\\t\\t\\t\\t\\t\\t\\t</ul>\\r\\n\\t\\t\\t\\t\\t\\t\\t\\r\\n\\t\\t\\t\\t\\t\\t\\t</li>\\r\\n\\r\\n\\t\\t\\t\\t\\t\\t\\t<li><a href=\"#\">Swiss Cyber Storm</a>\\r\\n\\t\\t\\t\\t\\t\\t\\t\\t\\r\\n\\t\\t\\t\\t\\t\\t\\t\\t<ul>\\r\\n\\t\\t\\t\\t\\t\\t\\t\\t\\t<li><a href=\"/tags/swisscyberstorm-2011\">2011</a></li>\\r\\n\\t\\t\\t\\t\\t\\t\\t\\t</ul>\\r\\n\\t\\t\\t\\t\\t\\t\\t\\r\\n\\t\\t\\t\\t\\t\\t\\t</li>\\r\\n\\r\\n\\t\\t\\t\\t\\t\\t\\t\\r\\n\\t\\t\\t\\t\\t\\t\\t\\r\\n\\t\\t\\t\\t\\t\\t\\t\\r\\n\\r\\n\\t\\t\\t\\t\\t\\t</ul>\\r\\n\\t\\t\\t\\t\\t\\t\\r\\n\\t\\r\\n\\t\\t\\t\\t\\t\\t\\t\\r\\n\\t\\t\\t\\t\\t\\t\\r\\n\\t\\t\\t\\t\\t</li>\\r\\n <li >\\r\\n\\r\\n<a href=\"#\">Newsletter</a>\\r\\n\\r\\n<ul>\\r\\n\\t<li><a href=\"#\">2012</a>\\r\\n\\r\\n\\t\\t<ul>\\r\\n\\t\\t\\t<li><a href=\"#\">August</a>\\r\\n\\t\\t\\t\\t\\r\\n\\t\\t\\t\\t<ul>\\r\\n\\t\\t\\t\\t\\t<li><a href=\"http://us4.campaign-archive2.com/?u=950872c698a3cf5cfcf752971&id=c1a650ce0f\" target=\"_blank\">Week 4</a></li>\\r\\n\\r\\n\\t\\t\\t\\t</ul>\\r\\n\\t\\t\\t</li>\\r\\n\\r\\n\\r\\n\\t\\t\\t<li><a href=\"#\">September</a>\\r\\n\\t\\t\\t\\t\\r\\n\\t\\t\\t\\t<ul>\\r\\n\\t\\t\\t\\t\\t<li><a href=\"http://us4.campaign-archive2.com/?u=950872c698a3cf5cfcf752971&id=d7a088440a\" target=\"_blank\">Week 1</a></li>\\r\\n\\r\\n\\t\\t\\t\\t\\t<li><a href=\"http://us4.campaign-archive2.com/?u=950872c698a3cf5cfcf752971&id=067c16179e\" target=\"_blank\">Week 2</a></li>\\r\\n\\r\\n\\t\\t\\t\\t</ul>\\r\\n\\r\\n\\t\\t\\t</li>\\r\\n\\r\\n\\t\\t</ul>\\r\\n\\r\\n\\t</li>\\r\\n\\r\\n</ul>\\r\\n\\r\\n\\r\\n</li>\\r\\n\\t\\t<li>\\r\\n\\t\\t\\t\\t\\t\\t<a href=\"http://securitytube-training.com/?id=cert-link\" target=\"blank\">Certifications</a>\\r\\n\\t\\t\\t\\t\\t\\t<ul> \\r\\n\\t\\t\\t\\t\\t\\t\\t<li><a target=\"_blank\" href=\"http://securitytube-training.com/certifications/securitytube-python-scripting-expert/\">Python Scripting Expert</a></li>\\r\\n\\t\\t\\t\\t\\t\\t<li><a target=\"_blank\" href=\"http://securitytube-training.com/online-courses/securitytube-linux-assembly-expert/\">Linux Assembly Expert</a></li>\\r\\n\\t\\t\\t\\t<li><a target=\"_blank\" href=\"http://securitytube-training.com/online-courses/securitytube-ios-security-expert/\">iOS Security Expert</a></li>\\r\\n\\t\\t\\t\\r\\n\\t\\t\\t\\t<li><a target=\"_blank\" href=\"http://securitytube-training.com/certifications/securitytube-metasploit-framework-expert/\">Metasploit Framework Expert</a></li>\\r\\n\\t\\t\\t\\t\\t\\t\\t<li><a target=\"_blank\" href=\"http://securitytube-training.com/certifications/securitytube-wi-fi-security-expert/\">Wi-Fi Security Expert</a></li>\\r\\n\\t\\t\\t\\t\\t\\t\\t<li><a target=\"_blank\" href=\"http://securitytube-training.com/testimonials/\">Student Testimonials</a></li>\\r\\n\\t\\t\\t\\t\\t\\t</ul>\\r\\n\\t\\t\\t\\t\\t</li>\\r\\n\\r\\n\\r\\n\\t\\t\\t\\t<li><a href=\"http://forums.securitytube.net\">Discussion Forums</a></li>\\r\\n\\t\\t\\t\\t\\t<li><a href=\"http://securitytube-tools.net\" target=\"_blank\">Tools</a></li>\\r\\n\\r\\n\\t\\t\\t\\t\\t\\t\\t\\r\\n\\t\\t\\t\\t</ul>\\r\\n\\t\\t\\t</div>\\r\\n\\t\\t</div>\\r\\n\\r\\n\\t\\t<div id=\"left\">\\r\\n\\t\\t\\t\\r\\n\\t\\t\\t\\r\\n\\t\\t\\t\\t\\r\\n\\t\\t\\t<div class=\"box search\">\\r\\n\\t\\t\\t\\t<div class=\"content\">\\r\\n\\t\\t\\t\\t\\t<form action=\"\">\\r\\n\\t\\t\\t\\t\\t\\t<input name=\"q\" type=\"text\" value=\"\" placeholder=\"Search\" />\\r\\n\\t\\t\\t\\t\\t\\t<button type=\"submit\"></button>\\r\\n\\t\\t\\t\\t\\t</form>\\r\\n\\t\\t\\t\\t</div>\\r\\n\\t\\t\\t</div>\\r\\n\\r\\n\\r\\n\\t\\t\\t\\r\\n\\t\\t\\t\\r\\n\\t\\t\\t\\r\\n\\t\\t\\r\\n\\t\\t\\t\\r\\n\\t\\t\\t<div class=\"box statics\">\\r\\n\\t\\t\\t\\t<div class=\"content\">\\r\\n\\t\\t\\t\\r\\n\\t\\t\\t\\t\\r\\n\\t\\t\\t\\t\\t<a target=\"_blank\" href=\"http://securitytube-training.com/certifications/securitytube-python-scripting-expert/?link=left\"><img src=\"/images/SPSE_grey_site.jpg\" /></a>\\r\\n\\t\\t\\t\\t\\t\\r\\n\\t\\t\\t\\r\\n\\r\\n\\r\\n\\t\\t\\t\\t</div>\\r\\n\\t\\t\\t</div>\\r\\n\\t\\t\\t\\r\\n\\t\\t\\t\\r\\n\\t\\r\\n\\t\\t\\r\\n\\t\\t\\t\\r\\n\\t\\t\\t\\r\\n\\t\\t\\t<div class=\"box statics\">\\r\\n\\t\\t\\t\\t<div class=\"content\">\\r\\n\\t\\t\\t\\t\\t<ul>\\r\\n\\t\\t\\t\\t\\t\\t<li><h2>Follow us</h2></li>\\r\\n\\t\\t\\t\\t\\t\\t<li><div align=\"center\"><a href=\"http://www.twitter.com/securitytube\"><img width=\"30\" height=\"30\" src=\"/images/twicon.png\" /></a>&nbsp;&nbsp;&nbsp;&nbsp;<a href=\"http://www.facebook.com/pages/SecurityTube/157183860350\"><img width=\"30\" height=\"30\" src=\"/images/fbicon.png\" /></a>&nbsp;&nbsp;&nbsp;&nbsp;<a href=\"http://feeds2.feedburner.com/SecurityTube\"><img width=\"30\" height=\"30\" src=\"/images/rssicon.png\" /></a></div></li>\\r\\n\\t\\t\\t\\t\\t\\t\\r\\n\\t\\t\\t\\t\\t\\t\\r\\n\\t\\t\\t\\t\\t\\t\\r\\n\\t\\t\\t\\t\\t</ul>\\r\\n\\t\\t\\t\\t</div>\\r\\n\\t\\t\\t</div>\\r\\n\\r\\n\\t\\t\\t\\t\\t\\t\\r\\n\\t\\t\\t\\r\\n\\t\\t\\t\\r\\n\\t\\t\\t\\r\\n\\t\\t\\t\\r\\n\\t\\t\\t<div class=\"box statics\">\\r\\n\\t\\t\\t\\t<div class=\"content\">\\r\\n\\t\\t\\t\\t\\t\\r\\n\\t\\t\\t\\t\\t<iframe src=\"http://www.facebook.com/plugins/likebox.php?href=https%3A%2F%2Fwww.facebook.com%2Fpages%2FSecurityTube%2F157183860350&amp;width=188&amp;height=258&amp;colorscheme=light&amp;show_faces=true&amp;border_color&amp;stream=false&amp;header=false&amp;appId=246564115443745\" scrolling=\"no\" frameborder=\"0\" style=\"border:none; overflow:hidden; width:188px; height:258px;\" allowTransparency=\"true\"></iframe>\\r\\n\\t\\t\\t\\t\\t\\r\\n\\t\\t\\t\\t</div>\\r\\n\\t\\t\\t</div>\\r\\n\\t\\t\\t\\r\\n\\t\\t\\t\\r\\n\\t\\t\\t\\r\\n\\t\\t\\t \\r\\n\\t\\t\\t\\r\\n\\t\\t</div>\\r\\n\\t\\t\\r\\n\\t\\t<div id=\"right\">\\r\\n\\t\\t\\r\\n\\t\\t\\t<div id=\"breadcrumbs\">\\r\\n\\t\\t\\t\\t<ul>\\r\\n\\t\\t\\t\\t\\t<li></li>\\r\\n\\t\\t\\t\\t\\t<li><a href=\"/\">Home</a></li>\\r\\n\\t\\t\\t\\t\\t \\r\\n\\t\\t\\t\\t\\r\\n\\t\\t\\t\\t</ul>\\r\\n\\t\\t\\t</div>\\r\\n\\t\\t\\r\\n\\t\\t\\t\\r\\n\\r\\n\\t\\t\\t<div class=\"section\">\\r\\n\\t\\t\\t\\t\\r\\n\\t\\t\\t\\r\\n\\t\\t\\t\\t<div id=\"cse\" style=\"width: 100%;\"></div>\\r\\n\\t\\t\\t\\t\\t<script src=\"http://www.google.com/jsapi\" type=\"text/javascript\"></script>\\r\\n\\t\\t\\t\\t\\t<script type=\"text/javascript\"> \\r\\n\\t\\t\\t\\t\\t  google.load(\\'search\\', \\'1\\', {language : \\'en\\', style : google.loader.themes.V2_DEFAULT});\\r\\n\\t\\t\\t\\t\\t  google.setOnLoadCallback(function() {\\r\\n\\t\\t\\t\\t\\t    var customSearchOptions = {};  var customSearchControl = new google.search.CustomSearchControl(\\r\\n\\t\\t\\t\\t\\t      \\'002502263197961790250:stc0tpnogvw\\', customSearchOptions);\\r\\n\\t\\t\\t\\t\\t    customSearchControl.setResultSetSize(google.search.Search.FILTERED_CSE_RESULTSET);\\r\\n\\t\\t\\t\\t\\t    var options = new google.search.DrawOptions();\\r\\n\\t\\t\\t\\t\\t    options.enableSearchResultsOnly(); \\r\\n\\t\\t\\t\\t\\t    customSearchControl.draw(\\'cse\\', options);\\r\\n\\t\\t\\t\\t\\t    function parseParamsFromUrl() {\\r\\n\\t\\t\\t\\t\\t      var params = {};\\r\\n\\t\\t\\t\\t\\t      var parts = window.location.search.substr(1).split(\\'\\\\x26\\');\\r\\n\\t\\t\\t\\t\\t      for (var i = 0; i < parts.length; i++) {\\r\\n\\t\\t\\t\\t\\t\\tvar keyValuePair = parts[i].split(\\'=\\');\\r\\n\\t\\t\\t\\t\\t\\tvar key = decodeURIComponent(keyValuePair[0]);\\r\\n\\t\\t\\t\\t\\t\\tparams[key] = keyValuePair[1] ?\\r\\n\\t\\t\\t\\t\\t\\t    decodeURIComponent(keyValuePair[1].replace(/\\\\+/g, \\' \\')) :\\r\\n\\t\\t\\t\\t\\t\\t    keyValuePair[1];\\r\\n\\t\\t\\t\\t\\t      }\\r\\n\\t\\t\\t\\t\\t      return params;\\r\\n\\t\\t\\t\\t\\t    }\\r\\n\\t\\t\\t\\t\\t\\r\\n\\t\\t\\t\\t\\t    var urlParams = parseParamsFromUrl();\\r\\n\\t\\t\\t\\t\\t    var queryParamName = \"q\";\\r\\n\\t\\t\\t\\t\\t    if (urlParams[queryParamName]) {\\r\\n\\t\\t\\t\\t\\t      customSearchControl.execute(urlParams[queryParamName]);\\r\\n\\t\\t\\t\\t\\t    }\\r\\n\\t\\t\\t\\t\\t  }, true);\\r\\n\\t\\t\\t\\t\\t</script>\\r\\n\\t\\t\\t\\t\\t \\r\\n \\r\\n\\t\\t\\t\\r\\n\\t\\t\\t\\t\\r\\n\\t\\t\\t\\t<div class=\"third\">\\r\\n\\t\\t\\t\\t\\t<div class=\"box\">\\r\\n\\t\\t\\t\\t\\t\\t<div class=\"title\">\\r\\n\\t\\t\\t\\t\\t\\t\\tLatest Videos\\t\\r\\n\\t\\t\\t\\t\\t\\t</div>\\r\\n\\t\\t\\t\\t\\t\\t<div class=\"content\">\\r\\n\\t\\t\\t\\t\\t\\t\\t<ul class=\"comments\">\\r\\n\\t\\t\\t\\t\\t\\t\\t\\t\\r\\n\\t\\t\\t\\t\\t\\t\\t\\t\\r\\n\\r\\n\\t\\t\\t\\t\\t\\t\\t\\t<li>\\r\\n\\t\\t\\t\\t\\t\\t\\t\\t\\t<a href=\"/video/8400\"><img width=\"100\" height=\"75\" src=\"http://videothumbs.securitytube.net.s3.amazonaws.com/8400.jpg\" alt=\"video, security, hack, hacking\" /></a>\\r\\n\\t\\t\\t\\t\\t\\t\\t\\t\\t<a href=\"/video/8400\"><b><font color=\"red\">War-Dining And Stroll-Trolling With A Robot</font></b></a><br/>\\r\\n\\t\\t\\t\\t\\t\\t\\t\\t\\tby Securitytube_Poster, 7 hours, 18 minutes ago<br/>\\r\\n\\t\\t\\t\\t\\t\\t\\t\\t\\t163 Views\\r\\n\\t\\t\\t\\t\\t\\t\\t\\t</li>\\r\\n\\r\\n\\t\\t\\t\\t\\t\\t\\t\\t\\r\\n\\r\\n\\t\\t\\t\\t\\t\\t\\t\\t<li>\\r\\n\\t\\t\\t\\t\\t\\t\\t\\t\\t<a href=\"/video/8399\"><img width=\"100\" height=\"75\" src=\"http://videothumbs.securitytube.net.s3.amazonaws.com/8399.jpg\" alt=\"video, security, hack, hacking\" /></a>\\r\\n\\t\\t\\t\\t\\t\\t\\t\\t\\t<a href=\"/video/8399\"><b><font color=\"red\">Overview Of Python - Flying Made Simple Without The Nyquil Hangover</font></b></a><br/>\\r\\n\\t\\t\\t\\t\\t\\t\\t\\t\\tby Securitytube_Poster, 7 hours, 19 minutes ago<br/>\\r\\n\\t\\t\\t\\t\\t\\t\\t\\t\\t185 Views\\r\\n\\t\\t\\t\\t\\t\\t\\t\\t</li>\\r\\n\\r\\n\\t\\t\\t\\t\\t\\t\\t\\t\\r\\n\\r\\n\\t\\t\\t\\t\\t\\t\\t\\t<li>\\r\\n\\t\\t\\t\\t\\t\\t\\t\\t\\t<a href=\"/video/8398\"><img width=\"100\" height=\"75\" src=\"http://videothumbs.securitytube.net.s3.amazonaws.com/8398.jpg\" alt=\"video, security, hack, hacking\" /></a>\\r\\n\\t\\t\\t\\t\\t\\t\\t\\t\\t<a href=\"/video/8398\"><b><font color=\"red\">Bsides Detroit 13 Keynote -- Weaponized Security</font></b></a><br/>\\r\\n\\t\\t\\t\\t\\t\\t\\t\\t\\tby Securitytube_Poster, 7 hours, 21 minutes ago<br/>\\r\\n\\t\\t\\t\\t\\t\\t\\t\\t\\t189 Views\\r\\n\\t\\t\\t\\t\\t\\t\\t\\t</li>\\r\\n\\r\\n\\t\\t\\t\\t\\t\\t\\t\\t\\r\\n\\r\\n\\t\\t\\t\\t\\t\\t\\t\\t<li>\\r\\n\\t\\t\\t\\t\\t\\t\\t\\t\\t<a href=\"/video/8397\"><img width=\"100\" height=\"75\" src=\"http://videothumbs.securitytube.net.s3.amazonaws.com/8397.jpg\" alt=\"video, security, hack, hacking\" /></a>\\r\\n\\t\\t\\t\\t\\t\\t\\t\\t\\t<a href=\"/video/8397\"><b><font color=\"red\">Critical Security Controls For Effective Cyber Defense</font></b></a><br/>\\r\\n\\t\\t\\t\\t\\t\\t\\t\\t\\tby Securitytube_Poster, 7 hours, 21 minutes ago<br/>\\r\\n\\t\\t\\t\\t\\t\\t\\t\\t\\t165 Views\\r\\n\\t\\t\\t\\t\\t\\t\\t\\t</li>\\r\\n\\r\\n\\t\\t\\t\\t\\t\\t\\t\\t\\r\\n\\r\\n\\t\\t\\t\\t\\t\\t\\t\\t<li>\\r\\n\\t\\t\\t\\t\\t\\t\\t\\t\\t<a href=\"/video/8396\"><img width=\"100\" height=\"75\" src=\"http://videothumbs.securitytube.net.s3.amazonaws.com/8396.jpg\" alt=\"video, security, hack, hacking\" /></a>\\r\\n\\t\\t\\t\\t\\t\\t\\t\\t\\t<a href=\"/video/8396\"><b><font color=\"red\">Building Securable Infrastructures</font></b></a><br/>\\r\\n\\t\\t\\t\\t\\t\\t\\t\\t\\tby Securitytube_Poster, 7 hours, 22 minutes ago<br/>\\r\\n\\t\\t\\t\\t\\t\\t\\t\\t\\t148 Views\\r\\n\\t\\t\\t\\t\\t\\t\\t\\t</li>\\r\\n\\r\\n\\t\\t\\t\\t\\t\\t\\t\\t\\r\\n\\r\\n\\t\\t\\t\\t\\t\\t\\t\\t<li>\\r\\n\\t\\t\\t\\t\\t\\t\\t\\t\\t<a href=\"/video/8395\"><img width=\"100\" height=\"75\" src=\"http://videothumbs.securitytube.net.s3.amazonaws.com/8395.jpg\" alt=\"video, security, hack, hacking\" /></a>\\r\\n\\t\\t\\t\\t\\t\\t\\t\\t\\t<a href=\"/video/8395\"><b><font color=\"red\">Challenge 6: Digest Authentication Reloaded</font></b></a><br/>\\r\\n\\t\\t\\t\\t\\t\\t\\t\\t\\tby Vivek-Ramachandran, 21 hours, 30 minutes ago<br/>\\r\\n\\t\\t\\t\\t\\t\\t\\t\\t\\t1 Views\\r\\n\\t\\t\\t\\t\\t\\t\\t\\t</li>\\r\\n\\r\\n\\t\\t\\t\\t\\t\\t\\t\\t\\r\\n\\r\\n\\t\\t\\t\\t\\t\\t\\t\\t<li>\\r\\n\\t\\t\\t\\t\\t\\t\\t\\t\\t<a href=\"/video/8394\"><img width=\"100\" height=\"75\" src=\"http://videothumbs.securitytube.net.s3.amazonaws.com/8394.jpg\" alt=\"video, security, hack, hacking\" /></a>\\r\\n\\t\\t\\t\\t\\t\\t\\t\\t\\t<a href=\"/video/8394\"><b><font color=\"red\">Challenge 5: Digest Authentication Attack</font></b></a><br/>\\r\\n\\t\\t\\t\\t\\t\\t\\t\\t\\tby Vivek-Ramachandran, 21 hours, 31 minutes ago<br/>\\r\\n\\t\\t\\t\\t\\t\\t\\t\\t\\t1 Views\\r\\n\\t\\t\\t\\t\\t\\t\\t\\t</li>\\r\\n\\r\\n\\t\\t\\t\\t\\t\\t\\t\\t\\r\\n\\r\\n\\t\\t\\t\\t\\t\\t\\t\\t<li>\\r\\n\\t\\t\\t\\t\\t\\t\\t\\t\\t<a href=\"/video/8393\"><img width=\"100\" height=\"75\" src=\"http://videothumbs.securitytube.net.s3.amazonaws.com/8393.jpg\" alt=\"video, security, hack, hacking\" /></a>\\r\\n\\t\\t\\t\\t\\t\\t\\t\\t\\t<a href=\"/video/8393\"><b><font color=\"red\">If You Can Open The Terminal, You Can Capture The Flag: Ctf For Everyone</font></b></a><br/>\\r\\n\\t\\t\\t\\t\\t\\t\\t\\t\\tby Securitytube_Poster, 1 day, 6 hours ago<br/>\\r\\n\\t\\t\\t\\t\\t\\t\\t\\t\\t795 Views\\r\\n\\t\\t\\t\\t\\t\\t\\t\\t</li>\\r\\n\\r\\n\\t\\t\\t\\t\\t\\t\\t\\t\\r\\n\\r\\n\\t\\t\\t\\t\\t\\t\\t\\t<li>\\r\\n\\t\\t\\t\\t\\t\\t\\t\\t\\t<a href=\"/video/8392\"><img width=\"100\" height=\"75\" src=\"http://videothumbs.securitytube.net.s3.amazonaws.com/8392.jpg\" alt=\"video, security, hack, hacking\" /></a>\\r\\n\\t\\t\\t\\t\\t\\t\\t\\t\\t<a href=\"/video/8392\"><b><font color=\"red\">Penetration Testing: What They Don\\'t Teach You In School</font></b></a><br/>\\r\\n\\t\\t\\t\\t\\t\\t\\t\\t\\tby Securitytube_Poster, 1 day, 6 hours ago<br/>\\r\\n\\t\\t\\t\\t\\t\\t\\t\\t\\t424 Views\\r\\n\\t\\t\\t\\t\\t\\t\\t\\t</li>\\r\\n\\r\\n\\t\\t\\t\\t\\t\\t\\t\\t\\r\\n\\r\\n\\t\\t\\t\\t\\t\\t\\t\\t<li>\\r\\n\\t\\t\\t\\t\\t\\t\\t\\t\\t<a href=\"/video/8391\"><img width=\"100\" height=\"75\" src=\"http://videothumbs.securitytube.net.s3.amazonaws.com/8391.jpg\" alt=\"video, security, hack, hacking\" /></a>\\r\\n\\t\\t\\t\\t\\t\\t\\t\\t\\t<a href=\"/video/8391\"><b><font color=\"red\">The Moscow Rules For Infosec Professionals</font></b></a><br/>\\r\\n\\t\\t\\t\\t\\t\\t\\t\\t\\tby Securitytube_Poster, 1 day, 6 hours ago<br/>\\r\\n\\t\\t\\t\\t\\t\\t\\t\\t\\t322 Views\\r\\n\\t\\t\\t\\t\\t\\t\\t\\t</li>\\r\\n\\r\\n\\t\\t\\t\\t\\t\\t\\t\\t\\r\\n\\r\\n\\t\\t\\t\\t\\t\\t\\t</ul>\\r\\n\\t\\t\\t\\t\\t\\t\\t\\r\\n\\t\\t\\t\\t\\t\\t\\t<div align=\"center\"><b><a href=\"/listing?type=latest\">More ...</a></b></div>\\r\\n\\t\\t\\t\\t\\t\\t</div>\\r\\n\\t\\t\\t\\t\\t</div>\\r\\n\\t\\t\\t\\t</div>\\r\\n\\t\\t\\t\\t\\r\\n\\r\\n\\t\\t\\t\\t<div class=\"third\">\\r\\n\\t\\t\\t\\t\\t<div class=\"box\">\\r\\n\\t\\t\\t\\t\\t\\t<div class=\"title\">\\r\\n\\t\\t\\t\\t\\t\\t\\tSecurityTube Originals\\t\\r\\n\\t\\t\\t\\t\\t\\t</div>\\r\\n\\t\\t\\t\\t\\t\\t<div class=\"content\">\\r\\n\\t\\t\\t\\t\\t\\t\\t<ul class=\"comments\">\\r\\n\\t\\t\\t\\t\\t\\t\\t\\t\\r\\n\\t\\t\\t\\t\\t\\t\\t\\t\\r\\n\\r\\n\\t\\t\\t\\t\\t\\t\\t\\t<li>\\r\\n\\t\\t\\t\\t\\t\\t\\t\\t\\t<a href=\"/video/8395\"><img width=\"100\" height=\"75\" src=\"http://videothumbs.securitytube.net.s3.amazonaws.com/8395.jpg\" alt=\"video, security, hack, hacking\" /></a>\\r\\n\\t\\t\\t\\t\\t\\t\\t\\t\\t<a href=\"/video/8395\"><b><font color=\"red\">Challenge 6: Digest Authentication Reloaded</font></b></a><br/>\\r\\n\\t\\t\\t\\t\\t\\t\\t\\t\\tby Vivek-Ramachandran, 21 hours, 30 minutes ago<br/>\\r\\n\\t\\t\\t\\t\\t\\t\\t\\t\\t1 Views \\r\\n\\t\\t\\t\\t\\t\\t\\t\\t</li>\\r\\n\\r\\n\\t\\t\\t\\t\\t\\t\\t\\t\\r\\n\\r\\n\\t\\t\\t\\t\\t\\t\\t\\t<li>\\r\\n\\t\\t\\t\\t\\t\\t\\t\\t\\t<a href=\"/video/8394\"><img width=\"100\" height=\"75\" src=\"http://videothumbs.securitytube.net.s3.amazonaws.com/8394.jpg\" alt=\"video, security, hack, hacking\" /></a>\\r\\n\\t\\t\\t\\t\\t\\t\\t\\t\\t<a href=\"/video/8394\"><b><font color=\"red\">Challenge 5: Digest Authentication Attack</font></b></a><br/>\\r\\n\\t\\t\\t\\t\\t\\t\\t\\t\\tby Vivek-Ramachandran, 21 hours, 31 minutes ago<br/>\\r\\n\\t\\t\\t\\t\\t\\t\\t\\t\\t1 Views \\r\\n\\t\\t\\t\\t\\t\\t\\t\\t</li>\\r\\n\\r\\n\\t\\t\\t\\t\\t\\t\\t\\t\\r\\n\\r\\n\\t\\t\\t\\t\\t\\t\\t\\t<li>\\r\\n\\t\\t\\t\\t\\t\\t\\t\\t\\t<a href=\"/video/8356\"><img width=\"100\" height=\"75\" src=\"http://videothumbs.securitytube.net.s3.amazonaws.com/8356.jpg\" alt=\"video, security, hack, hacking\" /></a>\\r\\n\\t\\t\\t\\t\\t\\t\\t\\t\\t<a href=\"/video/8356\"><b><font color=\"red\">Basic Authentication And Form Bruteforcing</font></b></a><br/>\\r\\n\\t\\t\\t\\t\\t\\t\\t\\t\\tby Vivek-Ramachandran, 1 week ago<br/>\\r\\n\\t\\t\\t\\t\\t\\t\\t\\t\\t1 Views \\r\\n\\t\\t\\t\\t\\t\\t\\t\\t</li>\\r\\n\\r\\n\\t\\t\\t\\t\\t\\t\\t\\t\\r\\n\\r\\n\\t\\t\\t\\t\\t\\t\\t\\t<li>\\r\\n\\t\\t\\t\\t\\t\\t\\t\\t\\t<a href=\"/video/8355\"><img width=\"100\" height=\"75\" src=\"http://videothumbs.securitytube.net.s3.amazonaws.com/8355.jpg\" alt=\"video, security, hack, hacking\" /></a>\\r\\n\\t\\t\\t\\t\\t\\t\\t\\t\\t<a href=\"/video/8355\"><b><font color=\"red\">Http Basic Authentication Attack (Easy)</font></b></a><br/>\\r\\n\\t\\t\\t\\t\\t\\t\\t\\t\\tby Vivek-Ramachandran, 1 week ago<br/>\\r\\n\\t\\t\\t\\t\\t\\t\\t\\t\\t1 Views \\r\\n\\t\\t\\t\\t\\t\\t\\t\\t</li>\\r\\n\\r\\n\\t\\t\\t\\t\\t\\t\\t\\t\\r\\n\\r\\n\\t\\t\\t\\t\\t\\t\\t\\t<li>\\r\\n\\t\\t\\t\\t\\t\\t\\t\\t\\t<a href=\"/video/8329\"><img width=\"100\" height=\"75\" src=\"http://videothumbs.securitytube.net.s3.amazonaws.com/8329.jpg\" alt=\"video, security, hack, hacking\" /></a>\\r\\n\\t\\t\\t\\t\\t\\t\\t\\t\\t<a href=\"/video/8329\"><b><font color=\"red\">Challenge 2: Http Form Attacks Reloaded</font></b></a><br/>\\r\\n\\t\\t\\t\\t\\t\\t\\t\\t\\tby Vivek-Ramachandran, 1 week, 3 days ago<br/>\\r\\n\\t\\t\\t\\t\\t\\t\\t\\t\\t1 Views \\r\\n\\t\\t\\t\\t\\t\\t\\t\\t</li>\\r\\n\\r\\n\\t\\t\\t\\t\\t\\t\\t\\t\\r\\n\\r\\n\\t\\t\\t\\t\\t\\t\\t\\t<li>\\r\\n\\t\\t\\t\\t\\t\\t\\t\\t\\t<a href=\"/video/8307\"><img width=\"100\" height=\"75\" src=\"http://videothumbs.securitytube.net.s3.amazonaws.com/8307.jpg\" alt=\"video, security, hack, hacking\" /></a>\\r\\n\\t\\t\\t\\t\\t\\t\\t\\t\\t<a href=\"/video/8307\"><b><font color=\"red\">Http Verb Tampering Demo</font></b></a><br/>\\r\\n\\t\\t\\t\\t\\t\\t\\t\\t\\tby Vivek-Ramachandran, 1 week, 6 days ago<br/>\\r\\n\\t\\t\\t\\t\\t\\t\\t\\t\\t19 Views \\r\\n\\t\\t\\t\\t\\t\\t\\t\\t</li>\\r\\n\\r\\n\\t\\t\\t\\t\\t\\t\\t\\t\\r\\n\\r\\n\\t\\t\\t\\t\\t\\t\\t\\t<li>\\r\\n\\t\\t\\t\\t\\t\\t\\t\\t\\t<a href=\"/video/8274\"><img width=\"100\" height=\"75\" src=\"http://videothumbs.securitytube.net.s3.amazonaws.com/8274.jpg\" alt=\"video, security, hack, hacking\" /></a>\\r\\n\\t\\t\\t\\t\\t\\t\\t\\t\\t<a href=\"/video/8274\"><b><font color=\"red\">Web Application Pentesting Course Introduction</font></b></a><br/>\\r\\n\\t\\t\\t\\t\\t\\t\\t\\t\\tby Vivek-Ramachandran, 2 weeks, 4 days ago<br/>\\r\\n\\t\\t\\t\\t\\t\\t\\t\\t\\t2739 Views \\r\\n\\t\\t\\t\\t\\t\\t\\t\\t</li>\\r\\n\\r\\n\\t\\t\\t\\t\\t\\t\\t\\t\\r\\n\\r\\n\\t\\t\\t\\t\\t\\t\\t\\t<li>\\r\\n\\t\\t\\t\\t\\t\\t\\t\\t\\t<a href=\"/video/8267\"><img width=\"100\" height=\"75\" src=\"http://videothumbs.securitytube.net.s3.amazonaws.com/8267.jpg\" alt=\"video, security, hack, hacking\" /></a>\\r\\n\\t\\t\\t\\t\\t\\t\\t\\t\\t<a href=\"/video/8267\"><b><font color=\"red\">Introducing Pentester Academy</font></b></a><br/>\\r\\n\\t\\t\\t\\t\\t\\t\\t\\t\\tby Vivek-Ramachandran, 2 weeks, 5 days ago<br/>\\r\\n\\t\\t\\t\\t\\t\\t\\t\\t\\t2301 Views \\r\\n\\t\\t\\t\\t\\t\\t\\t\\t</li>\\r\\n\\r\\n\\t\\t\\t\\t\\t\\t\\t\\t\\r\\n\\r\\n\\t\\t\\t\\t\\t\\t\\t\\t<li>\\r\\n\\t\\t\\t\\t\\t\\t\\t\\t\\t<a href=\"/video/7881\"><img width=\"100\" height=\"75\" src=\"http://videothumbs.securitytube.net.s3.amazonaws.com/7881.jpg\" alt=\"video, security, hack, hacking\" /></a>\\r\\n\\t\\t\\t\\t\\t\\t\\t\\t\\t<a href=\"/video/7881\"><b><font color=\"red\">Hack Of The Day 13: Remote Shellcode Launcher: Testing Shellcode Over A Network</font></b></a><br/>\\r\\n\\t\\t\\t\\t\\t\\t\\t\\t\\tby Vivek-Ramachandran, 2 months, 2 weeks ago<br/>\\r\\n\\t\\t\\t\\t\\t\\t\\t\\t\\t6778 Views \\r\\n\\t\\t\\t\\t\\t\\t\\t\\t</li>\\r\\n\\r\\n\\t\\t\\t\\t\\t\\t\\t\\t\\r\\n\\r\\n\\t\\t\\t\\t\\t\\t\\t\\t<li>\\r\\n\\t\\t\\t\\t\\t\\t\\t\\t\\t<a href=\"/video/7875\"><img width=\"100\" height=\"75\" src=\"http://videothumbs.securitytube.net.s3.amazonaws.com/7875.jpg\" alt=\"video, security, hack, hacking\" /></a>\\r\\n\\t\\t\\t\\t\\t\\t\\t\\t\\t<a href=\"/video/7875\"><b><font color=\"red\">Hack Of The Day 12: Pivots And Port Forwards In Scenario Based Pentesting</font></b></a><br/>\\r\\n\\t\\t\\t\\t\\t\\t\\t\\t\\tby Vivek-Ramachandran, 2 months, 2 weeks ago<br/>\\r\\n\\t\\t\\t\\t\\t\\t\\t\\t\\t4260 Views \\r\\n\\t\\t\\t\\t\\t\\t\\t\\t</li>\\r\\n\\r\\n\\t\\t\\t\\t\\t\\t\\t\\t\\r\\n\\r\\n\\t\\t\\t\\t\\t\\t\\t</ul>\\r\\n\\t\\t\\t\\t\\t\\t\\t\\r\\n\\t\\t\\t\\t\\t\\t\\t<div align=\"center\"><b><a href=\"/user/Vivek-Ramachandran\">More ...</a></b></div>\\r\\n\\t\\t\\t\\t\\t\\t</div>\\r\\n\\t\\t\\t\\t\\t</div>\\r\\n\\t\\t\\t\\t</div>\\r\\n\\r\\n\\r\\n\\t\\r\\n\\t\\t\\t\\t<div class=\"third\">\\r\\n\\t\\t\\t\\t\\t<div class=\"box\">\\r\\n\\t\\t\\t\\t\\t\\t<div class=\"title\">\\r\\n\\t\\t\\t\\t\\t\\tHack of the Day\\t\\t\\r\\n\\t\\t\\t\\t\\t\\t</div>\\r\\n\\t\\t\\t\\t\\t\\t<div class=\"content\">\\r\\n\\t\\t\\t\\t\\t\\t\\t<ul class=\"comments\">\\r\\n\\t\\t\\t\\t\\t\\t\\t\\t\\r\\n\\t\\t\\t\\t\\t\\t\\t\\t\\r\\n\\r\\n\\t\\t\\t\\t\\t\\t\\t\\t<li>\\r\\n\\t\\t\\t\\t\\t\\t\\t\\t\\t<a href=\"/video/7881\"><img width=\"100\" height=\"75\" src=\"http://videothumbs.securitytube.net.s3.amazonaws.com/7881.jpg\" alt=\"video, security, hack, hacking\" /></a>\\r\\n\\t\\t\\t\\t\\t\\t\\t\\t\\t<a href=\"/video/7881\"><b><font color=\"red\">Hack Of The Day 13: Remote Shellcode Launcher: Testing Shellcode Over A Network</font></b></a><br/>\\r\\n\\t\\t\\t\\t\\t\\t\\t\\t\\tby Vivek-Ramachandran, 2 months, 2 weeks ago<br/>\\r\\n\\t\\t\\t\\t\\t\\t\\t\\t\\t6781 Views\\r\\n\\t\\t\\t\\t\\t\\t\\t\\t</li>\\r\\n\\r\\n\\t\\t\\t\\t\\t\\t\\t\\t\\r\\n\\r\\n\\t\\t\\t\\t\\t\\t\\t\\t<li>\\r\\n\\t\\t\\t\\t\\t\\t\\t\\t\\t<a href=\"/video/7875\"><img width=\"100\" height=\"75\" src=\"http://videothumbs.securitytube.net.s3.amazonaws.com/7875.jpg\" alt=\"video, security, hack, hacking\" /></a>\\r\\n\\t\\t\\t\\t\\t\\t\\t\\t\\t<a href=\"/video/7875\"><b><font color=\"red\">Hack Of The Day 12: Pivots And Port Forwards In Scenario Based Pentesting</font></b></a><br/>\\r\\n\\t\\t\\t\\t\\t\\t\\t\\t\\tby Vivek-Ramachandran, 2 months, 2 weeks ago<br/>\\r\\n\\t\\t\\t\\t\\t\\t\\t\\t\\t4260 Views\\r\\n\\t\\t\\t\\t\\t\\t\\t\\t</li>\\r\\n\\r\\n\\t\\t\\t\\t\\t\\t\\t\\t\\r\\n\\r\\n\\t\\t\\t\\t\\t\\t\\t\\t<li>\\r\\n\\t\\t\\t\\t\\t\\t\\t\\t\\t<a href=\"/video/7313\"><img width=\"100\" height=\"75\" src=\"http://videothumbs.securitytube.net.s3.amazonaws.com/7313.jpg\" alt=\"video, security, hack, hacking\" /></a>\\r\\n\\t\\t\\t\\t\\t\\t\\t\\t\\t<a href=\"/video/7313\"><b><font color=\"red\">[Hack Of The Day Ep. 11] Finding Publicly Readable Files On Your Amazon S3 Account</font></b></a><br/>\\r\\n\\t\\t\\t\\t\\t\\t\\t\\t\\tby Hack-of-the-Day, 5 months, 1 week ago<br/>\\r\\n\\t\\t\\t\\t\\t\\t\\t\\t\\t4392 Views\\r\\n\\t\\t\\t\\t\\t\\t\\t\\t</li>\\r\\n\\r\\n\\t\\t\\t\\t\\t\\t\\t\\t\\r\\n\\r\\n\\t\\t\\t\\t\\t\\t\\t\\t<li>\\r\\n\\t\\t\\t\\t\\t\\t\\t\\t\\t<a href=\"/video/7282\"><img width=\"100\" height=\"75\" src=\"http://videothumbs.securitytube.net.s3.amazonaws.com/7282.jpg\" alt=\"video, security, hack, hacking\" /></a>\\r\\n\\t\\t\\t\\t\\t\\t\\t\\t\\t<a href=\"/video/7282\"><b><font color=\"red\">Simulating An Ssh Worm In Python</font></b></a><br/>\\r\\n\\t\\t\\t\\t\\t\\t\\t\\t\\tby Hack-of-the-Day, 5 months, 2 weeks ago<br/>\\r\\n\\t\\t\\t\\t\\t\\t\\t\\t\\t4714 Views\\r\\n\\t\\t\\t\\t\\t\\t\\t\\t</li>\\r\\n\\r\\n\\t\\t\\t\\t\\t\\t\\t\\t\\r\\n\\r\\n\\t\\t\\t\\t\\t\\t\\t\\t<li>\\r\\n\\t\\t\\t\\t\\t\\t\\t\\t\\t<a href=\"/video/7275\"><img width=\"100\" height=\"75\" src=\"http://videothumbs.securitytube.net.s3.amazonaws.com/7275.jpg\" alt=\"video, security, hack, hacking\" /></a>\\r\\n\\t\\t\\t\\t\\t\\t\\t\\t\\t<a href=\"/video/7275\"><b><font color=\"red\">[Hack Of The Day Ep. 10] Wlan Ssid Sniffer Using Raw Sockets In Python</font></b></a><br/>\\r\\n\\t\\t\\t\\t\\t\\t\\t\\t\\tby Hack-of-the-Day, 5 months, 2 weeks ago<br/>\\r\\n\\t\\t\\t\\t\\t\\t\\t\\t\\t3760 Views\\r\\n\\t\\t\\t\\t\\t\\t\\t\\t</li>\\r\\n\\r\\n\\t\\t\\t\\t\\t\\t\\t\\t\\r\\n\\r\\n\\t\\t\\t\\t\\t\\t\\t\\t<li>\\r\\n\\t\\t\\t\\t\\t\\t\\t\\t\\t<a href=\"/video/7265\"><img width=\"100\" height=\"75\" src=\"http://videothumbs.securitytube.net.s3.amazonaws.com/7265.jpg\" alt=\"video, security, hack, hacking\" /></a>\\r\\n\\t\\t\\t\\t\\t\\t\\t\\t\\t<a href=\"/video/7265\"><b><font color=\"red\">[Hack Of The Day Episode 9] Monitor Wi-Fi Client Probes  In 10 Lines Of Python</font></b></a><br/>\\r\\n\\t\\t\\t\\t\\t\\t\\t\\t\\tby Hack-of-the-Day, 5 months, 2 weeks ago<br/>\\r\\n\\t\\t\\t\\t\\t\\t\\t\\t\\t4517 Views\\r\\n\\t\\t\\t\\t\\t\\t\\t\\t</li>\\r\\n\\r\\n\\t\\t\\t\\t\\t\\t\\t\\t\\r\\n\\r\\n\\t\\t\\t\\t\\t\\t\\t\\t<li>\\r\\n\\t\\t\\t\\t\\t\\t\\t\\t\\t<a href=\"/video/7262\"><img width=\"100\" height=\"75\" src=\"http://videothumbs.securitytube.net.s3.amazonaws.com/7262.jpg\" alt=\"video, security, hack, hacking\" /></a>\\r\\n\\t\\t\\t\\t\\t\\t\\t\\t\\t<a href=\"/video/7262\"><b><font color=\"red\">[Hack Of The Day Episode 8] Wireless Ssid Sniffer In 10 Lines Of Python</font></b></a><br/>\\r\\n\\t\\t\\t\\t\\t\\t\\t\\t\\tby Hack-of-the-Day, 5 months, 2 weeks ago<br/>\\r\\n\\t\\t\\t\\t\\t\\t\\t\\t\\t7053 Views\\r\\n\\t\\t\\t\\t\\t\\t\\t\\t</li>\\r\\n\\r\\n\\t\\t\\t\\t\\t\\t\\t\\t\\r\\n\\r\\n\\t\\t\\t\\t\\t\\t\\t\\t<li>\\r\\n\\t\\t\\t\\t\\t\\t\\t\\t\\t<a href=\"/video/7046\"><img width=\"100\" height=\"75\" src=\"http://videothumbs.securitytube.net.s3.amazonaws.com/7046.jpg\" alt=\"video, security, hack, hacking\" /></a>\\r\\n\\t\\t\\t\\t\\t\\t\\t\\t\\t<a href=\"/video/7046\"><b><font color=\"red\">[Hack Of The Day Part 7] Web Application Command Injection To Meterpreter Shell</font></b></a><br/>\\r\\n\\t\\t\\t\\t\\t\\t\\t\\t\\tby Hack-of-the-Day, 6 months, 2 weeks ago<br/>\\r\\n\\t\\t\\t\\t\\t\\t\\t\\t\\t6538 Views\\r\\n\\t\\t\\t\\t\\t\\t\\t\\t</li>\\r\\n\\r\\n\\t\\t\\t\\t\\t\\t\\t\\t\\r\\n\\r\\n\\t\\t\\t\\t\\t\\t\\t\\t<li>\\r\\n\\t\\t\\t\\t\\t\\t\\t\\t\\t<a href=\"/video/7042\"><img width=\"100\" height=\"75\" src=\"http://videothumbs.securitytube.net.s3.amazonaws.com/7042.jpg\" alt=\"video, security, hack, hacking\" /></a>\\r\\n\\t\\t\\t\\t\\t\\t\\t\\t\\t<a href=\"/video/7042\"><b><font color=\"red\">[Hack Of The Day Part 6] Writing A Shellcode Decoder In Python</font></b></a><br/>\\r\\n\\t\\t\\t\\t\\t\\t\\t\\t\\tby Hack-of-the-Day, 6 months, 2 weeks ago<br/>\\r\\n\\t\\t\\t\\t\\t\\t\\t\\t\\t4314 Views\\r\\n\\t\\t\\t\\t\\t\\t\\t\\t</li>\\r\\n\\r\\n\\t\\t\\t\\t\\t\\t\\t\\t\\r\\n\\r\\n\\t\\t\\t\\t\\t\\t\\t\\t<li>\\r\\n\\t\\t\\t\\t\\t\\t\\t\\t\\t<a href=\"/video/7031\"><img width=\"100\" height=\"75\" src=\"http://videothumbs.securitytube.net.s3.amazonaws.com/7031.jpg\" alt=\"video, security, hack, hacking\" /></a>\\r\\n\\t\\t\\t\\t\\t\\t\\t\\t\\t<a href=\"/video/7031\"><b><font color=\"red\">[Hack Of The Day Part 5] Writing A Shellcode Encoder In Python</font></b></a><br/>\\r\\n\\t\\t\\t\\t\\t\\t\\t\\t\\tby Hack-of-the-Day, 6 months, 3 weeks ago<br/>\\r\\n\\t\\t\\t\\t\\t\\t\\t\\t\\t4850 Views\\r\\n\\t\\t\\t\\t\\t\\t\\t\\t</li>\\r\\n\\r\\n\\t\\t\\t\\t\\t\\t\\t\\t\\r\\n\\r\\n\\t\\t\\t\\t\\t\\t\\t</ul>\\r\\n\\t\\t\\t\\t\\t\\t\\t\\r\\n\\t\\t\\t\\t\\t\\t\\t<div align=\"center\"><b><a href=\"/tags/hod\">More ...</a></b></div>\\r\\n\\t\\t\\t\\t\\t\\t</div>\\r\\n\\t\\t\\t\\t\\t</div>\\r\\n\\t\\t\\t\\t</div>\\r\\n\\r\\n\\r\\n\\t\\t\\r\\n\\r\\n\\r\\n\\r\\n\\r\\n\\t\\t\\t\\r\\n\\t\\t\\t\\r\\n\\t\\t\\t</div>\\r\\n\\t\\t\\t\\r\\n\\t\\r\\n\\t\\t\\r\\n\\t\\t</div>\\r\\n\\t\\t\\r\\n\\t\\t\\r\\n\\t\\t<div id=\"footer\">\\r\\n\\t\\t\\t<div class=\"split\">&#169; Copyright SecurityTube.net</div>\\r\\n\\t\\t\\t<div class=\"split right\">Powered by Binary Security</div>\\r\\n\\t\\t</div>\\r\\n\\t\\t\\r\\n\\t</div>\\r\\n</div>\\r\\n\\r\\n\\r\\n\\r\\n\\t\\t<script type=\"text/javascript\">\\r\\n\\t\\tvar gaJsHost = ((\"https:\" == document.location.protocol) ? \"https://ssl.\" : \"http://www.\");\\r\\n\\t\\tdocument.write(unescape(\"%3Cscript src=\\'\" + gaJsHost + \"google-analytics.com/ga.js\\' type=\\'text/javascript\\'%3E%3C/script%3E\"));\\r\\n\\t\\t\\r\\n\\t\\t</script>\\r\\n\\t\\t<script type=\"text/javascript\">\\r\\n\\t\\tvar pageTracker = _gat._getTracker(\"UA-4126932-1\");\\r\\n\\t\\tpageTracker._initData();\\r\\n\\t\\tpageTracker._trackPageview();\\r\\n\\t\\t</script>\\r\\n\\t\\t<!-- Start of StatCounter Code -->\\r\\n\\t\\t\\r\\n\\t\\t<script type=\"text/javascript\">\\r\\n\\t\\tsc_project=3617709; \\r\\n\\t\\tsc_invisible=1; \\r\\n\\t\\tsc_partition=42; \\r\\n\\t\\tsc_security=\"ace69247\"; \\r\\n\\t\\t</script>\\r\\n\\t\\t\\r\\n\\t\\t<script type=\"text/javascript\" src=\"http://www.statcounter.com/counter/counter_xhtml.js\"></script><noscript><div class=\"statcounter\"><a href=\"http://www.statcounter.com/free_hit_counter.html\" target=\"_blank\"><img class=\"statcounter\" src=\"http://c43.statcounter.com/3617709/0/ace69247/1/\" alt=\"hit counter html code\" ></a></div></noscript>\\r\\n\\r\\n\\r\\n\\r\\n<style type=\"text/css\">\\r\\n.votecard {\\r\\n\\tbackground: url(/images/sprite.png) no-repeat 0 0;\\r\\n\\tpadding: 4px;\\r\\n\\twidth: 63px;\\r\\n\\theight: 43px;\\r\\n\\ttext-align: center;\\r\\n}\\r\\n\\r\\n.votecard div {\\r\\n\\tposition: relative;\\r\\n\\toverflow: hidden;\\r\\n\\twidth: 63px;\\r\\n\\theight: 43px;\\r\\n}\\r\\n\\r\\n.votecard em {\\r\\n\\tdisplay: block;\\r\\n\\tposition: relative;\\r\\n\\twidth: 63px;\\r\\n\\theight: 33px;\\r\\n\\tpadding: 6px 0 6px 0;\\r\\n\\tfont: normal 24px/24px \"Helvetica Neue\",\"Helvetica\",\"Arial\",Sans-serif;\\r\\n\\tcolor: #45453f;\\r\\n}\\r\\n.votecard strong {\\r\\n\\tfont-weight: bold;\\r\\n}\\r\\n.votecard span {\\r\\n\\tfont-size: 10px;\\r\\n\\tline-height: 10px;\\r\\n\\tdisplay: block;\\r\\n\\tcolor: #9a9a94;\\r\\n}\\r\\n\\r\\na.voteactionq {\\r\\n\\tmargin: 0 0 0 3px;\\r\\n\\tdisplay: block;\\r\\n\\ttext-indent: -9999px;\\r\\n\\twidth: 71px;\\r\\n\\theight: 21px;\\r\\n\\tbackground: url(/images/sprite.png) no-repeat -3px -75px;\\r\\n}\\r\\na.voteactionq:hover {\\r\\n\\toutline: none;\\r\\n\\tbackground-position: -3px -54px;\\r\\n}\\r\\n\\r\\na.voteaction {\\r\\n\\tmargin: 0 0 0 3px;\\r\\n\\tdisplay: block;\\r\\n\\ttext-indent: -9999px;\\r\\n\\twidth: 71px;\\r\\n\\theight: 21px;\\r\\n\\tbackground: url(/images/sprite.png) no-repeat -3px -75px;\\r\\n}\\r\\na.voteaction:hover {\\r\\n\\toutline: none;\\r\\n\\tbackground-position: -3px -54px;\\r\\n}\\r\\na.voted,\\r\\na.voted:hover {\\r\\n\\toutline: none;\\r\\n\\tbackground-position: -3px -96px;\\r\\n\\tcursor: default;\\r\\n}\\r\\n\\r\\n</style>\\r\\n\\r\\n\\r\\n</body>\\r\\n\\r\\n</html>\\r\\n\\t\\r\\n'"
       ]
      }
     ],
     "prompt_number": 46
    },
    {
     "cell_type": "code",
     "collapsed": false,
     "input": [],
     "language": "python",
     "metadata": {},
     "outputs": []
    }
   ],
   "metadata": {}
  }
 ]
}