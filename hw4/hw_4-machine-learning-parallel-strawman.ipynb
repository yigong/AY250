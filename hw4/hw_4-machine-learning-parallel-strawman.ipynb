{
 "metadata": {
  "name": ""
 },
 "nbformat": 3,
 "nbformat_minor": 0,
 "worksheets": [
  {
   "cells": [
    {
     "cell_type": "code",
     "collapsed": false,
     "input": [
      "#import\n",
      "import matplotlib.pyplot as plt\n",
      "from glob import glob\n",
      "import numpy as np\n",
      "import scipy.ndimage as ndimg\n",
      "import skimage.filter as filter\n",
      "import skimage.transform as transform\n",
      "\n",
      "def row(img2d):\n",
      "    return np.shape(img2d)[0]\n",
      "    \n",
      "def col(img2d):\n",
      "    return np.shape(img2d)[1]\n",
      "\n",
      "def layer_mean(img2d):\n",
      "    img1d = img2d[img2d<255]\n",
      "    return img1d.mean()\n",
      "\n",
      "def hist_max(img2d):\n",
      "    img1d = img2d[img2d<255]\n",
      "    [n, bins, patches]= plt.hist(img1d, np.arange(255))\n",
      "    return bins[n.argmax()]\n",
      "\n",
      "def edge_length(img2d):\n",
      "    \"gray input\"\n",
      "    imgsize = float((img2d.shape[0]*img2d.shape[1]))\n",
      "    med_filter = ndimg.median_filter(img2d, size = (5,5))\n",
      "    edges = filter.canny(med_filter,3)\n",
      "    return edges.sum()/imgsize\n",
      "\n",
      "def edge_sobel_h(img2d):\n",
      "    \"gray input\"\n",
      "    imgsize = float((img2d.shape[0]*img2d.shape[1]))\n",
      "    med_filter = ndimg.median_filter(img2d, size = (5,5))\n",
      "    edges_h = filter.hsobel(med_filter/255.)\n",
      "    return edges_h.sum()/imgsize\n",
      "\n",
      "def edge_sobel_v(img2d):\n",
      "    \"gray input\"\n",
      "    imgsize = float((img2d.shape[0]*img2d.shape[1]))\n",
      "    med_filter = ndimg.median_filter(img2d, size = (5,5))\n",
      "    edges_v = filter.vsobel(med_filter/255.)\n",
      "    return edges_v.sum()/imgsize\n",
      "\n",
      "def edge_sobel(img2d):\n",
      "    \"gray input\"\n",
      "    imgsize = float((img2d.shape[0]*img2d.shape[1]))\n",
      "    med_filter = ndimg.median_filter(img2d, size = (5,5))\n",
      "    edges = filter.sobel(med_filter/255.)\n",
      "    return edges.sum()/imgsize\n",
      "\n",
      "def houghLine(img2d):\n",
      "    \"gray input\"\n",
      "    med_filter = ndimg.median_filter(img2d, size = (5,5))\n",
      "    edges = filter.sobel(med_filter/255.)\n",
      "    [H,theta,distances] = transform.hough_line(edges);\n",
      "    imgsize = float(len(theta)*len(distances))\n",
      "    return H.sum()/imgsize\n",
      "def features(image_path):\n",
      "    #red mean\n",
      "    img2d = ndimg.imread(image_path)\n",
      "    img2d_gray = ndimg.imread(image_path, flatten= True)\n",
      "    \n",
      "    row_n = row(img2d_gray)\n",
      "    col_n = col(img2d_gray)\n",
      "    \n",
      "    red_mean = layer_mean(img2d[...,0])\n",
      "    green_mean = layer_mean(img2d[...,1])\n",
      "    blue_mean = layer_mean(img2d[...,2])\n",
      "    gray_mean = layer_mean(img2d_gray)\n",
      "    \n",
      "    red_most = hist_max(img2d[...,0])\n",
      "    green_most = hist_max(img2d[...,1])\n",
      "    blue_most = hist_max(img2d[...,2])\n",
      "    gray_most = hist_max(img2d_gray)\n",
      "    \n",
      "    length = edge_length(img2d_gray)\n",
      "    sobel_h = edge_sobel_h(img2d_gray)\n",
      "    sobel_v = edge_sobel_v(img2d_gray)\n",
      "    sobel = edge_sobel(img2d_gray)\n",
      "    hough = houghLine(img2d_gray)\n",
      "    \n",
      "    cate = image_path\n",
      "#    return list([red_mean, green_mean])\n",
      "\n",
      "    return list([row_n, col_n, red_mean, green_mean, blue_mean, gray_mean,\\\n",
      "                     red_most,green_most,blue_most, gray_most,\\\n",
      "                     length, sobel_h, sobel_v, sobel, hough])\n"
     ],
     "language": "python",
     "metadata": {},
     "outputs": [],
     "prompt_number": 88
    },
    {
     "cell_type": "code",
     "collapsed": false,
     "input": [
      "#!/usr/bin/env python\n",
      "\"\"\"\n",
      "AY 250 - Scientific Research Computing with Python\n",
      "Homework Assignment 4 - Parallel Feature Extraction Example\n",
      "Author: Christopher Klein, Joshua Bloom\n",
      "\"\"\"\n",
      "from os import listdir\n",
      "from multiprocessing import Pool, cpu_count\n",
      "from pylab import imread\n",
      "from time import time\n",
      "\n",
      "## CHANGE THIS NEXT LINE!\n",
      "MYDIRECTORY = \"/Users/Yigong/Documents/Python/AY250/hw4/50_categories/\"\n",
      "\n",
      "# FUNCTION DEFINITIONS\n",
      "# Quick function to divide up a large list into multiple small lists, \n",
      "# attempting to keep them all the same size. \n",
      "def split_seq(seq, size):\n",
      "        newseq = []\n",
      "        splitsize = 1.0/size*len(seq)\n",
      "        for i in range(size):\n",
      "            newseq.append(seq[int(round(i*splitsize)):\n",
      "                int(round((i+1)*splitsize))])\n",
      "        return newseq\n",
      "# Our simple feature extraction function. It takes in a list of image paths, \n",
      "# does some measurement on each image, then returns a list of the image paths\n",
      "# paired with the results of the feature measurement.\n",
      "def extract_features(image_path_list):\n",
      "    feature_list = []\n",
      "    for image_path in image_path_list:\n",
      "        image_array = imread(image_path)\n",
      "        ft = features(image_path)\n",
      "        #feature = image_array.size # This feature is simple. You can modify this\n",
      "        # code to produce more complicated features and to produce multiple\n",
      "        # features in one function call.\n",
      "        feature_list.append(ft)\n",
      "    return feature_list\n",
      "\n",
      "\n",
      "\n",
      "### Main program starts here ###################################################\n",
      "# We first collect all the local paths to all the images in one list\n",
      "image_paths = []\n",
      "categories = listdir(MYDIRECTORY)[1:]\n",
      "for category in categories[1:2]:\n",
      "    image_names = listdir(MYDIRECTORY  + \"/\" + category)\n",
      "    for name in image_names:\n",
      "        image_paths.append(MYDIRECTORY + \"/\" + category + \"/\" + name)\n",
      "        \n",
      "print image_paths\n",
      "image_paths = image_paths[1:]\n",
      "print (\"There should be 4244 images, actual number is \" + \n",
      "    str(len(image_paths)) + \".\")\n",
      "# Then, we run the feature extraction function using multiprocessing.Pool so \n",
      "# so that we can parallelize the process and run it much faster.\n",
      "#numprocessors = cpu_count() # To see results of parallelizing, set numprocessors\n",
      "# to less than cpu_count().\n",
      "\n",
      "#create an array to store features\n",
      "#nFeature = 13\n",
      "#features_array = np.zeros(len(image_paths), nFeature)\n",
      "\n",
      "numprocessors = cpu_count()\n",
      "\n",
      "# We have to cut up the image_paths list into the number of processes we want to\n",
      "# run. \n",
      "split_image_paths = split_seq(image_paths, numprocessors)\n",
      "\n",
      "# Ok, this block is where the parallel code runs. We time it so we can get a \n",
      "# feel for the speed up.\n",
      "start_time = time()\n",
      "p = Pool(numprocessors)\n",
      "result = p.map_async(extract_features, split_image_paths)\n",
      "poolresult = result.get()\n",
      "end_time = time()\n",
      "X = np.vstack([poolresult[i] for i in range(np.shape(poolresult)[0])])\n",
      "# All done, print timing results.\n",
      "print (\"Finished extracting features. Total time: \" + \n",
      "    str(round(end_time-start_time, 3)) + \" s, or \" + \n",
      "    str( round( (end_time-start_time)/len(image_paths), 5 ) ) + \" s/image.\")\n",
      "# This took about 10-11 seconds on my 2.2 GHz, Core i7 MacBook Pro. It may also\n",
      "# be affected by hard disk read speeds.\n",
      "\n",
      "# To tidy-up a bit, we loop through the poolresult to create a final list of\n",
      "# the feature extraction results for all images.\n",
      "combined_result = []\n",
      "for single_proc_result in poolresult:\n",
      "    for single_image_result in single_proc_result:\n",
      "        combined_result.append(single_image_result)"
     ],
     "language": "python",
     "metadata": {},
     "outputs": [
      {
       "output_type": "stream",
       "stream": "stdout",
       "text": [
        "['/Users/Yigong/Documents/Python/AY250/hw4/50_categories//bat/bat_0001.jpg', '/Users/Yigong/Documents/Python/AY250/hw4/50_categories//bat/bat_0002.jpg', '/Users/Yigong/Documents/Python/AY250/hw4/50_categories//bat/bat_0003.jpg', '/Users/Yigong/Documents/Python/AY250/hw4/50_categories//bat/bat_0004.jpg', '/Users/Yigong/Documents/Python/AY250/hw4/50_categories//bat/bat_0005.jpg', '/Users/Yigong/Documents/Python/AY250/hw4/50_categories//bat/bat_0006.jpg', '/Users/Yigong/Documents/Python/AY250/hw4/50_categories//bat/bat_0007.jpg', '/Users/Yigong/Documents/Python/AY250/hw4/50_categories//bat/bat_0008.jpg', '/Users/Yigong/Documents/Python/AY250/hw4/50_categories//bat/bat_0009.jpg', '/Users/Yigong/Documents/Python/AY250/hw4/50_categories//bat/bat_0010.jpg', '/Users/Yigong/Documents/Python/AY250/hw4/50_categories//bat/bat_0011.jpg', '/Users/Yigong/Documents/Python/AY250/hw4/50_categories//bat/bat_0012.jpg', '/Users/Yigong/Documents/Python/AY250/hw4/50_categories//bat/bat_0013.jpg', '/Users/Yigong/Documents/Python/AY250/hw4/50_categories//bat/bat_0014.jpg', '/Users/Yigong/Documents/Python/AY250/hw4/50_categories//bat/bat_0015.jpg', '/Users/Yigong/Documents/Python/AY250/hw4/50_categories//bat/bat_0016.jpg', '/Users/Yigong/Documents/Python/AY250/hw4/50_categories//bat/bat_0017.jpg', '/Users/Yigong/Documents/Python/AY250/hw4/50_categories//bat/bat_0018.jpg', '/Users/Yigong/Documents/Python/AY250/hw4/50_categories//bat/bat_0019.jpg', '/Users/Yigong/Documents/Python/AY250/hw4/50_categories//bat/bat_0020.jpg', '/Users/Yigong/Documents/Python/AY250/hw4/50_categories//bat/bat_0021.jpg', '/Users/Yigong/Documents/Python/AY250/hw4/50_categories//bat/bat_0022.jpg', '/Users/Yigong/Documents/Python/AY250/hw4/50_categories//bat/bat_0023.jpg', '/Users/Yigong/Documents/Python/AY250/hw4/50_categories//bat/bat_0024.jpg', '/Users/Yigong/Documents/Python/AY250/hw4/50_categories//bat/bat_0025.jpg', '/Users/Yigong/Documents/Python/AY250/hw4/50_categories//bat/bat_0026.jpg', '/Users/Yigong/Documents/Python/AY250/hw4/50_categories//bat/bat_0027.jpg', '/Users/Yigong/Documents/Python/AY250/hw4/50_categories//bat/bat_0028.jpg', '/Users/Yigong/Documents/Python/AY250/hw4/50_categories//bat/bat_0029.jpg', '/Users/Yigong/Documents/Python/AY250/hw4/50_categories//bat/bat_0030.jpg', '/Users/Yigong/Documents/Python/AY250/hw4/50_categories//bat/bat_0031.jpg', '/Users/Yigong/Documents/Python/AY250/hw4/50_categories//bat/bat_0032.jpg', '/Users/Yigong/Documents/Python/AY250/hw4/50_categories//bat/bat_0033.jpg', '/Users/Yigong/Documents/Python/AY250/hw4/50_categories//bat/bat_0034.jpg', '/Users/Yigong/Documents/Python/AY250/hw4/50_categories//bat/bat_0035.jpg', '/Users/Yigong/Documents/Python/AY250/hw4/50_categories//bat/bat_0036.jpg', '/Users/Yigong/Documents/Python/AY250/hw4/50_categories//bat/bat_0037.jpg', '/Users/Yigong/Documents/Python/AY250/hw4/50_categories//bat/bat_0038.jpg', '/Users/Yigong/Documents/Python/AY250/hw4/50_categories//bat/bat_0039.jpg', '/Users/Yigong/Documents/Python/AY250/hw4/50_categories//bat/bat_0040.jpg', '/Users/Yigong/Documents/Python/AY250/hw4/50_categories//bat/bat_0041.jpg', '/Users/Yigong/Documents/Python/AY250/hw4/50_categories//bat/bat_0042.jpg', '/Users/Yigong/Documents/Python/AY250/hw4/50_categories//bat/bat_0043.jpg', '/Users/Yigong/Documents/Python/AY250/hw4/50_categories//bat/bat_0044.jpg', '/Users/Yigong/Documents/Python/AY250/hw4/50_categories//bat/bat_0045.jpg', '/Users/Yigong/Documents/Python/AY250/hw4/50_categories//bat/bat_0046.jpg', '/Users/Yigong/Documents/Python/AY250/hw4/50_categories//bat/bat_0047.jpg', '/Users/Yigong/Documents/Python/AY250/hw4/50_categories//bat/bat_0048.jpg', '/Users/Yigong/Documents/Python/AY250/hw4/50_categories//bat/bat_0049.jpg', '/Users/Yigong/Documents/Python/AY250/hw4/50_categories//bat/bat_0050.jpg', '/Users/Yigong/Documents/Python/AY250/hw4/50_categories//bat/bat_0051.jpg', '/Users/Yigong/Documents/Python/AY250/hw4/50_categories//bat/bat_0052.jpg', '/Users/Yigong/Documents/Python/AY250/hw4/50_categories//bat/bat_0053.jpg', '/Users/Yigong/Documents/Python/AY250/hw4/50_categories//bat/bat_0054.jpg', '/Users/Yigong/Documents/Python/AY250/hw4/50_categories//bat/bat_0055.jpg', '/Users/Yigong/Documents/Python/AY250/hw4/50_categories//bat/bat_0056.jpg', '/Users/Yigong/Documents/Python/AY250/hw4/50_categories//bat/bat_0057.jpg', '/Users/Yigong/Documents/Python/AY250/hw4/50_categories//bat/bat_0058.jpg', '/Users/Yigong/Documents/Python/AY250/hw4/50_categories//bat/bat_0059.jpg', '/Users/Yigong/Documents/Python/AY250/hw4/50_categories//bat/bat_0060.jpg', '/Users/Yigong/Documents/Python/AY250/hw4/50_categories//bat/bat_0061.jpg', '/Users/Yigong/Documents/Python/AY250/hw4/50_categories//bat/bat_0062.jpg', '/Users/Yigong/Documents/Python/AY250/hw4/50_categories//bat/bat_0063.jpg', '/Users/Yigong/Documents/Python/AY250/hw4/50_categories//bat/bat_0064.jpg', '/Users/Yigong/Documents/Python/AY250/hw4/50_categories//bat/bat_0065.jpg', '/Users/Yigong/Documents/Python/AY250/hw4/50_categories//bat/bat_0066.jpg', '/Users/Yigong/Documents/Python/AY250/hw4/50_categories//bat/bat_0067.jpg', '/Users/Yigong/Documents/Python/AY250/hw4/50_categories//bat/bat_0068.jpg', '/Users/Yigong/Documents/Python/AY250/hw4/50_categories//bat/bat_0069.jpg', '/Users/Yigong/Documents/Python/AY250/hw4/50_categories//bat/bat_0070.jpg', '/Users/Yigong/Documents/Python/AY250/hw4/50_categories//bat/bat_0071.jpg']\n",
        "There should be 4244 images, actual number is 70.\n"
       ]
      },
      {
       "output_type": "stream",
       "stream": "stdout",
       "text": [
        "Finished extracting features. Total time: 219.408 s, or 3.13441 s/image."
       ]
      },
      {
       "output_type": "stream",
       "stream": "stdout",
       "text": [
        "\n"
       ]
      }
     ],
     "prompt_number": 86
    },
    {
     "cell_type": "code",
     "collapsed": false,
     "input": [
      "np.shape(poolresult)"
     ],
     "language": "python",
     "metadata": {},
     "outputs": [
      {
       "metadata": {},
       "output_type": "pyout",
       "prompt_number": 87,
       "text": [
        "(2, 35, 13)"
       ]
      }
     ],
     "prompt_number": 87
    },
    {
     "cell_type": "code",
     "collapsed": false,
     "input": [
      "p.map_async?"
     ],
     "language": "python",
     "metadata": {},
     "outputs": [],
     "prompt_number": 89
    },
    {
     "cell_type": "code",
     "collapsed": false,
     "input": [
      "len(image_paths)"
     ],
     "language": "python",
     "metadata": {},
     "outputs": [
      {
       "metadata": {},
       "output_type": "pyout",
       "prompt_number": 36,
       "text": [
        "10"
       ]
      }
     ],
     "prompt_number": 36
    },
    {
     "cell_type": "code",
     "collapsed": false,
     "input": [
      "image_paths"
     ],
     "language": "python",
     "metadata": {},
     "outputs": [
      {
       "metadata": {},
       "output_type": "pyout",
       "prompt_number": 37,
       "text": [
        "['/Users/Yigong/Documents/Python/AY250/hw4/50_categories//airplanes/.DS_Store',\n",
        " '/Users/Yigong/Documents/Python/AY250/hw4/50_categories//airplanes/airplanes_0001.jpg',\n",
        " '/Users/Yigong/Documents/Python/AY250/hw4/50_categories//airplanes/airplanes_0002.jpg',\n",
        " '/Users/Yigong/Documents/Python/AY250/hw4/50_categories//airplanes/airplanes_0003.jpg',\n",
        " '/Users/Yigong/Documents/Python/AY250/hw4/50_categories//airplanes/airplanes_0004.jpg',\n",
        " '/Users/Yigong/Documents/Python/AY250/hw4/50_categories//airplanes/airplanes_0005.jpg',\n",
        " '/Users/Yigong/Documents/Python/AY250/hw4/50_categories//airplanes/airplanes_0006.jpg',\n",
        " '/Users/Yigong/Documents/Python/AY250/hw4/50_categories//airplanes/airplanes_0007.jpg',\n",
        " '/Users/Yigong/Documents/Python/AY250/hw4/50_categories//airplanes/airplanes_0008.jpg',\n",
        " '/Users/Yigong/Documents/Python/AY250/hw4/50_categories//airplanes/airplanes_0009.jpg']"
       ]
      }
     ],
     "prompt_number": 37
    },
    {
     "cell_type": "code",
     "collapsed": false,
     "input": [
      "np.shape(poolresult)"
     ],
     "language": "python",
     "metadata": {},
     "outputs": [
      {
       "metadata": {},
       "output_type": "pyout",
       "prompt_number": 13,
       "text": [
        "(1, 4244, 2)"
       ]
      }
     ],
     "prompt_number": 13
    },
    {
     "cell_type": "code",
     "collapsed": false,
     "input": [
      "poolresult[0][2][0]"
     ],
     "language": "python",
     "metadata": {},
     "outputs": [
      {
       "metadata": {},
       "output_type": "pyout",
       "prompt_number": 18,
       "text": [
        "'/Users/Yigong/Documents/Python/AY250/hw4/50_categories//airplanes/airplanes_0003.jpg'"
       ]
      }
     ],
     "prompt_number": 18
    },
    {
     "cell_type": "code",
     "collapsed": false,
     "input": [
      "image_paths"
     ],
     "language": "python",
     "metadata": {},
     "outputs": [
      {
       "metadata": {},
       "output_type": "pyout",
       "prompt_number": 32,
       "text": [
        "['/Users/Yigong/Documents/Python/AY250/hw4/50_categories//airplanes/airplanes_0001.jpg',\n",
        " '/Users/Yigong/Documents/Python/AY250/hw4/50_categories//airplanes/airplanes_0002.jpg',\n",
        " '/Users/Yigong/Documents/Python/AY250/hw4/50_categories//airplanes/airplanes_0003.jpg',\n",
        " '/Users/Yigong/Documents/Python/AY250/hw4/50_categories//airplanes/airplanes_0004.jpg',\n",
        " '/Users/Yigong/Documents/Python/AY250/hw4/50_categories//airplanes/airplanes_0005.jpg',\n",
        " '/Users/Yigong/Documents/Python/AY250/hw4/50_categories//airplanes/airplanes_0006.jpg',\n",
        " '/Users/Yigong/Documents/Python/AY250/hw4/50_categories//airplanes/airplanes_0007.jpg',\n",
        " '/Users/Yigong/Documents/Python/AY250/hw4/50_categories//airplanes/airplanes_0008.jpg',\n",
        " '/Users/Yigong/Documents/Python/AY250/hw4/50_categories//airplanes/airplanes_0009.jpg']"
       ]
      }
     ],
     "prompt_number": 32
    },
    {
     "cell_type": "code",
     "collapsed": false,
     "input": [
      "a = list()"
     ],
     "language": "python",
     "metadata": {},
     "outputs": [],
     "prompt_number": 56
    },
    {
     "cell_type": "code",
     "collapsed": false,
     "input": [
      "a.append?"
     ],
     "language": "python",
     "metadata": {},
     "outputs": [],
     "prompt_number": 60
    },
    {
     "cell_type": "code",
     "collapsed": false,
     "input": [
      "np.vstack?"
     ],
     "language": "python",
     "metadata": {},
     "outputs": [],
     "prompt_number": 90
    },
    {
     "cell_type": "code",
     "collapsed": false,
     "input": [
      "b = np.vstack([poolresult[i] for i in range(np.shape(poolresult)[0])])"
     ],
     "language": "python",
     "metadata": {},
     "outputs": [],
     "prompt_number": 106
    },
    {
     "cell_type": "code",
     "collapsed": false,
     "input": [
      "b.shape"
     ],
     "language": "python",
     "metadata": {},
     "outputs": [
      {
       "metadata": {},
       "output_type": "pyout",
       "prompt_number": 107,
       "text": [
        "(70, 13)"
       ]
      }
     ],
     "prompt_number": 107
    },
    {
     "cell_type": "code",
     "collapsed": false,
     "input": [],
     "language": "python",
     "metadata": {},
     "outputs": []
    }
   ],
   "metadata": {}
  }
 ]
}