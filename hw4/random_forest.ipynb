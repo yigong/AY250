{
 "metadata": {
  "name": ""
 },
 "nbformat": 3,
 "nbformat_minor": 0,
 "worksheets": [
  {
   "cells": [
    {
     "cell_type": "code",
     "collapsed": false,
     "input": [
      "%pylab inline\n",
      "from sklearn import datasets\n",
      "from sklearn.metrics import mean_squared_error\n",
      "from sklearn import linear_model\n",
      "from sklearn.ensemble import RandomForestClassifier\n",
      "boston = datasets.load_boston() # Boston house-prices\n",
      "X = boston['data']   # 13 features (e.g. crime, # rooms, age, etc.)\n",
      "Y = boston['target'] # response (median house price)\n",
      "half = floor(len(Y)/2)\n",
      "train_X = X[:half]\n",
      "train_Y = Y[:half]\n",
      "test_X = X[half:]\n",
      "test_Y = Y[half:]"
     ],
     "language": "python",
     "metadata": {},
     "outputs": [
      {
       "output_type": "stream",
       "stream": "stdout",
       "text": [
        "Populating the interactive namespace from numpy and matplotlib\n"
       ]
      }
     ],
     "prompt_number": 3
    },
    {
     "cell_type": "code",
     "collapsed": false,
     "input": [
      "rf1 = RandomForestClassifier(n_estimators=1000, max_features=6)\n",
      "rf1.fit(train_X,train_Y)\n",
      "preds = rf1.predict(test_X)\n",
      "mse = mean_squared_error(test_Y, preds); print mse"
     ],
     "language": "python",
     "metadata": {},
     "outputs": [
      {
       "output_type": "stream",
       "stream": "stdout",
       "text": [
        "53.079486166\n"
       ]
      }
     ],
     "prompt_number": 18
    },
    {
     "cell_type": "code",
     "collapsed": false,
     "input": [
      "plot(test_Y, preds-test_Y, 'o')"
     ],
     "language": "python",
     "metadata": {},
     "outputs": [
      {
       "metadata": {},
       "output_type": "pyout",
       "prompt_number": 17,
       "text": [
        "[<matplotlib.lines.Line2D at 0x113697d90>]"
       ]
      },
      {
       "metadata": {},
       "output_type": "display_data",
       "png": "[encoded data removed]",
       "text": [
        "<matplotlib.figure.Figure at 0x1054b6950>"
       ]
      }
     ],
     "prompt_number": 17
    },
    {
     "cell_type": "code",
     "collapsed": false,
     "input": [
      "\n",
      "lr = linear_model.LinearRegression()"
     ],
     "language": "python",
     "metadata": {},
     "outputs": [],
     "prompt_number": 14
    },
    {
     "cell_type": "code",
     "collapsed": false,
     "input": [
      "lr.fit(train_X,train_Y)\n",
      "lr_preds = lr.predict(test_X)\n",
      "lr_mse = mean_squared_error(test_Y, lr_preds); print lr_mse"
     ],
     "language": "python",
     "metadata": {},
     "outputs": [
      {
       "output_type": "stream",
       "stream": "stdout",
       "text": [
        "302.64091133\n"
       ]
      }
     ],
     "prompt_number": 15
    },
    {
     "cell_type": "code",
     "collapsed": false,
     "input": [
      "from sklearn.cross_validation import cross_val_score\n",
      "import sklearn.cross_validation as cross_v"
     ],
     "language": "python",
     "metadata": {},
     "outputs": [],
     "prompt_number": 21
    },
    {
     "cell_type": "code",
     "collapsed": false,
     "input": [
      "scores = cross_val_score(rf1, X, Y, cv = cross_v.KFold(len(Y),5))"
     ],
     "language": "python",
     "metadata": {},
     "outputs": [],
     "prompt_number": 23
    },
    {
     "cell_type": "code",
     "collapsed": false,
     "input": [],
     "language": "python",
     "metadata": {},
     "outputs": []
    }
   ],
   "metadata": {}
  }
 ]
}