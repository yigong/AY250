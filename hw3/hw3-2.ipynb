{
 "metadata": {
  "name": ""
 },
 "nbformat": 3,
 "nbformat_minor": 0,
 "worksheets": [
  {
   "cells": [
    {
     "cell_type": "code",
     "collapsed": false,
     "input": [
      "import numpy as np\n",
      "import matplotlib.pyplot as plt\n",
      "%matplotlib\n",
      "tp = [('date','i8'),('value','f8')]\n",
      "yahoo_data = np.loadtxt('yahoo_data.txt',dtype=tp, skiprows=1)\n",
      "google_data = np.loadtxt('google_data.txt',dtype=tp, skiprows=1)\n",
      "ny_data = np.loadtxt('ny_temps.txt',dtype=tp, skiprows=1)\n",
      "f0, ax0 = plt.subplots()\n",
      "ax2 = ax0.twinx()\n",
      "yahoo_line = ax0.plot(yahoo_data['date'], yahoo_data['value'], color = 'm', label = 'Yahoo! Stock Value',linewidth = 1.5)\n",
      "google_line = ax0.plot(google_data['date'], google_data['value'], color = 'b', label = 'Google Stock Value', linewidth = 1.5)\n",
      "ny_line = ax2.plot(ny_data['date'], ny_data['value'], color = 'r', label = 'NY Mon. High Temp', linestyle = '--', linewidth = 1.5)\n",
      "lines = yahoo_line+google_line+ny_line\n",
      "labels = [l.get_label() for l in lines]\n",
      "ax0.legend(lines,labels, 'center left',fontsize = 'medium', frameon = False)\n",
      "ax0.set_ylim(-20,780)\n",
      "ax0.set_xlim(48800,55600)\n",
      "ax0.set_ylabel('Value (Dollars)', fontsize = 'large')\n",
      "ax0.set_xlabel('Date (MJD)', fontsize = 'large')\n",
      "ax0.set_title('New York Temperature, Google, and Yahoo!', fontsize ='x-large')\n",
      "ax2.set_ylim(-150,100)\n",
      "ax2.set_ylabel('Temperature ($^\\circ$F)', fontsize = 'large')"
     ],
     "language": "python",
     "metadata": {},
     "outputs": [
      {
       "output_type": "stream",
       "stream": "stdout",
       "text": [
        "Using matplotlib backend: MacOSX\n"
       ]
      }
     ],
     "prompt_number": 6
    },
    {
     "cell_type": "code",
     "collapsed": false,
     "input": [
      "ax0.plot?"
     ],
     "language": "python",
     "metadata": {},
     "outputs": [],
     "prompt_number": 49
    },
    {
     "cell_type": "code",
     "collapsed": false,
     "input": [
      "plt.close('all')"
     ],
     "language": "python",
     "metadata": {},
     "outputs": [],
     "prompt_number": 59
    },
    {
     "cell_type": "code",
     "collapsed": false,
     "input": [
      "ax0.set_xlabel?"
     ],
     "language": "python",
     "metadata": {},
     "outputs": [],
     "prompt_number": 52
    },
    {
     "cell_type": "code",
     "collapsed": false,
     "input": [
      "[yahoo_line,google_line]"
     ],
     "language": "python",
     "metadata": {},
     "outputs": [
      {
       "metadata": {},
       "output_type": "pyout",
       "prompt_number": 33,
       "text": [
        "[[<matplotlib.lines.Line2D at 0x109fbe4d0>],\n",
        " [<matplotlib.lines.Line2D at 0x109fde990>]]"
       ]
      }
     ],
     "prompt_number": 33
    },
    {
     "cell_type": "code",
     "collapsed": false,
     "input": [
      "yahoo_line"
     ],
     "language": "python",
     "metadata": {},
     "outputs": [
      {
       "metadata": {},
       "output_type": "pyout",
       "prompt_number": 34,
       "text": [
        "[<matplotlib.lines.Line2D at 0x109fbe4d0>]"
       ]
      }
     ],
     "prompt_number": 34
    },
    {
     "cell_type": "code",
     "collapsed": false,
     "input": [
      "a, = yahoo_line\n",
      "print a"
     ],
     "language": "python",
     "metadata": {},
     "outputs": [
      {
       "output_type": "stream",
       "stream": "stdout",
       "text": [
        "Line2D(Yahoo! Stock Value)\n"
       ]
      }
     ],
     "prompt_number": 35
    },
    {
     "cell_type": "code",
     "collapsed": false,
     "input": [
      "a"
     ],
     "language": "python",
     "metadata": {},
     "outputs": [
      {
       "metadata": {},
       "output_type": "pyout",
       "prompt_number": 36,
       "text": [
        "<matplotlib.lines.Line2D at 0x109fbe4d0>"
       ]
      }
     ],
     "prompt_number": 36
    },
    {
     "cell_type": "code",
     "collapsed": false,
     "input": [],
     "language": "python",
     "metadata": {},
     "outputs": []
    }
   ],
   "metadata": {}
  }
 ]
}