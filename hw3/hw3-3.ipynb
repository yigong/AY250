{
 "metadata": {
  "name": ""
 },
 "nbformat": 3,
 "nbformat_minor": 0,
 "worksheets": [
  {
   "cells": [
    {
     "cell_type": "code",
     "collapsed": false,
     "input": [
      "import matplotlib.pyplot as plt\n",
      "import numpy as np\n",
      "%matplotlib\n",
      "tp = [('sepalL','f8'),('sepalW','f8'),('petalL','f8'),('petalW','f8'),('species','S10')]\n",
      "flower_data = np.loadtxt(open('flowers.csv','rb'),dtype=tp, skiprows=1, delimiter=',')\n",
      "ctable = dict(setosa = 'r', versicolor = 'g', virginica = 'b')\n",
      "carray = [ctable[x] for x in flower_data['species'] ]"
     ],
     "language": "python",
     "metadata": {},
     "outputs": [
      {
       "output_type": "stream",
       "stream": "stdout",
       "text": [
        "Using matplotlib backend: MacOSX\n"
       ]
      }
     ],
     "prompt_number": 220
    },
    {
     "cell_type": "code",
     "collapsed": false,
     "input": [
      "\n",
      "        "
     ],
     "language": "python",
     "metadata": {},
     "outputs": [
      {
       "output_type": "stream",
       "stream": "stdout",
       "text": [
        "release\n",
        "release"
       ]
      },
      {
       "output_type": "stream",
       "stream": "stdout",
       "text": [
        "\n",
        "release"
       ]
      },
      {
       "output_type": "stream",
       "stream": "stdout",
       "text": [
        "\n",
        "release"
       ]
      },
      {
       "output_type": "stream",
       "stream": "stdout",
       "text": [
        "\n",
        "release"
       ]
      },
      {
       "output_type": "stream",
       "stream": "stdout",
       "text": [
        "\n",
        "release"
       ]
      },
      {
       "output_type": "stream",
       "stream": "stdout",
       "text": [
        "\n",
        "release"
       ]
      }
     ],
     "prompt_number": 108
    },
    {
     "cell_type": "code",
     "collapsed": false,
     "input": [
      "fig = plt.figure()\n",
      "ax = fig.add_subplot(111)\n",
      "rects = ax.bar(range(10), 20*np.random.rand(10))\n",
      "drs = []"
     ],
     "language": "python",
     "metadata": {},
     "outputs": [],
     "prompt_number": 83
    },
    {
     "cell_type": "code",
     "collapsed": false,
     "input": [
      "min(1,2)"
     ],
     "language": "python",
     "metadata": {},
     "outputs": [
      {
       "metadata": {},
       "output_type": "pyout",
       "prompt_number": 192,
       "text": [
        "1"
       ]
      }
     ],
     "prompt_number": 192
    },
    {
     "cell_type": "code",
     "collapsed": false,
     "input": [
      "\n",
      "class BrushingRectangle:\n",
      "    def __init__(self,ax):\n",
      "        self.rect = None\n",
      "        self.press = False\n",
      "        self.ax = ax\n",
      "        self.cidpresss = self.ax.figure.canvas.mpl_connect('button_press_event', self.on_press)\n",
      "        self.cidrelease = self.ax.figure.canvas.mpl_connect('button_release_event', self.on_release)\n",
      "        self.x0 = None\n",
      "        self.x1 = None\n",
      "        self.y0 = None\n",
      "        self.y1 = None\n",
      "    def on_press(self, event):\n",
      "        xp = event.x\n",
      "        yp = event.y\n",
      "        self.press = True\n",
      "        self.x0 = xp\n",
      "        self.y0 = yp\n",
      "        print 'press at', xp, yp\n",
      "\n",
      "        \n",
      "    def on_release(self, event):\n",
      "        self.xl = event.x\n",
      "        self.yl = event.y\n",
      "        print 'release at', self.xl, self.yl\n",
      "        x_ll = min(self.x0, self.x1)\n",
      "        y_ll = min(self.y0, self.y1)\n",
      "        width = abs(self.x0- self.x1)\n",
      "        height = abs(self.y0- self.y1)\n",
      "        print x_ll, y_ll, width, height\n",
      "        self.ax.add_patch(self.rect)\n",
      "        self.rect.set_xy((x_ll,y_ll))\n",
      "        self.rect.set_width(width)\n",
      "        self.rect.set_height(height)\n",
      "        \n",
      "        self.ax.figure.canvas.draw()\n",
      "        self.press = False\n",
      "        \n",
      "    def disconnect(self):\n",
      "        self.ax.figure.canvas.mpl_disconnect(self.cidpresss)\n",
      "        self.ax.figure.canvas.mpl_disconnect(self.cidrelease)\n",
      "    \n",
      "features = ['sepalL','sepalW','petalL','petalW']\n",
      "f0, axx = plt.subplots(4,4, figsize = (12,8))\n",
      "\n",
      "for i, row in enumerate(features):\n",
      "    for j, col in enumerate(features):\n",
      "        axx[j][i].scatter(flower_data[row], flower_data[col],alpha=0.5,s = 30, c=carray, edgecolors = 'none')\n",
      "        brush = BrushingRectangle(axx[j][i])\n",
      "        "
     ],
     "language": "python",
     "metadata": {},
     "outputs": [
      {
       "output_type": "stream",
       "stream": "stdout",
       "text": [
        "press at 263 464\n",
        "release at"
       ]
      }
     ],
     "prompt_number": 222
    },
    {
     "cell_type": "code",
     "collapsed": false,
     "input": [
      "axx.add_patch?"
     ],
     "language": "python",
     "metadata": {},
     "outputs": [
      {
       "output_type": "stream",
       "stream": "stdout",
       "text": [
        " 314 406\n"
       ]
      }
     ],
     "prompt_number": 206
    },
    {
     "cell_type": "code",
     "collapsed": false,
     "input": [
      "plt.close('all')\n",
      "del brush\n",
      "\n",
      "\n",
      "\n",
      "\n",
      "\n",
      "\n",
      "\n",
      "\n",
      "\n",
      "\n",
      "\n",
      "\n",
      "\n",
      "\n",
      "\n",
      "\n",
      "\n"
     ],
     "language": "python",
     "metadata": {},
     "outputs": [
      {
       "ename": "NameError",
       "evalue": "name 'brushss' is not defined",
       "output_type": "pyerr",
       "traceback": [
        "\u001b[0;31m---------------------------------------------------------------------------\u001b[0m\n\u001b[0;31mNameError\u001b[0m                                 Traceback (most recent call last)",
        "\u001b[0;32m<ipython-input-187-c82273b901e9>\u001b[0m in \u001b[0;36m<module>\u001b[0;34m()\u001b[0m\n\u001b[1;32m      1\u001b[0m \u001b[0mplt\u001b[0m\u001b[0;34m.\u001b[0m\u001b[0mclose\u001b[0m\u001b[0;34m(\u001b[0m\u001b[0;34m'all'\u001b[0m\u001b[0;34m)\u001b[0m\u001b[0;34m\u001b[0m\u001b[0m\n\u001b[1;32m      2\u001b[0m \u001b[0;32mdel\u001b[0m \u001b[0mbrush\u001b[0m\u001b[0;34m\u001b[0m\u001b[0m\n\u001b[0;32m----> 3\u001b[0;31m \u001b[0;32mdel\u001b[0m \u001b[0mbrushss\u001b[0m\u001b[0;34m\u001b[0m\u001b[0m\n\u001b[0m\u001b[1;32m      4\u001b[0m \u001b[0;34m\u001b[0m\u001b[0m\n\u001b[1;32m      5\u001b[0m \u001b[0;34m\u001b[0m\u001b[0m\n",
        "\u001b[0;31mNameError\u001b[0m: name 'brushss' is not defined"
       ]
      }
     ],
     "prompt_number": 187
    },
    {
     "cell_type": "code",
     "collapsed": false,
     "input": [
      "import matplotlib.pyplot as plt\n",
      "from matplotlib.patches import Rectangle\n",
      "\n",
      "class Annotate(object):\n",
      "    def __init__(self):\n",
      "        self.ax = plt.gca()\n",
      "        self.rect = Rectangle((0,0), 1, 1)\n",
      "        self.x0 = None\n",
      "        self.y0 = None\n",
      "        self.x1 = None\n",
      "        self.y1 = None\n",
      "        self.ax.add_patch(self.rect)\n",
      "        self.ax.figure.canvas.mpl_connect('button_press_event', self.on_press)\n",
      "        self.ax.figure.canvas.mpl_connect('button_release_event', self.on_release)\n",
      "\n",
      "    def on_press(self, event):\n",
      "        print 'press'\n",
      "        self.x0 = event.xdata\n",
      "        self.y0 = event.ydata\n",
      "\n",
      "    def on_release(self, event):\n",
      "        print 'release'\n",
      "        self.x1 = event.xdata\n",
      "        self.y1 = event.ydata\n",
      "        self.rect.set_width(self.x1 - self.x0)\n",
      "        self.rect.set_height(self.y1 - self.y0)\n",
      "        self.rect.set_xy((self.x0, self.y0))\n",
      "        self.ax.figure.canvas.draw()\n",
      "\n",
      "a = Annotate()\n",
      "plt.show()"
     ],
     "language": "python",
     "metadata": {},
     "outputs": [
      {
       "output_type": "stream",
       "stream": "stdout",
       "text": [
        "press\n",
        "release"
       ]
      },
      {
       "output_type": "stream",
       "stream": "stdout",
       "text": [
        "\n",
        "press"
       ]
      },
      {
       "output_type": "stream",
       "stream": "stdout",
       "text": [
        "\n",
        "release"
       ]
      },
      {
       "output_type": "stream",
       "stream": "stdout",
       "text": [
        "\n",
        "press"
       ]
      },
      {
       "output_type": "stream",
       "stream": "stdout",
       "text": [
        "\n",
        "release"
       ]
      }
     ],
     "prompt_number": 213
    },
    {
     "cell_type": "code",
     "collapsed": false,
     "input": [
      "plt.close('all')"
     ],
     "language": "python",
     "metadata": {},
     "outputs": [],
     "prompt_number": 212
    },
    {
     "cell_type": "code",
     "collapsed": false,
     "input": [],
     "language": "python",
     "metadata": {},
     "outputs": []
    }
   ],
   "metadata": {}
  }
 ]
}