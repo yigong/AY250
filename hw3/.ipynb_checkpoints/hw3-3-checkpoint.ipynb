{
 "metadata": {
  "name": ""
 },
 "nbformat": 3,
 "nbformat_minor": 0,
 "worksheets": [
  {
   "cells": [
    {
     "cell_type": "code",
     "collapsed": false,
     "input": [
      "import matplotlib.pyplot as plt\n",
      "import numpy as np\n",
      "%matplotlib"
     ],
     "language": "python",
     "metadata": {},
     "outputs": [
      {
       "output_type": "stream",
       "stream": "stdout",
       "text": [
        "Using matplotlib backend: MacOSX\n"
       ]
      }
     ],
     "prompt_number": 13
    },
    {
     "cell_type": "code",
     "collapsed": false,
     "input": [
      "tp = [('sepalL','f8'),('sepalW','f8'),('petalL','f8'),('petalW','f8'),('species','S10')]\n",
      "flower_data = np.loadtxt(open('flowers.csv','rb'),dtype=tp, skiprows=1, delimiter=',')\n",
      "ctable = dict(setosa = 'r', versicolor = 'g', virginica = 'b')\n",
      "carray = [ctable[x] for x in flower_data['species'] ]"
     ],
     "language": "python",
     "metadata": {},
     "outputs": [],
     "prompt_number": 62
    },
    {
     "cell_type": "code",
     "collapsed": false,
     "input": [
      "\n",
      "        "
     ],
     "language": "python",
     "metadata": {},
     "outputs": [
      {
       "output_type": "stream",
       "stream": "stdout",
       "text": [
        "release\n",
        "release"
       ]
      },
      {
       "output_type": "stream",
       "stream": "stdout",
       "text": [
        "\n",
        "release"
       ]
      },
      {
       "output_type": "stream",
       "stream": "stdout",
       "text": [
        "\n",
        "release"
       ]
      },
      {
       "output_type": "stream",
       "stream": "stdout",
       "text": [
        "\n",
        "release"
       ]
      },
      {
       "output_type": "stream",
       "stream": "stdout",
       "text": [
        "\n",
        "release"
       ]
      },
      {
       "output_type": "stream",
       "stream": "stdout",
       "text": [
        "\n",
        "release"
       ]
      }
     ],
     "prompt_number": 108
    },
    {
     "cell_type": "code",
     "collapsed": false,
     "input": [
      "fig = plt.figure()\n",
      "ax = fig.add_subplot(111)\n",
      "rects = ax.bar(range(10), 20*np.random.rand(10))\n",
      "drs = []"
     ],
     "language": "python",
     "metadata": {},
     "outputs": [],
     "prompt_number": 83
    },
    {
     "cell_type": "code",
     "collapsed": false,
     "input": [
      "import pdb"
     ],
     "language": "python",
     "metadata": {},
     "outputs": [],
     "prompt_number": 157
    },
    {
     "cell_type": "code",
     "collapsed": false,
     "input": [
      "class BrushingRectangle:\n",
      "    def __init__(self):\n",
      "        self.press = None\n",
      "        self.ax = plt.gca()\n",
      "        self.cidpresss = self.ax.figure.canvas.mpl_connect('button_press_event', self.on_press)\n",
      "        self.cidrelease = self.ax.figure.canvas.mpl_connect('button_release_event', self.on_release)\n",
      "    def on_press(self, event):\n",
      "        print 'press'\n",
      "        x0 = event.x\n",
      "        y0 = event.y\n",
      "        print event.inaxes\n",
      "        self.press = (x0,y0)\n",
      "        \n",
      "        print x0,y0\n",
      "        \n",
      "    def on_release(self, event):\n",
      "        if event.inaxes == self.ax:\n",
      "            print event.inaxes\n",
      "            print event.x, event.y,\n",
      "            print 'release'\n",
      "        self.press = None\n",
      "        \n",
      "    def disconnect(self):\n",
      "        self.ax.figure.canvas.mpl_disconnect(self.cidpresss)\n",
      "        self.ax.figure.canvas.mpl_disconnect(self.cidrelease)\n",
      "    "
     ],
     "language": "python",
     "metadata": {},
     "outputs": [
      {
       "output_type": "stream",
       "stream": "stdout",
       "text": [
        " 241 release\n",
        "765 241 release\n",
        "765 241 release\n",
        "765 241 release\n"
       ]
      }
     ],
     "prompt_number": 169
    },
    {
     "cell_type": "code",
     "collapsed": false,
     "input": [
      "features = ['sepalL','sepalW']\n",
      "f0, axx = plt.subplots(2,2, figsize = (12,8))\n",
      "brushable = []\n",
      "for i, row in enumerate(features):\n",
      "    for j, col in enumerate(features):\n",
      "        axx[j][i].scatter(flower_data[row], flower_data[col],alpha=0.5,s = 30, c=carray, edgecolors = 'none')\n",
      "        brush = BrushingRectangle()\n",
      "        brushable.append(brush)"
     ],
     "language": "python",
     "metadata": {},
     "outputs": [
      {
       "output_type": "stream",
       "stream": "stdout",
       "text": [
        "press\n",
        "press"
       ]
      },
      {
       "output_type": "stream",
       "stream": "stdout",
       "text": [
        "\n",
        "press"
       ]
      },
      {
       "output_type": "stream",
       "stream": "stdout",
       "text": [
        "\n",
        "press"
       ]
      },
      {
       "output_type": "stream",
       "stream": "stdout",
       "text": [
        "\n",
        "press"
       ]
      },
      {
       "output_type": "stream",
       "stream": "stdout",
       "text": [
        "\n",
        "press"
       ]
      },
      {
       "output_type": "stream",
       "stream": "stdout",
       "text": [
        "\n",
        "Axes(0.547727,0.1;0.352273x0.363636)\n",
        "614 190 release\n",
        "Axes(0.547727,0.1;0.352273x0.363636)\n",
        "614 190 release\n",
        "Axes(0.547727,0.1;0.352273x0.363636)\n",
        "614 190 release\n",
        "Axes(0.547727,0.1;0.352273x0.363636)\n",
        "614 190 release\n",
        "press"
       ]
      },
      {
       "output_type": "stream",
       "stream": "stdout",
       "text": [
        "\n",
        "Axes(0.547727,0.1;0.352273x0.363636)"
       ]
      },
      {
       "output_type": "stream",
       "stream": "stdout",
       "text": [
        "\n",
        "615 199 release\n",
        "Axes(0.547727,0.1;0.352273x0.363636)\n",
        "615 199 release\n",
        "Axes(0.547727,0.1;0.352273x0.363636)\n",
        "615 199 release\n",
        "Axes(0.547727,0.1;0.352273x0.363636)\n",
        "615 199 release\n",
        "press"
       ]
      },
      {
       "output_type": "stream",
       "stream": "stdout",
       "text": [
        "\n",
        "press"
       ]
      },
      {
       "output_type": "stream",
       "stream": "stdout",
       "text": [
        "\n",
        "press"
       ]
      },
      {
       "output_type": "stream",
       "stream": "stdout",
       "text": [
        "\n",
        "press"
       ]
      },
      {
       "output_type": "stream",
       "stream": "stdout",
       "text": [
        "\n",
        "press"
       ]
      },
      {
       "output_type": "stream",
       "stream": "stdout",
       "text": [
        "\n",
        "press"
       ]
      },
      {
       "output_type": "stream",
       "stream": "stdout",
       "text": [
        "\n",
        "press"
       ]
      },
      {
       "output_type": "stream",
       "stream": "stdout",
       "text": [
        "\n",
        "press"
       ]
      },
      {
       "output_type": "stream",
       "stream": "stdout",
       "text": [
        "\n",
        "press"
       ]
      },
      {
       "output_type": "stream",
       "stream": "stdout",
       "text": [
        "\n",
        "press"
       ]
      },
      {
       "output_type": "stream",
       "stream": "stdout",
       "text": [
        "\n",
        "press"
       ]
      },
      {
       "output_type": "stream",
       "stream": "stdout",
       "text": [
        "\n",
        "press"
       ]
      },
      {
       "output_type": "stream",
       "stream": "stdout",
       "text": [
        "\n",
        "press"
       ]
      },
      {
       "output_type": "stream",
       "stream": "stdout",
       "text": [
        "\n",
        "press"
       ]
      },
      {
       "output_type": "stream",
       "stream": "stdout",
       "text": [
        "\n",
        "press"
       ]
      },
      {
       "output_type": "stream",
       "stream": "stdout",
       "text": [
        "\n",
        "press"
       ]
      },
      {
       "output_type": "stream",
       "stream": "stdout",
       "text": [
        "\n",
        "press"
       ]
      },
      {
       "output_type": "stream",
       "stream": "stdout",
       "text": [
        "\n",
        "press"
       ]
      },
      {
       "output_type": "stream",
       "stream": "stdout",
       "text": [
        "\n",
        "press"
       ]
      },
      {
       "output_type": "stream",
       "stream": "stdout",
       "text": [
        "\n",
        "press"
       ]
      },
      {
       "output_type": "stream",
       "stream": "stdout",
       "text": [
        "\n",
        "press"
       ]
      },
      {
       "output_type": "stream",
       "stream": "stdout",
       "text": [
        "\n",
        "press"
       ]
      },
      {
       "output_type": "stream",
       "stream": "stdout",
       "text": [
        "\n",
        "press"
       ]
      },
      {
       "output_type": "stream",
       "stream": "stdout",
       "text": [
        "\n",
        "Axes(0.547727,0.1;0.352273x0.363636)"
       ]
      },
      {
       "output_type": "stream",
       "stream": "stdout",
       "text": [
        "\n",
        "710 233 release\n",
        "Axes(0.547727,0.1;0.352273x0.363636)\n",
        "710 233 release\n",
        "Axes(0.547727,0.1;0.352273x0.363636)\n",
        "710 233 release\n",
        "Axes(0.547727,0.1;0.352273x0.363636)\n",
        "710 233 release\n",
        "press"
       ]
      },
      {
       "output_type": "stream",
       "stream": "stdout",
       "text": [
        "\n",
        "press"
       ]
      },
      {
       "output_type": "stream",
       "stream": "stdout",
       "text": [
        "\n",
        "Axes(0.547727,0.1;0.352273x0.363636)"
       ]
      },
      {
       "output_type": "stream",
       "stream": "stdout",
       "text": [
        "\n",
        "797 140 release\n",
        "Axes(0.547727,0.1;0.352273x0.363636)\n",
        "797 140 release\n",
        "Axes(0.547727,0.1;0.352273x0.363636)\n",
        "797 140 release\n",
        "Axes(0.547727,0.1;0.352273x0.363636)\n",
        "797 140 release\n",
        "press"
       ]
      }
     ],
     "prompt_number": 170
    },
    {
     "cell_type": "code",
     "collapsed": false,
     "input": [
      "plt.close('all')\n",
      "\n",
      "\n",
      "\n",
      "\n",
      "\n",
      "\n",
      "\n",
      "\n",
      "\n",
      "\n",
      "\n",
      "\n",
      "\n",
      "\n",
      "\n",
      "\n",
      "\n",
      "\n",
      "\n"
     ],
     "language": "python",
     "metadata": {},
     "outputs": [
      {
       "output_type": "stream",
       "stream": "stdout",
       "text": [
        "\n"
       ]
      }
     ],
     "prompt_number": 166
    },
    {
     "cell_type": "code",
     "collapsed": false,
     "input": [
      "import matplotlib.pyplot as plt\n",
      "from matplotlib.patches import Rectangle\n",
      "\n",
      "class Annotate(object):\n",
      "    def __init__(self):\n",
      "        self.ax = plt.gca()\n",
      "        self.rect = Rectangle((0,0), 1, 1)\n",
      "        self.x0 = None\n",
      "        self.y0 = None\n",
      "        self.x1 = None\n",
      "        self.y1 = None\n",
      "        self.ax.add_patch(self.rect)\n",
      "        self.ax.figure.canvas.mpl_connect('button_press_event', self.on_press)\n",
      "        self.ax.figure.canvas.mpl_connect('button_release_event', self.on_release)\n",
      "\n",
      "    def on_press(self, event):\n",
      "        print 'press'\n",
      "        self.x0 = event.xdata\n",
      "        self.y0 = event.ydata\n",
      "\n",
      "    def on_release(self, event):\n",
      "        print 'release'\n",
      "        self.x1 = event.xdata\n",
      "        self.y1 = event.ydata\n",
      "        self.rect.set_width(self.x1 - self.x0)\n",
      "        self.rect.set_height(self.y1 - self.y0)\n",
      "        self.rect.set_xy((self.x0, self.y0))\n",
      "        self.ax.figure.canvas.draw()\n",
      "\n",
      "a = Annotate()\n",
      "plt.show()"
     ],
     "language": "python",
     "metadata": {},
     "outputs": [
      {
       "output_type": "stream",
       "stream": "stdout",
       "text": [
        "press\n",
        "release"
       ]
      },
      {
       "output_type": "stream",
       "stream": "stdout",
       "text": [
        "\n",
        "press"
       ]
      },
      {
       "output_type": "stream",
       "stream": "stdout",
       "text": [
        "\n",
        "release"
       ]
      },
      {
       "output_type": "stream",
       "stream": "stdout",
       "text": [
        "\n",
        "press"
       ]
      },
      {
       "output_type": "stream",
       "stream": "stdout",
       "text": [
        "\n",
        "release"
       ]
      },
      {
       "output_type": "stream",
       "stream": "stdout",
       "text": [
        "\n",
        "press"
       ]
      },
      {
       "output_type": "stream",
       "stream": "stdout",
       "text": [
        "\n",
        "release"
       ]
      },
      {
       "output_type": "stream",
       "stream": "stdout",
       "text": [
        "\n",
        "press"
       ]
      },
      {
       "output_type": "stream",
       "stream": "stdout",
       "text": [
        "\n",
        "release"
       ]
      }
     ],
     "prompt_number": 136
    },
    {
     "cell_type": "code",
     "collapsed": false,
     "input": [],
     "language": "python",
     "metadata": {},
     "outputs": []
    }
   ],
   "metadata": {}
  }
 ]
}