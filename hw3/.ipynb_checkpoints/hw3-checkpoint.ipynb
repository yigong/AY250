{
 "metadata": {
  "name": ""
 },
 "nbformat": 3,
 "nbformat_minor": 0,
 "worksheets": [
  {
   "cells": [
    {
     "cell_type": "code",
     "collapsed": false,
     "input": [
      "import numpy as np\n",
      "import pprint\n",
      "import matplotlib.pyplot as plt"
     ],
     "language": "python",
     "metadata": {},
     "outputs": [],
     "prompt_number": 24
    },
    {
     "cell_type": "code",
     "collapsed": false,
     "input": [
      "%matplotlib"
     ],
     "language": "python",
     "metadata": {},
     "outputs": [
      {
       "output_type": "stream",
       "stream": "stdout",
       "text": [
        "Using matplotlib backend: MacOSX\n"
       ]
      }
     ],
     "prompt_number": 29
    },
    {
     "cell_type": "code",
     "collapsed": false,
     "input": [
      "dtp = [('frac_followed', 'f128'), ('frac_observed', 'f128')\\\n",
      "       ,('frac_obs_unc', 'f128')]"
     ],
     "language": "python",
     "metadata": {},
     "outputs": [],
     "prompt_number": 63
    },
    {
     "cell_type": "code",
     "collapsed": false,
     "input": [
      "Eff = np.loadtxt('Efficiency.txt',dtype = dtp, skiprows=1)\n",
      "Purity = np.loadtxt('Purity.txt',dtype = dtp, skiprows=2)"
     ],
     "language": "python",
     "metadata": {},
     "outputs": [],
     "prompt_number": 64
    },
    {
     "cell_type": "code",
     "collapsed": false,
     "input": [
      "#pprint.pprint(Eff)\n",
      "plt.close('all')"
     ],
     "language": "python",
     "metadata": {},
     "outputs": [],
     "prompt_number": 134
    },
    {
     "cell_type": "code",
     "collapsed": false,
     "input": [
      " i_x20 = np.argmin(abs(Eff['frac_followed']-0.2))\n",
      "Eff[i_x20]"
     ],
     "language": "python",
     "metadata": {},
     "outputs": [
      {
       "metadata": {},
       "output_type": "pyout",
       "prompt_number": 109,
       "text": [
        "(0.2014925330877304, 0.5611110925674438, 0.0582939051091671)"
       ]
      }
     ],
     "prompt_number": 109
    },
    {
     "cell_type": "code",
     "collapsed": false,
     "input": [
      "f0, [ax0,ax1] = plt.subplots(1,2, figsize = (12,6))\n",
      "\n",
      "ax0.errorbar(Eff['frac_followed'],Eff['frac_observed'],yerr=Eff['frac_obs_unc'])"
     ],
     "language": "python",
     "metadata": {},
     "outputs": [
      {
       "metadata": {},
       "output_type": "pyout",
       "prompt_number": 90,
       "text": [
        "<Container object of 3 artists>"
       ]
      }
     ],
     "prompt_number": 90
    },
    {
     "cell_type": "code",
     "collapsed": false,
     "input": [
      "import numpy as np\n",
      "import pprint\n",
      "import matplotlib.pyplot as plt\n",
      "dtp = [('frac_followed', 'f128'), ('frac_observed', 'f128')\\\n",
      "       ,('frac_obs_unc', 'f128')]\n",
      "Eff = np.loadtxt('Efficiency.txt',dtype = dtp, skiprows=1)\n",
      "Purity = np.loadtxt('Purity.txt',dtype = dtp, skiprows=2)\n",
      "\n",
      "f0, [ax0,ax1] = plt.subplots(1,2, figsize = (10,6) )\n",
      "ax0.plot(Eff['frac_followed'],Eff['frac_observed'], color = 'k')\n",
      "ax0.plot(Eff['frac_followed'],Eff['frac_observed']+Eff['frac_obs_unc'], color = '0.55')\n",
      "ax0.plot(Eff['frac_followed'],Eff['frac_observed']-Eff['frac_obs_unc'], color = '0.55')\n",
      "ax0.fill_between(Eff['frac_followed'],Eff['frac_observed']-Eff['frac_obs_unc'],Eff['frac_observed']+Eff['frac_obs_unc'],color ='0.75' )\n",
      "ax0.set_xlim(-0.04,1.04)\n",
      "ax0.set_xlabel('Fraction of GRBs Followed Up')\n",
      "ax0.set_ylim(-0.04,1.04)\n",
      "ax0.set_ylabel('Fraction of high (z>4)GRBs observed')\n",
      "ax0.set_title('Efficiecy', fontdict=dict(size = 16))\n",
      "ax0.set_aspect('equal')\n",
      "ax0.annotate('Follow up 20% of\\n bursts to capture ~55%\\n of high-z events', xy = (0.2,0.55), \\\n",
      "             xytext = (0.43,0.15),arrowprops=dict(facecolor='black', width=0.8,\\\n",
      "             headwidth=7, shrink=0.08))\n",
      "xRand = np.linspace(0,1,11)\n",
      "yRand = xRand\n",
      "ax0.plot(xRand,yRand,color = 'k')\n",
      "x_20 = np.ones(11)*0.2\n",
      "y_20 = np.linspace(0,0.55,11)\n",
      "ax0.plot(x_20,y_20, color = 'k', linestyle = 'dotted', linewidth = 2)\n",
      "\n",
      "ax0.annotate('Random \\nguessing', xy = (0.8,0.8), xytext = (0.7,0.4), \\\n",
      "             arrowprops= dict(facecolor = 'black', width = 1.2,headwidth=7, shrink=0.08))\n",
      "\n",
      "\n",
      "\n",
      "\n",
      "ax1.plot(Purity['frac_followed'],Purity['frac_observed'], color = 'k')\n",
      "ax1.plot(Purity['frac_followed'],Purity['frac_observed']+Purity['frac_obs_unc'], color = '0.55')\n",
      "ax1.plot(Purity['frac_followed'],Purity['frac_observed']-Purity['frac_obs_unc'], color = '0.55')\n",
      "ax1.fill_between(Purity['frac_followed'],Purity['frac_observed']-Purity['frac_obs_unc'],Purity['frac_observed']+Purity['frac_obs_unc'],color ='0.75' )\n",
      "ax1.set_xlim(-0.04,1.04)\n",
      "ax1.set_xlabel('Fraction of GRBs Followed Up')\n",
      "ax1.set_ylim(-0.04,1.04)\n",
      "ax1.set_ylabel('Fraction of high (z>4)GRBs observed')\n",
      "ax1.set_title('Purity', fontdict=dict(size = 16))\n",
      "ax1.set_aspect('equal')\n",
      "x_20_2 = np.ones(11)*0.2\n",
      "y_20_2 = np.linspace(0,0.38,11)\n",
      "ax1.plot(x_20_2, y_20_2, color = 'k', linestyle = 'dotted', linewidth = 2)\n",
      "ax1.annotate('If 20% of events are\\n followed up, ~40% of\\n them will be high-z',\\\n",
      "             xy = (0.2, 0.4), xytext = (0,0.76), \\\n",
      "             arrowprops = dict(facecolor = 'black', width = 1.2,headwidth=7, shrink=0.08))\n",
      "xRand_2 = np.linspace(0,1,11)\n",
      "yRand_2 = np.ones(11)*18.0/135.0\n",
      "ax1.plot(xRand_2,yRand_2,color = 'k')\n",
      "ax1.annotate('Random\\n guessing',xy = (0.6,0.133), xytext = (0.65,0.45),\\\n",
      "             arrowprops = dict(facecolor = 'black', width = 1.2,headwidth=7, shrink=0.08))\n",
      "#plt.show()"
     ],
     "language": "python",
     "metadata": {},
     "outputs": [
      {
       "metadata": {},
       "output_type": "pyout",
       "prompt_number": 133,
       "text": [
        "<matplotlib.text.Annotation at 0x10ef87b90>"
       ]
      }
     ],
     "prompt_number": 133
    },
    {
     "cell_type": "code",
     "collapsed": false,
     "input": [
      "print  np.ones(10)"
     ],
     "language": "python",
     "metadata": {},
     "outputs": [
      {
       "output_type": "stream",
       "stream": "stdout",
       "text": [
        "[ 1.  1.  1.  1.  1.  1.  1.  1.  1.  1.]\n"
       ]
      }
     ],
     "prompt_number": 112
    },
    {
     "cell_type": "code",
     "collapsed": false,
     "input": [
      "ax0.set_title()"
     ],
     "language": "python",
     "metadata": {},
     "outputs": [
      {
       "metadata": {},
       "output_type": "pyout",
       "prompt_number": 129,
       "text": [
        "0.13333333333333333"
       ]
      }
     ],
     "prompt_number": 129
    },
    {
     "cell_type": "code",
     "collapsed": false,
     "input": [
      "plt.setp(ax0)"
     ],
     "language": "python",
     "metadata": {},
     "outputs": [
      {
       "output_type": "stream",
       "stream": "stdout",
       "text": [
        "  adjustable: [ 'box' | 'datalim' | 'box-forced']         \n",
        "  agg_filter: unknown\n",
        "  alpha: float (0.0 transparent through 1.0 opaque)         \n",
        "  anchor: unknown\n",
        "  animated: [True | False]         \n",
        "  aspect: unknown\n",
        "  autoscale_on: unknown\n",
        "  autoscalex_on: unknown\n",
        "  autoscaley_on: unknown\n",
        "  axes: an :class:`~matplotlib.axes.Axes` instance         \n",
        "  axes_locator: unknown\n",
        "  axis_bgcolor: any matplotlib color - see         :func:`~matplotlib.pyplot.colors`         \n",
        "  axis_off: unknown\n",
        "  axis_on: unknown\n",
        "  axisbelow: [ *True* | *False* ]         \n",
        "  clip_box: a :class:`matplotlib.transforms.Bbox` instance         \n",
        "  clip_on: [True | False]         \n",
        "  clip_path: [ (:class:`~matplotlib.path.Path`,         :class:`~matplotlib.transforms.Transform`) |         :class:`~matplotlib.patches.Patch` | None ]         \n",
        "  color_cycle: unknown\n",
        "  contains: a callable function         \n",
        "  cursor_props: a (*float*, *color*) tuple         \n",
        "  figure: unknown\n",
        "  frame_on: [ *True* | *False* ]         \n",
        "  gid: an id string         \n",
        "  label: string or anything printable with '%s' conversion.         \n",
        "  lod: [True | False]         \n",
        "  navigate: [ *True* | *False* ]         \n",
        "  navigate_mode: unknown\n",
        "  picker: [None|float|boolean|callable]         \n",
        "  position: unknown\n",
        "  rasterization_zorder: unknown\n",
        "  rasterized: [True | False | None]         \n",
        "  snap: unknown\n",
        "  subplotspec: unknown\n",
        "  title: str\n",
        "  transform: :class:`~matplotlib.transforms.Transform` instance         \n",
        "  url: a url string         \n",
        "  visible: [True | False]         \n",
        "  xbound: unknown\n",
        "  xlabel: str\n",
        "  xlim: length 2 sequence of floats         \n",
        "  xmargin: unknown\n",
        "  xscale: ['linear' | 'log' | 'symlog']\n",
        "  xticklabels: sequence of strings\n",
        "  xticks: sequence of floats         \n",
        "  ybound: unknown\n",
        "  ylabel: str\n",
        "  ylim: length 2 sequence of floats         \n",
        "  ymargin: unknown\n",
        "  yscale: ['linear' | 'log' | 'symlog']\n",
        "  yticklabels: sequence of strings\n",
        "  yticks: sequence of floats\n",
        "  zorder: any number         \n"
       ]
      }
     ],
     "prompt_number": 131
    },
    {
     "cell_type": "code",
     "collapsed": false,
     "input": [
      "plt.close('all')"
     ],
     "language": "python",
     "metadata": {},
     "outputs": [],
     "prompt_number": 76
    },
    {
     "cell_type": "code",
     "collapsed": false,
     "input": [
      "ax0.fill_between(Eff['frac_followed'],Eff['frac_observed']-Eff['frac_obs_unc'],Eff['frac_observed']+Eff['frac_obs_unc'],color = '0.75')"
     ],
     "language": "python",
     "metadata": {},
     "outputs": [
      {
       "metadata": {},
       "output_type": "pyout",
       "prompt_number": 42,
       "text": [
        "<matplotlib.collections.PolyCollection at 0x106865390>"
       ]
      }
     ],
     "prompt_number": 42
    },
    {
     "cell_type": "code",
     "collapsed": false,
     "input": [
      "ax0.fill_between?"
     ],
     "language": "python",
     "metadata": {},
     "outputs": [],
     "prompt_number": 44
    },
    {
     "cell_type": "code",
     "collapsed": false,
     "input": [],
     "language": "python",
     "metadata": {},
     "outputs": []
    }
   ],
   "metadata": {}
  }
 ]
}