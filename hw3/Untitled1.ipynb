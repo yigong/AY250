{
 "metadata": {
  "name": ""
 },
 "nbformat": 3,
 "nbformat_minor": 0,
 "worksheets": [
  {
   "cells": [
    {
     "cell_type": "code",
     "collapsed": false,
     "input": [
      "import matplotlib.pyplot as plt\n",
      "import numpy as np\n",
      "%matplotlib\n",
      "tp = [('sepalL','f8'),('sepalW','f8'),('petalL','f8'),('petalW','f8'),('species','S10')]\n",
      "flower_data = np.loadtxt(open('flowers.csv','rb'),dtype=tp, skiprows=1, delimiter=',')\n",
      "ctable = dict(setosa = 'r', versicolor = 'g', virginica = 'b')\n",
      "carray = [ctable[x] for x in flower_data['species'] ]"
     ],
     "language": "python",
     "metadata": {},
     "outputs": [
      {
       "output_type": "stream",
       "stream": "stdout",
       "text": [
        "Using matplotlib backend: MacOSX\n"
       ]
      }
     ],
     "prompt_number": 1
    },
    {
     "cell_type": "code",
     "collapsed": false,
     "input": [
      "from matplotlib.patches import Rectangle\n",
      "\n",
      "class BrushingRectangle:\n",
      "    def __init__(self,ax):\n",
      "        self.rect = None\n",
      "        self.press = False\n",
      "        self.ax = ax\n",
      "        self.cidpresss = self.ax.figure.canvas.mpl_connect('button_press_event', self.on_press)\n",
      "        self.cidrelease = self.ax.figure.canvas.mpl_connect('button_release_event', self.on_release)\n",
      "        self.x0 = None\n",
      "        self.x1 = None\n",
      "        self.y0 = None\n",
      "        self.y1 = None\n",
      "    def on_press(self, event):\n",
      "        xp = event.x\n",
      "        yp = event.y\n",
      "        self.press = True\n",
      "        self.x0 = xp\n",
      "        self.y0 = yp\n",
      "        print 'press at', xp, yp\n",
      "\n",
      "        \n",
      "    def on_release(self, event):\n",
      "        self.xl = event.x\n",
      "        self.yl = event.y\n",
      "        print 'release at', self.xl, self.yl\n",
      "        x_lower = min(self.x0, self.x1)\n",
      "        y_lower = min(self.y0, self.y1)\n",
      "        width = abs(self.x0- self.x1)\n",
      "        height = abs(self.y0- self.y1)\n",
      "        print x_lower, y_lower, width, height\n",
      "        self.ax.add_patch(self.rect)\n",
      "        self.rect.set_xy((x_ll,y_ll))\n",
      "        self.rect.set_width(width)\n",
      "        self.rect.set_height(height)  \n",
      "        self.ax.figure.canvas.draw()\n",
      "        \n",
      "    def disconnect(self):\n",
      "        self.ax.figure.canvas.mpl_disconnect(self.cidpresss)\n",
      "        self.ax.figure.canvas.mpl_disconnect(self.cidrelease)\n",
      "    \n",
      "features = ['sepalL']\n",
      "f0, axx = plt.subplots(4,4, figsize = (12,8))\n",
      "for i, row in enumerate(features):\n",
      "    for j, col in enumerate(features):\n",
      "        axx.scatter(flower_data[row], flower_data[col],alpha=0.5,s = 30, c=carray, edgecolors = 'none')\n",
      "        brush = BrushingRectangle(axx)\n",
      "        "
     ],
     "language": "python",
     "metadata": {},
     "outputs": [
      {
       "output_type": "stream",
       "stream": "stdout",
       "text": [
        " 585 270\n"
       ]
      },
      {
       "output_type": "stream",
       "stream": "stdout",
       "text": [
        "press at 322 406\n",
        "release at"
       ]
      },
      {
       "output_type": "stream",
       "stream": "stdout",
       "text": [
        " 322 406\n",
        "press at"
       ]
      },
      {
       "output_type": "stream",
       "stream": "stdout",
       "text": [
        " 510 311\n",
        "release at"
       ]
      },
      {
       "output_type": "stream",
       "stream": "stdout",
       "text": [
        " 510 312\n",
        "press at"
       ]
      },
      {
       "output_type": "stream",
       "stream": "stdout",
       "text": [
        " 327 432\n",
        "release at"
       ]
      },
      {
       "output_type": "stream",
       "stream": "stdout",
       "text": [
        " 538 277\n",
        "press at"
       ]
      },
      {
       "output_type": "stream",
       "stream": "stdout",
       "text": [
        " 590 257\n",
        "release at"
       ]
      },
      {
       "output_type": "stream",
       "stream": "stdout",
       "text": [
        " 457 422\n",
        "press at"
       ]
      },
      {
       "output_type": "stream",
       "stream": "stdout",
       "text": [
        " 534 484\n",
        "release at"
       ]
      },
      {
       "output_type": "stream",
       "stream": "stdout",
       "text": [
        " 646 46\n",
        "press at"
       ]
      },
      {
       "output_type": "stream",
       "stream": "stdout",
       "text": [
        " 602 137\n",
        "release at"
       ]
      },
      {
       "output_type": "stream",
       "stream": "stdout",
       "text": [
        " 337 240\n",
        "press at"
       ]
      },
      {
       "output_type": "stream",
       "stream": "stdout",
       "text": [
        " 350 325\n",
        "release at"
       ]
      },
      {
       "output_type": "stream",
       "stream": "stdout",
       "text": [
        " 501 183\n",
        "press at"
       ]
      },
      {
       "output_type": "stream",
       "stream": "stdout",
       "text": [
        " 602 279\n",
        "release at"
       ]
      },
      {
       "output_type": "stream",
       "stream": "stdout",
       "text": [
        " 591 375\n",
        "press at"
       ]
      },
      {
       "output_type": "stream",
       "stream": "stdout",
       "text": [
        " 767 290\n",
        "release at"
       ]
      }
     ],
     "prompt_number": 5
    },
    {
     "cell_type": "code",
     "collapsed": false,
     "input": [
      "f0.axes"
     ],
     "language": "python",
     "metadata": {},
     "outputs": [
      {
       "output_type": "stream",
       "stream": "stdout",
       "text": [
        " 632 460\n"
       ]
      },
      {
       "metadata": {},
       "output_type": "pyout",
       "prompt_number": 6,
       "text": [
        "[<matplotlib.axes.AxesSubplot at 0x108f92750>]"
       ]
      }
     ],
     "prompt_number": 6
    },
    {
     "cell_type": "code",
     "collapsed": false,
     "input": [],
     "language": "python",
     "metadata": {},
     "outputs": []
    }
   ],
   "metadata": {}
  }
 ]
}