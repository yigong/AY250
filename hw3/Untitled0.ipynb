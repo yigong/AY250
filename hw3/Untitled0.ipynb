{
 "metadata": {
  "name": ""
 },
 "nbformat": 3,
 "nbformat_minor": 0,
 "worksheets": [
  {
   "cells": [
    {
     "cell_type": "code",
     "collapsed": false,
     "input": [
      "import matplotlib.pyplot as plt\n",
      "import numpy as np"
     ],
     "language": "python",
     "metadata": {},
     "outputs": [],
     "prompt_number": 3
    },
    {
     "cell_type": "code",
     "collapsed": false,
     "input": [
      "x = np.linspace(0,12,100)\n",
      "print x"
     ],
     "language": "python",
     "metadata": {},
     "outputs": [
      {
       "output_type": "stream",
       "stream": "stdout",
       "text": [
        "[  0.           0.12121212   0.24242424   0.36363636   0.48484848\n",
        "   0.60606061   0.72727273   0.84848485   0.96969697   1.09090909\n",
        "   1.21212121   1.33333333   1.45454545   1.57575758   1.6969697\n",
        "   1.81818182   1.93939394   2.06060606   2.18181818   2.3030303\n",
        "   2.42424242   2.54545455   2.66666667   2.78787879   2.90909091\n",
        "   3.03030303   3.15151515   3.27272727   3.39393939   3.51515152\n",
        "   3.63636364   3.75757576   3.87878788   4.           4.12121212\n",
        "   4.24242424   4.36363636   4.48484848   4.60606061   4.72727273\n",
        "   4.84848485   4.96969697   5.09090909   5.21212121   5.33333333\n",
        "   5.45454545   5.57575758   5.6969697    5.81818182   5.93939394\n",
        "   6.06060606   6.18181818   6.3030303    6.42424242   6.54545455\n",
        "   6.66666667   6.78787879   6.90909091   7.03030303   7.15151515\n",
        "   7.27272727   7.39393939   7.51515152   7.63636364   7.75757576\n",
        "   7.87878788   8.           8.12121212   8.24242424   8.36363636\n",
        "   8.48484848   8.60606061   8.72727273   8.84848485   8.96969697\n",
        "   9.09090909   9.21212121   9.33333333   9.45454545   9.57575758\n",
        "   9.6969697    9.81818182   9.93939394  10.06060606  10.18181818\n",
        "  10.3030303   10.42424242  10.54545455  10.66666667  10.78787879\n",
        "  10.90909091  11.03030303  11.15151515  11.27272727  11.39393939\n",
        "  11.51515152  11.63636364  11.75757576  11.87878788  12.        ]\n"
       ]
      }
     ],
     "prompt_number": 12
    },
    {
     "cell_type": "code",
     "collapsed": false,
     "input": [
      "y = np.sin(x)"
     ],
     "language": "python",
     "metadata": {},
     "outputs": [],
     "prompt_number": 13
    },
    {
     "cell_type": "code",
     "collapsed": false,
     "input": [
      "plt.figure()\n",
      "plt.plot(x,y)"
     ],
     "language": "python",
     "metadata": {},
     "outputs": [
      {
       "metadata": {},
       "output_type": "pyout",
       "prompt_number": 15,
       "text": [
        "[<matplotlib.lines.Line2D at 0x107d4ca10>]"
       ]
      }
     ],
     "prompt_number": 15
    },
    {
     "cell_type": "code",
     "collapsed": false,
     "input": [
      "%matplotlib"
     ],
     "language": "python",
     "metadata": {},
     "outputs": [
      {
       "output_type": "stream",
       "stream": "stdout",
       "text": [
        "Using matplotlib backend: MacOSX\n"
       ]
      }
     ],
     "prompt_number": 8
    },
    {
     "cell_type": "code",
     "collapsed": false,
     "input": [],
     "language": "python",
     "metadata": {},
     "outputs": []
    }
   ],
   "metadata": {}
  }
 ]
}