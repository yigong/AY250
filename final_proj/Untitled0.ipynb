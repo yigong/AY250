{
 "metadata": {
  "name": ""
 },
 "nbformat": 3,
 "nbformat_minor": 0,
 "worksheets": [
  {
   "cells": [
    {
     "cell_type": "code",
     "collapsed": false,
     "input": [
      "from scipy import signal\n",
      "import matplotlib.pyplot as plt\n",
      "import tables as tb\n",
      "from scipy.optimize import curve_fit\n",
      "import numpy as np\n",
      "import pandas as pd"
     ],
     "language": "python",
     "metadata": {},
     "outputs": [],
     "prompt_number": 1
    },
    {
     "cell_type": "code",
     "collapsed": false,
     "input": [
      "fname = 'electronTrack.h5'"
     ],
     "language": "python",
     "metadata": {},
     "outputs": [],
     "prompt_number": 3
    },
    {
     "cell_type": "code",
     "collapsed": false,
     "input": [
      "data = tb.openFile(fname)"
     ],
     "language": "python",
     "metadata": {},
     "outputs": [],
     "prompt_number": 8
    },
    {
     "cell_type": "code",
     "collapsed": false,
     "input": [
      "eval('data.root.track.d100.read()')[0]"
     ],
     "language": "python",
     "metadata": {},
     "outputs": [
      {
       "metadata": {},
       "output_type": "pyout",
       "prompt_number": 33,
       "text": [
        "array([[[  0.00000000e+00,   0.00000000e+00,   0.00000000e+00,\n",
        "           0.00000000e+00,   0.00000000e+00,   1.04572385e-03,\n",
        "          -6.73348747e-04,  -6.38099795e-04,   2.44285673e-02],\n",
        "        [  9.53927646e-03,   4.00166584e-02,   8.64111663e-04,\n",
        "          -8.34609648e-03,   1.06570967e-02,   1.05073352e-02,\n",
        "           3.74076396e+00,   3.00561308e+00,   2.12613520e-02],\n",
        "        [  2.60298154e-02,   1.76850526e+00,   2.47609249e+00,\n",
        "           2.82823868e+00,   5.37296677e+00,   8.95886136e+00,\n",
        "           5.22711038e+00,  -2.99697847e-02,  -5.27656514e-03],\n",
        "        [ -1.60477614e-02,   2.70616817e-01,   6.62438805e-01,\n",
        "           1.20204255e+00,   1.82692087e+00,   1.59287102e+00,\n",
        "          -3.18743183e-02,   2.32904114e-02,   0.00000000e+00],\n",
        "        [  0.00000000e+00,   2.92583476e-04,   1.81555556e-02,\n",
        "           7.65804248e-03,  -2.61291529e-03,   2.97199487e-02,\n",
        "           1.94084476e-02,   0.00000000e+00,   0.00000000e+00]]])"
       ]
      }
     ],
     "prompt_number": 33
    },
    {
     "cell_type": "code",
     "collapsed": false,
     "input": [
      "np.shape(eval('data.root.track.d100.read()'))"
     ],
     "language": "python",
     "metadata": {},
     "outputs": [
      {
       "metadata": {},
       "output_type": "pyout",
       "prompt_number": 35,
       "text": [
        "(1, 5, 9)"
       ]
      }
     ],
     "prompt_number": 35
    },
    {
     "cell_type": "code",
     "collapsed": false,
     "input": [
      "np.shape(np.array(Out[15]))|"
     ],
     "language": "python",
     "metadata": {},
     "outputs": [
      {
       "metadata": {},
       "output_type": "pyout",
       "prompt_number": 21,
       "text": [
        "(1, 22, 29)"
       ]
      }
     ],
     "prompt_number": 21
    },
    {
     "cell_type": "code",
     "collapsed": false,
     "input": [
      "ls"
     ],
     "language": "python",
     "metadata": {},
     "outputs": [
      {
       "output_type": "stream",
       "stream": "stdout",
       "text": [
        "electronTrack.h5  Untitled0.ipynb\r\n"
       ]
      }
     ],
     "prompt_number": 26
    },
    {
     "cell_type": "code",
     "collapsed": false,
     "input": [],
     "language": "python",
     "metadata": {},
     "outputs": []
    }
   ],
   "metadata": {}
  }
 ]
}